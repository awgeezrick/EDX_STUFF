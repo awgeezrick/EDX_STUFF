{
 "cells": [
  {
   "cell_type": "code",
   "execution_count": 1,
   "metadata": {
    "collapsed": true
   },
   "outputs": [],
   "source": [
    "# HIDDEN\n",
    "from datascience import *\n",
    "import numpy as np\n",
    "%matplotlib inline\n",
    "import matplotlib.pyplot as plt\n",
    "plt.style.use('fivethirtyeight')"
   ]
  },
  {
   "cell_type": "markdown",
   "metadata": {},
   "source": [
    "Categorical Data and Bar Charts\n",
    "-----------------------------\n",
    "\n",
    "Now that we have examined several graphics produced by others, it is time to produce some of our own. We will start with *bar charts*, a type of graph with which you might already be familiar. A bar chart shows the distribution of a *categorical variable*, that is, a variable whose values are categories. In human populations, examples of categorical variables include gender, ethnicity, marital status, country of citizenship, and so on.\n",
    "\n",
    "A bar chart consists of a sequence of rectangular bars, one corresponding to each category. The length of each bar is proportional to the number of entries in the corresponding category."
   ]
  },
  {
   "cell_type": "markdown",
   "metadata": {},
   "source": [
    "The Kaiser Family Foundation has complied Census data on the distribution of race and ethnicity in the United States. \n",
    "\n",
    "http://kff.org/other/state-indicator/distribution-by-raceethnicity/\n",
    "\n",
    "http://kff.org/other/state-indicator/children-by-raceethnicity/\n",
    "\n",
    "Here are some of the data, arranged by state. The table ``children`` contains data for people who were younger than 18 years old in 2014; ``everyone`` contains the data for people of all ages in 2014. Some missing values in these tables are represented as 0. "
   ]
  },
  {
   "cell_type": "code",
   "execution_count": 2,
   "metadata": {
    "collapsed": false
   },
   "outputs": [
    {
     "data": {
      "text/html": [
       "<table border=\"1\" class=\"dataframe\">\n",
       "    <thead>\n",
       "        <tr>\n",
       "            <th>State</th> <th>Race/Ethnicity</th> <th>Population</th>\n",
       "        </tr>\n",
       "    </thead>\n",
       "    <tbody>\n",
       "        <tr>\n",
       "            <td>Alabama</td> <td>White                        </td> <td>3,167,600 </td>\n",
       "        </tr>\n",
       "    </tbody>\n",
       "        <tr>\n",
       "            <td>Alabama</td> <td>Black                        </td> <td>1,269,200 </td>\n",
       "        </tr>\n",
       "    </tbody>\n",
       "        <tr>\n",
       "            <td>Alabama</td> <td>Hispanic                     </td> <td>191,000   </td>\n",
       "        </tr>\n",
       "    </tbody>\n",
       "        <tr>\n",
       "            <td>Alabama</td> <td>Asian                        </td> <td>77,300    </td>\n",
       "        </tr>\n",
       "    </tbody>\n",
       "        <tr>\n",
       "            <td>Alabama</td> <td>American Indian/Alaska Native</td> <td>0         </td>\n",
       "        </tr>\n",
       "    </tbody>\n",
       "        <tr>\n",
       "            <td>Alabama</td> <td>Two Or More Races            </td> <td>56,100    </td>\n",
       "        </tr>\n",
       "    </tbody>\n",
       "        <tr>\n",
       "            <td>Alabama</td> <td>Total                        </td> <td>4,768,000 </td>\n",
       "        </tr>\n",
       "    </tbody>\n",
       "        <tr>\n",
       "            <td>Alaska </td> <td>White                        </td> <td>396,400   </td>\n",
       "        </tr>\n",
       "    </tbody>\n",
       "        <tr>\n",
       "            <td>Alaska </td> <td>Black                        </td> <td>17,000    </td>\n",
       "        </tr>\n",
       "    </tbody>\n",
       "        <tr>\n",
       "            <td>Alaska </td> <td>Hispanic                     </td> <td>59,200    </td>\n",
       "        </tr>\n",
       "    </tbody>\n",
       "</table>\n",
       "<p>... (347 rows omitted)</p"
      ],
      "text/plain": [
       "State   | Race/Ethnicity                | Population\n",
       "Alabama | White                         | 3,167,600\n",
       "Alabama | Black                         | 1,269,200\n",
       "Alabama | Hispanic                      | 191,000\n",
       "Alabama | Asian                         | 77,300\n",
       "Alabama | American Indian/Alaska Native | 0\n",
       "Alabama | Two Or More Races             | 56,100\n",
       "Alabama | Total                         | 4,768,000\n",
       "Alaska  | White                         | 396,400\n",
       "Alaska  | Black                         | 17,000\n",
       "Alaska  | Hispanic                      | 59,200\n",
       "... (347 rows omitted)"
      ]
     },
     "execution_count": 2,
     "metadata": {},
     "output_type": "execute_result"
    }
   ],
   "source": [
    "everyone = Table.read_table('kaiser_ethnicity_everyone.csv')\n",
    "children = Table.read_table('kaiser_ethnicity_children.csv')\n",
    "children.set_format(2, NumberFormatter)\n",
    "everyone.set_format(2, NumberFormatter)"
   ]
  },
  {
   "cell_type": "markdown",
   "metadata": {},
   "source": [
    "The method `barh` takes two arguments, a column containing categories and a column containing numeric quantities. It generates a horizontal bar chart. This chart focuses on California."
   ]
  },
  {
   "cell_type": "code",
   "execution_count": 3,
   "metadata": {
    "collapsed": false
   },
   "outputs": [
    {
     "data": {
      "image/png": "[encoded data removed]",
      "text/plain": [
       "<matplotlib.figure.Figure at 0x10416eda0>"
      ]
     },
     "metadata": {},
     "output_type": "display_data"
    }
   ],
   "source": [
    "everyone.where('State', 'California').barh('Race/Ethnicity', 'Population')"
   ]
  },
  {
   "cell_type": "markdown",
   "metadata": {},
   "source": [
    "The table of children also contains information about California, although there are fewer categories of race/ethnicity."
   ]
  },
  {
   "cell_type": "code",
   "execution_count": 4,
   "metadata": {
    "collapsed": false
   },
   "outputs": [
    {
     "data": {
      "text/html": [
       "<table border=\"1\" class=\"dataframe\">\n",
       "    <thead>\n",
       "        <tr>\n",
       "            <th>State</th> <th>Race/Ethnicity</th> <th>Population</th>\n",
       "        </tr>\n",
       "    </thead>\n",
       "    <tbody>\n",
       "        <tr>\n",
       "            <td>California</td> <td>White         </td> <td>2,786,000 </td>\n",
       "        </tr>\n",
       "    </tbody>\n",
       "        <tr>\n",
       "            <td>California</td> <td>Black         </td> <td>484,200   </td>\n",
       "        </tr>\n",
       "    </tbody>\n",
       "        <tr>\n",
       "            <td>California</td> <td>Hispanic      </td> <td>4,849,400 </td>\n",
       "        </tr>\n",
       "    </tbody>\n",
       "        <tr>\n",
       "            <td>California</td> <td>Other         </td> <td>1,590,100 </td>\n",
       "        </tr>\n",
       "    </tbody>\n",
       "        <tr>\n",
       "            <td>California</td> <td>Total         </td> <td>9,709,700 </td>\n",
       "        </tr>\n",
       "    </tbody>\n",
       "</table>"
      ],
      "text/plain": [
       "State      | Race/Ethnicity | Population\n",
       "California | White          | 2,786,000\n",
       "California | Black          | 484,200\n",
       "California | Hispanic       | 4,849,400\n",
       "California | Other          | 1,590,100\n",
       "California | Total          | 9,709,700"
      ]
     },
     "execution_count": 4,
     "metadata": {},
     "output_type": "execute_result"
    }
   ],
   "source": [
    "children.where('State', 'California')"
   ]
  },
  {
   "cell_type": "markdown",
   "metadata": {},
   "source": [
    "Again, we can dispaly these data in a horizontal bar chart. The `barh` method can take column indices as well as labels. This chart looks similar, but involves fewer categories because the Kaiser Family Foundation only provides these data about children."
   ]
  },
  {
   "cell_type": "code",
   "execution_count": 5,
   "metadata": {
    "collapsed": false
   },
   "outputs": [
    {
     "data": {
      "image/png": "[encoded data removed]",
      "text/plain": [
       "<matplotlib.figure.Figure at 0x10873d588>"
      ]
     },
     "metadata": {},
     "output_type": "display_data"
    }
   ],
   "source": [
    "children.where('State', 'California').barh(1, 2)"
   ]
  },
  {
   "cell_type": "markdown",
   "metadata": {},
   "source": [
    "It's not obvious how to compare these two charts. To help us draw conclusions, we will combine these two tables into one, which contains both everyone and children as separate columns. This transformation will require several steps. First, to ensure that values are comparable, we will divide each population by the total for the state to compute state proportions."
   ]
  },
  {
   "cell_type": "code",
   "execution_count": 6,
   "metadata": {
    "collapsed": false
   },
   "outputs": [
    {
     "data": {
      "text/html": [
       "<table border=\"1\" class=\"dataframe\">\n",
       "    <thead>\n",
       "        <tr>\n",
       "            <th>State</th> <th>Race/Ethnicity</th> <th>Population</th> <th>State Total</th>\n",
       "        </tr>\n",
       "    </thead>\n",
       "    <tbody>\n",
       "        <tr>\n",
       "            <td>Alabama</td> <td>White                        </td> <td>3167600   </td> <td>4768000    </td>\n",
       "        </tr>\n",
       "    </tbody>\n",
       "        <tr>\n",
       "            <td>Alabama</td> <td>Black                        </td> <td>1269200   </td> <td>4768000    </td>\n",
       "        </tr>\n",
       "    </tbody>\n",
       "        <tr>\n",
       "            <td>Alabama</td> <td>Hispanic                     </td> <td>191000    </td> <td>4768000    </td>\n",
       "        </tr>\n",
       "    </tbody>\n",
       "        <tr>\n",
       "            <td>Alabama</td> <td>Asian                        </td> <td>77300     </td> <td>4768000    </td>\n",
       "        </tr>\n",
       "    </tbody>\n",
       "        <tr>\n",
       "            <td>Alabama</td> <td>American Indian/Alaska Native</td> <td>0         </td> <td>4768000    </td>\n",
       "        </tr>\n",
       "    </tbody>\n",
       "        <tr>\n",
       "            <td>Alabama</td> <td>Two Or More Races            </td> <td>56100     </td> <td>4768000    </td>\n",
       "        </tr>\n",
       "    </tbody>\n",
       "        <tr>\n",
       "            <td>Alabama</td> <td>Total                        </td> <td>4768000   </td> <td>4768000    </td>\n",
       "        </tr>\n",
       "    </tbody>\n",
       "        <tr>\n",
       "            <td>Alaska </td> <td>White                        </td> <td>396400    </td> <td>695700     </td>\n",
       "        </tr>\n",
       "    </tbody>\n",
       "        <tr>\n",
       "            <td>Alaska </td> <td>Black                        </td> <td>17000     </td> <td>695700     </td>\n",
       "        </tr>\n",
       "    </tbody>\n",
       "        <tr>\n",
       "            <td>Alaska </td> <td>Hispanic                     </td> <td>59200     </td> <td>695700     </td>\n",
       "        </tr>\n",
       "    </tbody>\n",
       "</table>\n",
       "<p>... (347 rows omitted)</p"
      ],
      "text/plain": [
       "State   | Race/Ethnicity                | Population | State Total\n",
       "Alabama | White                         | 3167600    | 4768000\n",
       "Alabama | Black                         | 1269200    | 4768000\n",
       "Alabama | Hispanic                      | 191000     | 4768000\n",
       "Alabama | Asian                         | 77300      | 4768000\n",
       "Alabama | American Indian/Alaska Native | 0          | 4768000\n",
       "Alabama | Two Or More Races             | 56100      | 4768000\n",
       "Alabama | Total                         | 4768000    | 4768000\n",
       "Alaska  | White                         | 396400     | 695700\n",
       "Alaska  | Black                         | 17000      | 695700\n",
       "Alaska  | Hispanic                      | 59200      | 695700\n",
       "... (347 rows omitted)"
      ]
     },
     "execution_count": 6,
     "metadata": {},
     "output_type": "execute_result"
    }
   ],
   "source": [
    "totals = everyone.join('State', everyone.where(1, 'Total').relabeled('Population', 'State Total')).drop(3)\n",
    "totals"
   ]
  },
  {
   "cell_type": "code",
   "execution_count": 7,
   "metadata": {
    "collapsed": false
   },
   "outputs": [
    {
     "data": {
      "text/html": [
       "<table border=\"1\" class=\"dataframe\">\n",
       "    <thead>\n",
       "        <tr>\n",
       "            <th>State</th> <th>Race/Ethnicity</th> <th>Proportion</th>\n",
       "        </tr>\n",
       "    </thead>\n",
       "    <tbody>\n",
       "        <tr>\n",
       "            <td>Alabama</td> <td>White                        </td> <td>66.43%    </td>\n",
       "        </tr>\n",
       "    </tbody>\n",
       "        <tr>\n",
       "            <td>Alabama</td> <td>Black                        </td> <td>26.62%    </td>\n",
       "        </tr>\n",
       "    </tbody>\n",
       "        <tr>\n",
       "            <td>Alabama</td> <td>Hispanic                     </td> <td>4.01%     </td>\n",
       "        </tr>\n",
       "    </tbody>\n",
       "        <tr>\n",
       "            <td>Alabama</td> <td>Asian                        </td> <td>1.62%     </td>\n",
       "        </tr>\n",
       "    </tbody>\n",
       "        <tr>\n",
       "            <td>Alabama</td> <td>American Indian/Alaska Native</td> <td>0.00%     </td>\n",
       "        </tr>\n",
       "    </tbody>\n",
       "        <tr>\n",
       "            <td>Alabama</td> <td>Two Or More Races            </td> <td>1.18%     </td>\n",
       "        </tr>\n",
       "    </tbody>\n",
       "        <tr>\n",
       "            <td>Alabama</td> <td>Total                        </td> <td>100.00%   </td>\n",
       "        </tr>\n",
       "    </tbody>\n",
       "        <tr>\n",
       "            <td>Alaska </td> <td>White                        </td> <td>56.98%    </td>\n",
       "        </tr>\n",
       "    </tbody>\n",
       "        <tr>\n",
       "            <td>Alaska </td> <td>Black                        </td> <td>2.44%     </td>\n",
       "        </tr>\n",
       "    </tbody>\n",
       "        <tr>\n",
       "            <td>Alaska </td> <td>Hispanic                     </td> <td>8.51%     </td>\n",
       "        </tr>\n",
       "    </tbody>\n",
       "</table>\n",
       "<p>... (347 rows omitted)</p"
      ],
      "text/plain": [
       "State   | Race/Ethnicity                | Proportion\n",
       "Alabama | White                         | 66.43%\n",
       "Alabama | Black                         | 26.62%\n",
       "Alabama | Hispanic                      | 4.01%\n",
       "Alabama | Asian                         | 1.62%\n",
       "Alabama | American Indian/Alaska Native | 0.00%\n",
       "Alabama | Two Or More Races             | 1.18%\n",
       "Alabama | Total                         | 100.00%\n",
       "Alaska  | White                         | 56.98%\n",
       "Alaska  | Black                         | 2.44%\n",
       "Alaska  | Hispanic                      | 8.51%\n",
       "... (347 rows omitted)"
      ]
     },
     "execution_count": 7,
     "metadata": {},
     "output_type": "execute_result"
    }
   ],
   "source": [
    "proportions = everyone.select([0, 1]).with_column('Proportion', totals.column(2)/totals.column(3))\n",
    "proportions.set_format(2, PercentFormatter)"
   ]
  },
  {
   "cell_type": "markdown",
   "metadata": {
    "collapsed": false
   },
   "source": [
    "This same transformation can be applied to the `children` table. Below, we chain together several table methods in order to express the transformation in a single long line. Typically, it's best to express transformations in pieces (above), but programming languages are quite flexible in allowing programmers to combine expressions (below)."
   ]
  },
  {
   "cell_type": "code",
   "execution_count": 8,
   "metadata": {
    "collapsed": false
   },
   "outputs": [
    {
     "data": {
      "text/html": [
       "<table border=\"1\" class=\"dataframe\">\n",
       "    <thead>\n",
       "        <tr>\n",
       "            <th>State</th> <th>Race/Ethnicity</th> <th>Children Proportion</th>\n",
       "        </tr>\n",
       "    </thead>\n",
       "    <tbody>\n",
       "        <tr>\n",
       "            <td>Alabama</td> <td>White         </td> <td>59.99%             </td>\n",
       "        </tr>\n",
       "    </tbody>\n",
       "        <tr>\n",
       "            <td>Alabama</td> <td>Black         </td> <td>30.50%             </td>\n",
       "        </tr>\n",
       "    </tbody>\n",
       "        <tr>\n",
       "            <td>Alabama</td> <td>Hispanic      </td> <td>6.41%              </td>\n",
       "        </tr>\n",
       "    </tbody>\n",
       "        <tr>\n",
       "            <td>Alabama</td> <td>Other         </td> <td>3.09%              </td>\n",
       "        </tr>\n",
       "    </tbody>\n",
       "        <tr>\n",
       "            <td>Alabama</td> <td>Total         </td> <td>100.00%            </td>\n",
       "        </tr>\n",
       "    </tbody>\n",
       "        <tr>\n",
       "            <td>Alaska </td> <td>White         </td> <td>46.00%             </td>\n",
       "        </tr>\n",
       "    </tbody>\n",
       "        <tr>\n",
       "            <td>Alaska </td> <td>Black         </td> <td>2.60%              </td>\n",
       "        </tr>\n",
       "    </tbody>\n",
       "        <tr>\n",
       "            <td>Alaska </td> <td>Hispanic      </td> <td>11.99%             </td>\n",
       "        </tr>\n",
       "    </tbody>\n",
       "        <tr>\n",
       "            <td>Alaska </td> <td>Other         </td> <td>39.36%             </td>\n",
       "        </tr>\n",
       "    </tbody>\n",
       "        <tr>\n",
       "            <td>Alaska </td> <td>Total         </td> <td>100.00%            </td>\n",
       "        </tr>\n",
       "    </tbody>\n",
       "</table>\n",
       "<p>... (245 rows omitted)</p"
      ],
      "text/plain": [
       "State   | Race/Ethnicity | Children Proportion\n",
       "Alabama | White          | 59.99%\n",
       "Alabama | Black          | 30.50%\n",
       "Alabama | Hispanic       | 6.41%\n",
       "Alabama | Other          | 3.09%\n",
       "Alabama | Total          | 100.00%\n",
       "Alaska  | White          | 46.00%\n",
       "Alaska  | Black          | 2.60%\n",
       "Alaska  | Hispanic       | 11.99%\n",
       "Alaska  | Other          | 39.36%\n",
       "Alaska  | Total          | 100.00%\n",
       "... (245 rows omitted)"
      ]
     },
     "execution_count": 8,
     "metadata": {},
     "output_type": "execute_result"
    }
   ],
   "source": [
    "children_proportions = children.select([0, 1]).with_column(\n",
    "    'Children Proportion', children.column(2) / children.join('State', children.where(1, 'Total')).column(4))\n",
    "children_proportions.set_format(2, PercentFormatter)"
   ]
  },
  {
   "cell_type": "markdown",
   "metadata": {},
   "source": [
    "The following function takes the name of a state. It joins together the proportions for everyone and children into a single table. When the `join` method combines two columns with different values, only the matching elements are retained. In this case, any race/ethnicity not represented in both tables will be excluded."
   ]
  },
  {
   "cell_type": "code",
   "execution_count": 9,
   "metadata": {
    "collapsed": false
   },
   "outputs": [
    {
     "data": {
      "text/html": [
       "<table border=\"1\" class=\"dataframe\">\n",
       "    <thead>\n",
       "        <tr>\n",
       "            <th>Race/Ethnicity</th> <th>Proportion</th> <th>Children Proportion</th>\n",
       "        </tr>\n",
       "    </thead>\n",
       "    <tbody>\n",
       "        <tr>\n",
       "            <td>Black         </td> <td>5.34%     </td> <td>4.99%              </td>\n",
       "        </tr>\n",
       "    </tbody>\n",
       "        <tr>\n",
       "            <td>Hispanic      </td> <td>38.21%    </td> <td>49.94%             </td>\n",
       "        </tr>\n",
       "    </tbody>\n",
       "        <tr>\n",
       "            <td>White         </td> <td>39.20%    </td> <td>28.69%             </td>\n",
       "        </tr>\n",
       "    </tbody>\n",
       "        <tr>\n",
       "            <td>Total         </td> <td>100.00%   </td> <td>100.00%            </td>\n",
       "        </tr>\n",
       "    </tbody>\n",
       "</table>"
      ],
      "text/plain": [
       "Race/Ethnicity | Proportion | Children Proportion\n",
       "Black          | 5.34%      | 4.99%\n",
       "Hispanic       | 38.21%     | 49.94%\n",
       "White          | 39.20%     | 28.69%\n",
       "Total          | 100.00%    | 100.00%"
      ]
     },
     "execution_count": 9,
     "metadata": {},
     "output_type": "execute_result"
    }
   ],
   "source": [
    "def compare(state):\n",
    "    prop_for_state = proportions.where('State', state).drop(0)\n",
    "    children_prop_for_state = children_proportions.where('State', state).drop(0)\n",
    "    joined = prop_for_state.join('Race/Ethnicity', children_prop_for_state)\n",
    "    joined.set_format([1, 2], PercentFormatter)\n",
    "    return joined.sort('Proportion')\n",
    "\n",
    "compare('California')"
   ]
  },
  {
   "cell_type": "markdown",
   "metadata": {},
   "source": [
    "The `barh` method can display the data from multiple columns on a single chart. When called with only one argument indicating the column of categories, all other columns are displayed as sets of bars."
   ]
  },
  {
   "cell_type": "code",
   "execution_count": 10,
   "metadata": {
    "collapsed": false
   },
   "outputs": [
    {
     "data": {
      "image/png": "[encoded data removed]",
      "text/plain": [
       "<matplotlib.figure.Figure at 0x1087c8668>"
      ]
     },
     "metadata": {},
     "output_type": "display_data"
    }
   ],
   "source": [
    "compare('California').barh('Race/Ethnicity')"
   ]
  },
  {
   "cell_type": "markdown",
   "metadata": {},
   "source": [
    "This chart shows the changing composition of the state of California. In 2014, fewer than 40% of Californians were Hispanic. But 50% of the children were, which is the crucial ingredient in predictions that Hispanics will eventually be a majority in California.\n",
    "\n",
    "What about other states? Our function allows quick visual comparisons for any state."
   ]
  },
  {
   "cell_type": "code",
   "execution_count": 11,
   "metadata": {
    "collapsed": false
   },
   "outputs": [
    {
     "data": {
      "image/png": "[encoded data removed]",
      "text/plain": [
       "<matplotlib.figure.Figure at 0x1090f7f28>"
      ]
     },
     "metadata": {},
     "output_type": "display_data"
    }
   ],
   "source": [
    "compare('Minnesota').barh('Race/Ethnicity')"
   ]
  },
  {
   "cell_type": "code",
   "execution_count": 12,
   "metadata": {
    "collapsed": false
   },
   "outputs": [
    {
     "data": {
      "image/png": "[encoded data removed]",
      "text/plain": [
       "<matplotlib.figure.Figure at 0x1091d10f0>"
      ]
     },
     "metadata": {},
     "output_type": "display_data"
    }
   ],
   "source": [
    "compare('Vermont').barh('Race/Ethnicity')"
   ]
  }
 ],
 "metadata": {
  "kernelspec": {
   "display_name": "Python [Root]",
   "language": "python",
   "name": "Python [Root]"
  },
  "language_info": {
   "codemirror_mode": {
    "name": "ipython",
    "version": 3
   },
   "file_extension": ".py",
   "mimetype": "text/x-python",
   "name": "python",
   "nbconvert_exporter": "python",
   "pygments_lexer": "ipython3",
   "version": "3.5.2"
  }
 },
 "nbformat": 4,
 "nbformat_minor": 0
}
