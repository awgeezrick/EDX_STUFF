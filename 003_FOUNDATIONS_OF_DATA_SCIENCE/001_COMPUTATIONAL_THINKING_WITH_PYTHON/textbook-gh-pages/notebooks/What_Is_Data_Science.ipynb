{
 "cells": [
  {
   "cell_type": "code",
   "execution_count": 1,
   "metadata": {
    "collapsed": true
   },
   "outputs": [],
   "source": [
    "# HIDDEN\n",
    "from datascience import *\n",
    "from datascience.predicates import are\n",
    "import numpy as np\n",
    "import matplotlib\n",
    "matplotlib.use('Agg', warn=False)\n",
    "%matplotlib inline\n",
    "import matplotlib.pyplot as plots\n",
    "plots.style.use('fivethirtyeight')\n",
    "import warnings\n",
    "warnings.simplefilter(action=\"ignore\", category=FutureWarning)"
   ]
  },
  {
   "cell_type": "markdown",
   "metadata": {
    "collapsed": true
   },
   "source": [
    "What is Data Science\n",
    "====================\n",
    "\n",
    "Data Science is about drawing useful conclusions from large and diverse data sets through exploration, prediction, and inference.  Exploration involves identifying patterns in information.  Prediction involves using information we know to make informed guesses about values we wish we knew.  Inference involves quantifying our degree of certainty: will those patterns we found also appear in new observations? How accurate are our predictions? Our primary tools for exploration are visualizations and descriptive statistics, for prediction are machine learning and optimization, and for inference are statistical tests and models.\n",
    "\n",
    "Statistics is a central component of data science because statistics\n",
    "studies how to make robust conclusions with incomplete information. Computing\n",
    "is a central component because programming allows us to apply analysis\n",
    "techniques to the large and diverse data sets that arise in real-world\n",
    "applications: not just numbers, but text, images, videos, and sensor readings.\n",
    "Data science is all of these things, but it more than the sum of its parts\n",
    "because of the applications. Through understanding a particular domain, data\n",
    "scientists learn to ask appropriate questions about their data and correctly\n",
    "interpret the answers provided by our inferential and computational tools.\n",
    "\n"
   ]
  },
  {
   "cell_type": "code",
   "execution_count": null,
   "metadata": {
    "collapsed": true
   },
   "outputs": [],
   "source": []
  }
 ],
 "metadata": {
  "kernelspec": {
   "display_name": "Python 3",
   "language": "python",
   "name": "python3"
  },
  "language_info": {
   "codemirror_mode": {
    "name": "ipython",
    "version": 3
   },
   "file_extension": ".py",
   "mimetype": "text/x-python",
   "name": "python",
   "nbconvert_exporter": "python",
   "pygments_lexer": "ipython3",
   "version": "3.4.4"
  }
 },
 "nbformat": 4,
 "nbformat_minor": 0
}
