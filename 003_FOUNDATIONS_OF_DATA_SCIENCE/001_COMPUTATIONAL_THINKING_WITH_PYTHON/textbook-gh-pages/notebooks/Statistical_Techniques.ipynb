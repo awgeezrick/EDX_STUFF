{
 "cells": [
  {
   "cell_type": "code",
   "execution_count": 1,
   "metadata": {
    "collapsed": true
   },
   "outputs": [],
   "source": [
    "# HIDDEN\n",
    "from datascience import *\n",
    "from datascience.predicates import are\n",
    "import numpy as np\n",
    "import matplotlib\n",
    "matplotlib.use('Agg', warn=False)\n",
    "%matplotlib inline\n",
    "import matplotlib.pyplot as plots\n",
    "plots.style.use('fivethirtyeight')\n",
    "import warnings\n",
    "warnings.simplefilter(action=\"ignore\", category=FutureWarning)"
   ]
  },
  {
   "cell_type": "markdown",
   "metadata": {
    "collapsed": true
   },
   "source": [
    "Statistical Techniques\n",
    "----------------------\n",
    "\n",
    "The discipline of statistics has long addressed the same fundamental challenge\n",
    "as data science: how to draw conclusions about the world using incomplete\n",
    "information. One of the most important contributions of statistics is a\n",
    "consistent and precise vocabulary for describing the relationship between\n",
    "observations and conclusions. This text continues in the same tradition,\n",
    "focusing on a set of core inferential problems from statistics: testing\n",
    "hypotheses, estimating confidence, and predicting unknown quantities.\n",
    "\n",
    "Data science extends the field of statistics by taking full advantage of\n",
    "computing, data visualization, and access to information. The combination of\n",
    "fast computers and the Internet gives anyone the ability to access and analyze\n",
    "vast datasets: millions of news articles, full encyclopedias, databases for\n",
    "any domain, and massive repositories of music, photos, and video.\n",
    "\n",
    "Applications to real data sets motivate the statistical techniques that we\n",
    "describe throughout the text. Real data often do not follow regular patterns or\n",
    "match standard equations. The interesting variation in real data can be lost by\n",
    "focusing too much attention on simplistic summaries such as average values.\n",
    "Computers enable a family of methods based on resampling that apply to a wide\n",
    "range of different inference problems, take into account all available\n",
    "information, and require few assumptions or conditions. Although these\n",
    "techniques have often been reserved for graduate courses in statistics, their\n",
    "flexibility and simplicity are a natural fit for data science applications.\n",
    "\n",
    "\n"
   ]
  },
  {
   "cell_type": "code",
   "execution_count": null,
   "metadata": {
    "collapsed": true
   },
   "outputs": [],
   "source": []
  }
 ],
 "metadata": {
  "kernelspec": {
   "display_name": "Python 3",
   "language": "python",
   "name": "python3"
  },
  "language_info": {
   "codemirror_mode": {
    "name": "ipython",
    "version": 3
   },
   "file_extension": ".py",
   "mimetype": "text/x-python",
   "name": "python",
   "nbconvert_exporter": "python",
   "pygments_lexer": "ipython3",
   "version": "3.4.4"
  }
 },
 "nbformat": 4,
 "nbformat_minor": 0
}
