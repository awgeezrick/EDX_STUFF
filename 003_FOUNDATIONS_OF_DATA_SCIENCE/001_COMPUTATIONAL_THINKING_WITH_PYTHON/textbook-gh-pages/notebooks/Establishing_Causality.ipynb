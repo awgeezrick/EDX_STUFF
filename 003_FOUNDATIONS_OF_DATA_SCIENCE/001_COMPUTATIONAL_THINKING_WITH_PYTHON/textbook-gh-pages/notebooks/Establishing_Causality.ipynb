{
 "cells": [
  {
   "cell_type": "code",
   "execution_count": 1,
   "metadata": {
    "collapsed": true
   },
   "outputs": [],
   "source": [
    "# HIDDEN\n",
    "from datascience import *\n",
    "from datascience.predicates import are\n",
    "import numpy as np\n",
    "import matplotlib\n",
    "matplotlib.use('Agg', warn=False)\n",
    "%matplotlib inline\n",
    "import matplotlib.pyplot as plots\n",
    "plots.style.use('fivethirtyeight')\n",
    "import warnings\n",
    "warnings.simplefilter(action=\"ignore\", category=FutureWarning)"
   ]
  },
  {
   "cell_type": "markdown",
   "metadata": {
    "collapsed": true
   },
   "source": [
    "Establishing Causality\n",
    "----------------------\n",
    "\n",
    "In the language developed earlier in the section, you can think of the people in\n",
    "the S&V houses as the treatment group, and those in the Lambeth houses at the\n",
    "control group. A crucial element in Snow’s analysis was that the people in the\n",
    "two groups were comparable to each other, apart from the treatment.\n",
    "\n",
    "In order to establish whether it was the water supply that was causing cholera,\n",
    "Snow had to compare two groups that were similar to each other in all but one\n",
    "aspect–their water supply. Only then would he be able to ascribe the differences\n",
    "in their outcomes to the water supply. If the two groups had been different in\n",
    "some other way as well, it would have been difficult to point the finger at the\n",
    "water supply as the source of the disease.  For example, if the treatment group\n",
    "consisted of factory workers and the control group did not, then differences\n",
    "between the outcomes in the two groups could have been due to the water supply,\n",
    "or to factory work, or both, or to any other characteristic that made the groups\n",
    "different from each other. The final picture would have been much more fuzzy.\n",
    "\n",
    "Snow’s brilliance lay in identifying two groups that would make his comparison\n",
    "clear. He had set out to establish a causal relation between contaminated water\n",
    "and cholera infection, and to a great extent he succeeded, even though the\n",
    "miasmatists ignored and even ridiculed him. Of course, Snow did not understand\n",
    "the detailed mechanism by which humans contract cholera. That discovery was made\n",
    "in 1883, when the German scientist Robert Koch isolated the *Vibrio cholerae*,\n",
    "the bacterium that enters the human small intestine and causes cholera.\n",
    "\n",
    "In fact the *Vibrio cholerae* had been identified in 1854 by Filippo Pacini in\n",
    "Italy, just about when Snow was analyzing his data in London. Because of the\n",
    "dominance of the miasmatists in Italy, Pacini’s discovery languished unknown.\n",
    "But by the end of the 1800’s, the miasma brigade was in retreat. Subsequent\n",
    "history has vindicated Pacini and John Snow. Snow’s methods led to the\n",
    "development of the field of *epidemiology*, which is the study of the spread of\n",
    "diseases.\n",
    "\n",
    "### Confounding\n",
    "\n",
    "Let us now return to more modern times, armed with an important lesson that we\n",
    "have learned along the way:\n",
    "\n",
    "In an observational study, if the treatment and control groups differ in ways\n",
    "other than the treatment, it is difficult to make conclusions about causality.\n",
    "\n",
    "An underlying difference between the two groups (other than the treatment) is\n",
    "called a *confounding factor*, because it might confound you when you try to reach a conclusion. That is, it might confuse several issues and thus lead you astray.\n",
    "\n",
    "**Example: Coffee and lung cancer.** Studies in the 1960’s showed that coffee\n",
    "drinkers had higher rates of lung cancer than those who did not drink coffee.\n",
    "Because of this, some people identified coffee as a cause of lung cancer. But\n",
    "coffee does not cause lung cancer. The analysis contained a confounding factor –\n",
    "smoking. In those days, coffee drinkers were also likely to have been smokers,\n",
    "and smoking does cause lung cancer. Coffee drinking was associated with lung\n",
    "cancer, but it did not cause the disease.\n",
    "\n",
    "Confounding factors are common in observational studies. Good studies take great\n",
    "care to reduce confounding.\n",
    "\n"
   ]
  },
  {
   "cell_type": "code",
   "execution_count": null,
   "metadata": {
    "collapsed": true
   },
   "outputs": [],
   "source": []
  }
 ],
 "metadata": {
  "kernelspec": {
   "display_name": "Python 3",
   "language": "python",
   "name": "python3"
  },
  "language_info": {
   "codemirror_mode": {
    "name": "ipython",
    "version": 3
   },
   "file_extension": ".py",
   "mimetype": "text/x-python",
   "name": "python",
   "nbconvert_exporter": "python",
   "pygments_lexer": "ipython3",
   "version": "3.4.4"
  }
 },
 "nbformat": 4,
 "nbformat_minor": 0
}
