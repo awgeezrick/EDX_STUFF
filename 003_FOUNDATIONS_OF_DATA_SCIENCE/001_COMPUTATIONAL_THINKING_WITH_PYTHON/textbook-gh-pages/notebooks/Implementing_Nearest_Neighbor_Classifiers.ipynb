{
 "cells": [
  {
   "cell_type": "code",
   "execution_count": 8,
   "metadata": {
    "collapsed": false,
    "deletable": true,
    "editable": true
   },
   "outputs": [],
   "source": [
    "# HIDDEN\n",
    "import matplotlib\n",
    "#matplotlib.use('Agg')\n",
    "from datascience import *\n",
    "%matplotlib inline\n",
    "import matplotlib.pyplot as plt\n",
    "from mpl_toolkits.mplot3d import Axes3D\n",
    "import numpy as np\n",
    "import math\n",
    "import scipy.stats as stats\n",
    "plt.style.use('fivethirtyeight')"
   ]
  },
  {
   "cell_type": "markdown",
   "metadata": {
    "deletable": true,
    "editable": true
   },
   "source": [
    "### Implementing Nearest Neighbor Classifiers ###\n",
    "Do this one with the wine data. Text will need to be adjusted accordingly."
   ]
  },
  {
   "cell_type": "markdown",
   "metadata": {
    "deletable": true,
    "editable": true
   },
   "source": [
    "### Applying the k-nearest neighbor classifier to breast cancer diagnosis\n",
    "\n",
    "We've got a data set.  Let's try out the $k$-nearest neighbor classifier and see how it does.  This is going to be great.\n",
    "\n",
    "We're going to need an implementation of the $k$-nearest neighbor classifier.  In practice you would probably use an existing library, but it's simple enough that I'm going to imeplment it myself.\n",
    "\n",
    "The first thing we need is a way to compute the distance between two points.  How do we do this?  In 2-dimensional space, it's pretty easy.  If we have a point at coordinates $(x_0,y_0)$ and another at $(x_1,y_1)$, the distance between them is\n",
    "\n",
    "$$D = \\sqrt{(x_0-x_1)^2 + (y_0-y_1)^2}.$$\n",
    "\n",
    "(Where did this come from?  It comes from the Pythogorean theorem: we have a right triangle with side lengths $x_0-x_1$ and $y_0-y_1$, and we want to find the length of the diagonal.)\n",
    "\n",
    "In 3-dimensional space, the formula is\n",
    "\n",
    "$$D = \\sqrt{x_0-x_1)^2 + (y_0-y_1)^2 + (z_0-z_1)^2}.$$\n",
    "\n",
    "In $k$-dimensional space, things are a bit harder to visualize, but I think you can see how the formula generalized: we sum up the squares of the differences between each individual coordinate, and then take the square root of that.  Let's implement a function to compute this distance function for us:"
   ]
  },
  {
   "cell_type": "code",
   "execution_count": 9,
   "metadata": {
    "collapsed": true,
    "deletable": true,
    "editable": true
   },
   "outputs": [],
   "source": [
    "def distance(pt1, pt2):\n",
    "    total = 0\n",
    "    for i in np.arange(len(pt1)):\n",
    "        total = total + (pt1.item(i) - pt2.item(i))**2\n",
    "    return math.sqrt(total)"
   ]
  },
  {
   "cell_type": "markdown",
   "metadata": {
    "deletable": true,
    "editable": true
   },
   "source": [
    "Next, we're going to write some code to implement the classifier.  The input is a patient `p` who we want to diagnose.  The classifier works by finding the $k$ nearest neighbors of `p` from the training set.  So, our approach will go like this:\n",
    "\n",
    "1. Find the closest $k$ neighbors of `p`, i.e., the $k$ patients from the training set that are most similar to `p`.\n",
    "\n",
    "2. Look at the diagnoses of those $k$ neighbors, and take the majority vote to find the most-common diagnosis.  Use that as our predicted diagnosis for `p`.\n",
    "\n",
    "So that will guide the structure of our Python code.\n",
    "\n",
    "To implement the first step, we will compute the distance from each patient in the training set to `p`, sort them by distance, and take the $k$ closest patients in the training set.  The code will make a copy of the table, compute the distance from each patient to `p`, add a new column to the table with those distances, and then sort the table by distance and take the first $k$ rows.  That leads to the following Python code:"
   ]
  },
  {
   "cell_type": "code",
   "execution_count": 10,
   "metadata": {
    "collapsed": true,
    "deletable": true,
    "editable": true
   },
   "outputs": [],
   "source": [
    "def closest(training, p, k):\n",
    "    ...\n",
    "\n",
    "def majority(topkclasses):\n",
    "    ...\n",
    "\n",
    "def classify(training, p, k):\n",
    "    kclosest = closest(training, p, k)\n",
    "    kclosest.classes = kclosest.select('Class')\n",
    "    return majority(kclosest)"
   ]
  },
  {
   "cell_type": "code",
   "execution_count": 11,
   "metadata": {
    "collapsed": true,
    "deletable": true,
    "editable": true
   },
   "outputs": [],
   "source": [
    "def computetablewithdists(training, p):\n",
    "    dists = np.zeros(training.num_rows)\n",
    "    attributes = training.drop('Class')\n",
    "    for i in np.arange(training.num_rows):\n",
    "        dists[i] = distance(attributes.row(i), p)\n",
    "    return training.with_column('Distance', dists)\n",
    "\n",
    "def closest(training, p, k):\n",
    "    withdists = computetablewithdists(training, p)\n",
    "    sortedbydist = withdists.sort('Distance')\n",
    "    topk = sortedbydist.take(np.arange(k))\n",
    "    return topk\n",
    "\n",
    "def majority(topkclasses):\n",
    "    if topkclasses.where('Class', 1).num_rows > topkclasses.where('Class', 0).num_rows:\n",
    "        return 1\n",
    "    else:\n",
    "        return 0\n",
    "\n",
    "def classify(training, p, k):\n",
    "    closestk = closest(training, p, k)\n",
    "    topkclasses = closestk.select('Class')\n",
    "    return majority(topkclasses)"
   ]
  },
  {
   "cell_type": "markdown",
   "metadata": {
    "deletable": true,
    "editable": true
   },
   "source": [
    "Let's see how this works, with our data set.  We'll take patient 12 and imagine we're going to try to diagnose them:"
   ]
  },
  {
   "cell_type": "code",
   "execution_count": 12,
   "metadata": {
    "collapsed": false,
    "deletable": true,
    "editable": true
   },
   "outputs": [
    {
     "data": {
      "text/html": [
       "<table border=\"1\" class=\"dataframe\">\n",
       "    <thead>\n",
       "        <tr>\n",
       "            <th>Clump Thickness</th> <th>Uniformity of Cell Size</th> <th>Uniformity of Cell Shape</th> <th>Marginal Adhesion</th> <th>Single Epithelial Cell Size</th> <th>Bare Nuclei</th> <th>Bland Chromatin</th> <th>Normal Nucleoli</th> <th>Mitoses</th> <th>Class</th>\n",
       "        </tr>\n",
       "    </thead>\n",
       "    <tbody>\n",
       "        <tr>\n",
       "            <td>5              </td> <td>1                      </td> <td>1                       </td> <td>1                </td> <td>2                          </td> <td>1          </td> <td>3              </td> <td>1              </td> <td>1      </td> <td>0    </td>\n",
       "        </tr>\n",
       "    </tbody>\n",
       "        <tr>\n",
       "            <td>5              </td> <td>4                      </td> <td>4                       </td> <td>5                </td> <td>7                          </td> <td>10         </td> <td>3              </td> <td>2              </td> <td>1      </td> <td>0    </td>\n",
       "        </tr>\n",
       "    </tbody>\n",
       "        <tr>\n",
       "            <td>3              </td> <td>1                      </td> <td>1                       </td> <td>1                </td> <td>2                          </td> <td>2          </td> <td>3              </td> <td>1              </td> <td>1      </td> <td>0    </td>\n",
       "        </tr>\n",
       "    </tbody>\n",
       "        <tr>\n",
       "            <td>6              </td> <td>8                      </td> <td>8                       </td> <td>1                </td> <td>3                          </td> <td>4          </td> <td>3              </td> <td>7              </td> <td>1      </td> <td>0    </td>\n",
       "        </tr>\n",
       "    </tbody>\n",
       "        <tr>\n",
       "            <td>4              </td> <td>1                      </td> <td>1                       </td> <td>3                </td> <td>2                          </td> <td>1          </td> <td>3              </td> <td>1              </td> <td>1      </td> <td>0    </td>\n",
       "        </tr>\n",
       "    </tbody>\n",
       "        <tr>\n",
       "            <td>8              </td> <td>10                     </td> <td>10                      </td> <td>8                </td> <td>7                          </td> <td>10         </td> <td>9              </td> <td>7              </td> <td>1      </td> <td>1    </td>\n",
       "        </tr>\n",
       "    </tbody>\n",
       "        <tr>\n",
       "            <td>1              </td> <td>1                      </td> <td>1                       </td> <td>1                </td> <td>2                          </td> <td>10         </td> <td>3              </td> <td>1              </td> <td>1      </td> <td>0    </td>\n",
       "        </tr>\n",
       "    </tbody>\n",
       "        <tr>\n",
       "            <td>2              </td> <td>1                      </td> <td>2                       </td> <td>1                </td> <td>2                          </td> <td>1          </td> <td>3              </td> <td>1              </td> <td>1      </td> <td>0    </td>\n",
       "        </tr>\n",
       "    </tbody>\n",
       "        <tr>\n",
       "            <td>2              </td> <td>1                      </td> <td>1                       </td> <td>1                </td> <td>2                          </td> <td>1          </td> <td>1              </td> <td>1              </td> <td>5      </td> <td>0    </td>\n",
       "        </tr>\n",
       "    </tbody>\n",
       "        <tr>\n",
       "            <td>4              </td> <td>2                      </td> <td>1                       </td> <td>1                </td> <td>2                          </td> <td>1          </td> <td>2              </td> <td>1              </td> <td>1      </td> <td>0    </td>\n",
       "        </tr>\n",
       "    </tbody>\n",
       "</table>\n",
       "<p>... (673 rows omitted)</p"
      ],
      "text/plain": [
       "Clump Thickness | Uniformity of Cell Size | Uniformity of Cell Shape | Marginal Adhesion | Single Epithelial Cell Size | Bare Nuclei | Bland Chromatin | Normal Nucleoli | Mitoses | Class\n",
       "5               | 1                       | 1                        | 1                 | 2                           | 1           | 3               | 1               | 1       | 0\n",
       "5               | 4                       | 4                        | 5                 | 7                           | 10          | 3               | 2               | 1       | 0\n",
       "3               | 1                       | 1                        | 1                 | 2                           | 2           | 3               | 1               | 1       | 0\n",
       "6               | 8                       | 8                        | 1                 | 3                           | 4           | 3               | 7               | 1       | 0\n",
       "4               | 1                       | 1                        | 3                 | 2                           | 1           | 3               | 1               | 1       | 0\n",
       "8               | 10                      | 10                       | 8                 | 7                           | 10          | 9               | 7               | 1       | 1\n",
       "1               | 1                       | 1                        | 1                 | 2                           | 10          | 3               | 1               | 1       | 0\n",
       "2               | 1                       | 2                        | 1                 | 2                           | 1           | 3               | 1               | 1       | 0\n",
       "2               | 1                       | 1                        | 1                 | 2                           | 1           | 1               | 1               | 5       | 0\n",
       "4               | 2                       | 1                        | 1                 | 2                           | 1           | 2               | 1               | 1       | 0\n",
       "... (673 rows omitted)"
      ]
     },
     "execution_count": 12,
     "metadata": {},
     "output_type": "execute_result"
    }
   ],
   "source": [
    "patients = Table.read_table('breast-cancer.csv').drop('ID')\n",
    "patients"
   ]
  },
  {
   "cell_type": "code",
   "execution_count": 13,
   "metadata": {
    "collapsed": false,
    "deletable": true,
    "editable": true
   },
   "outputs": [
    {
     "data": {
      "text/html": [
       "<table border=\"1\" class=\"dataframe\">\n",
       "    <thead>\n",
       "        <tr>\n",
       "            <th>Clump Thickness</th> <th>Uniformity of Cell Size</th> <th>Uniformity of Cell Shape</th> <th>Marginal Adhesion</th> <th>Single Epithelial Cell Size</th> <th>Bare Nuclei</th> <th>Bland Chromatin</th> <th>Normal Nucleoli</th> <th>Mitoses</th> <th>Class</th>\n",
       "        </tr>\n",
       "    </thead>\n",
       "    <tbody>\n",
       "        <tr>\n",
       "            <td>5              </td> <td>3                      </td> <td>3                       </td> <td>3                </td> <td>2                          </td> <td>3          </td> <td>4              </td> <td>4              </td> <td>1      </td> <td>1    </td>\n",
       "        </tr>\n",
       "    </tbody>\n",
       "</table>"
      ],
      "text/plain": [
       "Clump Thickness | Uniformity of Cell Size | Uniformity of Cell Shape | Marginal Adhesion | Single Epithelial Cell Size | Bare Nuclei | Bland Chromatin | Normal Nucleoli | Mitoses | Class\n",
       "5               | 3                       | 3                        | 3                 | 2                           | 3           | 4               | 4               | 1       | 1"
      ]
     },
     "execution_count": 13,
     "metadata": {},
     "output_type": "execute_result"
    }
   ],
   "source": [
    "patients.take(12)"
   ]
  },
  {
   "cell_type": "markdown",
   "metadata": {
    "deletable": true,
    "editable": true
   },
   "source": [
    "We can pull out just their attributes (excluding the class), like this:"
   ]
  },
  {
   "cell_type": "code",
   "execution_count": 14,
   "metadata": {
    "collapsed": false,
    "deletable": true,
    "editable": true
   },
   "outputs": [
    {
     "data": {
      "text/plain": [
       "Row(Clump Thickness=5, Uniformity of Cell Size=3, Uniformity of Cell Shape=3, Marginal Adhesion=3, Single Epithelial Cell Size=2, Bare Nuclei=3, Bland Chromatin=4, Normal Nucleoli=4, Mitoses=1)"
      ]
     },
     "execution_count": 14,
     "metadata": {},
     "output_type": "execute_result"
    }
   ],
   "source": [
    "patients.drop('Class').row(12)"
   ]
  },
  {
   "cell_type": "markdown",
   "metadata": {
    "deletable": true,
    "editable": true
   },
   "source": [
    "Let's take $k=5$.  We can find the 5 nearest neighbors:"
   ]
  },
  {
   "cell_type": "code",
   "execution_count": 15,
   "metadata": {
    "collapsed": false,
    "deletable": true,
    "editable": true
   },
   "outputs": [
    {
     "data": {
      "text/html": [
       "<table border=\"1\" class=\"dataframe\">\n",
       "    <thead>\n",
       "        <tr>\n",
       "            <th>Clump Thickness</th> <th>Uniformity of Cell Size</th> <th>Uniformity of Cell Shape</th> <th>Marginal Adhesion</th> <th>Single Epithelial Cell Size</th> <th>Bare Nuclei</th> <th>Bland Chromatin</th> <th>Normal Nucleoli</th> <th>Mitoses</th> <th>Class</th> <th>Distance</th>\n",
       "        </tr>\n",
       "    </thead>\n",
       "    <tbody>\n",
       "        <tr>\n",
       "            <td>5              </td> <td>3                      </td> <td>3                       </td> <td>3                </td> <td>2                          </td> <td>3          </td> <td>4              </td> <td>4              </td> <td>1      </td> <td>1    </td> <td>0       </td>\n",
       "        </tr>\n",
       "    </tbody>\n",
       "        <tr>\n",
       "            <td>5              </td> <td>3                      </td> <td>3                       </td> <td>4                </td> <td>2                          </td> <td>4          </td> <td>3              </td> <td>4              </td> <td>1      </td> <td>1    </td> <td>1.73205 </td>\n",
       "        </tr>\n",
       "    </tbody>\n",
       "        <tr>\n",
       "            <td>5              </td> <td>1                      </td> <td>3                       </td> <td>3                </td> <td>2                          </td> <td>2          </td> <td>2              </td> <td>3              </td> <td>1      </td> <td>0    </td> <td>3.16228 </td>\n",
       "        </tr>\n",
       "    </tbody>\n",
       "        <tr>\n",
       "            <td>5              </td> <td>2                      </td> <td>2                       </td> <td>2                </td> <td>2                          </td> <td>2          </td> <td>3              </td> <td>2              </td> <td>2      </td> <td>0    </td> <td>3.16228 </td>\n",
       "        </tr>\n",
       "    </tbody>\n",
       "        <tr>\n",
       "            <td>5              </td> <td>3                      </td> <td>3                       </td> <td>1                </td> <td>3                          </td> <td>3          </td> <td>3              </td> <td>3              </td> <td>3      </td> <td>1    </td> <td>3.31662 </td>\n",
       "        </tr>\n",
       "    </tbody>\n",
       "</table>"
      ],
      "text/plain": [
       "Clump Thickness | Uniformity of Cell Size | Uniformity of Cell Shape | Marginal Adhesion | Single Epithelial Cell Size | Bare Nuclei | Bland Chromatin | Normal Nucleoli | Mitoses | Class | Distance\n",
       "5               | 3                       | 3                        | 3                 | 2                           | 3           | 4               | 4               | 1       | 1     | 0\n",
       "5               | 3                       | 3                        | 4                 | 2                           | 4           | 3               | 4               | 1       | 1     | 1.73205\n",
       "5               | 1                       | 3                        | 3                 | 2                           | 2           | 2               | 3               | 1       | 0     | 3.16228\n",
       "5               | 2                       | 2                        | 2                 | 2                           | 2           | 3               | 2               | 2       | 0     | 3.16228\n",
       "5               | 3                       | 3                        | 1                 | 3                           | 3           | 3               | 3               | 3       | 1     | 3.31662"
      ]
     },
     "execution_count": 15,
     "metadata": {},
     "output_type": "execute_result"
    }
   ],
   "source": [
    "closest(patients, patients.drop('Class').row(12), 5)"
   ]
  },
  {
   "cell_type": "markdown",
   "metadata": {
    "deletable": true,
    "editable": true
   },
   "source": [
    "3 out of the 5 nearest neighbors have class 1, so the majority is 1 (has cancer) -- and that is the output of our classifier for this patient:"
   ]
  },
  {
   "cell_type": "code",
   "execution_count": 16,
   "metadata": {
    "collapsed": false,
    "deletable": true,
    "editable": true
   },
   "outputs": [
    {
     "data": {
      "text/plain": [
       "1"
      ]
     },
     "execution_count": 16,
     "metadata": {},
     "output_type": "execute_result"
    }
   ],
   "source": [
    "classify(patients, patients.drop('Class').row(12), 5)"
   ]
  },
  {
   "cell_type": "markdown",
   "metadata": {
    "deletable": true,
    "editable": true
   },
   "source": [
    "Awesome!  We now have a classification algorithm for diagnosing whether a patient has breast cancer or not, based on the measurements from the lab.  Are we done?  Shall we give this to doctors to use?\n",
    "\n",
    "Hold on: we're not done yet.  There's an obvious question to answer, before we start using this in practice:\n",
    "\n",
    "*How accurate is this method, at diagnosing breast cancer?*\n",
    "\n",
    "And that raises a more fundamental issue.  How can we measure the accuracy of a classification algorithm?"
   ]
  },
  {
   "cell_type": "code",
   "execution_count": 17,
   "metadata": {
    "collapsed": true,
    "deletable": true,
    "editable": true
   },
   "outputs": [],
   "source": [
    "\"\"\" REDONE STUFF\"\"\"\n",
    "\n",
    "def distance2(pt1, pt2):\n",
    "    return np.sqrt(np.sum((pt1 - pt2)**2))\n",
    "\n",
    "def distance_from_individual(attribute_table, i, p):\n",
    "    \"\"\"Need to explain .row,\n",
    "    and that we can make it an array here as it's all numerical\"\"\"\n",
    "    return distance2(make_array(attribute_table.row(i)), p)\n",
    "\n",
    "def table_with_dists2(training, p):\n",
    "    \"\"\"Redone to resemble other such code in the course.\"\"\"\n",
    "    dists = make_array()\n",
    "    attributes = training.drop('Class')\n",
    "    for i in np.arange(training.num_rows):\n",
    "        dists = np.append(dists, distance_from_individual(attributes, i , p))\n",
    "    return training.with_column('Distance', dists)\n",
    "\n",
    "def closest2(training, p, k):\n",
    "    with_dists = table_with_dists2(training, p)\n",
    "    sorted_by_dist = with_dists.sort('Distance')\n",
    "    topk = sorted_by_dist.take(np.arange(k))\n",
    "    return topk\n",
    "\n",
    "def majority(topkclasses):\n",
    "    ones = topkclasses.where('Class', are.equal_to(1)).num_rows\n",
    "    zeros = topkclasses.where('Class', are.equal_to(0)).num_rows\n",
    "    if ones > zeros:\n",
    "        return 1\n",
    "    else:\n",
    "        return 0\n",
    "\n",
    "def classify2(training, p, k):\n",
    "    closestk = closest2(training, p, k)\n",
    "    topkclasses = closestk.select('Class')\n",
    "    return majority(topkclasses)"
   ]
  },
  {
   "cell_type": "code",
   "execution_count": 18,
   "metadata": {
    "collapsed": true,
    "deletable": true,
    "editable": true
   },
   "outputs": [],
   "source": [
    "n = 12"
   ]
  },
  {
   "cell_type": "code",
   "execution_count": 19,
   "metadata": {
    "collapsed": false,
    "deletable": true,
    "editable": true
   },
   "outputs": [
    {
     "data": {
      "text/plain": [
       "array([[5, 3, 3, 3, 2, 3, 4, 4, 1]])"
      ]
     },
     "execution_count": 19,
     "metadata": {},
     "output_type": "execute_result"
    }
   ],
   "source": [
    "point = make_array(patients.drop('Class').row(12))\n",
    "point"
   ]
  },
  {
   "cell_type": "code",
   "execution_count": 20,
   "metadata": {
    "collapsed": false,
    "deletable": true,
    "editable": true
   },
   "outputs": [
    {
     "data": {
      "text/html": [
       "<table border=\"1\" class=\"dataframe\">\n",
       "    <thead>\n",
       "        <tr>\n",
       "            <th>Clump Thickness</th> <th>Uniformity of Cell Size</th> <th>Uniformity of Cell Shape</th> <th>Marginal Adhesion</th> <th>Single Epithelial Cell Size</th> <th>Bare Nuclei</th> <th>Bland Chromatin</th> <th>Normal Nucleoli</th> <th>Mitoses</th> <th>Class</th> <th>Distance</th>\n",
       "        </tr>\n",
       "    </thead>\n",
       "    <tbody>\n",
       "        <tr>\n",
       "            <td>5              </td> <td>3                      </td> <td>3                       </td> <td>3                </td> <td>2                          </td> <td>3          </td> <td>4              </td> <td>4              </td> <td>1      </td> <td>1    </td> <td>0       </td>\n",
       "        </tr>\n",
       "    </tbody>\n",
       "        <tr>\n",
       "            <td>5              </td> <td>3                      </td> <td>3                       </td> <td>4                </td> <td>2                          </td> <td>4          </td> <td>3              </td> <td>4              </td> <td>1      </td> <td>1    </td> <td>1.73205 </td>\n",
       "        </tr>\n",
       "    </tbody>\n",
       "        <tr>\n",
       "            <td>5              </td> <td>1                      </td> <td>3                       </td> <td>3                </td> <td>2                          </td> <td>2          </td> <td>2              </td> <td>3              </td> <td>1      </td> <td>0    </td> <td>3.16228 </td>\n",
       "        </tr>\n",
       "    </tbody>\n",
       "        <tr>\n",
       "            <td>5              </td> <td>2                      </td> <td>2                       </td> <td>2                </td> <td>2                          </td> <td>2          </td> <td>3              </td> <td>2              </td> <td>2      </td> <td>0    </td> <td>3.16228 </td>\n",
       "        </tr>\n",
       "    </tbody>\n",
       "        <tr>\n",
       "            <td>5              </td> <td>3                      </td> <td>3                       </td> <td>1                </td> <td>3                          </td> <td>3          </td> <td>3              </td> <td>3              </td> <td>3      </td> <td>1    </td> <td>3.31662 </td>\n",
       "        </tr>\n",
       "    </tbody>\n",
       "</table>"
      ],
      "text/plain": [
       "Clump Thickness | Uniformity of Cell Size | Uniformity of Cell Shape | Marginal Adhesion | Single Epithelial Cell Size | Bare Nuclei | Bland Chromatin | Normal Nucleoli | Mitoses | Class | Distance\n",
       "5               | 3                       | 3                        | 3                 | 2                           | 3           | 4               | 4               | 1       | 1     | 0\n",
       "5               | 3                       | 3                        | 4                 | 2                           | 4           | 3               | 4               | 1       | 1     | 1.73205\n",
       "5               | 1                       | 3                        | 3                 | 2                           | 2           | 2               | 3               | 1       | 0     | 3.16228\n",
       "5               | 2                       | 2                        | 2                 | 2                           | 2           | 3               | 2               | 2       | 0     | 3.16228\n",
       "5               | 3                       | 3                        | 1                 | 3                           | 3           | 3               | 3               | 3       | 1     | 3.31662"
      ]
     },
     "execution_count": 20,
     "metadata": {},
     "output_type": "execute_result"
    }
   ],
   "source": [
    "closest2(patients, point, 5)"
   ]
  },
  {
   "cell_type": "code",
   "execution_count": 21,
   "metadata": {
    "collapsed": false,
    "deletable": true,
    "editable": true
   },
   "outputs": [
    {
     "data": {
      "text/plain": [
       "1"
      ]
     },
     "execution_count": 21,
     "metadata": {},
     "output_type": "execute_result"
    }
   ],
   "source": [
    "classify2(patients, point, 5)"
   ]
  },
  {
   "cell_type": "code",
   "execution_count": 22,
   "metadata": {
    "collapsed": false,
    "deletable": true,
    "editable": true
   },
   "outputs": [
    {
     "data": {
      "text/plain": [
       "Row(Clump Thickness=5, Uniformity of Cell Size=3, Uniformity of Cell Shape=3, Marginal Adhesion=3, Single Epithelial Cell Size=2, Bare Nuclei=3, Bland Chromatin=4, Normal Nucleoli=4, Mitoses=1, Class=1)"
      ]
     },
     "execution_count": 22,
     "metadata": {},
     "output_type": "execute_result"
    }
   ],
   "source": [
    "patients.row(n)"
   ]
  },
  {
   "cell_type": "markdown",
   "metadata": {
    "deletable": true,
    "editable": true
   },
   "source": [
    "### Measuring accuracy of a classifier\n",
    "\n",
    "We've got a classifier, and we'd like to determine how accurate it will be.  How can we measure that?\n",
    "\n",
    "**Try it out.**  One natural idea is to just try it on patients for a year, keep records on it, and see how accurate it is.  However, this has some disadvantages: (a) we're trying something on patients without knowing how accurate it is, which might be unethical; (b) we have to wait a year to find out whether our classifier is any good.  If it's not good enough and we get an idea for an improvement, we'll have to wait another year to find out whether our improvement was better.\n",
    "\n",
    "**Get some more data.** We could try to get some more data from other patients whose diagnosis is known, and measure how accurate our classifier's predictions are on those additional patients.  We can compare what the classifier outputs against what we know to be true.\n",
    "\n",
    "**Use the data we already have.** Another natural idea is to re-use the data we already have: we have a training set that we used to train our classifier, so we could just run our classifier on every patient in the data set and compare what it outputs to what we know to be true.  This is sometimes known as testing the classifier on your training set.\n",
    "\n",
    "How should we choose among these options?  Are they all equally good?\n",
    "\n",
    "It turns out that the third option, testing the classifier on our training set, is fundamentally flawed.  It might sound attractive, but it gives misleading results: it will over-estimate the accuracy of the classifier (it will make us think the classifier is more accurate than it really is).  Intuitively, the problem is that what we really want to know is how well the classifier has done at \"generalizing\" beyond the specific examples in the training set; but if we test it on patients from the training set, then we haven't learned anything about how well it would generalize to other patients.\n",
    "\n",
    "This is subtle, so it might be helpful to try an example.  Let's try a thought experiment.  Let's focus on the 1-nearest neighbor classifier ($k=1$).  Suppose you trained the 1-nearest neighbor classifier on data from all 683 patients in the data set, and then you tested it on those same 683 patients.  How many would it get right?  Think it through and see if you can work out what will happen.  That's right!  The classifier will get the right answer for all 683 patients.  Suppose we apply the classifier to a patient from the training set, say Alice.  The classifier will look for the nearest neighbor (the most similar patient from the training set), and the nearest neighbor will turn out to be Alice herself (the distance from any point to itself is zero).  Thus, the classifier will produce the right diagnosis for Alice.  The same reasoning applies to every other patient in the training set.\n",
    "\n",
    "So, if we test the 1-nearest neighbor classifier on the training set, the accuracy will always be 100%: absolutely perfect.  This is true no matter whether there are actually any patterns in the data.  But the 100% is a total lie.  When you apply the classifier to other patients who were not in the training set, the accuracy could be far worse.\n",
    "\n",
    "In other words, testing on the training tells you nothing about how accurate the 1-nearest neighbor classifier will be.  This illustrates why testing on the training set is so flawed.  This flaw is pretty blatant when you use the 1-nearest neighbor classifier, but don't think that with some other classifier you'd be immune to this problem -- the problem is fundamental and applies no matter what classifier you use.  Testing on the training set gives you a biased estimate of the classifier's accurate.  For these reasons, you should never test on the training set.\n",
    "\n",
    "So what *should* you do, instead?  Is there a more principled approach?\n",
    "\n",
    "It turns out there is.  The approach comes down to: get more data.  More specifically, the right solution is to use one data set for training, and a different data set for testing, with no overlap between the two data sets.  We call these a *training set* and a *test set*.\n",
    "\n",
    "Where do we get these two data sets from?  Typically, we'll start out with some data, e.g., the data set on 683 patients, and before we do anything else with it, we'll split it up into a training set and a test set.  We might put 50% of the data into the training set and the other 50% into the test set.  Basically, we are setting aside some data for later use, so we can use it to measure the accuracy of our classifier.  Sometimes people will call the data that you set aside for testing a *hold-out set*, and they'll call this strategy for estimating accuracy the *hold-out method*.\n",
    "\n",
    "Note that this approach requires great discipline.  Before you start applying machine learning methods, you have to take some of your data and set it aside for testing.  You must avoid using the test set for developing your classifier: you shouldn't use it to help train your classifier or tweak its settings or for brainstorming ways to improve your classifier.  Instead, you should use it only once, at the very end, after you've finalized your classifier, when you want an unbiased estimate of its accuracy.\n",
    "\n",
    "## The effectiveness of our classifier, for breast cancer\n",
    "\n",
    "OK, so let's apply the hold-out method to evaluate the effectiveness of the $k$-nearest neighbor classifier for breast cancer diagnosis.  The data set has 683 patients, so we'll randomly permute the data set and put 342 of them in the training set and the remaining 341 in the test set."
   ]
  },
  {
   "cell_type": "code",
   "execution_count": 23,
   "metadata": {
    "collapsed": false,
    "deletable": true,
    "editable": true
   },
   "outputs": [],
   "source": [
    "\"\"\" REDONE STUFF: \n",
    "due to new default of sample\n",
    "and not over-writing patients table after shuffling\"\"\"\n",
    "shuffled_patients = patients.sample(683, with_replacement=False) # Randomly permute the rows\n",
    "trainset = shuffled_patients.take(range(342))\n",
    "testset  = shuffled_patients.take(range(342, 683))"
   ]
  },
  {
   "cell_type": "markdown",
   "metadata": {
    "deletable": true,
    "editable": true
   },
   "source": [
    "We'll train the classifier using the 342 patients in the training set, and evaluate how well it performs on the test set.  To make our lives easier, we'll write a function to evaluate a classifier on every patient in the test set:"
   ]
  },
  {
   "cell_type": "code",
   "execution_count": 24,
   "metadata": {
    "collapsed": true,
    "deletable": true,
    "editable": true
   },
   "outputs": [],
   "source": [
    "def evaluate_accuracy(training, test, k):\n",
    "    testattrs = test.drop('Class')\n",
    "    numcorrect = 0\n",
    "    for i in range(test.num_rows):\n",
    "        # Run the classifier on the ith patient in the test set\n",
    "        c = classify(training, testattrs.rows[i], k)\n",
    "        # Was the classifier's prediction correct?\n",
    "        if c == test.column('Class').item(i):\n",
    "            numcorrect = numcorrect + 1\n",
    "    return numcorrect / test.num_rows"
   ]
  },
  {
   "cell_type": "markdown",
   "metadata": {
    "deletable": true,
    "editable": true
   },
   "source": [
    "Now for the grand reveal -- let's see how we did.  We'll arbitrarily use $k=5$."
   ]
  },
  {
   "cell_type": "code",
   "execution_count": 25,
   "metadata": {
    "collapsed": false,
    "deletable": true,
    "editable": true
   },
   "outputs": [
    {
     "data": {
      "text/plain": [
       "0.9706744868035191"
      ]
     },
     "execution_count": 25,
     "metadata": {},
     "output_type": "execute_result"
    }
   ],
   "source": [
    "evaluate_accuracy(trainset, testset, 5)"
   ]
  },
  {
   "cell_type": "markdown",
   "metadata": {
    "deletable": true,
    "editable": true
   },
   "source": [
    "About 96% accuracy.  Not bad!  Pretty darn good for such a simple technique.\n",
    "\n",
    "As a footnote, you might have noticed that Brittany Wenger did even better.  What techniques did she use? One key innovation is that she incorporated a confidence score into her results: her algorithm had a way to determine when it was not able to make a confident prediction, and for those patients, it didn't even try to predict their diagnosis.  Her algorithm was 99% accurate on the patients where it made a prediction -- so that extension seemed to help quite a bit."
   ]
  },
  {
   "cell_type": "code",
   "execution_count": 26,
   "metadata": {
    "collapsed": true,
    "deletable": true,
    "editable": true
   },
   "outputs": [],
   "source": [
    "\"\"\" REDONE STUFF:\n",
    "To separate out two main bits\n",
    "and turn rows into arrays\"\"\"\n",
    "\n",
    "def count_zero(array):\n",
    "    return len(array) - np.count_nonzero(array)\n",
    "\n",
    "def count_equal(array1, array2):\n",
    "    \"\"\"Takes two numerical arrays of equal length\n",
    "    and counts the indices where the two are equal\"\"\"\n",
    "    return count_zero(array1 - array2)\n",
    "\n",
    "def evaluate_accuracy2(training, test, k):\n",
    "    test_attributes = test.drop('Class')\n",
    "    c = make_array()\n",
    "    for i in range(test.num_rows):\n",
    "        # Run the classifier on the ith patient in the test set\n",
    "        c = np.append(c, classify(training, make_array(test_attributes.row(i)), k))   \n",
    "    return count_equal(c, test.column('Class')) / test.num_rows"
   ]
  },
  {
   "cell_type": "code",
   "execution_count": 27,
   "metadata": {
    "collapsed": false,
    "deletable": true,
    "editable": true
   },
   "outputs": [
    {
     "data": {
      "text/plain": [
       "0.9706744868035191"
      ]
     },
     "execution_count": 27,
     "metadata": {},
     "output_type": "execute_result"
    }
   ],
   "source": [
    "evaluate_accuracy2(trainset, testset, 5)"
   ]
  },
  {
   "cell_type": "markdown",
   "metadata": {
    "deletable": true,
    "editable": true
   },
   "source": [
    "### Important takeaways\n",
    "\n",
    "Here are a few lessons we want you to learn from this.\n",
    "\n",
    "First, machine learning is powerful.  If you had to try to write code to make a diagnosis without knowing about machine learning, you might spend a lot of time by trial-and-error trying to come up with some complicated set of rules that seem to work, and the result might not be very accurate.  The $k$-nearest neighbors algorithm automates the entire task for you.  And machine learning often lets them make predictions far more accurately than anything you'd come up with by trial-and-error.\n",
    "\n",
    "Second, you can do it.  Yes, you.  You can use machine learning in your own work to make predictions based on data.  You now know enough to start applying these ideas to new data sets and help others make useful predictions.  The techniques are very powerful, but you don't have to have a Ph.D. in statistics to use them.\n",
    "\n",
    "Third, be careful about how to evaluate accuracy.  Use a hold-out set.\n",
    "\n",
    "There's lots more one can say about machine learning: how to choose attributes, how to choose $k$ or other parameters, what other classification methods are available, how to solve more complex prediction tasks, and lots more.  In this course, we've barely even scratched the surface.  If you enjoyed this material, you might enjoy continuing your studies in statistics and computer science; courses like Stats 132 and 154 and CS 188 and 189 go into a lot more depth."
   ]
  },
  {
   "cell_type": "markdown",
   "metadata": {
    "deletable": true,
    "editable": true
   },
   "source": [
    "### Worth Including? ###\n",
    "Approx 90% accuracy. All the variables are continuous, as opposed to ordinal as many of the breast cancer variables are. I'm tempted to make this one the first example, though classifying wines isn't as important as classifying cells for cancer."
   ]
  },
  {
   "cell_type": "code",
   "execution_count": 28,
   "metadata": {
    "collapsed": true,
    "deletable": true,
    "editable": true
   },
   "outputs": [],
   "source": [
    "wine = Table.read_table('wine.csv')"
   ]
  },
  {
   "cell_type": "code",
   "execution_count": 29,
   "metadata": {
    "collapsed": false,
    "deletable": true,
    "editable": true
   },
   "outputs": [
    {
     "data": {
      "text/html": [
       "<table border=\"1\" class=\"dataframe\">\n",
       "    <thead>\n",
       "        <tr>\n",
       "            <th>Class</th> <th>Alcohol</th> <th>Malic Acid</th> <th>Ash</th> <th>Alcalinity of Ash</th> <th>Magnesium</th> <th>Total Phenols</th> <th>Flavanoids</th> <th>Nonflavanoid phenols</th> <th>Proanthocyanins</th> <th>Color Intensity</th> <th>Hue</th> <th>OD280/OD315 of diulted wines</th> <th>Proline</th>\n",
       "        </tr>\n",
       "    </thead>\n",
       "    <tbody>\n",
       "        <tr>\n",
       "            <td>1    </td> <td>14.23  </td> <td>1.71      </td> <td>2.43</td> <td>15.6             </td> <td>127      </td> <td>2.8          </td> <td>3.06      </td> <td>0.28                </td> <td>2.29           </td> <td>5.64           </td> <td>1.04</td> <td>3.92                        </td> <td>1065   </td>\n",
       "        </tr>\n",
       "    </tbody>\n",
       "        <tr>\n",
       "            <td>1    </td> <td>13.2   </td> <td>1.78      </td> <td>2.14</td> <td>11.2             </td> <td>100      </td> <td>2.65         </td> <td>2.76      </td> <td>0.26                </td> <td>1.28           </td> <td>4.38           </td> <td>1.05</td> <td>3.4                         </td> <td>1050   </td>\n",
       "        </tr>\n",
       "    </tbody>\n",
       "        <tr>\n",
       "            <td>1    </td> <td>13.16  </td> <td>2.36      </td> <td>2.67</td> <td>18.6             </td> <td>101      </td> <td>2.8          </td> <td>3.24      </td> <td>0.3                 </td> <td>2.81           </td> <td>5.68           </td> <td>1.03</td> <td>3.17                        </td> <td>1185   </td>\n",
       "        </tr>\n",
       "    </tbody>\n",
       "        <tr>\n",
       "            <td>1    </td> <td>14.37  </td> <td>1.95      </td> <td>2.5 </td> <td>16.8             </td> <td>113      </td> <td>3.85         </td> <td>3.49      </td> <td>0.24                </td> <td>2.18           </td> <td>7.8            </td> <td>0.86</td> <td>3.45                        </td> <td>1480   </td>\n",
       "        </tr>\n",
       "    </tbody>\n",
       "        <tr>\n",
       "            <td>1    </td> <td>13.24  </td> <td>2.59      </td> <td>2.87</td> <td>21               </td> <td>118      </td> <td>2.8          </td> <td>2.69      </td> <td>0.39                </td> <td>1.82           </td> <td>4.32           </td> <td>1.04</td> <td>2.93                        </td> <td>735    </td>\n",
       "        </tr>\n",
       "    </tbody>\n",
       "        <tr>\n",
       "            <td>1    </td> <td>14.2   </td> <td>1.76      </td> <td>2.45</td> <td>15.2             </td> <td>112      </td> <td>3.27         </td> <td>3.39      </td> <td>0.34                </td> <td>1.97           </td> <td>6.75           </td> <td>1.05</td> <td>2.85                        </td> <td>1450   </td>\n",
       "        </tr>\n",
       "    </tbody>\n",
       "        <tr>\n",
       "            <td>1    </td> <td>14.39  </td> <td>1.87      </td> <td>2.45</td> <td>14.6             </td> <td>96       </td> <td>2.5          </td> <td>2.52      </td> <td>0.3                 </td> <td>1.98           </td> <td>5.25           </td> <td>1.02</td> <td>3.58                        </td> <td>1290   </td>\n",
       "        </tr>\n",
       "    </tbody>\n",
       "        <tr>\n",
       "            <td>1    </td> <td>14.06  </td> <td>2.15      </td> <td>2.61</td> <td>17.6             </td> <td>121      </td> <td>2.6          </td> <td>2.51      </td> <td>0.31                </td> <td>1.25           </td> <td>5.05           </td> <td>1.06</td> <td>3.58                        </td> <td>1295   </td>\n",
       "        </tr>\n",
       "    </tbody>\n",
       "        <tr>\n",
       "            <td>1    </td> <td>14.83  </td> <td>1.64      </td> <td>2.17</td> <td>14               </td> <td>97       </td> <td>2.8          </td> <td>2.98      </td> <td>0.29                </td> <td>1.98           </td> <td>5.2            </td> <td>1.08</td> <td>2.85                        </td> <td>1045   </td>\n",
       "        </tr>\n",
       "    </tbody>\n",
       "        <tr>\n",
       "            <td>1    </td> <td>13.86  </td> <td>1.35      </td> <td>2.27</td> <td>16               </td> <td>98       </td> <td>2.98         </td> <td>3.15      </td> <td>0.22                </td> <td>1.85           </td> <td>7.22           </td> <td>1.01</td> <td>3.55                        </td> <td>1045   </td>\n",
       "        </tr>\n",
       "    </tbody>\n",
       "</table>\n",
       "<p>... (168 rows omitted)</p"
      ],
      "text/plain": [
       "Class | Alcohol | Malic Acid | Ash  | Alcalinity of Ash | Magnesium | Total Phenols | Flavanoids | Nonflavanoid phenols | Proanthocyanins | Color Intensity | Hue  | OD280/OD315 of diulted wines | Proline\n",
       "1     | 14.23   | 1.71       | 2.43 | 15.6              | 127       | 2.8           | 3.06       | 0.28                 | 2.29            | 5.64            | 1.04 | 3.92                         | 1065\n",
       "1     | 13.2    | 1.78       | 2.14 | 11.2              | 100       | 2.65          | 2.76       | 0.26                 | 1.28            | 4.38            | 1.05 | 3.4                          | 1050\n",
       "1     | 13.16   | 2.36       | 2.67 | 18.6              | 101       | 2.8           | 3.24       | 0.3                  | 2.81            | 5.68            | 1.03 | 3.17                         | 1185\n",
       "1     | 14.37   | 1.95       | 2.5  | 16.8              | 113       | 3.85          | 3.49       | 0.24                 | 2.18            | 7.8             | 0.86 | 3.45                         | 1480\n",
       "1     | 13.24   | 2.59       | 2.87 | 21                | 118       | 2.8           | 2.69       | 0.39                 | 1.82            | 4.32            | 1.04 | 2.93                         | 735\n",
       "1     | 14.2    | 1.76       | 2.45 | 15.2              | 112       | 3.27          | 3.39       | 0.34                 | 1.97            | 6.75            | 1.05 | 2.85                         | 1450\n",
       "1     | 14.39   | 1.87       | 2.45 | 14.6              | 96        | 2.5           | 2.52       | 0.3                  | 1.98            | 5.25            | 1.02 | 3.58                         | 1290\n",
       "1     | 14.06   | 2.15       | 2.61 | 17.6              | 121       | 2.6           | 2.51       | 0.31                 | 1.25            | 5.05            | 1.06 | 3.58                         | 1295\n",
       "1     | 14.83   | 1.64       | 2.17 | 14                | 97        | 2.8           | 2.98       | 0.29                 | 1.98            | 5.2             | 1.08 | 2.85                         | 1045\n",
       "1     | 13.86   | 1.35       | 2.27 | 16                | 98        | 2.98          | 3.15       | 0.22                 | 1.85            | 7.22            | 1.01 | 3.55                         | 1045\n",
       "... (168 rows omitted)"
      ]
     },
     "execution_count": 29,
     "metadata": {},
     "output_type": "execute_result"
    }
   ],
   "source": [
    "# Note there are three Class values: 1, 2, 3\n",
    "wine"
   ]
  },
  {
   "cell_type": "code",
   "execution_count": 30,
   "metadata": {
    "collapsed": false,
    "deletable": true,
    "editable": true
   },
   "outputs": [],
   "source": [
    "# For converting Class to binary\n",
    "\n",
    "def is_one(x):\n",
    "    if x == 1:\n",
    "        return 1\n",
    "    else:\n",
    "        return 0"
   ]
  },
  {
   "cell_type": "code",
   "execution_count": 31,
   "metadata": {
    "collapsed": true,
    "deletable": true,
    "editable": true
   },
   "outputs": [],
   "source": [
    "wine1 = wine.with_column('Class', wine.apply(is_one, 0))"
   ]
  },
  {
   "cell_type": "code",
   "execution_count": 32,
   "metadata": {
    "collapsed": false,
    "deletable": true,
    "editable": true
   },
   "outputs": [
    {
     "data": {
      "text/html": [
       "<table border=\"1\" class=\"dataframe\">\n",
       "    <thead>\n",
       "        <tr>\n",
       "            <th>Class</th> <th>Alcohol</th> <th>Malic Acid</th> <th>Ash</th> <th>Alcalinity of Ash</th> <th>Magnesium</th> <th>Total Phenols</th> <th>Flavanoids</th> <th>Nonflavanoid phenols</th> <th>Proanthocyanins</th> <th>Color Intensity</th> <th>Hue</th> <th>OD280/OD315 of diulted wines</th> <th>Proline</th>\n",
       "        </tr>\n",
       "    </thead>\n",
       "    <tbody>\n",
       "        <tr>\n",
       "            <td>1    </td> <td>14.23  </td> <td>1.71      </td> <td>2.43</td> <td>15.6             </td> <td>127      </td> <td>2.8          </td> <td>3.06      </td> <td>0.28                </td> <td>2.29           </td> <td>5.64           </td> <td>1.04 </td> <td>3.92                        </td> <td>1065   </td>\n",
       "        </tr>\n",
       "    </tbody>\n",
       "        <tr>\n",
       "            <td>1    </td> <td>13.2   </td> <td>1.78      </td> <td>2.14</td> <td>11.2             </td> <td>100      </td> <td>2.65         </td> <td>2.76      </td> <td>0.26                </td> <td>1.28           </td> <td>4.38           </td> <td>1.05 </td> <td>3.4                         </td> <td>1050   </td>\n",
       "        </tr>\n",
       "    </tbody>\n",
       "        <tr>\n",
       "            <td>1    </td> <td>13.16  </td> <td>2.36      </td> <td>2.67</td> <td>18.6             </td> <td>101      </td> <td>2.8          </td> <td>3.24      </td> <td>0.3                 </td> <td>2.81           </td> <td>5.68           </td> <td>1.03 </td> <td>3.17                        </td> <td>1185   </td>\n",
       "        </tr>\n",
       "    </tbody>\n",
       "        <tr>\n",
       "            <td>1    </td> <td>14.37  </td> <td>1.95      </td> <td>2.5 </td> <td>16.8             </td> <td>113      </td> <td>3.85         </td> <td>3.49      </td> <td>0.24                </td> <td>2.18           </td> <td>7.8            </td> <td>0.86 </td> <td>3.45                        </td> <td>1480   </td>\n",
       "        </tr>\n",
       "    </tbody>\n",
       "        <tr>\n",
       "            <td>1    </td> <td>13.24  </td> <td>2.59      </td> <td>2.87</td> <td>21               </td> <td>118      </td> <td>2.8          </td> <td>2.69      </td> <td>0.39                </td> <td>1.82           </td> <td>4.32           </td> <td>1.04 </td> <td>2.93                        </td> <td>735    </td>\n",
       "        </tr>\n",
       "    </tbody>\n",
       "        <tr>\n",
       "            <td>1    </td> <td>14.2   </td> <td>1.76      </td> <td>2.45</td> <td>15.2             </td> <td>112      </td> <td>3.27         </td> <td>3.39      </td> <td>0.34                </td> <td>1.97           </td> <td>6.75           </td> <td>1.05 </td> <td>2.85                        </td> <td>1450   </td>\n",
       "        </tr>\n",
       "    </tbody>\n",
       "        <tr>\n",
       "            <td>1    </td> <td>14.39  </td> <td>1.87      </td> <td>2.45</td> <td>14.6             </td> <td>96       </td> <td>2.5          </td> <td>2.52      </td> <td>0.3                 </td> <td>1.98           </td> <td>5.25           </td> <td>1.02 </td> <td>3.58                        </td> <td>1290   </td>\n",
       "        </tr>\n",
       "    </tbody>\n",
       "        <tr>\n",
       "            <td>1    </td> <td>14.06  </td> <td>2.15      </td> <td>2.61</td> <td>17.6             </td> <td>121      </td> <td>2.6          </td> <td>2.51      </td> <td>0.31                </td> <td>1.25           </td> <td>5.05           </td> <td>1.06 </td> <td>3.58                        </td> <td>1295   </td>\n",
       "        </tr>\n",
       "    </tbody>\n",
       "        <tr>\n",
       "            <td>1    </td> <td>14.83  </td> <td>1.64      </td> <td>2.17</td> <td>14               </td> <td>97       </td> <td>2.8          </td> <td>2.98      </td> <td>0.29                </td> <td>1.98           </td> <td>5.2            </td> <td>1.08 </td> <td>2.85                        </td> <td>1045   </td>\n",
       "        </tr>\n",
       "    </tbody>\n",
       "        <tr>\n",
       "            <td>1    </td> <td>13.86  </td> <td>1.35      </td> <td>2.27</td> <td>16               </td> <td>98       </td> <td>2.98         </td> <td>3.15      </td> <td>0.22                </td> <td>1.85           </td> <td>7.22           </td> <td>1.01 </td> <td>3.55                        </td> <td>1045   </td>\n",
       "        </tr>\n",
       "    </tbody>\n",
       "        <tr>\n",
       "            <td>1    </td> <td>14.1   </td> <td>2.16      </td> <td>2.3 </td> <td>18               </td> <td>105      </td> <td>2.95         </td> <td>3.32      </td> <td>0.22                </td> <td>2.38           </td> <td>5.75           </td> <td>1.25 </td> <td>3.17                        </td> <td>1510   </td>\n",
       "        </tr>\n",
       "    </tbody>\n",
       "        <tr>\n",
       "            <td>1    </td> <td>14.12  </td> <td>1.48      </td> <td>2.32</td> <td>16.8             </td> <td>95       </td> <td>2.2          </td> <td>2.43      </td> <td>0.26                </td> <td>1.57           </td> <td>5              </td> <td>1.17 </td> <td>2.82                        </td> <td>1280   </td>\n",
       "        </tr>\n",
       "    </tbody>\n",
       "        <tr>\n",
       "            <td>1    </td> <td>13.75  </td> <td>1.73      </td> <td>2.41</td> <td>16               </td> <td>89       </td> <td>2.6          </td> <td>2.76      </td> <td>0.29                </td> <td>1.81           </td> <td>5.6            </td> <td>1.15 </td> <td>2.9                         </td> <td>1320   </td>\n",
       "        </tr>\n",
       "    </tbody>\n",
       "        <tr>\n",
       "            <td>1    </td> <td>14.75  </td> <td>1.73      </td> <td>2.39</td> <td>11.4             </td> <td>91       </td> <td>3.1          </td> <td>3.69      </td> <td>0.43                </td> <td>2.81           </td> <td>5.4            </td> <td>1.25 </td> <td>2.73                        </td> <td>1150   </td>\n",
       "        </tr>\n",
       "    </tbody>\n",
       "        <tr>\n",
       "            <td>1    </td> <td>14.38  </td> <td>1.87      </td> <td>2.38</td> <td>12               </td> <td>102      </td> <td>3.3          </td> <td>3.64      </td> <td>0.29                </td> <td>2.96           </td> <td>7.5            </td> <td>1.2  </td> <td>3                           </td> <td>1547   </td>\n",
       "        </tr>\n",
       "    </tbody>\n",
       "        <tr>\n",
       "            <td>1    </td> <td>13.63  </td> <td>1.81      </td> <td>2.7 </td> <td>17.2             </td> <td>112      </td> <td>2.85         </td> <td>2.91      </td> <td>0.3                 </td> <td>1.46           </td> <td>7.3            </td> <td>1.28 </td> <td>2.88                        </td> <td>1310   </td>\n",
       "        </tr>\n",
       "    </tbody>\n",
       "        <tr>\n",
       "            <td>1    </td> <td>14.3   </td> <td>1.92      </td> <td>2.72</td> <td>20               </td> <td>120      </td> <td>2.8          </td> <td>3.14      </td> <td>0.33                </td> <td>1.97           </td> <td>6.2            </td> <td>1.07 </td> <td>2.65                        </td> <td>1280   </td>\n",
       "        </tr>\n",
       "    </tbody>\n",
       "        <tr>\n",
       "            <td>1    </td> <td>13.83  </td> <td>1.57      </td> <td>2.62</td> <td>20               </td> <td>115      </td> <td>2.95         </td> <td>3.4       </td> <td>0.4                 </td> <td>1.72           </td> <td>6.6            </td> <td>1.13 </td> <td>2.57                        </td> <td>1130   </td>\n",
       "        </tr>\n",
       "    </tbody>\n",
       "        <tr>\n",
       "            <td>1    </td> <td>14.19  </td> <td>1.59      </td> <td>2.48</td> <td>16.5             </td> <td>108      </td> <td>3.3          </td> <td>3.93      </td> <td>0.32                </td> <td>1.86           </td> <td>8.7            </td> <td>1.23 </td> <td>2.82                        </td> <td>1680   </td>\n",
       "        </tr>\n",
       "    </tbody>\n",
       "        <tr>\n",
       "            <td>1    </td> <td>13.64  </td> <td>3.1       </td> <td>2.56</td> <td>15.2             </td> <td>116      </td> <td>2.7          </td> <td>3.03      </td> <td>0.17                </td> <td>1.66           </td> <td>5.1            </td> <td>0.96 </td> <td>3.36                        </td> <td>845    </td>\n",
       "        </tr>\n",
       "    </tbody>\n",
       "        <tr>\n",
       "            <td>1    </td> <td>14.06  </td> <td>1.63      </td> <td>2.28</td> <td>16               </td> <td>126      </td> <td>3            </td> <td>3.17      </td> <td>0.24                </td> <td>2.1            </td> <td>5.65           </td> <td>1.09 </td> <td>3.71                        </td> <td>780    </td>\n",
       "        </tr>\n",
       "    </tbody>\n",
       "        <tr>\n",
       "            <td>1    </td> <td>12.93  </td> <td>3.8       </td> <td>2.65</td> <td>18.6             </td> <td>102      </td> <td>2.41         </td> <td>2.41      </td> <td>0.25                </td> <td>1.98           </td> <td>4.5            </td> <td>1.03 </td> <td>3.52                        </td> <td>770    </td>\n",
       "        </tr>\n",
       "    </tbody>\n",
       "        <tr>\n",
       "            <td>1    </td> <td>13.71  </td> <td>1.86      </td> <td>2.36</td> <td>16.6             </td> <td>101      </td> <td>2.61         </td> <td>2.88      </td> <td>0.27                </td> <td>1.69           </td> <td>3.8            </td> <td>1.11 </td> <td>4                           </td> <td>1035   </td>\n",
       "        </tr>\n",
       "    </tbody>\n",
       "        <tr>\n",
       "            <td>1    </td> <td>12.85  </td> <td>1.6       </td> <td>2.52</td> <td>17.8             </td> <td>95       </td> <td>2.48         </td> <td>2.37      </td> <td>0.26                </td> <td>1.46           </td> <td>3.93           </td> <td>1.09 </td> <td>3.63                        </td> <td>1015   </td>\n",
       "        </tr>\n",
       "    </tbody>\n",
       "        <tr>\n",
       "            <td>1    </td> <td>13.5   </td> <td>1.81      </td> <td>2.61</td> <td>20               </td> <td>96       </td> <td>2.53         </td> <td>2.61      </td> <td>0.28                </td> <td>1.66           </td> <td>3.52           </td> <td>1.12 </td> <td>3.82                        </td> <td>845    </td>\n",
       "        </tr>\n",
       "    </tbody>\n",
       "        <tr>\n",
       "            <td>1    </td> <td>13.05  </td> <td>2.05      </td> <td>3.22</td> <td>25               </td> <td>124      </td> <td>2.63         </td> <td>2.68      </td> <td>0.47                </td> <td>1.92           </td> <td>3.58           </td> <td>1.13 </td> <td>3.2                         </td> <td>830    </td>\n",
       "        </tr>\n",
       "    </tbody>\n",
       "        <tr>\n",
       "            <td>1    </td> <td>13.39  </td> <td>1.77      </td> <td>2.62</td> <td>16.1             </td> <td>93       </td> <td>2.85         </td> <td>2.94      </td> <td>0.34                </td> <td>1.45           </td> <td>4.8            </td> <td>0.92 </td> <td>3.22                        </td> <td>1195   </td>\n",
       "        </tr>\n",
       "    </tbody>\n",
       "        <tr>\n",
       "            <td>1    </td> <td>13.3   </td> <td>1.72      </td> <td>2.14</td> <td>17               </td> <td>94       </td> <td>2.4          </td> <td>2.19      </td> <td>0.27                </td> <td>1.35           </td> <td>3.95           </td> <td>1.02 </td> <td>2.77                        </td> <td>1285   </td>\n",
       "        </tr>\n",
       "    </tbody>\n",
       "        <tr>\n",
       "            <td>1    </td> <td>13.87  </td> <td>1.9       </td> <td>2.8 </td> <td>19.4             </td> <td>107      </td> <td>2.95         </td> <td>2.97      </td> <td>0.37                </td> <td>1.76           </td> <td>4.5            </td> <td>1.25 </td> <td>3.4                         </td> <td>915    </td>\n",
       "        </tr>\n",
       "    </tbody>\n",
       "        <tr>\n",
       "            <td>1    </td> <td>14.02  </td> <td>1.68      </td> <td>2.21</td> <td>16               </td> <td>96       </td> <td>2.65         </td> <td>2.33      </td> <td>0.26                </td> <td>1.98           </td> <td>4.7            </td> <td>1.04 </td> <td>3.59                        </td> <td>1035   </td>\n",
       "        </tr>\n",
       "    </tbody>\n",
       "        <tr>\n",
       "            <td>1    </td> <td>13.73  </td> <td>1.5       </td> <td>2.7 </td> <td>22.5             </td> <td>101      </td> <td>3            </td> <td>3.25      </td> <td>0.29                </td> <td>2.38           </td> <td>5.7            </td> <td>1.19 </td> <td>2.71                        </td> <td>1285   </td>\n",
       "        </tr>\n",
       "    </tbody>\n",
       "        <tr>\n",
       "            <td>1    </td> <td>13.58  </td> <td>1.66      </td> <td>2.36</td> <td>19.1             </td> <td>106      </td> <td>2.86         </td> <td>3.19      </td> <td>0.22                </td> <td>1.95           </td> <td>6.9            </td> <td>1.09 </td> <td>2.88                        </td> <td>1515   </td>\n",
       "        </tr>\n",
       "    </tbody>\n",
       "        <tr>\n",
       "            <td>1    </td> <td>13.68  </td> <td>1.83      </td> <td>2.36</td> <td>17.2             </td> <td>104      </td> <td>2.42         </td> <td>2.69      </td> <td>0.42                </td> <td>1.97           </td> <td>3.84           </td> <td>1.23 </td> <td>2.87                        </td> <td>990    </td>\n",
       "        </tr>\n",
       "    </tbody>\n",
       "        <tr>\n",
       "            <td>1    </td> <td>13.76  </td> <td>1.53      </td> <td>2.7 </td> <td>19.5             </td> <td>132      </td> <td>2.95         </td> <td>2.74      </td> <td>0.5                 </td> <td>1.35           </td> <td>5.4            </td> <td>1.25 </td> <td>3                           </td> <td>1235   </td>\n",
       "        </tr>\n",
       "    </tbody>\n",
       "        <tr>\n",
       "            <td>1    </td> <td>13.51  </td> <td>1.8       </td> <td>2.65</td> <td>19               </td> <td>110      </td> <td>2.35         </td> <td>2.53      </td> <td>0.29                </td> <td>1.54           </td> <td>4.2            </td> <td>1.1  </td> <td>2.87                        </td> <td>1095   </td>\n",
       "        </tr>\n",
       "    </tbody>\n",
       "        <tr>\n",
       "            <td>1    </td> <td>13.48  </td> <td>1.81      </td> <td>2.41</td> <td>20.5             </td> <td>100      </td> <td>2.7          </td> <td>2.98      </td> <td>0.26                </td> <td>1.86           </td> <td>5.1            </td> <td>1.04 </td> <td>3.47                        </td> <td>920    </td>\n",
       "        </tr>\n",
       "    </tbody>\n",
       "        <tr>\n",
       "            <td>1    </td> <td>13.28  </td> <td>1.64      </td> <td>2.84</td> <td>15.5             </td> <td>110      </td> <td>2.6          </td> <td>2.68      </td> <td>0.34                </td> <td>1.36           </td> <td>4.6            </td> <td>1.09 </td> <td>2.78                        </td> <td>880    </td>\n",
       "        </tr>\n",
       "    </tbody>\n",
       "        <tr>\n",
       "            <td>1    </td> <td>13.05  </td> <td>1.65      </td> <td>2.55</td> <td>18               </td> <td>98       </td> <td>2.45         </td> <td>2.43      </td> <td>0.29                </td> <td>1.44           </td> <td>4.25           </td> <td>1.12 </td> <td>2.51                        </td> <td>1105   </td>\n",
       "        </tr>\n",
       "    </tbody>\n",
       "        <tr>\n",
       "            <td>1    </td> <td>13.07  </td> <td>1.5       </td> <td>2.1 </td> <td>15.5             </td> <td>98       </td> <td>2.4          </td> <td>2.64      </td> <td>0.28                </td> <td>1.37           </td> <td>3.7            </td> <td>1.18 </td> <td>2.69                        </td> <td>1020   </td>\n",
       "        </tr>\n",
       "    </tbody>\n",
       "        <tr>\n",
       "            <td>1    </td> <td>14.22  </td> <td>3.99      </td> <td>2.51</td> <td>13.2             </td> <td>128      </td> <td>3            </td> <td>3.04      </td> <td>0.2                 </td> <td>2.08           </td> <td>5.1            </td> <td>0.89 </td> <td>3.53                        </td> <td>760    </td>\n",
       "        </tr>\n",
       "    </tbody>\n",
       "        <tr>\n",
       "            <td>1    </td> <td>13.56  </td> <td>1.71      </td> <td>2.31</td> <td>16.2             </td> <td>117      </td> <td>3.15         </td> <td>3.29      </td> <td>0.34                </td> <td>2.34           </td> <td>6.13           </td> <td>0.95 </td> <td>3.38                        </td> <td>795    </td>\n",
       "        </tr>\n",
       "    </tbody>\n",
       "        <tr>\n",
       "            <td>1    </td> <td>13.41  </td> <td>3.84      </td> <td>2.12</td> <td>18.8             </td> <td>90       </td> <td>2.45         </td> <td>2.68      </td> <td>0.27                </td> <td>1.48           </td> <td>4.28           </td> <td>0.91 </td> <td>3                           </td> <td>1035   </td>\n",
       "        </tr>\n",
       "    </tbody>\n",
       "        <tr>\n",
       "            <td>1    </td> <td>13.88  </td> <td>1.89      </td> <td>2.59</td> <td>15               </td> <td>101      </td> <td>3.25         </td> <td>3.56      </td> <td>0.17                </td> <td>1.7            </td> <td>5.43           </td> <td>0.88 </td> <td>3.56                        </td> <td>1095   </td>\n",
       "        </tr>\n",
       "    </tbody>\n",
       "        <tr>\n",
       "            <td>1    </td> <td>13.24  </td> <td>3.98      </td> <td>2.29</td> <td>17.5             </td> <td>103      </td> <td>2.64         </td> <td>2.63      </td> <td>0.32                </td> <td>1.66           </td> <td>4.36           </td> <td>0.82 </td> <td>3                           </td> <td>680    </td>\n",
       "        </tr>\n",
       "    </tbody>\n",
       "        <tr>\n",
       "            <td>1    </td> <td>13.05  </td> <td>1.77      </td> <td>2.1 </td> <td>17               </td> <td>107      </td> <td>3            </td> <td>3         </td> <td>0.28                </td> <td>2.03           </td> <td>5.04           </td> <td>0.88 </td> <td>3.35                        </td> <td>885    </td>\n",
       "        </tr>\n",
       "    </tbody>\n",
       "        <tr>\n",
       "            <td>1    </td> <td>14.21  </td> <td>4.04      </td> <td>2.44</td> <td>18.9             </td> <td>111      </td> <td>2.85         </td> <td>2.65      </td> <td>0.3                 </td> <td>1.25           </td> <td>5.24           </td> <td>0.87 </td> <td>3.33                        </td> <td>1080   </td>\n",
       "        </tr>\n",
       "    </tbody>\n",
       "        <tr>\n",
       "            <td>1    </td> <td>14.38  </td> <td>3.59      </td> <td>2.28</td> <td>16               </td> <td>102      </td> <td>3.25         </td> <td>3.17      </td> <td>0.27                </td> <td>2.19           </td> <td>4.9            </td> <td>1.04 </td> <td>3.44                        </td> <td>1065   </td>\n",
       "        </tr>\n",
       "    </tbody>\n",
       "        <tr>\n",
       "            <td>1    </td> <td>13.9   </td> <td>1.68      </td> <td>2.12</td> <td>16               </td> <td>101      </td> <td>3.1          </td> <td>3.39      </td> <td>0.21                </td> <td>2.14           </td> <td>6.1            </td> <td>0.91 </td> <td>3.33                        </td> <td>985    </td>\n",
       "        </tr>\n",
       "    </tbody>\n",
       "        <tr>\n",
       "            <td>1    </td> <td>14.1   </td> <td>2.02      </td> <td>2.4 </td> <td>18.8             </td> <td>103      </td> <td>2.75         </td> <td>2.92      </td> <td>0.32                </td> <td>2.38           </td> <td>6.2            </td> <td>1.07 </td> <td>2.75                        </td> <td>1060   </td>\n",
       "        </tr>\n",
       "    </tbody>\n",
       "        <tr>\n",
       "            <td>1    </td> <td>13.94  </td> <td>1.73      </td> <td>2.27</td> <td>17.4             </td> <td>108      </td> <td>2.88         </td> <td>3.54      </td> <td>0.32                </td> <td>2.08           </td> <td>8.9            </td> <td>1.12 </td> <td>3.1                         </td> <td>1260   </td>\n",
       "        </tr>\n",
       "    </tbody>\n",
       "        <tr>\n",
       "            <td>1    </td> <td>13.05  </td> <td>1.73      </td> <td>2.04</td> <td>12.4             </td> <td>92       </td> <td>2.72         </td> <td>3.27      </td> <td>0.17                </td> <td>2.91           </td> <td>7.2            </td> <td>1.12 </td> <td>2.91                        </td> <td>1150   </td>\n",
       "        </tr>\n",
       "    </tbody>\n",
       "        <tr>\n",
       "            <td>1    </td> <td>13.83  </td> <td>1.65      </td> <td>2.6 </td> <td>17.2             </td> <td>94       </td> <td>2.45         </td> <td>2.99      </td> <td>0.22                </td> <td>2.29           </td> <td>5.6            </td> <td>1.24 </td> <td>3.37                        </td> <td>1265   </td>\n",
       "        </tr>\n",
       "    </tbody>\n",
       "        <tr>\n",
       "            <td>1    </td> <td>13.82  </td> <td>1.75      </td> <td>2.42</td> <td>14               </td> <td>111      </td> <td>3.88         </td> <td>3.74      </td> <td>0.32                </td> <td>1.87           </td> <td>7.05           </td> <td>1.01 </td> <td>3.26                        </td> <td>1190   </td>\n",
       "        </tr>\n",
       "    </tbody>\n",
       "        <tr>\n",
       "            <td>1    </td> <td>13.77  </td> <td>1.9       </td> <td>2.68</td> <td>17.1             </td> <td>115      </td> <td>3            </td> <td>2.79      </td> <td>0.39                </td> <td>1.68           </td> <td>6.3            </td> <td>1.13 </td> <td>2.93                        </td> <td>1375   </td>\n",
       "        </tr>\n",
       "    </tbody>\n",
       "        <tr>\n",
       "            <td>1    </td> <td>13.74  </td> <td>1.67      </td> <td>2.25</td> <td>16.4             </td> <td>118      </td> <td>2.6          </td> <td>2.9       </td> <td>0.21                </td> <td>1.62           </td> <td>5.85           </td> <td>0.92 </td> <td>3.2                         </td> <td>1060   </td>\n",
       "        </tr>\n",
       "    </tbody>\n",
       "        <tr>\n",
       "            <td>1    </td> <td>13.56  </td> <td>1.73      </td> <td>2.46</td> <td>20.5             </td> <td>116      </td> <td>2.96         </td> <td>2.78      </td> <td>0.2                 </td> <td>2.45           </td> <td>6.25           </td> <td>0.98 </td> <td>3.03                        </td> <td>1120   </td>\n",
       "        </tr>\n",
       "    </tbody>\n",
       "        <tr>\n",
       "            <td>1    </td> <td>14.22  </td> <td>1.7       </td> <td>2.3 </td> <td>16.3             </td> <td>118      </td> <td>3.2          </td> <td>3         </td> <td>0.26                </td> <td>2.03           </td> <td>6.38           </td> <td>0.94 </td> <td>3.31                        </td> <td>970    </td>\n",
       "        </tr>\n",
       "    </tbody>\n",
       "        <tr>\n",
       "            <td>1    </td> <td>13.29  </td> <td>1.97      </td> <td>2.68</td> <td>16.8             </td> <td>102      </td> <td>3            </td> <td>3.23      </td> <td>0.31                </td> <td>1.66           </td> <td>6              </td> <td>1.07 </td> <td>2.84                        </td> <td>1270   </td>\n",
       "        </tr>\n",
       "    </tbody>\n",
       "        <tr>\n",
       "            <td>1    </td> <td>13.72  </td> <td>1.43      </td> <td>2.5 </td> <td>16.7             </td> <td>108      </td> <td>3.4          </td> <td>3.67      </td> <td>0.19                </td> <td>2.04           </td> <td>6.8            </td> <td>0.89 </td> <td>2.87                        </td> <td>1285   </td>\n",
       "        </tr>\n",
       "    </tbody>\n",
       "        <tr>\n",
       "            <td>0    </td> <td>12.37  </td> <td>0.94      </td> <td>1.36</td> <td>10.6             </td> <td>88       </td> <td>1.98         </td> <td>0.57      </td> <td>0.28                </td> <td>0.42           </td> <td>1.95           </td> <td>1.05 </td> <td>1.82                        </td> <td>520    </td>\n",
       "        </tr>\n",
       "    </tbody>\n",
       "        <tr>\n",
       "            <td>0    </td> <td>12.33  </td> <td>1.1       </td> <td>2.28</td> <td>16               </td> <td>101      </td> <td>2.05         </td> <td>1.09      </td> <td>0.63                </td> <td>0.41           </td> <td>3.27           </td> <td>1.25 </td> <td>1.67                        </td> <td>680    </td>\n",
       "        </tr>\n",
       "    </tbody>\n",
       "        <tr>\n",
       "            <td>0    </td> <td>12.64  </td> <td>1.36      </td> <td>2.02</td> <td>16.8             </td> <td>100      </td> <td>2.02         </td> <td>1.41      </td> <td>0.53                </td> <td>0.62           </td> <td>5.75           </td> <td>0.98 </td> <td>1.59                        </td> <td>450    </td>\n",
       "        </tr>\n",
       "    </tbody>\n",
       "        <tr>\n",
       "            <td>0    </td> <td>13.67  </td> <td>1.25      </td> <td>1.92</td> <td>18               </td> <td>94       </td> <td>2.1          </td> <td>1.79      </td> <td>0.32                </td> <td>0.73           </td> <td>3.8            </td> <td>1.23 </td> <td>2.46                        </td> <td>630    </td>\n",
       "        </tr>\n",
       "    </tbody>\n",
       "        <tr>\n",
       "            <td>0    </td> <td>12.37  </td> <td>1.13      </td> <td>2.16</td> <td>19               </td> <td>87       </td> <td>3.5          </td> <td>3.1       </td> <td>0.19                </td> <td>1.87           </td> <td>4.45           </td> <td>1.22 </td> <td>2.87                        </td> <td>420    </td>\n",
       "        </tr>\n",
       "    </tbody>\n",
       "        <tr>\n",
       "            <td>0    </td> <td>12.17  </td> <td>1.45      </td> <td>2.53</td> <td>19               </td> <td>104      </td> <td>1.89         </td> <td>1.75      </td> <td>0.45                </td> <td>1.03           </td> <td>2.95           </td> <td>1.45 </td> <td>2.23                        </td> <td>355    </td>\n",
       "        </tr>\n",
       "    </tbody>\n",
       "        <tr>\n",
       "            <td>0    </td> <td>12.37  </td> <td>1.21      </td> <td>2.56</td> <td>18.1             </td> <td>98       </td> <td>2.42         </td> <td>2.65      </td> <td>0.37                </td> <td>2.08           </td> <td>4.6            </td> <td>1.19 </td> <td>2.3                         </td> <td>678    </td>\n",
       "        </tr>\n",
       "    </tbody>\n",
       "        <tr>\n",
       "            <td>0    </td> <td>13.11  </td> <td>1.01      </td> <td>1.7 </td> <td>15               </td> <td>78       </td> <td>2.98         </td> <td>3.18      </td> <td>0.26                </td> <td>2.28           </td> <td>5.3            </td> <td>1.12 </td> <td>3.18                        </td> <td>502    </td>\n",
       "        </tr>\n",
       "    </tbody>\n",
       "        <tr>\n",
       "            <td>0    </td> <td>12.37  </td> <td>1.17      </td> <td>1.92</td> <td>19.6             </td> <td>78       </td> <td>2.11         </td> <td>2         </td> <td>0.27                </td> <td>1.04           </td> <td>4.68           </td> <td>1.12 </td> <td>3.48                        </td> <td>510    </td>\n",
       "        </tr>\n",
       "    </tbody>\n",
       "        <tr>\n",
       "            <td>0    </td> <td>13.34  </td> <td>0.94      </td> <td>2.36</td> <td>17               </td> <td>110      </td> <td>2.53         </td> <td>1.3       </td> <td>0.55                </td> <td>0.42           </td> <td>3.17           </td> <td>1.02 </td> <td>1.93                        </td> <td>750    </td>\n",
       "        </tr>\n",
       "    </tbody>\n",
       "        <tr>\n",
       "            <td>0    </td> <td>12.21  </td> <td>1.19      </td> <td>1.75</td> <td>16.8             </td> <td>151      </td> <td>1.85         </td> <td>1.28      </td> <td>0.14                </td> <td>2.5            </td> <td>2.85           </td> <td>1.28 </td> <td>3.07                        </td> <td>718    </td>\n",
       "        </tr>\n",
       "    </tbody>\n",
       "        <tr>\n",
       "            <td>0    </td> <td>12.29  </td> <td>1.61      </td> <td>2.21</td> <td>20.4             </td> <td>103      </td> <td>1.1          </td> <td>1.02      </td> <td>0.37                </td> <td>1.46           </td> <td>3.05           </td> <td>0.906</td> <td>1.82                        </td> <td>870    </td>\n",
       "        </tr>\n",
       "    </tbody>\n",
       "        <tr>\n",
       "            <td>0    </td> <td>13.86  </td> <td>1.51      </td> <td>2.67</td> <td>25               </td> <td>86       </td> <td>2.95         </td> <td>2.86      </td> <td>0.21                </td> <td>1.87           </td> <td>3.38           </td> <td>1.36 </td> <td>3.16                        </td> <td>410    </td>\n",
       "        </tr>\n",
       "    </tbody>\n",
       "        <tr>\n",
       "            <td>0    </td> <td>13.49  </td> <td>1.66      </td> <td>2.24</td> <td>24               </td> <td>87       </td> <td>1.88         </td> <td>1.84      </td> <td>0.27                </td> <td>1.03           </td> <td>3.74           </td> <td>0.98 </td> <td>2.78                        </td> <td>472    </td>\n",
       "        </tr>\n",
       "    </tbody>\n",
       "        <tr>\n",
       "            <td>0    </td> <td>12.99  </td> <td>1.67      </td> <td>2.6 </td> <td>30               </td> <td>139      </td> <td>3.3          </td> <td>2.89      </td> <td>0.21                </td> <td>1.96           </td> <td>3.35           </td> <td>1.31 </td> <td>3.5                         </td> <td>985    </td>\n",
       "        </tr>\n",
       "    </tbody>\n",
       "        <tr>\n",
       "            <td>0    </td> <td>11.96  </td> <td>1.09      </td> <td>2.3 </td> <td>21               </td> <td>101      </td> <td>3.38         </td> <td>2.14      </td> <td>0.13                </td> <td>1.65           </td> <td>3.21           </td> <td>0.99 </td> <td>3.13                        </td> <td>886    </td>\n",
       "        </tr>\n",
       "    </tbody>\n",
       "        <tr>\n",
       "            <td>0    </td> <td>11.66  </td> <td>1.88      </td> <td>1.92</td> <td>16               </td> <td>97       </td> <td>1.61         </td> <td>1.57      </td> <td>0.34                </td> <td>1.15           </td> <td>3.8            </td> <td>1.23 </td> <td>2.14                        </td> <td>428    </td>\n",
       "        </tr>\n",
       "    </tbody>\n",
       "        <tr>\n",
       "            <td>0    </td> <td>13.03  </td> <td>0.9       </td> <td>1.71</td> <td>16               </td> <td>86       </td> <td>1.95         </td> <td>2.03      </td> <td>0.24                </td> <td>1.46           </td> <td>4.6            </td> <td>1.19 </td> <td>2.48                        </td> <td>392    </td>\n",
       "        </tr>\n",
       "    </tbody>\n",
       "        <tr>\n",
       "            <td>0    </td> <td>11.84  </td> <td>2.89      </td> <td>2.23</td> <td>18               </td> <td>112      </td> <td>1.72         </td> <td>1.32      </td> <td>0.43                </td> <td>0.95           </td> <td>2.65           </td> <td>0.96 </td> <td>2.52                        </td> <td>500    </td>\n",
       "        </tr>\n",
       "    </tbody>\n",
       "        <tr>\n",
       "            <td>0    </td> <td>12.33  </td> <td>0.99      </td> <td>1.95</td> <td>14.8             </td> <td>136      </td> <td>1.9          </td> <td>1.85      </td> <td>0.35                </td> <td>2.76           </td> <td>3.4            </td> <td>1.06 </td> <td>2.31                        </td> <td>750    </td>\n",
       "        </tr>\n",
       "    </tbody>\n",
       "        <tr>\n",
       "            <td>0    </td> <td>12.7   </td> <td>3.87      </td> <td>2.4 </td> <td>23               </td> <td>101      </td> <td>2.83         </td> <td>2.55      </td> <td>0.43                </td> <td>1.95           </td> <td>2.57           </td> <td>1.19 </td> <td>3.13                        </td> <td>463    </td>\n",
       "        </tr>\n",
       "    </tbody>\n",
       "        <tr>\n",
       "            <td>0    </td> <td>12     </td> <td>0.92      </td> <td>2   </td> <td>19               </td> <td>86       </td> <td>2.42         </td> <td>2.26      </td> <td>0.3                 </td> <td>1.43           </td> <td>2.5            </td> <td>1.38 </td> <td>3.12                        </td> <td>278    </td>\n",
       "        </tr>\n",
       "    </tbody>\n",
       "        <tr>\n",
       "            <td>0    </td> <td>12.72  </td> <td>1.81      </td> <td>2.2 </td> <td>18.8             </td> <td>86       </td> <td>2.2          </td> <td>2.53      </td> <td>0.26                </td> <td>1.77           </td> <td>3.9            </td> <td>1.16 </td> <td>3.14                        </td> <td>714    </td>\n",
       "        </tr>\n",
       "    </tbody>\n",
       "        <tr>\n",
       "            <td>0    </td> <td>12.08  </td> <td>1.13      </td> <td>2.51</td> <td>24               </td> <td>78       </td> <td>2            </td> <td>1.58      </td> <td>0.4                 </td> <td>1.4            </td> <td>2.2            </td> <td>1.31 </td> <td>2.72                        </td> <td>630    </td>\n",
       "        </tr>\n",
       "    </tbody>\n",
       "        <tr>\n",
       "            <td>0    </td> <td>13.05  </td> <td>3.86      </td> <td>2.32</td> <td>22.5             </td> <td>85       </td> <td>1.65         </td> <td>1.59      </td> <td>0.61                </td> <td>1.62           </td> <td>4.8            </td> <td>0.84 </td> <td>2.01                        </td> <td>515    </td>\n",
       "        </tr>\n",
       "    </tbody>\n",
       "        <tr>\n",
       "            <td>0    </td> <td>11.84  </td> <td>0.89      </td> <td>2.58</td> <td>18               </td> <td>94       </td> <td>2.2          </td> <td>2.21      </td> <td>0.22                </td> <td>2.35           </td> <td>3.05           </td> <td>0.79 </td> <td>3.08                        </td> <td>520    </td>\n",
       "        </tr>\n",
       "    </tbody>\n",
       "        <tr>\n",
       "            <td>0    </td> <td>12.67  </td> <td>0.98      </td> <td>2.24</td> <td>18               </td> <td>99       </td> <td>2.2          </td> <td>1.94      </td> <td>0.3                 </td> <td>1.46           </td> <td>2.62           </td> <td>1.23 </td> <td>3.16                        </td> <td>450    </td>\n",
       "        </tr>\n",
       "    </tbody>\n",
       "        <tr>\n",
       "            <td>0    </td> <td>12.16  </td> <td>1.61      </td> <td>2.31</td> <td>22.8             </td> <td>90       </td> <td>1.78         </td> <td>1.69      </td> <td>0.43                </td> <td>1.56           </td> <td>2.45           </td> <td>1.33 </td> <td>2.26                        </td> <td>495    </td>\n",
       "        </tr>\n",
       "    </tbody>\n",
       "        <tr>\n",
       "            <td>0    </td> <td>11.65  </td> <td>1.67      </td> <td>2.62</td> <td>26               </td> <td>88       </td> <td>1.92         </td> <td>1.61      </td> <td>0.4                 </td> <td>1.34           </td> <td>2.6            </td> <td>1.36 </td> <td>3.21                        </td> <td>562    </td>\n",
       "        </tr>\n",
       "    </tbody>\n",
       "        <tr>\n",
       "            <td>0    </td> <td>11.64  </td> <td>2.06      </td> <td>2.46</td> <td>21.6             </td> <td>84       </td> <td>1.95         </td> <td>1.69      </td> <td>0.48                </td> <td>1.35           </td> <td>2.8            </td> <td>1    </td> <td>2.75                        </td> <td>680    </td>\n",
       "        </tr>\n",
       "    </tbody>\n",
       "        <tr>\n",
       "            <td>0    </td> <td>12.08  </td> <td>1.33      </td> <td>2.3 </td> <td>23.6             </td> <td>70       </td> <td>2.2          </td> <td>1.59      </td> <td>0.42                </td> <td>1.38           </td> <td>1.74           </td> <td>1.07 </td> <td>3.21                        </td> <td>625    </td>\n",
       "        </tr>\n",
       "    </tbody>\n",
       "        <tr>\n",
       "            <td>0    </td> <td>12.08  </td> <td>1.83      </td> <td>2.32</td> <td>18.5             </td> <td>81       </td> <td>1.6          </td> <td>1.5       </td> <td>0.52                </td> <td>1.64           </td> <td>2.4            </td> <td>1.08 </td> <td>2.27                        </td> <td>480    </td>\n",
       "        </tr>\n",
       "    </tbody>\n",
       "        <tr>\n",
       "            <td>0    </td> <td>12     </td> <td>1.51      </td> <td>2.42</td> <td>22               </td> <td>86       </td> <td>1.45         </td> <td>1.25      </td> <td>0.5                 </td> <td>1.63           </td> <td>3.6            </td> <td>1.05 </td> <td>2.65                        </td> <td>450    </td>\n",
       "        </tr>\n",
       "    </tbody>\n",
       "        <tr>\n",
       "            <td>0    </td> <td>12.69  </td> <td>1.53      </td> <td>2.26</td> <td>20.7             </td> <td>80       </td> <td>1.38         </td> <td>1.46      </td> <td>0.58                </td> <td>1.62           </td> <td>3.05           </td> <td>0.96 </td> <td>2.06                        </td> <td>495    </td>\n",
       "        </tr>\n",
       "    </tbody>\n",
       "        <tr>\n",
       "            <td>0    </td> <td>12.29  </td> <td>2.83      </td> <td>2.22</td> <td>18               </td> <td>88       </td> <td>2.45         </td> <td>2.25      </td> <td>0.25                </td> <td>1.99           </td> <td>2.15           </td> <td>1.15 </td> <td>3.3                         </td> <td>290    </td>\n",
       "        </tr>\n",
       "    </tbody>\n",
       "        <tr>\n",
       "            <td>0    </td> <td>11.62  </td> <td>1.99      </td> <td>2.28</td> <td>18               </td> <td>98       </td> <td>3.02         </td> <td>2.26      </td> <td>0.17                </td> <td>1.35           </td> <td>3.25           </td> <td>1.16 </td> <td>2.96                        </td> <td>345    </td>\n",
       "        </tr>\n",
       "    </tbody>\n",
       "        <tr>\n",
       "            <td>0    </td> <td>12.47  </td> <td>1.52      </td> <td>2.2 </td> <td>19               </td> <td>162      </td> <td>2.5          </td> <td>2.27      </td> <td>0.32                </td> <td>3.28           </td> <td>2.6            </td> <td>1.16 </td> <td>2.63                        </td> <td>937    </td>\n",
       "        </tr>\n",
       "    </tbody>\n",
       "        <tr>\n",
       "            <td>0    </td> <td>11.81  </td> <td>2.12      </td> <td>2.74</td> <td>21.5             </td> <td>134      </td> <td>1.6          </td> <td>0.99      </td> <td>0.14                </td> <td>1.56           </td> <td>2.5            </td> <td>0.95 </td> <td>2.26                        </td> <td>625    </td>\n",
       "        </tr>\n",
       "    </tbody>\n",
       "        <tr>\n",
       "            <td>0    </td> <td>12.29  </td> <td>1.41      </td> <td>1.98</td> <td>16               </td> <td>85       </td> <td>2.55         </td> <td>2.5       </td> <td>0.29                </td> <td>1.77           </td> <td>2.9            </td> <td>1.23 </td> <td>2.74                        </td> <td>428    </td>\n",
       "        </tr>\n",
       "    </tbody>\n",
       "        <tr>\n",
       "            <td>0    </td> <td>12.37  </td> <td>1.07      </td> <td>2.1 </td> <td>18.5             </td> <td>88       </td> <td>3.52         </td> <td>3.75      </td> <td>0.24                </td> <td>1.95           </td> <td>4.5            </td> <td>1.04 </td> <td>2.77                        </td> <td>660    </td>\n",
       "        </tr>\n",
       "    </tbody>\n",
       "        <tr>\n",
       "            <td>0    </td> <td>12.29  </td> <td>3.17      </td> <td>2.21</td> <td>18               </td> <td>88       </td> <td>2.85         </td> <td>2.99      </td> <td>0.45                </td> <td>2.81           </td> <td>2.3            </td> <td>1.42 </td> <td>2.83                        </td> <td>406    </td>\n",
       "        </tr>\n",
       "    </tbody>\n",
       "        <tr>\n",
       "            <td>0    </td> <td>12.08  </td> <td>2.08      </td> <td>1.7 </td> <td>17.5             </td> <td>97       </td> <td>2.23         </td> <td>2.17      </td> <td>0.26                </td> <td>1.4            </td> <td>3.3            </td> <td>1.27 </td> <td>2.96                        </td> <td>710    </td>\n",
       "        </tr>\n",
       "    </tbody>\n",
       "        <tr>\n",
       "            <td>0    </td> <td>12.6   </td> <td>1.34      </td> <td>1.9 </td> <td>18.5             </td> <td>88       </td> <td>1.45         </td> <td>1.36      </td> <td>0.29                </td> <td>1.35           </td> <td>2.45           </td> <td>1.04 </td> <td>2.77                        </td> <td>562    </td>\n",
       "        </tr>\n",
       "    </tbody>\n",
       "        <tr>\n",
       "            <td>0    </td> <td>12.34  </td> <td>2.45      </td> <td>2.46</td> <td>21               </td> <td>98       </td> <td>2.56         </td> <td>2.11      </td> <td>0.34                </td> <td>1.31           </td> <td>2.8            </td> <td>0.8  </td> <td>3.38                        </td> <td>438    </td>\n",
       "        </tr>\n",
       "    </tbody>\n",
       "        <tr>\n",
       "            <td>0    </td> <td>11.82  </td> <td>1.72      </td> <td>1.88</td> <td>19.5             </td> <td>86       </td> <td>2.5          </td> <td>1.64      </td> <td>0.37                </td> <td>1.42           </td> <td>2.06           </td> <td>0.94 </td> <td>2.44                        </td> <td>415    </td>\n",
       "        </tr>\n",
       "    </tbody>\n",
       "        <tr>\n",
       "            <td>0    </td> <td>12.51  </td> <td>1.73      </td> <td>1.98</td> <td>20.5             </td> <td>85       </td> <td>2.2          </td> <td>1.92      </td> <td>0.32                </td> <td>1.48           </td> <td>2.94           </td> <td>1.04 </td> <td>3.57                        </td> <td>672    </td>\n",
       "        </tr>\n",
       "    </tbody>\n",
       "        <tr>\n",
       "            <td>0    </td> <td>12.42  </td> <td>2.55      </td> <td>2.27</td> <td>22               </td> <td>90       </td> <td>1.68         </td> <td>1.84      </td> <td>0.66                </td> <td>1.42           </td> <td>2.7            </td> <td>0.86 </td> <td>3.3                         </td> <td>315    </td>\n",
       "        </tr>\n",
       "    </tbody>\n",
       "        <tr>\n",
       "            <td>0    </td> <td>12.25  </td> <td>1.73      </td> <td>2.12</td> <td>19               </td> <td>80       </td> <td>1.65         </td> <td>2.03      </td> <td>0.37                </td> <td>1.63           </td> <td>3.4            </td> <td>1    </td> <td>3.17                        </td> <td>510    </td>\n",
       "        </tr>\n",
       "    </tbody>\n",
       "        <tr>\n",
       "            <td>0    </td> <td>12.72  </td> <td>1.75      </td> <td>2.28</td> <td>22.5             </td> <td>84       </td> <td>1.38         </td> <td>1.76      </td> <td>0.48                </td> <td>1.63           </td> <td>3.3            </td> <td>0.88 </td> <td>2.42                        </td> <td>488    </td>\n",
       "        </tr>\n",
       "    </tbody>\n",
       "        <tr>\n",
       "            <td>0    </td> <td>12.22  </td> <td>1.29      </td> <td>1.94</td> <td>19               </td> <td>92       </td> <td>2.36         </td> <td>2.04      </td> <td>0.39                </td> <td>2.08           </td> <td>2.7            </td> <td>0.86 </td> <td>3.02                        </td> <td>312    </td>\n",
       "        </tr>\n",
       "    </tbody>\n",
       "        <tr>\n",
       "            <td>0    </td> <td>11.61  </td> <td>1.35      </td> <td>2.7 </td> <td>20               </td> <td>94       </td> <td>2.74         </td> <td>2.92      </td> <td>0.29                </td> <td>2.49           </td> <td>2.65           </td> <td>0.96 </td> <td>3.26                        </td> <td>680    </td>\n",
       "        </tr>\n",
       "    </tbody>\n",
       "        <tr>\n",
       "            <td>0    </td> <td>11.46  </td> <td>3.74      </td> <td>1.82</td> <td>19.5             </td> <td>107      </td> <td>3.18         </td> <td>2.58      </td> <td>0.24                </td> <td>3.58           </td> <td>2.9            </td> <td>0.75 </td> <td>2.81                        </td> <td>562    </td>\n",
       "        </tr>\n",
       "    </tbody>\n",
       "        <tr>\n",
       "            <td>0    </td> <td>12.52  </td> <td>2.43      </td> <td>2.17</td> <td>21               </td> <td>88       </td> <td>2.55         </td> <td>2.27      </td> <td>0.26                </td> <td>1.22           </td> <td>2              </td> <td>0.9  </td> <td>2.78                        </td> <td>325    </td>\n",
       "        </tr>\n",
       "    </tbody>\n",
       "        <tr>\n",
       "            <td>0    </td> <td>11.76  </td> <td>2.68      </td> <td>2.92</td> <td>20               </td> <td>103      </td> <td>1.75         </td> <td>2.03      </td> <td>0.6                 </td> <td>1.05           </td> <td>3.8            </td> <td>1.23 </td> <td>2.5                         </td> <td>607    </td>\n",
       "        </tr>\n",
       "    </tbody>\n",
       "        <tr>\n",
       "            <td>0    </td> <td>11.41  </td> <td>0.74      </td> <td>2.5 </td> <td>21               </td> <td>88       </td> <td>2.48         </td> <td>2.01      </td> <td>0.42                </td> <td>1.44           </td> <td>3.08           </td> <td>1.1  </td> <td>2.31                        </td> <td>434    </td>\n",
       "        </tr>\n",
       "    </tbody>\n",
       "        <tr>\n",
       "            <td>0    </td> <td>12.08  </td> <td>1.39      </td> <td>2.5 </td> <td>22.5             </td> <td>84       </td> <td>2.56         </td> <td>2.29      </td> <td>0.43                </td> <td>1.04           </td> <td>2.9            </td> <td>0.93 </td> <td>3.19                        </td> <td>385    </td>\n",
       "        </tr>\n",
       "    </tbody>\n",
       "        <tr>\n",
       "            <td>0    </td> <td>11.03  </td> <td>1.51      </td> <td>2.2 </td> <td>21.5             </td> <td>85       </td> <td>2.46         </td> <td>2.17      </td> <td>0.52                </td> <td>2.01           </td> <td>1.9            </td> <td>1.71 </td> <td>2.87                        </td> <td>407    </td>\n",
       "        </tr>\n",
       "    </tbody>\n",
       "        <tr>\n",
       "            <td>0    </td> <td>11.82  </td> <td>1.47      </td> <td>1.99</td> <td>20.8             </td> <td>86       </td> <td>1.98         </td> <td>1.6       </td> <td>0.3                 </td> <td>1.53           </td> <td>1.95           </td> <td>0.95 </td> <td>3.33                        </td> <td>495    </td>\n",
       "        </tr>\n",
       "    </tbody>\n",
       "        <tr>\n",
       "            <td>0    </td> <td>12.42  </td> <td>1.61      </td> <td>2.19</td> <td>22.5             </td> <td>108      </td> <td>2            </td> <td>2.09      </td> <td>0.34                </td> <td>1.61           </td> <td>2.06           </td> <td>1.06 </td> <td>2.96                        </td> <td>345    </td>\n",
       "        </tr>\n",
       "    </tbody>\n",
       "        <tr>\n",
       "            <td>0    </td> <td>12.77  </td> <td>3.43      </td> <td>1.98</td> <td>16               </td> <td>80       </td> <td>1.63         </td> <td>1.25      </td> <td>0.43                </td> <td>0.83           </td> <td>3.4            </td> <td>0.7  </td> <td>2.12                        </td> <td>372    </td>\n",
       "        </tr>\n",
       "    </tbody>\n",
       "        <tr>\n",
       "            <td>0    </td> <td>12     </td> <td>3.43      </td> <td>2   </td> <td>19               </td> <td>87       </td> <td>2            </td> <td>1.64      </td> <td>0.37                </td> <td>1.87           </td> <td>1.28           </td> <td>0.93 </td> <td>3.05                        </td> <td>564    </td>\n",
       "        </tr>\n",
       "    </tbody>\n",
       "        <tr>\n",
       "            <td>0    </td> <td>11.45  </td> <td>2.4       </td> <td>2.42</td> <td>20               </td> <td>96       </td> <td>2.9          </td> <td>2.79      </td> <td>0.32                </td> <td>1.83           </td> <td>3.25           </td> <td>0.8  </td> <td>3.39                        </td> <td>625    </td>\n",
       "        </tr>\n",
       "    </tbody>\n",
       "        <tr>\n",
       "            <td>0    </td> <td>11.56  </td> <td>2.05      </td> <td>3.23</td> <td>28.5             </td> <td>119      </td> <td>3.18         </td> <td>5.08      </td> <td>0.47                </td> <td>1.87           </td> <td>6              </td> <td>0.93 </td> <td>3.69                        </td> <td>465    </td>\n",
       "        </tr>\n",
       "    </tbody>\n",
       "        <tr>\n",
       "            <td>0    </td> <td>12.42  </td> <td>4.43      </td> <td>2.73</td> <td>26.5             </td> <td>102      </td> <td>2.2          </td> <td>2.13      </td> <td>0.43                </td> <td>1.71           </td> <td>2.08           </td> <td>0.92 </td> <td>3.12                        </td> <td>365    </td>\n",
       "        </tr>\n",
       "    </tbody>\n",
       "        <tr>\n",
       "            <td>0    </td> <td>13.05  </td> <td>5.8       </td> <td>2.13</td> <td>21.5             </td> <td>86       </td> <td>2.62         </td> <td>2.65      </td> <td>0.3                 </td> <td>2.01           </td> <td>2.6            </td> <td>0.73 </td> <td>3.1                         </td> <td>380    </td>\n",
       "        </tr>\n",
       "    </tbody>\n",
       "        <tr>\n",
       "            <td>0    </td> <td>11.87  </td> <td>4.31      </td> <td>2.39</td> <td>21               </td> <td>82       </td> <td>2.86         </td> <td>3.03      </td> <td>0.21                </td> <td>2.91           </td> <td>2.8            </td> <td>0.75 </td> <td>3.64                        </td> <td>380    </td>\n",
       "        </tr>\n",
       "    </tbody>\n",
       "        <tr>\n",
       "            <td>0    </td> <td>12.07  </td> <td>2.16      </td> <td>2.17</td> <td>21               </td> <td>85       </td> <td>2.6          </td> <td>2.65      </td> <td>0.37                </td> <td>1.35           </td> <td>2.76           </td> <td>0.86 </td> <td>3.28                        </td> <td>378    </td>\n",
       "        </tr>\n",
       "    </tbody>\n",
       "        <tr>\n",
       "            <td>0    </td> <td>12.43  </td> <td>1.53      </td> <td>2.29</td> <td>21.5             </td> <td>86       </td> <td>2.74         </td> <td>3.15      </td> <td>0.39                </td> <td>1.77           </td> <td>3.94           </td> <td>0.69 </td> <td>2.84                        </td> <td>352    </td>\n",
       "        </tr>\n",
       "    </tbody>\n",
       "        <tr>\n",
       "            <td>0    </td> <td>11.79  </td> <td>2.13      </td> <td>2.78</td> <td>28.5             </td> <td>92       </td> <td>2.13         </td> <td>2.24      </td> <td>0.58                </td> <td>1.76           </td> <td>3              </td> <td>0.97 </td> <td>2.44                        </td> <td>466    </td>\n",
       "        </tr>\n",
       "    </tbody>\n",
       "        <tr>\n",
       "            <td>0    </td> <td>12.37  </td> <td>1.63      </td> <td>2.3 </td> <td>24.5             </td> <td>88       </td> <td>2.22         </td> <td>2.45      </td> <td>0.4                 </td> <td>1.9            </td> <td>2.12           </td> <td>0.89 </td> <td>2.78                        </td> <td>342    </td>\n",
       "        </tr>\n",
       "    </tbody>\n",
       "        <tr>\n",
       "            <td>0    </td> <td>12.04  </td> <td>4.3       </td> <td>2.38</td> <td>22               </td> <td>80       </td> <td>2.1          </td> <td>1.75      </td> <td>0.42                </td> <td>1.35           </td> <td>2.6            </td> <td>0.79 </td> <td>2.57                        </td> <td>580    </td>\n",
       "        </tr>\n",
       "    </tbody>\n",
       "        <tr>\n",
       "            <td>0    </td> <td>12.86  </td> <td>1.35      </td> <td>2.32</td> <td>18               </td> <td>122      </td> <td>1.51         </td> <td>1.25      </td> <td>0.21                </td> <td>0.94           </td> <td>4.1            </td> <td>0.76 </td> <td>1.29                        </td> <td>630    </td>\n",
       "        </tr>\n",
       "    </tbody>\n",
       "        <tr>\n",
       "            <td>0    </td> <td>12.88  </td> <td>2.99      </td> <td>2.4 </td> <td>20               </td> <td>104      </td> <td>1.3          </td> <td>1.22      </td> <td>0.24                </td> <td>0.83           </td> <td>5.4            </td> <td>0.74 </td> <td>1.42                        </td> <td>530    </td>\n",
       "        </tr>\n",
       "    </tbody>\n",
       "        <tr>\n",
       "            <td>0    </td> <td>12.81  </td> <td>2.31      </td> <td>2.4 </td> <td>24               </td> <td>98       </td> <td>1.15         </td> <td>1.09      </td> <td>0.27                </td> <td>0.83           </td> <td>5.7            </td> <td>0.66 </td> <td>1.36                        </td> <td>560    </td>\n",
       "        </tr>\n",
       "    </tbody>\n",
       "        <tr>\n",
       "            <td>0    </td> <td>12.7   </td> <td>3.55      </td> <td>2.36</td> <td>21.5             </td> <td>106      </td> <td>1.7          </td> <td>1.2       </td> <td>0.17                </td> <td>0.84           </td> <td>5              </td> <td>0.78 </td> <td>1.29                        </td> <td>600    </td>\n",
       "        </tr>\n",
       "    </tbody>\n",
       "        <tr>\n",
       "            <td>0    </td> <td>12.51  </td> <td>1.24      </td> <td>2.25</td> <td>17.5             </td> <td>85       </td> <td>2            </td> <td>0.58      </td> <td>0.6                 </td> <td>1.25           </td> <td>5.45           </td> <td>0.75 </td> <td>1.51                        </td> <td>650    </td>\n",
       "        </tr>\n",
       "    </tbody>\n",
       "        <tr>\n",
       "            <td>0    </td> <td>12.6   </td> <td>2.46      </td> <td>2.2 </td> <td>18.5             </td> <td>94       </td> <td>1.62         </td> <td>0.66      </td> <td>0.63                </td> <td>0.94           </td> <td>7.1            </td> <td>0.73 </td> <td>1.58                        </td> <td>695    </td>\n",
       "        </tr>\n",
       "    </tbody>\n",
       "        <tr>\n",
       "            <td>0    </td> <td>12.25  </td> <td>4.72      </td> <td>2.54</td> <td>21               </td> <td>89       </td> <td>1.38         </td> <td>0.47      </td> <td>0.53                </td> <td>0.8            </td> <td>3.85           </td> <td>0.75 </td> <td>1.27                        </td> <td>720    </td>\n",
       "        </tr>\n",
       "    </tbody>\n",
       "        <tr>\n",
       "            <td>0    </td> <td>12.53  </td> <td>5.51      </td> <td>2.64</td> <td>25               </td> <td>96       </td> <td>1.79         </td> <td>0.6       </td> <td>0.63                </td> <td>1.1            </td> <td>5              </td> <td>0.82 </td> <td>1.69                        </td> <td>515    </td>\n",
       "        </tr>\n",
       "    </tbody>\n",
       "        <tr>\n",
       "            <td>0    </td> <td>13.49  </td> <td>3.59      </td> <td>2.19</td> <td>19.5             </td> <td>88       </td> <td>1.62         </td> <td>0.48      </td> <td>0.58                </td> <td>0.88           </td> <td>5.7            </td> <td>0.81 </td> <td>1.82                        </td> <td>580    </td>\n",
       "        </tr>\n",
       "    </tbody>\n",
       "        <tr>\n",
       "            <td>0    </td> <td>12.84  </td> <td>2.96      </td> <td>2.61</td> <td>24               </td> <td>101      </td> <td>2.32         </td> <td>0.6       </td> <td>0.53                </td> <td>0.81           </td> <td>4.92           </td> <td>0.89 </td> <td>2.15                        </td> <td>590    </td>\n",
       "        </tr>\n",
       "    </tbody>\n",
       "        <tr>\n",
       "            <td>0    </td> <td>12.93  </td> <td>2.81      </td> <td>2.7 </td> <td>21               </td> <td>96       </td> <td>1.54         </td> <td>0.5       </td> <td>0.53                </td> <td>0.75           </td> <td>4.6            </td> <td>0.77 </td> <td>2.31                        </td> <td>600    </td>\n",
       "        </tr>\n",
       "    </tbody>\n",
       "        <tr>\n",
       "            <td>0    </td> <td>13.36  </td> <td>2.56      </td> <td>2.35</td> <td>20               </td> <td>89       </td> <td>1.4          </td> <td>0.5       </td> <td>0.37                </td> <td>0.64           </td> <td>5.6            </td> <td>0.7  </td> <td>2.47                        </td> <td>780    </td>\n",
       "        </tr>\n",
       "    </tbody>\n",
       "        <tr>\n",
       "            <td>0    </td> <td>13.52  </td> <td>3.17      </td> <td>2.72</td> <td>23.5             </td> <td>97       </td> <td>1.55         </td> <td>0.52      </td> <td>0.5                 </td> <td>0.55           </td> <td>4.35           </td> <td>0.89 </td> <td>2.06                        </td> <td>520    </td>\n",
       "        </tr>\n",
       "    </tbody>\n",
       "        <tr>\n",
       "            <td>0    </td> <td>13.62  </td> <td>4.95      </td> <td>2.35</td> <td>20               </td> <td>92       </td> <td>2            </td> <td>0.8       </td> <td>0.47                </td> <td>1.02           </td> <td>4.4            </td> <td>0.91 </td> <td>2.05                        </td> <td>550    </td>\n",
       "        </tr>\n",
       "    </tbody>\n",
       "        <tr>\n",
       "            <td>0    </td> <td>12.25  </td> <td>3.88      </td> <td>2.2 </td> <td>18.5             </td> <td>112      </td> <td>1.38         </td> <td>0.78      </td> <td>0.29                </td> <td>1.14           </td> <td>8.21           </td> <td>0.65 </td> <td>2                           </td> <td>855    </td>\n",
       "        </tr>\n",
       "    </tbody>\n",
       "        <tr>\n",
       "            <td>0    </td> <td>13.16  </td> <td>3.57      </td> <td>2.15</td> <td>21               </td> <td>102      </td> <td>1.5          </td> <td>0.55      </td> <td>0.43                </td> <td>1.3            </td> <td>4              </td> <td>0.6  </td> <td>1.68                        </td> <td>830    </td>\n",
       "        </tr>\n",
       "    </tbody>\n",
       "        <tr>\n",
       "            <td>0    </td> <td>13.88  </td> <td>5.04      </td> <td>2.23</td> <td>20               </td> <td>80       </td> <td>0.98         </td> <td>0.34      </td> <td>0.4                 </td> <td>0.68           </td> <td>4.9            </td> <td>0.58 </td> <td>1.33                        </td> <td>415    </td>\n",
       "        </tr>\n",
       "    </tbody>\n",
       "        <tr>\n",
       "            <td>0    </td> <td>12.87  </td> <td>4.61      </td> <td>2.48</td> <td>21.5             </td> <td>86       </td> <td>1.7          </td> <td>0.65      </td> <td>0.47                </td> <td>0.86           </td> <td>7.65           </td> <td>0.54 </td> <td>1.86                        </td> <td>625    </td>\n",
       "        </tr>\n",
       "    </tbody>\n",
       "        <tr>\n",
       "            <td>0    </td> <td>13.32  </td> <td>3.24      </td> <td>2.38</td> <td>21.5             </td> <td>92       </td> <td>1.93         </td> <td>0.76      </td> <td>0.45                </td> <td>1.25           </td> <td>8.42           </td> <td>0.55 </td> <td>1.62                        </td> <td>650    </td>\n",
       "        </tr>\n",
       "    </tbody>\n",
       "        <tr>\n",
       "            <td>0    </td> <td>13.08  </td> <td>3.9       </td> <td>2.36</td> <td>21.5             </td> <td>113      </td> <td>1.41         </td> <td>1.39      </td> <td>0.34                </td> <td>1.14           </td> <td>9.4            </td> <td>0.57 </td> <td>1.33                        </td> <td>550    </td>\n",
       "        </tr>\n",
       "    </tbody>\n",
       "        <tr>\n",
       "            <td>0    </td> <td>13.5   </td> <td>3.12      </td> <td>2.62</td> <td>24               </td> <td>123      </td> <td>1.4          </td> <td>1.57      </td> <td>0.22                </td> <td>1.25           </td> <td>8.6            </td> <td>0.59 </td> <td>1.3                         </td> <td>500    </td>\n",
       "        </tr>\n",
       "    </tbody>\n",
       "        <tr>\n",
       "            <td>0    </td> <td>12.79  </td> <td>2.67      </td> <td>2.48</td> <td>22               </td> <td>112      </td> <td>1.48         </td> <td>1.36      </td> <td>0.24                </td> <td>1.26           </td> <td>10.8           </td> <td>0.48 </td> <td>1.47                        </td> <td>480    </td>\n",
       "        </tr>\n",
       "    </tbody>\n",
       "        <tr>\n",
       "            <td>0    </td> <td>13.11  </td> <td>1.9       </td> <td>2.75</td> <td>25.5             </td> <td>116      </td> <td>2.2          </td> <td>1.28      </td> <td>0.26                </td> <td>1.56           </td> <td>7.1            </td> <td>0.61 </td> <td>1.33                        </td> <td>425    </td>\n",
       "        </tr>\n",
       "    </tbody>\n",
       "        <tr>\n",
       "            <td>0    </td> <td>13.23  </td> <td>3.3       </td> <td>2.28</td> <td>18.5             </td> <td>98       </td> <td>1.8          </td> <td>0.83      </td> <td>0.61                </td> <td>1.87           </td> <td>10.52          </td> <td>0.56 </td> <td>1.51                        </td> <td>675    </td>\n",
       "        </tr>\n",
       "    </tbody>\n",
       "        <tr>\n",
       "            <td>0    </td> <td>12.58  </td> <td>1.29      </td> <td>2.1 </td> <td>20               </td> <td>103      </td> <td>1.48         </td> <td>0.58      </td> <td>0.53                </td> <td>1.4            </td> <td>7.6            </td> <td>0.58 </td> <td>1.55                        </td> <td>640    </td>\n",
       "        </tr>\n",
       "    </tbody>\n",
       "        <tr>\n",
       "            <td>0    </td> <td>13.17  </td> <td>5.19      </td> <td>2.32</td> <td>22               </td> <td>93       </td> <td>1.74         </td> <td>0.63      </td> <td>0.61                </td> <td>1.55           </td> <td>7.9            </td> <td>0.6  </td> <td>1.48                        </td> <td>725    </td>\n",
       "        </tr>\n",
       "    </tbody>\n",
       "        <tr>\n",
       "            <td>0    </td> <td>13.84  </td> <td>4.12      </td> <td>2.38</td> <td>19.5             </td> <td>89       </td> <td>1.8          </td> <td>0.83      </td> <td>0.48                </td> <td>1.56           </td> <td>9.01           </td> <td>0.57 </td> <td>1.64                        </td> <td>480    </td>\n",
       "        </tr>\n",
       "    </tbody>\n",
       "        <tr>\n",
       "            <td>0    </td> <td>12.45  </td> <td>3.03      </td> <td>2.64</td> <td>27               </td> <td>97       </td> <td>1.9          </td> <td>0.58      </td> <td>0.63                </td> <td>1.14           </td> <td>7.5            </td> <td>0.67 </td> <td>1.73                        </td> <td>880    </td>\n",
       "        </tr>\n",
       "    </tbody>\n",
       "        <tr>\n",
       "            <td>0    </td> <td>14.34  </td> <td>1.68      </td> <td>2.7 </td> <td>25               </td> <td>98       </td> <td>2.8          </td> <td>1.31      </td> <td>0.53                </td> <td>2.7            </td> <td>13             </td> <td>0.57 </td> <td>1.96                        </td> <td>660    </td>\n",
       "        </tr>\n",
       "    </tbody>\n",
       "        <tr>\n",
       "            <td>0    </td> <td>13.48  </td> <td>1.67      </td> <td>2.64</td> <td>22.5             </td> <td>89       </td> <td>2.6          </td> <td>1.1       </td> <td>0.52                </td> <td>2.29           </td> <td>11.75          </td> <td>0.57 </td> <td>1.78                        </td> <td>620    </td>\n",
       "        </tr>\n",
       "    </tbody>\n",
       "        <tr>\n",
       "            <td>0    </td> <td>12.36  </td> <td>3.83      </td> <td>2.38</td> <td>21               </td> <td>88       </td> <td>2.3          </td> <td>0.92      </td> <td>0.5                 </td> <td>1.04           </td> <td>7.65           </td> <td>0.56 </td> <td>1.58                        </td> <td>520    </td>\n",
       "        </tr>\n",
       "    </tbody>\n",
       "        <tr>\n",
       "            <td>0    </td> <td>13.69  </td> <td>3.26      </td> <td>2.54</td> <td>20               </td> <td>107      </td> <td>1.83         </td> <td>0.56      </td> <td>0.5                 </td> <td>0.8            </td> <td>5.88           </td> <td>0.96 </td> <td>1.82                        </td> <td>680    </td>\n",
       "        </tr>\n",
       "    </tbody>\n",
       "        <tr>\n",
       "            <td>0    </td> <td>12.85  </td> <td>3.27      </td> <td>2.58</td> <td>22               </td> <td>106      </td> <td>1.65         </td> <td>0.6       </td> <td>0.6                 </td> <td>0.96           </td> <td>5.58           </td> <td>0.87 </td> <td>2.11                        </td> <td>570    </td>\n",
       "        </tr>\n",
       "    </tbody>\n",
       "        <tr>\n",
       "            <td>0    </td> <td>12.96  </td> <td>3.45      </td> <td>2.35</td> <td>18.5             </td> <td>106      </td> <td>1.39         </td> <td>0.7       </td> <td>0.4                 </td> <td>0.94           </td> <td>5.28           </td> <td>0.68 </td> <td>1.75                        </td> <td>675    </td>\n",
       "        </tr>\n",
       "    </tbody>\n",
       "        <tr>\n",
       "            <td>0    </td> <td>13.78  </td> <td>2.76      </td> <td>2.3 </td> <td>22               </td> <td>90       </td> <td>1.35         </td> <td>0.68      </td> <td>0.41                </td> <td>1.03           </td> <td>9.58           </td> <td>0.7  </td> <td>1.68                        </td> <td>615    </td>\n",
       "        </tr>\n",
       "    </tbody>\n",
       "        <tr>\n",
       "            <td>0    </td> <td>13.73  </td> <td>4.36      </td> <td>2.26</td> <td>22.5             </td> <td>88       </td> <td>1.28         </td> <td>0.47      </td> <td>0.52                </td> <td>1.15           </td> <td>6.62           </td> <td>0.78 </td> <td>1.75                        </td> <td>520    </td>\n",
       "        </tr>\n",
       "    </tbody>\n",
       "        <tr>\n",
       "            <td>0    </td> <td>13.45  </td> <td>3.7       </td> <td>2.6 </td> <td>23               </td> <td>111      </td> <td>1.7          </td> <td>0.92      </td> <td>0.43                </td> <td>1.46           </td> <td>10.68          </td> <td>0.85 </td> <td>1.56                        </td> <td>695    </td>\n",
       "        </tr>\n",
       "    </tbody>\n",
       "        <tr>\n",
       "            <td>0    </td> <td>12.82  </td> <td>3.37      </td> <td>2.3 </td> <td>19.5             </td> <td>88       </td> <td>1.48         </td> <td>0.66      </td> <td>0.4                 </td> <td>0.97           </td> <td>10.26          </td> <td>0.72 </td> <td>1.75                        </td> <td>685    </td>\n",
       "        </tr>\n",
       "    </tbody>\n",
       "        <tr>\n",
       "            <td>0    </td> <td>13.58  </td> <td>2.58      </td> <td>2.69</td> <td>24.5             </td> <td>105      </td> <td>1.55         </td> <td>0.84      </td> <td>0.39                </td> <td>1.54           </td> <td>8.66           </td> <td>0.74 </td> <td>1.8                         </td> <td>750    </td>\n",
       "        </tr>\n",
       "    </tbody>\n",
       "        <tr>\n",
       "            <td>0    </td> <td>13.4   </td> <td>4.6       </td> <td>2.86</td> <td>25               </td> <td>112      </td> <td>1.98         </td> <td>0.96      </td> <td>0.27                </td> <td>1.11           </td> <td>8.5            </td> <td>0.67 </td> <td>1.92                        </td> <td>630    </td>\n",
       "        </tr>\n",
       "    </tbody>\n",
       "        <tr>\n",
       "            <td>0    </td> <td>12.2   </td> <td>3.03      </td> <td>2.32</td> <td>19               </td> <td>96       </td> <td>1.25         </td> <td>0.49      </td> <td>0.4                 </td> <td>0.73           </td> <td>5.5            </td> <td>0.66 </td> <td>1.83                        </td> <td>510    </td>\n",
       "        </tr>\n",
       "    </tbody>\n",
       "        <tr>\n",
       "            <td>0    </td> <td>12.77  </td> <td>2.39      </td> <td>2.28</td> <td>19.5             </td> <td>86       </td> <td>1.39         </td> <td>0.51      </td> <td>0.48                </td> <td>0.64           </td> <td>9.9            </td> <td>0.57 </td> <td>1.63                        </td> <td>470    </td>\n",
       "        </tr>\n",
       "    </tbody>\n",
       "        <tr>\n",
       "            <td>0    </td> <td>14.16  </td> <td>2.51      </td> <td>2.48</td> <td>20               </td> <td>91       </td> <td>1.68         </td> <td>0.7       </td> <td>0.44                </td> <td>1.24           </td> <td>9.7            </td> <td>0.62 </td> <td>1.71                        </td> <td>660    </td>\n",
       "        </tr>\n",
       "    </tbody>\n",
       "        <tr>\n",
       "            <td>0    </td> <td>13.71  </td> <td>5.65      </td> <td>2.45</td> <td>20.5             </td> <td>95       </td> <td>1.68         </td> <td>0.61      </td> <td>0.52                </td> <td>1.06           </td> <td>7.7            </td> <td>0.64 </td> <td>1.74                        </td> <td>740    </td>\n",
       "        </tr>\n",
       "    </tbody>\n",
       "        <tr>\n",
       "            <td>0    </td> <td>13.4   </td> <td>3.91      </td> <td>2.48</td> <td>23               </td> <td>102      </td> <td>1.8          </td> <td>0.75      </td> <td>0.43                </td> <td>1.41           </td> <td>7.3            </td> <td>0.7  </td> <td>1.56                        </td> <td>750    </td>\n",
       "        </tr>\n",
       "    </tbody>\n",
       "        <tr>\n",
       "            <td>0    </td> <td>13.27  </td> <td>4.28      </td> <td>2.26</td> <td>20               </td> <td>120      </td> <td>1.59         </td> <td>0.69      </td> <td>0.43                </td> <td>1.35           </td> <td>10.2           </td> <td>0.59 </td> <td>1.56                        </td> <td>835    </td>\n",
       "        </tr>\n",
       "    </tbody>\n",
       "        <tr>\n",
       "            <td>0    </td> <td>13.17  </td> <td>2.59      </td> <td>2.37</td> <td>20               </td> <td>120      </td> <td>1.65         </td> <td>0.68      </td> <td>0.53                </td> <td>1.46           </td> <td>9.3            </td> <td>0.6  </td> <td>1.62                        </td> <td>840    </td>\n",
       "        </tr>\n",
       "    </tbody>\n",
       "        <tr>\n",
       "            <td>0    </td> <td>14.13  </td> <td>4.1       </td> <td>2.74</td> <td>24.5             </td> <td>96       </td> <td>2.05         </td> <td>0.76      </td> <td>0.56                </td> <td>1.35           </td> <td>9.2            </td> <td>0.61 </td> <td>1.6                         </td> <td>560    </td>\n",
       "        </tr>\n",
       "    </tbody>\n",
       "</table>"
      ],
      "text/plain": [
       "<IPython.core.display.HTML object>"
      ]
     },
     "metadata": {},
     "output_type": "display_data"
    }
   ],
   "source": [
    "wine1.show()"
   ]
  },
  {
   "cell_type": "code",
   "execution_count": 33,
   "metadata": {
    "collapsed": false,
    "deletable": true,
    "editable": true
   },
   "outputs": [],
   "source": [
    "shuffled_wine = wine1.sample(with_replacement=False) \n",
    "trainset = shuffled_wine.take(np.arange(90))\n",
    "testset  = shuffled_wine.take(np.arange(91, 178))"
   ]
  },
  {
   "cell_type": "code",
   "execution_count": 34,
   "metadata": {
    "collapsed": false,
    "deletable": true,
    "editable": true
   },
   "outputs": [
    {
     "data": {
      "text/plain": [
       "0.9195402298850575"
      ]
     },
     "execution_count": 34,
     "metadata": {},
     "output_type": "execute_result"
    }
   ],
   "source": [
    "evaluate_accuracy2(trainset, testset, 5)"
   ]
  },
  {
   "cell_type": "code",
   "execution_count": 51,
   "metadata": {
    "collapsed": false,
    "deletable": true,
    "editable": true
   },
   "outputs": [],
   "source": [
    "t_color = Table().with_columns(\n",
    "    'Class', make_array(0, 1),\n",
    "    'Color', make_array('darkblue', 'gold')\n",
    ")\n",
    "t_new = wine1.join('Class', t_color)"
   ]
  },
  {
   "cell_type": "code",
   "execution_count": 54,
   "metadata": {
    "collapsed": false,
    "deletable": true,
    "editable": true
   },
   "outputs": [
    {
     "data": {
      "image/png": "[encoded data removed]",
      "text/plain": [
       "<matplotlib.figure.Figure at 0x117e6b048>"
      ]
     },
     "metadata": {},
     "output_type": "display_data"
    }
   ],
   "source": [
    "t_new.scatter(7, 1, colors='Color')"
   ]
  },
  {
   "cell_type": "code",
   "execution_count": 35,
   "metadata": {
    "collapsed": false,
    "deletable": true,
    "editable": true
   },
   "outputs": [
    {
     "data": {
      "image/png": "[encoded data removed]",
      "text/plain": [
       "<matplotlib.figure.Figure at 0x1148c07f0>"
      ]
     },
     "metadata": {},
     "output_type": "display_data"
    }
   ],
   "source": [
    "wine1.scatter(7, 1, c=wine1.column('Class'))"
   ]
  },
  {
   "cell_type": "code",
   "execution_count": null,
   "metadata": {
    "collapsed": true,
    "deletable": true,
    "editable": true
   },
   "outputs": [],
   "source": []
  }
 ],
 "metadata": {
  "anaconda-cloud": {},
  "kernelspec": {
   "display_name": "Python 3",
   "language": "python",
   "name": "python3"
  },
  "language_info": {
   "codemirror_mode": {
    "name": "ipython",
    "version": 3
   },
   "file_extension": ".py",
   "mimetype": "text/x-python",
   "name": "python",
   "nbconvert_exporter": "python",
   "pygments_lexer": "ipython3",
   "version": "3.5.2"
  }
 },
 "nbformat": 4,
 "nbformat_minor": 0
}
