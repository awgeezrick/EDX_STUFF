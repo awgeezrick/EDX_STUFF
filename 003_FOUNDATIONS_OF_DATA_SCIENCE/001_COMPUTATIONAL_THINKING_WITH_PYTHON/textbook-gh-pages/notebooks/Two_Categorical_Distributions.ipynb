{
 "cells": [
  {
   "cell_type": "code",
   "execution_count": 158,
   "metadata": {
    "collapsed": true,
    "deletable": true,
    "editable": true
   },
   "outputs": [],
   "source": [
    "# HIDDEN\n",
    "import matplotlib\n",
    "from datascience import *\n",
    "%matplotlib inline\n",
    "import matplotlib.pyplot as plots\n",
    "from mpl_toolkits.mplot3d import Axes3D\n",
    "import numpy as np\n",
    "import math\n",
    "import scipy.stats as stats\n",
    "plots.style.use('fivethirtyeight')"
   ]
  },
  {
   "cell_type": "code",
   "execution_count": 159,
   "metadata": {
    "collapsed": true,
    "deletable": true,
    "editable": true
   },
   "outputs": [],
   "source": [
    "# HIDDEN\n",
    "\n",
    "def proportions(array):\n",
    "    return array/np.sum(array)"
   ]
  },
  {
   "cell_type": "markdown",
   "metadata": {
    "deletable": true,
    "editable": true
   },
   "source": [
    "### Two Categorical Distributions ###\n",
    "To see how two quantitative variables are related, you could use the correlation coefficient to measure linear association. But how should we decide whether two categorical variables are related? For example, how can we decide whether a attribute is related to an individual's class? It's an important question to answer, because if it's not related then you can leave it out of your classifier.\n",
    "\n",
    "In the breast cancer data, let's see if mitotic activity is related to the class. We have labeled the classes \"Cancer\" and \"Not Cancer\" for ease of reference later."
   ]
  },
  {
   "cell_type": "code",
   "execution_count": 160,
   "metadata": {
    "collapsed": true,
    "deletable": true,
    "editable": true
   },
   "outputs": [],
   "source": [
    "classes = Table().with_columns(\n",
    "    'Class', make_array(0, 1),\n",
    "    'Class Label', make_array('Not Cancer', 'Cancer')\n",
    ")\n",
    "patients = Table.read_table('breast-cancer.csv').drop('ID').join('Class', classes)\n",
    "patients = patients.drop('Class').relabel('Class Label', 'Class')"
   ]
  },
  {
   "cell_type": "code",
   "execution_count": 161,
   "metadata": {
    "collapsed": true,
    "deletable": true,
    "editable": true
   },
   "outputs": [],
   "source": [
    "mitoses = patients.select('Class', 'Mitoses')"
   ]
  },
  {
   "cell_type": "code",
   "execution_count": 162,
   "metadata": {
    "collapsed": false,
    "deletable": true,
    "editable": true
   },
   "outputs": [
    {
     "data": {
      "text/html": [
       "<table border=\"1\" class=\"dataframe\">\n",
       "    <thead>\n",
       "        <tr>\n",
       "            <th>Class</th> <th>Mitoses</th>\n",
       "        </tr>\n",
       "    </thead>\n",
       "    <tbody>\n",
       "        <tr>\n",
       "            <td>Not Cancer</td> <td>1      </td>\n",
       "        </tr>\n",
       "    </tbody>\n",
       "        <tr>\n",
       "            <td>Not Cancer</td> <td>1      </td>\n",
       "        </tr>\n",
       "    </tbody>\n",
       "        <tr>\n",
       "            <td>Not Cancer</td> <td>1      </td>\n",
       "        </tr>\n",
       "    </tbody>\n",
       "        <tr>\n",
       "            <td>Not Cancer</td> <td>1      </td>\n",
       "        </tr>\n",
       "    </tbody>\n",
       "        <tr>\n",
       "            <td>Not Cancer</td> <td>1      </td>\n",
       "        </tr>\n",
       "    </tbody>\n",
       "        <tr>\n",
       "            <td>Not Cancer</td> <td>1      </td>\n",
       "        </tr>\n",
       "    </tbody>\n",
       "        <tr>\n",
       "            <td>Not Cancer</td> <td>1      </td>\n",
       "        </tr>\n",
       "    </tbody>\n",
       "        <tr>\n",
       "            <td>Not Cancer</td> <td>5      </td>\n",
       "        </tr>\n",
       "    </tbody>\n",
       "        <tr>\n",
       "            <td>Not Cancer</td> <td>1      </td>\n",
       "        </tr>\n",
       "    </tbody>\n",
       "        <tr>\n",
       "            <td>Not Cancer</td> <td>1      </td>\n",
       "        </tr>\n",
       "    </tbody>\n",
       "</table>\n",
       "<p>... (673 rows omitted)</p"
      ],
      "text/plain": [
       "Class      | Mitoses\n",
       "Not Cancer | 1\n",
       "Not Cancer | 1\n",
       "Not Cancer | 1\n",
       "Not Cancer | 1\n",
       "Not Cancer | 1\n",
       "Not Cancer | 1\n",
       "Not Cancer | 1\n",
       "Not Cancer | 5\n",
       "Not Cancer | 1\n",
       "Not Cancer | 1\n",
       "... (673 rows omitted)"
      ]
     },
     "execution_count": 162,
     "metadata": {},
     "output_type": "execute_result"
    }
   ],
   "source": [
    "mitoses"
   ]
  },
  {
   "cell_type": "markdown",
   "metadata": {
    "deletable": true,
    "editable": true
   },
   "source": [
    "We can use `pivot` and `proportions` (defined in the previous section) to visualize the distribution of `Mitoses` in the two classes."
   ]
  },
  {
   "cell_type": "code",
   "execution_count": 163,
   "metadata": {
    "collapsed": false,
    "deletable": true,
    "editable": true
   },
   "outputs": [
    {
     "data": {
      "text/html": [
       "<table border=\"1\" class=\"dataframe\">\n",
       "    <thead>\n",
       "        <tr>\n",
       "            <th>Mitoses</th> <th>Cancer</th> <th>Not Cancer</th>\n",
       "        </tr>\n",
       "    </thead>\n",
       "    <tbody>\n",
       "        <tr>\n",
       "            <td>1      </td> <td>132   </td> <td>431       </td>\n",
       "        </tr>\n",
       "    </tbody>\n",
       "        <tr>\n",
       "            <td>2      </td> <td>27    </td> <td>8         </td>\n",
       "        </tr>\n",
       "    </tbody>\n",
       "        <tr>\n",
       "            <td>3      </td> <td>31    </td> <td>2         </td>\n",
       "        </tr>\n",
       "    </tbody>\n",
       "        <tr>\n",
       "            <td>4      </td> <td>12    </td> <td>0         </td>\n",
       "        </tr>\n",
       "    </tbody>\n",
       "        <tr>\n",
       "            <td>5      </td> <td>5     </td> <td>1         </td>\n",
       "        </tr>\n",
       "    </tbody>\n",
       "        <tr>\n",
       "            <td>6      </td> <td>3     </td> <td>0         </td>\n",
       "        </tr>\n",
       "    </tbody>\n",
       "        <tr>\n",
       "            <td>7      </td> <td>8     </td> <td>1         </td>\n",
       "        </tr>\n",
       "    </tbody>\n",
       "        <tr>\n",
       "            <td>8      </td> <td>7     </td> <td>1         </td>\n",
       "        </tr>\n",
       "    </tbody>\n",
       "        <tr>\n",
       "            <td>10     </td> <td>14    </td> <td>0         </td>\n",
       "        </tr>\n",
       "    </tbody>\n",
       "</table>"
      ],
      "text/plain": [
       "Mitoses | Cancer | Not Cancer\n",
       "1       | 132    | 431\n",
       "2       | 27     | 8\n",
       "3       | 31     | 2\n",
       "4       | 12     | 0\n",
       "5       | 5      | 1\n",
       "6       | 3      | 0\n",
       "7       | 8      | 1\n",
       "8       | 7      | 1\n",
       "10      | 14     | 0"
      ]
     },
     "execution_count": 163,
     "metadata": {},
     "output_type": "execute_result"
    }
   ],
   "source": [
    "counts = mitoses.pivot('Class', 'Mitoses')\n",
    "counts"
   ]
  },
  {
   "cell_type": "code",
   "execution_count": 164,
   "metadata": {
    "collapsed": false,
    "deletable": true,
    "editable": true
   },
   "outputs": [],
   "source": [
    "dists = counts.select(0).with_columns(\n",
    "    'Cancer', proportions(counts.column(1)),\n",
    "    'Not Cancer', proportions(counts.column(2))\n",
    "\n",
    ")"
   ]
  },
  {
   "cell_type": "code",
   "execution_count": 165,
   "metadata": {
    "collapsed": false,
    "deletable": true,
    "editable": true
   },
   "outputs": [
    {
     "data": {
      "image/png": "[encoded data removed]",
      "text/plain": [
       "<matplotlib.figure.Figure at 0x11b676f60>"
      ]
     },
     "metadata": {},
     "output_type": "display_data"
    }
   ],
   "source": [
    "dists.barh(0)"
   ]
  },
  {
   "cell_type": "markdown",
   "metadata": {
    "deletable": true,
    "editable": true
   },
   "source": [
    "The distribution of `Mitoses` for the 'Cancer' class has a long thin tail compared to the distribution for the 'Not Cancer' class which is overwhelmingly at the lowest rating. \n",
    "\n",
    "So it looks as though class and mitotic activity are related. But could this be just due to chance?\n",
    "\n",
    "To understand where chance comes in, remember that the data are like a random sample from a larger population – the population that contains the new individuals whom we might want to classify. It could be that in the population, class and mitosis were independent of each other, and just appear to be related in the sample due to chance."
   ]
  },
  {
   "cell_type": "markdown",
   "metadata": {
    "deletable": true,
    "editable": true
   },
   "source": [
    "### The Hypotheses ###\n",
    "Let's try to answer the question by performing a test of the following hypotheses.\n",
    "\n",
    "**Null Hypothesis.** In the population, class and mitosis ratings are independent of each other; in other words, the distribution of mitoses is the same for the two classes. The distributions are different in the sample only due to chance.\n",
    "\n",
    "**Alternative Hypothesis.** In the population, class and mitosis ratings are related.\n",
    "\n",
    "To see how to test this, let's look at the data again."
   ]
  },
  {
   "cell_type": "code",
   "execution_count": 166,
   "metadata": {
    "collapsed": false,
    "deletable": true,
    "editable": true
   },
   "outputs": [
    {
     "data": {
      "text/html": [
       "<table border=\"1\" class=\"dataframe\">\n",
       "    <thead>\n",
       "        <tr>\n",
       "            <th>Class</th> <th>Mitoses</th>\n",
       "        </tr>\n",
       "    </thead>\n",
       "    <tbody>\n",
       "        <tr>\n",
       "            <td>Not Cancer</td> <td>1      </td>\n",
       "        </tr>\n",
       "    </tbody>\n",
       "        <tr>\n",
       "            <td>Not Cancer</td> <td>1      </td>\n",
       "        </tr>\n",
       "    </tbody>\n",
       "        <tr>\n",
       "            <td>Not Cancer</td> <td>1      </td>\n",
       "        </tr>\n",
       "    </tbody>\n",
       "        <tr>\n",
       "            <td>Not Cancer</td> <td>1      </td>\n",
       "        </tr>\n",
       "    </tbody>\n",
       "        <tr>\n",
       "            <td>Not Cancer</td> <td>1      </td>\n",
       "        </tr>\n",
       "    </tbody>\n",
       "        <tr>\n",
       "            <td>Not Cancer</td> <td>1      </td>\n",
       "        </tr>\n",
       "    </tbody>\n",
       "        <tr>\n",
       "            <td>Not Cancer</td> <td>1      </td>\n",
       "        </tr>\n",
       "    </tbody>\n",
       "        <tr>\n",
       "            <td>Not Cancer</td> <td>5      </td>\n",
       "        </tr>\n",
       "    </tbody>\n",
       "        <tr>\n",
       "            <td>Not Cancer</td> <td>1      </td>\n",
       "        </tr>\n",
       "    </tbody>\n",
       "        <tr>\n",
       "            <td>Not Cancer</td> <td>1      </td>\n",
       "        </tr>\n",
       "    </tbody>\n",
       "</table>\n",
       "<p>... (673 rows omitted)</p"
      ],
      "text/plain": [
       "Class      | Mitoses\n",
       "Not Cancer | 1\n",
       "Not Cancer | 1\n",
       "Not Cancer | 1\n",
       "Not Cancer | 1\n",
       "Not Cancer | 1\n",
       "Not Cancer | 1\n",
       "Not Cancer | 1\n",
       "Not Cancer | 5\n",
       "Not Cancer | 1\n",
       "Not Cancer | 1\n",
       "... (673 rows omitted)"
      ]
     },
     "execution_count": 166,
     "metadata": {},
     "output_type": "execute_result"
    }
   ],
   "source": [
    "mitoses"
   ]
  },
  {
   "cell_type": "markdown",
   "metadata": {
    "deletable": true,
    "editable": true
   },
   "source": [
    "### Random Permutations ###\n",
    "\n",
    "If class and mitosis ratings are unrelated, then it doesn't matter in what order the `Mitoses` values appear – since they are not related to the values in `Class`, all rearrangements should be equally likely. This is the same as the approach that we took when analyzing the football Deflategate data.\n",
    "\n",
    "So let's shuffle all the `Mitoses` values into an array called `shuffled_mitoses`. You can see its first item below, but it contains 683 items because it is a permutation (that is, a rearrangement) of the entire `Mitoses` column."
   ]
  },
  {
   "cell_type": "code",
   "execution_count": 182,
   "metadata": {
    "collapsed": true,
    "deletable": true,
    "editable": true
   },
   "outputs": [],
   "source": [
    "shuffled_mitoses = mitoses.select('Mitoses').sample(with_replacement=False).column(0)"
   ]
  },
  {
   "cell_type": "code",
   "execution_count": 183,
   "metadata": {
    "collapsed": false,
    "deletable": true,
    "editable": true
   },
   "outputs": [
    {
     "data": {
      "text/plain": [
       "1"
      ]
     },
     "execution_count": 183,
     "metadata": {},
     "output_type": "execute_result"
    }
   ],
   "source": [
    "shuffled_mitoses.item(0)"
   ]
  },
  {
   "cell_type": "markdown",
   "metadata": {
    "deletable": true,
    "editable": true
   },
   "source": [
    "Let's augment the table `mitoses` with a column containing the shuffled values."
   ]
  },
  {
   "cell_type": "code",
   "execution_count": 184,
   "metadata": {
    "collapsed": true,
    "deletable": true,
    "editable": true
   },
   "outputs": [],
   "source": [
    "mitoses = mitoses.with_column('Shuffled Mitoses', shuffled_mitoses)"
   ]
  },
  {
   "cell_type": "code",
   "execution_count": 185,
   "metadata": {
    "collapsed": false,
    "deletable": true,
    "editable": true
   },
   "outputs": [
    {
     "data": {
      "text/html": [
       "<table border=\"1\" class=\"dataframe\">\n",
       "    <thead>\n",
       "        <tr>\n",
       "            <th>Class</th> <th>Mitoses</th> <th>Shuffled Mitoses</th>\n",
       "        </tr>\n",
       "    </thead>\n",
       "    <tbody>\n",
       "        <tr>\n",
       "            <td>Not Cancer</td> <td>1      </td> <td>1               </td>\n",
       "        </tr>\n",
       "    </tbody>\n",
       "        <tr>\n",
       "            <td>Not Cancer</td> <td>1      </td> <td>1               </td>\n",
       "        </tr>\n",
       "    </tbody>\n",
       "        <tr>\n",
       "            <td>Not Cancer</td> <td>1      </td> <td>1               </td>\n",
       "        </tr>\n",
       "    </tbody>\n",
       "        <tr>\n",
       "            <td>Not Cancer</td> <td>1      </td> <td>1               </td>\n",
       "        </tr>\n",
       "    </tbody>\n",
       "        <tr>\n",
       "            <td>Not Cancer</td> <td>1      </td> <td>7               </td>\n",
       "        </tr>\n",
       "    </tbody>\n",
       "        <tr>\n",
       "            <td>Not Cancer</td> <td>1      </td> <td>1               </td>\n",
       "        </tr>\n",
       "    </tbody>\n",
       "        <tr>\n",
       "            <td>Not Cancer</td> <td>1      </td> <td>1               </td>\n",
       "        </tr>\n",
       "    </tbody>\n",
       "        <tr>\n",
       "            <td>Not Cancer</td> <td>5      </td> <td>3               </td>\n",
       "        </tr>\n",
       "    </tbody>\n",
       "        <tr>\n",
       "            <td>Not Cancer</td> <td>1      </td> <td>1               </td>\n",
       "        </tr>\n",
       "    </tbody>\n",
       "        <tr>\n",
       "            <td>Not Cancer</td> <td>1      </td> <td>2               </td>\n",
       "        </tr>\n",
       "    </tbody>\n",
       "</table>\n",
       "<p>... (673 rows omitted)</p"
      ],
      "text/plain": [
       "Class      | Mitoses | Shuffled Mitoses\n",
       "Not Cancer | 1       | 1\n",
       "Not Cancer | 1       | 1\n",
       "Not Cancer | 1       | 1\n",
       "Not Cancer | 1       | 1\n",
       "Not Cancer | 1       | 7\n",
       "Not Cancer | 1       | 1\n",
       "Not Cancer | 1       | 1\n",
       "Not Cancer | 5       | 3\n",
       "Not Cancer | 1       | 1\n",
       "Not Cancer | 1       | 2\n",
       "... (673 rows omitted)"
      ]
     },
     "execution_count": 185,
     "metadata": {},
     "output_type": "execute_result"
    }
   ],
   "source": [
    "mitoses"
   ]
  },
  {
   "cell_type": "markdown",
   "metadata": {
    "deletable": true,
    "editable": true
   },
   "source": [
    "Let's look at the distributions of mitoses for the shuffled data, using the same process that we followed with the original data."
   ]
  },
  {
   "cell_type": "code",
   "execution_count": 186,
   "metadata": {
    "collapsed": false,
    "deletable": true,
    "editable": true
   },
   "outputs": [
    {
     "data": {
      "text/html": [
       "<table border=\"1\" class=\"dataframe\">\n",
       "    <thead>\n",
       "        <tr>\n",
       "            <th>Shuffled Mitoses</th> <th>Cancer</th> <th>Not Cancer</th>\n",
       "        </tr>\n",
       "    </thead>\n",
       "    <tbody>\n",
       "        <tr>\n",
       "            <td>1               </td> <td>199   </td> <td>364       </td>\n",
       "        </tr>\n",
       "    </tbody>\n",
       "        <tr>\n",
       "            <td>2               </td> <td>12    </td> <td>23        </td>\n",
       "        </tr>\n",
       "    </tbody>\n",
       "        <tr>\n",
       "            <td>3               </td> <td>12    </td> <td>21        </td>\n",
       "        </tr>\n",
       "    </tbody>\n",
       "        <tr>\n",
       "            <td>4               </td> <td>5     </td> <td>7         </td>\n",
       "        </tr>\n",
       "    </tbody>\n",
       "        <tr>\n",
       "            <td>5               </td> <td>2     </td> <td>4         </td>\n",
       "        </tr>\n",
       "    </tbody>\n",
       "        <tr>\n",
       "            <td>6               </td> <td>0     </td> <td>3         </td>\n",
       "        </tr>\n",
       "    </tbody>\n",
       "        <tr>\n",
       "            <td>7               </td> <td>3     </td> <td>6         </td>\n",
       "        </tr>\n",
       "    </tbody>\n",
       "        <tr>\n",
       "            <td>8               </td> <td>3     </td> <td>5         </td>\n",
       "        </tr>\n",
       "    </tbody>\n",
       "        <tr>\n",
       "            <td>10              </td> <td>3     </td> <td>11        </td>\n",
       "        </tr>\n",
       "    </tbody>\n",
       "</table>"
      ],
      "text/plain": [
       "Shuffled Mitoses | Cancer | Not Cancer\n",
       "1                | 199    | 364\n",
       "2                | 12     | 23\n",
       "3                | 12     | 21\n",
       "4                | 5      | 7\n",
       "5                | 2      | 4\n",
       "6                | 0      | 3\n",
       "7                | 3      | 6\n",
       "8                | 3      | 5\n",
       "10               | 3      | 11"
      ]
     },
     "execution_count": 186,
     "metadata": {},
     "output_type": "execute_result"
    }
   ],
   "source": [
    "shuffled = mitoses.select('Class', 'Shuffled Mitoses')\n",
    "\n",
    "shuffled_counts = shuffled.pivot('Class', 'Shuffled Mitoses')\n",
    "\n",
    "shuffled_counts"
   ]
  },
  {
   "cell_type": "markdown",
   "metadata": {
    "deletable": true,
    "editable": true
   },
   "source": [
    "The distributions of the shuffled data in the two classes can be visualized in bar charts just as the original data were."
   ]
  },
  {
   "cell_type": "code",
   "execution_count": 187,
   "metadata": {
    "collapsed": false,
    "deletable": true,
    "editable": true
   },
   "outputs": [],
   "source": [
    "shuffled_dists = shuffled_counts.select(0).with_columns(\n",
    "    'Cancer', proportions(shuffled_counts.column(1)),\n",
    "    'Not Cancer', proportions(shuffled_counts.column(2))\n",
    ")"
   ]
  },
  {
   "cell_type": "code",
   "execution_count": 188,
   "metadata": {
    "collapsed": false,
    "deletable": true,
    "editable": true
   },
   "outputs": [
    {
     "data": {
      "image/png": "[encoded data removed]",
      "text/plain": [
       "<matplotlib.figure.Figure at 0x11d6299e8>"
      ]
     },
     "metadata": {},
     "output_type": "display_data"
    }
   ],
   "source": [
    "shuffled_dists.barh(0)"
   ]
  },
  {
   "cell_type": "markdown",
   "metadata": {
    "deletable": true,
    "editable": true
   },
   "source": [
    "That looks a bit different from the original bar charts, shown below again for convenience."
   ]
  },
  {
   "cell_type": "code",
   "execution_count": 189,
   "metadata": {
    "collapsed": false,
    "deletable": true,
    "editable": true
   },
   "outputs": [
    {
     "data": {
      "image/png": "[encoded data removed]",
      "text/plain": [
       "<matplotlib.figure.Figure at 0x11d7489e8>"
      ]
     },
     "metadata": {},
     "output_type": "display_data"
    }
   ],
   "source": [
    "dists.barh(0)"
   ]
  },
  {
   "cell_type": "markdown",
   "metadata": {
    "deletable": true,
    "editable": true
   },
   "source": [
    "### A Test Statistic: Total Variation Distance ###\n",
    "\n",
    "We need a test statistic that measures the difference between the blue distribution and the gold. Recall that total variation distance can be used to quantify how different two categorical distributions are. "
   ]
  },
  {
   "cell_type": "code",
   "execution_count": 175,
   "metadata": {
    "collapsed": true,
    "deletable": true,
    "editable": true
   },
   "outputs": [],
   "source": [
    "def tvd(dist1, dist2):\n",
    "    return 0.5*(np.sum(np.abs(dist1 - dist2)))"
   ]
  },
  {
   "cell_type": "markdown",
   "metadata": {
    "deletable": true,
    "editable": true
   },
   "source": [
    "In the original sample, the total variation distance between the distributions of mitoses in the two classes was about 0.4:"
   ]
  },
  {
   "cell_type": "code",
   "execution_count": 190,
   "metadata": {
    "collapsed": false,
    "deletable": true,
    "editable": true
   },
   "outputs": [
    {
     "data": {
      "text/plain": [
       "0.41841946549059517"
      ]
     },
     "execution_count": 190,
     "metadata": {},
     "output_type": "execute_result"
    }
   ],
   "source": [
    "observed_tvd = tvd(dists.column(1), dists.column(2))\n",
    "observed_tvd"
   ]
  },
  {
   "cell_type": "markdown",
   "metadata": {
    "deletable": true,
    "editable": true
   },
   "source": [
    "But in the shuffled sample it was quite a bit smaller:"
   ]
  },
  {
   "cell_type": "code",
   "execution_count": 191,
   "metadata": {
    "collapsed": false,
    "deletable": true,
    "editable": true
   },
   "outputs": [
    {
     "data": {
      "text/plain": [
       "0.022173847487655045"
      ]
     },
     "execution_count": 191,
     "metadata": {},
     "output_type": "execute_result"
    }
   ],
   "source": [
    "tvd(shuffled_dists.column(1), shuffled_dists.column(2))"
   ]
  },
  {
   "cell_type": "markdown",
   "metadata": {
    "deletable": true,
    "editable": true
   },
   "source": [
    "The randomly permuted mitosis ratings and the original ratings don't seem to be behaving the same way. But the random shuffle could come out differently if we run it again. Let's reshuffle and redo the calculation of the total variation distance."
   ]
  },
  {
   "cell_type": "code",
   "execution_count": 194,
   "metadata": {
    "collapsed": false,
    "deletable": true,
    "editable": true
   },
   "outputs": [
    {
     "data": {
      "text/plain": [
       "0.039937426966715643"
      ]
     },
     "execution_count": 194,
     "metadata": {},
     "output_type": "execute_result"
    }
   ],
   "source": [
    "shuffled_mitoses = mitoses.select('Mitoses').sample(with_replacement=False).column(0)\n",
    "\n",
    "shuffled = mitoses.select('Class').with_column('Shuffled Mitoses', shuffled_mitoses)\n",
    "\n",
    "shuffled_counts = shuffled.pivot('Class', 'Shuffled Mitoses')\n",
    "\n",
    "tvd(proportions(shuffled_counts.column(1)), proportions(shuffled_counts.column(2)))"
   ]
  },
  {
   "cell_type": "markdown",
   "metadata": {
    "deletable": true,
    "editable": true
   },
   "source": [
    "The total variation distance is still quite a bit smaller than the 0.42 we got from the original data. To see how much it could vary, we have to repeat the random shuffling procedure many times, in a process that has by now become familiar."
   ]
  },
  {
   "cell_type": "markdown",
   "metadata": {
    "deletable": true,
    "editable": true
   },
   "source": [
    "### Empirical Distribution of the TVD, Under the Null Hypothesis ###\n",
    "If the null hypothesis were true, all permutations of mitosis ratings would be equally likely. There are large numbers of possible permutations; let's do 5000 of them and see how our test statistic varies. The code is exactly the same as above, except that now we will collect all 5000 distances and draw their empirical histogram."
   ]
  },
  {
   "cell_type": "code",
   "execution_count": 179,
   "metadata": {
    "collapsed": false,
    "deletable": true,
    "editable": true
   },
   "outputs": [
    {
     "name": "stdout",
     "output_type": "stream",
     "text": [
      "Observed TVD: 0.418419465491\n"
     ]
    },
    {
     "data": {
      "image/png": "[encoded data removed]",
      "text/plain": [
       "<matplotlib.figure.Figure at 0x11bb8a080>"
      ]
     },
     "metadata": {},
     "output_type": "display_data"
    }
   ],
   "source": [
    "repetitions = 5000\n",
    "tvds = make_array()\n",
    "for i in np.arange(repetitions):\n",
    "    shuffled_mitoses = mitoses.select('Mitoses').sample(with_replacement=False).column(0)\n",
    "    shuffled = mitoses.select('Class').with_column('Shuffled Mitoses', shuffled_mitoses)\n",
    "    shuffled_counts = shuffled.pivot('Class', 'Shuffled Mitoses')\n",
    "    new_tvd = tvd(proportions(shuffled_counts.column(1)), proportions(shuffled_counts.column(2)))\n",
    "    tvds = np.append(tvds, new_tvd)\n",
    "\n",
    "Table().with_column('TVD', tvds).hist(bins=20)\n",
    "plots.title('Empirical Distribution Under the Null')\n",
    "print('Observed TVD:', observed_tvd)"
   ]
  },
  {
   "cell_type": "markdown",
   "metadata": {
    "deletable": true,
    "editable": true
   },
   "source": [
    "The observed total variation distance of 0.42 is nowhere near the distribution generated assuming the null hypothesis is true. The data support the alternative: the mitosis ratings are related to class."
   ]
  },
  {
   "cell_type": "markdown",
   "metadata": {
    "deletable": true,
    "editable": true
   },
   "source": [
    "### Permutation Test for the Equality of Two Categorical Distributions ###\n",
    "The test that we performed above is called a *permutation test* of the null hypothesis that the two samples are drawn from the same underlying distribution. \n",
    "\n",
    "To define a function that performs the test, we can just copy the code from the previous cell and change the names of tables and columns. The function `permutation_test_tvd` takes the name of the data table, the label of the column containing the categorical variable whose distribution the test is about, the label of the column containing the binary class variable, and the number of random permutations to run.\n",
    "\n",
    "In our example above, we didn't compute a P-value because the observed value was far away from the null distribution of the statistic. In general, however, we should compute the P-value as the statistic might not be so extreme in other examples. The P-value is the chance, assuming that the null is true, of getting a distance as big as or bigger than the distance that was observed, because the alternative hypothesis predicts larger distances than the null.\n"
   ]
  },
  {
   "cell_type": "code",
   "execution_count": 180,
   "metadata": {
    "collapsed": true,
    "deletable": true,
    "editable": true
   },
   "outputs": [],
   "source": [
    "def permutation_test_tvd(table, variable, classes, repetitions):\n",
    "    \n",
    "    \"\"\"Test whether a categorical variable is independent of classes:\n",
    "    table: name of table containing the sample\n",
    "    variable: label of column containing categorical variable whose distribution is of interest\n",
    "    classes: label of column containing binary class data\n",
    "    repetitions: number of random permutations\"\"\"\n",
    "    \n",
    "    # Find the tvd between the distributions of variable in the two classes\n",
    "    counts = table.select(classes, variable).pivot(classes, variable)\n",
    "    observed_tvd = tvd(proportions(counts.column(1)), proportions(counts.column(2)))\n",
    "    \n",
    "    # Assuming the null is true, randomly permute the variable and collect all the new tvd's\n",
    "    tvds = make_array()\n",
    "    for i in np.arange(repetitions):\n",
    "        shuffled_var = table.select(variable).sample(with_replacement=False).column(0)\n",
    "        shuffled = table.select(classes).with_column('Shuffled Variable', shuffled_var)\n",
    "        shuffled_counts = shuffled.pivot(classes, 'Shuffled Variable')\n",
    "        new_tvd =tvd(proportions(shuffled_counts.column(1)), proportions(shuffled_counts.column(2)))\n",
    "        tvds = np.append(tvds, new_tvd)\n",
    "    \n",
    "    # Find the empirical P-value:\n",
    "    emp_p = np.count_nonzero(tvds >= observed_tvd)/repetitions\n",
    "\n",
    "    # Draw the empirical histogram of the tvd's generated under the null, \n",
    "    # and compare with the value observed in the original sample\n",
    "    Table().with_column('TVD', tvds).hist(bins=20)\n",
    "    plots.title('Empirical Distribution Under the Null')\n",
    "    print('Observed TVD:', observed_tvd)\n",
    "    print('Empirical P-value:', emp_p)"
   ]
  },
  {
   "cell_type": "code",
   "execution_count": 195,
   "metadata": {
    "collapsed": false,
    "deletable": true,
    "editable": true
   },
   "outputs": [
    {
     "name": "stdout",
     "output_type": "stream",
     "text": [
      "Observed TVD: 0.638310905047\n",
      "Empirical P-value: 0.0\n"
     ]
    },
    {
     "data": {
      "image/png": "[encoded data removed]",
      "text/plain": [
       "<matplotlib.figure.Figure at 0x11da8c828>"
      ]
     },
     "metadata": {},
     "output_type": "display_data"
    }
   ],
   "source": [
    "permutation_test_tvd(patients, 'Clump Thickness', 'Class', 5000)"
   ]
  },
  {
   "cell_type": "markdown",
   "metadata": {
    "deletable": true,
    "editable": true
   },
   "source": [
    "Once again, the observed distance of 0.64 is very far away from the distribution predicted by the null hypothesis. The empirical P-value is 0, so the exact P-value will be close to zero. Thus if class and clump thickness were unrelated, the observed data would be hugely unlikely.\n",
    "\n",
    "So the conclusion is that clump thickness is related to class, not just in the sample but in the population."
   ]
  },
  {
   "cell_type": "markdown",
   "metadata": {
    "collapsed": true,
    "deletable": true,
    "editable": true
   },
   "source": [
    "We have use permutation tests to help decide whether the distribution of a categorical attribute is related to class. In general, permutation tests can be used in this way to decide whether two categorical distributions were randomly sampled from the same underlying distribution."
   ]
  }
 ],
 "metadata": {
  "anaconda-cloud": {},
  "kernelspec": {
   "display_name": "Python 3",
   "language": "python",
   "name": "python3"
  },
  "language_info": {
   "codemirror_mode": {
    "name": "ipython",
    "version": 3
   },
   "file_extension": ".py",
   "mimetype": "text/x-python",
   "name": "python",
   "nbconvert_exporter": "python",
   "pygments_lexer": "ipython3",
   "version": "3.5.2"
  }
 },
 "nbformat": 4,
 "nbformat_minor": 0
}
