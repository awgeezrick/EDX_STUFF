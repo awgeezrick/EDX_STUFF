{
 "cells": [
  {
   "cell_type": "code",
   "execution_count": 1,
   "metadata": {
    "collapsed": true
   },
   "outputs": [],
   "source": [
    "# HIDDEN\n",
    "from datascience import *\n",
    "from datascience.predicates import are\n",
    "import numpy as np\n",
    "import matplotlib\n",
    "matplotlib.use('Agg', warn=False)\n",
    "%matplotlib inline\n",
    "import matplotlib.pyplot as plots\n",
    "plots.style.use('fivethirtyeight')\n",
    "import warnings\n",
    "warnings.simplefilter(action=\"ignore\", category=FutureWarning)"
   ]
  },
  {
   "cell_type": "markdown",
   "metadata": {
    "collapsed": true
   },
   "source": [
    "Why Data Science?\n",
    "=================\n",
    "\n",
    "Most important decisions are made with only partial information and uncertain\n",
    "outcomes. However, the degree of uncertainty for many decisions can be reduced\n",
    "sharply by public access to large data sets and the computational tools\n",
    "required to analyze them effectively. Data-driven decision making has already\n",
    "transformed a tremendous breadth of industries, including finance, advertising,\n",
    "manufacturing, and real estate. At the same time, a wide range of academic\n",
    "disciplines are evolving rapidly to incorporate large-scale data analysis into\n",
    "their theory and practice.\n",
    "\n",
    "Studying data science enables individuals to bring these techniques to bear on\n",
    "their work, their scientific endeavors, and their personal decisions. Critical\n",
    "thinking has long been a hallmark of a rigorous education, but critiques are\n",
    "often most effective when supported by data. A critical analysis of any aspect\n",
    "of the world, may it be business or social science, involves inductive\n",
    "reasoning --- conclusions can rarely been proven outright, only supported by\n",
    "the available evidence. Data science provides the means to make precise,\n",
    "reliable, and quantitative arguments about any set of observations. With\n",
    "unprecedented access to information and computing, critical thinking about\n",
    "any aspect of the world that can be measured would be incomplete without\n",
    "the inferential techniques that are core to data science.\n",
    "\n",
    "The world has too many unanswered questions and difficult challenges to leave\n",
    "this critical reasoning to only a few specialists. However, all educated adults\n",
    "can build the capacity to reason about data. The tools, techniques, and data\n",
    "sets are all readily available; this text aims to make them accessible to\n",
    "everyone.\n",
    "\n"
   ]
  },
  {
   "cell_type": "code",
   "execution_count": null,
   "metadata": {
    "collapsed": true
   },
   "outputs": [],
   "source": []
  }
 ],
 "metadata": {
  "kernelspec": {
   "display_name": "Python 3",
   "language": "python",
   "name": "python3"
  },
  "language_info": {
   "codemirror_mode": {
    "name": "ipython",
    "version": 3
   },
   "file_extension": ".py",
   "mimetype": "text/x-python",
   "name": "python",
   "nbconvert_exporter": "python",
   "pygments_lexer": "ipython3",
   "version": "3.5.2"
  }
 },
 "nbformat": 4,
 "nbformat_minor": 0
}
