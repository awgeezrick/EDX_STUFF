{
 "cells": [
  {
   "cell_type": "code",
   "execution_count": 1,
   "metadata": {
    "collapsed": true
   },
   "outputs": [],
   "source": [
    "# HIDDEN\n",
    "from datascience import *\n",
    "%matplotlib inline\n",
    "import matplotlib.pyplot as plt\n",
    "plt.style.use('fivethirtyeight')\n",
    "import math\n",
    "from scipy import stats\n",
    "import numpy as np\n",
    "np.random.seed(0)"
   ]
  },
  {
   "cell_type": "markdown",
   "metadata": {},
   "source": [
    "Whenever we analyze a random sample of a population, our goal is to draw robust conclusions about the whole population, despite the fact that we can measure only part of it. We must guard against being misled by the inevitable random variations in a sample. It is possible that a sample has very different characteristics than the population itself, but those samples are unlikely. It is much more typical that a random sample, especially a large simple random sample, is representative of the population. More importantly, the chance that a sample resembles the population is something that we know in advance, based on how we selected our random sample. Statistical inference is the practice of using this information to make precise statements about a population based on a random sample."
   ]
  },
  {
   "cell_type": "markdown",
   "metadata": {},
   "source": [
    "## Statistics and Parameters\n",
    "\n",
    "The [Bay Area Bike Share](http://www.bayareabikeshare.com/) service published a [dataset](http://www.bayareabikeshare.com/open-data) describing every bicycle rental from September 2014 to August 2015 in their system. This set of all trips is a population, and fortunately we have the data for each and every trip rather than just a sample. We'll focus only on the *free trips*, which are trips that last less than 1800 seconds (half an hour)."
   ]
  },
  {
   "cell_type": "code",
   "execution_count": 2,
   "metadata": {
    "collapsed": false
   },
   "outputs": [
    {
     "data": {
      "text/html": [
       "<table border=\"1\" class=\"dataframe\">\n",
       "    <thead>\n",
       "        <tr>\n",
       "            <th>Start Station</th> <th>End Station</th> <th>Duration</th>\n",
       "        </tr>\n",
       "    </thead>\n",
       "    <tbody>\n",
       "        <tr>\n",
       "            <td>Harry Bridges Plaza (Ferry Building)         </td> <td>San Francisco Caltrain (Townsend at 4th)     </td> <td>765     </td>\n",
       "        </tr>\n",
       "    </tbody>\n",
       "        <tr>\n",
       "            <td>San Antonio Shopping Center                  </td> <td>Mountain View City Hall                      </td> <td>1036    </td>\n",
       "        </tr>\n",
       "    </tbody>\n",
       "        <tr>\n",
       "            <td>Post at Kearny                               </td> <td>2nd at South Park                            </td> <td>307     </td>\n",
       "        </tr>\n",
       "    </tbody>\n",
       "        <tr>\n",
       "            <td>San Jose City Hall                           </td> <td>San Salvador at 1st                          </td> <td>409     </td>\n",
       "        </tr>\n",
       "    </tbody>\n",
       "        <tr>\n",
       "            <td>Embarcadero at Folsom                        </td> <td>Embarcadero at Sansome                       </td> <td>789     </td>\n",
       "        </tr>\n",
       "    </tbody>\n",
       "        <tr>\n",
       "            <td>Yerba Buena Center of the Arts (3rd @ Howard)</td> <td>San Francisco Caltrain (Townsend at 4th)     </td> <td>293     </td>\n",
       "        </tr>\n",
       "    </tbody>\n",
       "        <tr>\n",
       "            <td>Embarcadero at Folsom                        </td> <td>Embarcadero at Sansome                       </td> <td>896     </td>\n",
       "        </tr>\n",
       "    </tbody>\n",
       "        <tr>\n",
       "            <td>Embarcadero at Sansome                       </td> <td>Steuart at Market                            </td> <td>255     </td>\n",
       "        </tr>\n",
       "    </tbody>\n",
       "        <tr>\n",
       "            <td>Beale at Market                              </td> <td>Temporary Transbay Terminal (Howard at Beale)</td> <td>126     </td>\n",
       "        </tr>\n",
       "    </tbody>\n",
       "        <tr>\n",
       "            <td>Post at Kearny                               </td> <td>South Van Ness at Market                     </td> <td>932     </td>\n",
       "        </tr>\n",
       "    </tbody>\n",
       "</table>\n",
       "<p>... (338333 rows omitted)</p"
      ],
      "text/plain": [
       "Start Station                                 | End Station                                   | Duration\n",
       "Harry Bridges Plaza (Ferry Building)          | San Francisco Caltrain (Townsend at 4th)      | 765\n",
       "San Antonio Shopping Center                   | Mountain View City Hall                       | 1036\n",
       "Post at Kearny                                | 2nd at South Park                             | 307\n",
       "San Jose City Hall                            | San Salvador at 1st                           | 409\n",
       "Embarcadero at Folsom                         | Embarcadero at Sansome                        | 789\n",
       "Yerba Buena Center of the Arts (3rd @ Howard) | San Francisco Caltrain (Townsend at 4th)      | 293\n",
       "Embarcadero at Folsom                         | Embarcadero at Sansome                        | 896\n",
       "Embarcadero at Sansome                        | Steuart at Market                             | 255\n",
       "Beale at Market                               | Temporary Transbay Terminal (Howard at Beale) | 126\n",
       "Post at Kearny                                | South Van Ness at Market                      | 932\n",
       "... (338333 rows omitted)"
      ]
     },
     "execution_count": 2,
     "metadata": {},
     "output_type": "execute_result"
    }
   ],
   "source": [
    "free_trips = Table.read_table(\"trip.csv\").where('Duration', are.below(1800)).select([3, 6, 1])\n",
    "free_trips"
   ]
  },
  {
   "cell_type": "markdown",
   "metadata": {},
   "source": [
    "A quantity measured for a whole population is called a *parameter*. For example, the average duration for any free trip between September 2014 to August 2015 can be computed exactly from these data: 550.00."
   ]
  },
  {
   "cell_type": "code",
   "execution_count": 3,
   "metadata": {
    "collapsed": false
   },
   "outputs": [
    {
     "data": {
      "text/plain": [
       "550.00143345658103"
      ]
     },
     "execution_count": 3,
     "metadata": {},
     "output_type": "execute_result"
    }
   ],
   "source": [
    "np.average(free_trips.column('Duration'))"
   ]
  },
  {
   "cell_type": "markdown",
   "metadata": {},
   "source": [
    "Although we have information for the full population, we will investigate what we can learn from a simple random sample. Below, we sample 100 trips without replacement from `free_trips` not just once, but 40 different times. All 4000 trips are stored in a table called `samples`."
   ]
  },
  {
   "cell_type": "code",
   "execution_count": 4,
   "metadata": {
    "collapsed": false
   },
   "outputs": [
    {
     "data": {
      "text/html": [
       "<table border=\"1\" class=\"dataframe\">\n",
       "    <thead>\n",
       "        <tr>\n",
       "            <th>Sample #</th> <th>Duration</th>\n",
       "        </tr>\n",
       "    </thead>\n",
       "    <tbody>\n",
       "        <tr>\n",
       "            <td>0       </td> <td>557     </td>\n",
       "        </tr>\n",
       "    </tbody>\n",
       "        <tr>\n",
       "            <td>0       </td> <td>491     </td>\n",
       "        </tr>\n",
       "    </tbody>\n",
       "        <tr>\n",
       "            <td>0       </td> <td>877     </td>\n",
       "        </tr>\n",
       "    </tbody>\n",
       "        <tr>\n",
       "            <td>0       </td> <td>279     </td>\n",
       "        </tr>\n",
       "    </tbody>\n",
       "        <tr>\n",
       "            <td>0       </td> <td>339     </td>\n",
       "        </tr>\n",
       "    </tbody>\n",
       "        <tr>\n",
       "            <td>0       </td> <td>542     </td>\n",
       "        </tr>\n",
       "    </tbody>\n",
       "        <tr>\n",
       "            <td>0       </td> <td>715     </td>\n",
       "        </tr>\n",
       "    </tbody>\n",
       "        <tr>\n",
       "            <td>0       </td> <td>255     </td>\n",
       "        </tr>\n",
       "    </tbody>\n",
       "        <tr>\n",
       "            <td>0       </td> <td>1543    </td>\n",
       "        </tr>\n",
       "    </tbody>\n",
       "        <tr>\n",
       "            <td>0       </td> <td>194     </td>\n",
       "        </tr>\n",
       "    </tbody>\n",
       "</table>\n",
       "<p>... (3990 rows omitted)</p"
      ],
      "text/plain": [
       "Sample # | Duration\n",
       "0        | 557\n",
       "0        | 491\n",
       "0        | 877\n",
       "0        | 279\n",
       "0        | 339\n",
       "0        | 542\n",
       "0        | 715\n",
       "0        | 255\n",
       "0        | 1543\n",
       "0        | 194\n",
       "... (3990 rows omitted)"
      ]
     },
     "execution_count": 4,
     "metadata": {},
     "output_type": "execute_result"
    }
   ],
   "source": [
    "n = 100\n",
    "samples = Table(['Sample #', 'Duration'])\n",
    "for i in np.arange(40):\n",
    "    for trip in free_trips.sample(n).rows:\n",
    "        samples.append([i, trip.item('Duration')])\n",
    "samples"
   ]
  },
  {
   "cell_type": "markdown",
   "metadata": {},
   "source": [
    "A quantity measured for a sample is called a *statistic*. For example, the average duration of a free trip in a sample is a statistic, and we find that there is some variation across samples."
   ]
  },
  {
   "cell_type": "code",
   "execution_count": 5,
   "metadata": {
    "collapsed": false
   },
   "outputs": [
    {
     "name": "stdout",
     "output_type": "stream",
     "text": [
      "Average duration in sample 0 is 547.29\n",
      "Average duration in sample 1 is 500.6\n",
      "Average duration in sample 2 is 660.16\n"
     ]
    }
   ],
   "source": [
    "for i in np.arange(3):\n",
    "    sample_average = np.average(samples.where('Sample #', i).column('Duration'))\n",
    "    print(\"Average duration in sample\", i, \"is\", sample_average)"
   ]
  },
  {
   "cell_type": "markdown",
   "metadata": {},
   "source": [
    "Often, the goal of analysis is to estimate parameters from statistics. Proper statistical inference involves more than just picking an estimate: we should also say something about how confident we should be in that estimate. A single guess is rarely sufficient to make a robust conclusion about a population. We also need to quantify in some way how precise we believe that guess to be. \n",
    "\n",
    "Already we can see from the example above that the average duration of a sample is around 550, the parameter. Our goal is to quantify this notion of *around*, and one way to do so is to state a range of values."
   ]
  },
  {
   "cell_type": "markdown",
   "metadata": {},
   "source": [
    "## Error in Estimates"
   ]
  },
  {
   "cell_type": "markdown",
   "metadata": {},
   "source": [
    "We can learn a great deal about the behavior of a statistic by computing it for many samples. In the scatter diagram below, the order in which the statistic was computed appears on the horizontal axis, and the value of the average duration for a sample of `n` trips appears on the vertical axis. "
   ]
  },
  {
   "cell_type": "code",
   "execution_count": 6,
   "metadata": {
    "collapsed": false
   },
   "outputs": [
    {
     "data": {
      "image/png": "[encoded data removed]",
      "text/plain": [
       "<matplotlib.figure.Figure at 0x10d67b780>"
      ]
     },
     "metadata": {},
     "output_type": "display_data"
    }
   ],
   "source": [
    "samples.group(0, np.average).scatter(0, 1, s=50)"
   ]
  },
  {
   "cell_type": "markdown",
   "metadata": {},
   "source": [
    "The sample number doesn't tell us anything beyond when the sample was selected, and we can see from this unstructured cloud of points that one sample does not affect the next in any consistent way. The sample averages are indeed all around 550. Some are above, and some are below."
   ]
  },
  {
   "cell_type": "code",
   "execution_count": 7,
   "metadata": {
    "collapsed": false
   },
   "outputs": [
    {
     "data": {
      "image/png": "[encoded data removed]",
      "text/plain": [
       "<matplotlib.figure.Figure at 0x10beb5e80>"
      ]
     },
     "metadata": {},
     "output_type": "display_data"
    }
   ],
   "source": [
    "samples.group(0, np.average).hist(1, bins=np.arange(480, 641, 10))"
   ]
  },
  {
   "cell_type": "markdown",
   "metadata": {},
   "source": [
    "There are 40 averages for 40 samples. If we find an interval that contains the middle 38 out of 40, it will contain 95% of the samples. One such interval is bounded by the second smallest and the second largest sample averages among the 40 samples."
   ]
  },
  {
   "cell_type": "code",
   "execution_count": 8,
   "metadata": {
    "collapsed": false
   },
   "outputs": [
    {
     "name": "stdout",
     "output_type": "stream",
     "text": [
      "Empirically, 95% of sample averages fell within the interval 502.38 to 620.04\n"
     ]
    }
   ],
   "source": [
    "averages = np.sort(samples.group(0, np.average).column(1))\n",
    "lower = averages.item(1)\n",
    "upper = averages.item(38)\n",
    "print('Empirically, 95% of sample averages fell within the interval', lower, 'to', upper)"
   ]
  },
  {
   "cell_type": "markdown",
   "metadata": {},
   "source": [
    "This statement gives us our first notion of a margin of error. If this statement were to hold up not just for our 40 samples, but for all samples, then a reasonable strategy for estimating the true population average would be to draw a 100-trip sample, compute its sample average, and guess that the true average was within `max_deviation` of this quantity. We would be right at least 95% of the time.\n",
    "\n",
    "The problem with this approach is that finding the `max_deviation` required drawing many different samples, and we would like to be able to say something similar after having collected only one 100-trip sample."
   ]
  },
  {
   "cell_type": "markdown",
   "metadata": {},
   "source": [
    "### Variability Within Samples \n",
    "\n",
    "By contrast, The individual durations in the samples themselves are not closely clustered around 550. Instead, they span the whole range from 0 to 1800. The durations for the first three 100-item samples are visualized below. All have somewhat similar shapes; they were drawn from the same population. "
   ]
  },
  {
   "cell_type": "code",
   "execution_count": 9,
   "metadata": {
    "collapsed": false
   },
   "outputs": [
    {
     "data": {
      "image/png": "[encoded data removed]",
      "text/plain": [
       "<matplotlib.figure.Figure at 0x10d67b898>"
      ]
     },
     "metadata": {},
     "output_type": "display_data"
    },
    {
     "data": {
      "image/png": "[encoded data removed]",
      "text/plain": [
       "<matplotlib.figure.Figure at 0x10487fd68>"
      ]
     },
     "metadata": {},
     "output_type": "display_data"
    },
    {
     "data": {
      "image/png": "[encoded data removed]",
      "text/plain": [
       "<matplotlib.figure.Figure at 0x104a25860>"
      ]
     },
     "metadata": {},
     "output_type": "display_data"
    }
   ],
   "source": [
    "for i in np.arange(3):\n",
    "    samples.where('Sample #', i).hist(1, bins=np.arange(0, 1801, 200))"
   ]
  },
  {
   "cell_type": "markdown",
   "metadata": {},
   "source": [
    "We have now observed two different ways in which the variation of a random sample can be observed: the statistics computed from those samples vary in magnitude, and the sampled quantities themselves vary in distribution. That is, there is variability *across samples*, which we see by comparing sample averages, and there is variability *within each sample*, which we see in the duration histograms above."
   ]
  },
  {
   "cell_type": "markdown",
   "metadata": {},
   "source": [
    "## Percentiles\n",
    "\n",
    "The 80th percentile of a collection of values is the smallest value in the collection that is at least as large as 80% of the values in the collection. Likewise, the 40th percentile is at least as large as 40% of the values. \n",
    "\n",
    "For example, let's consider the sizes of the five largest continents: Africa, Antarctica, Asia, North America, and South America, rounded to the nearest million square miles."
   ]
  },
  {
   "cell_type": "code",
   "execution_count": 10,
   "metadata": {
    "collapsed": true
   },
   "outputs": [],
   "source": [
    "sizes = [12, 17, 6, 9, 7]"
   ]
  },
  {
   "cell_type": "markdown",
   "metadata": {},
   "source": [
    "The 20th percentile is the smallest value that is at least as large as 20% or one fifth of the elements."
   ]
  },
  {
   "cell_type": "code",
   "execution_count": 11,
   "metadata": {
    "collapsed": false
   },
   "outputs": [
    {
     "data": {
      "text/plain": [
       "6"
      ]
     },
     "execution_count": 11,
     "metadata": {},
     "output_type": "execute_result"
    }
   ],
   "source": [
    "percentile(20, sizes)"
   ]
  },
  {
   "cell_type": "markdown",
   "metadata": {},
   "source": [
    "The 60th percentile is at least as large as 60% or three fifths of the elements."
   ]
  },
  {
   "cell_type": "code",
   "execution_count": 12,
   "metadata": {
    "collapsed": false
   },
   "outputs": [
    {
     "data": {
      "text/plain": [
       "9"
      ]
     },
     "execution_count": 12,
     "metadata": {},
     "output_type": "execute_result"
    }
   ],
   "source": [
    "percentile(60, sizes)"
   ]
  },
  {
   "cell_type": "markdown",
   "metadata": {},
   "source": [
    "To find the element corresponding to a percentile $p$, sort the elements and take the $k$th element, where $k=\\frac{p}{100} \\times n$ where $n$ is the size of the collection. In general, any percentile from 0 to 100 can be computed for a collection of values, and it is always an element of the collection. If $k$ is not an integer, round it up to find the percentile element. For example, the 90th percentile of a five element set is the fifth element, because $\\frac{90}{100} \\times 5$ is 4.5, which rounds up to 5."
   ]
  },
  {
   "cell_type": "code",
   "execution_count": 13,
   "metadata": {
    "collapsed": false
   },
   "outputs": [
    {
     "data": {
      "text/plain": [
       "17"
      ]
     },
     "execution_count": 13,
     "metadata": {},
     "output_type": "execute_result"
    }
   ],
   "source": [
    "percentile(90, sizes)"
   ]
  },
  {
   "cell_type": "markdown",
   "metadata": {},
   "source": [
    "When the `percentile` function is called with a single argument, it returns a function that computes percentiles of collections."
   ]
  },
  {
   "cell_type": "code",
   "execution_count": 14,
   "metadata": {
    "collapsed": false
   },
   "outputs": [
    {
     "data": {
      "text/plain": [
       "6"
      ]
     },
     "execution_count": 14,
     "metadata": {},
     "output_type": "execute_result"
    }
   ],
   "source": [
    "tenth = percentile(10)\n",
    "tenth(sizes)"
   ]
  },
  {
   "cell_type": "code",
   "execution_count": 15,
   "metadata": {
    "collapsed": false
   },
   "outputs": [
    {
     "data": {
      "text/plain": [
       "4"
      ]
     },
     "execution_count": 15,
     "metadata": {},
     "output_type": "execute_result"
    }
   ],
   "source": [
    "tenth(np.arange(50))"
   ]
  },
  {
   "cell_type": "code",
   "execution_count": 16,
   "metadata": {
    "collapsed": false
   },
   "outputs": [
    {
     "data": {
      "text/plain": [
       "499"
      ]
     },
     "execution_count": 16,
     "metadata": {},
     "output_type": "execute_result"
    }
   ],
   "source": [
    "tenth(np.arange(5000))"
   ]
  },
  {
   "cell_type": "markdown",
   "metadata": {},
   "source": [
    "## Confidence Intervals\n",
    "\n",
    "Inference begins with a population: a collection that you can describe but often cannot measure directly. One thing we can often do with a populuation is to draw a simple random sample. By measuring a statistic of the sample, we may hope to estimate a parameter of the population. In this process, the population is not random, nor are its parameters. The sample is random, and so is its statistic. The whole process of estimation therefore gives a random result. It starts from a population (fixed), draws a sample (random), computes a statistic (random), and then estimates the parameter from the statistic (random). By calling the process random, we mean that the final estimate could have been different because the sample could have been different.\n",
    "\n",
    "A confidence interval is one notion of a margin of error around an estimate. The margin of error acknowledges that the estimation process could have been misleading because of the variation in the sample. It gives a range that might contain the original parameter, along with a percentage of confidence. For example, a 95% confidence interval is one in which we would expect the interval to contain the true parameter for 95% of random samples. For any particular sample, any particular estimate, and any particular interval, the parameter is either contained or not; we never know for sure. The purpose of the confidence interval is to quantify how often our estimation process gives us a range containing the truth.\n",
    "\n",
    "There are many different ways to compute a confidence interval. The challenge in computing a confidence interval from a single sample is that we don't know the population, and so we don't know how its samples will vary. One way to make progress despite this limited information is to assume that the variability *within the sample* is similar to the variability within the population."
   ]
  },
  {
   "cell_type": "markdown",
   "metadata": {},
   "source": [
    "### Resampling from a Sample\n",
    "\n",
    "Even though we happen to have the whole population of `free_trips`, let's imagine for a moment that we have only a single 100-trip sample from this population. That sample has 100 durations. Our goal now is to learn what we can about the population using just this sample."
   ]
  },
  {
   "cell_type": "code",
   "execution_count": 17,
   "metadata": {
    "collapsed": false
   },
   "outputs": [
    {
     "data": {
      "text/html": [
       "<table border=\"1\" class=\"dataframe\">\n",
       "    <thead>\n",
       "        <tr>\n",
       "            <th>Start Station</th> <th>End Station</th> <th>Duration</th>\n",
       "        </tr>\n",
       "    </thead>\n",
       "    <tbody>\n",
       "        <tr>\n",
       "            <td>Grant Avenue at Columbus Avenue    </td> <td>San Francisco Caltrain 2 (330 Townsend) </td> <td>877     </td>\n",
       "        </tr>\n",
       "    </tbody>\n",
       "        <tr>\n",
       "            <td>Embarcadero at Folsom              </td> <td>San Francisco Caltrain (Townsend at 4th)</td> <td>597     </td>\n",
       "        </tr>\n",
       "    </tbody>\n",
       "        <tr>\n",
       "            <td>Beale at Market                    </td> <td>Beale at Market                         </td> <td>67      </td>\n",
       "        </tr>\n",
       "    </tbody>\n",
       "        <tr>\n",
       "            <td>2nd at Folsom                      </td> <td>Washington at Kearny                    </td> <td>714     </td>\n",
       "        </tr>\n",
       "    </tbody>\n",
       "        <tr>\n",
       "            <td>Clay at Battery                    </td> <td>Embarcadero at Sansome                  </td> <td>510     </td>\n",
       "        </tr>\n",
       "    </tbody>\n",
       "        <tr>\n",
       "            <td>South Van Ness at Market           </td> <td>Powell Street BART                      </td> <td>494     </td>\n",
       "        </tr>\n",
       "    </tbody>\n",
       "        <tr>\n",
       "            <td>San Jose Diridon Caltrain Station  </td> <td>MLK Library                             </td> <td>530     </td>\n",
       "        </tr>\n",
       "    </tbody>\n",
       "        <tr>\n",
       "            <td>Mechanics Plaza (Market at Battery)</td> <td>Clay at Battery                         </td> <td>286     </td>\n",
       "        </tr>\n",
       "    </tbody>\n",
       "        <tr>\n",
       "            <td>South Van Ness at Market           </td> <td>Civic Center BART (7th at Market)       </td> <td>172     </td>\n",
       "        </tr>\n",
       "    </tbody>\n",
       "        <tr>\n",
       "            <td>Broadway St at Battery St          </td> <td>5th at Howard                           </td> <td>551     </td>\n",
       "        </tr>\n",
       "    </tbody>\n",
       "</table>\n",
       "<p>... (90 rows omitted)</p"
      ],
      "text/plain": [
       "Start Station                       | End Station                              | Duration\n",
       "Grant Avenue at Columbus Avenue     | San Francisco Caltrain 2 (330 Townsend)  | 877\n",
       "Embarcadero at Folsom               | San Francisco Caltrain (Townsend at 4th) | 597\n",
       "Beale at Market                     | Beale at Market                          | 67\n",
       "2nd at Folsom                       | Washington at Kearny                     | 714\n",
       "Clay at Battery                     | Embarcadero at Sansome                   | 510\n",
       "South Van Ness at Market            | Powell Street BART                       | 494\n",
       "San Jose Diridon Caltrain Station   | MLK Library                              | 530\n",
       "Mechanics Plaza (Market at Battery) | Clay at Battery                          | 286\n",
       "South Van Ness at Market            | Civic Center BART (7th at Market)        | 172\n",
       "Broadway St at Battery St           | 5th at Howard                            | 551\n",
       "... (90 rows omitted)"
      ]
     },
     "execution_count": 17,
     "metadata": {},
     "output_type": "execute_result"
    }
   ],
   "source": [
    "sample = free_trips.sample(n)\n",
    "sample"
   ]
  },
  {
   "cell_type": "code",
   "execution_count": 18,
   "metadata": {
    "collapsed": false
   },
   "outputs": [
    {
     "data": {
      "text/plain": [
       "518.55999999999995"
      ]
     },
     "execution_count": 18,
     "metadata": {},
     "output_type": "execute_result"
    }
   ],
   "source": [
    "average = np.average(sample.column('Duration'))\n",
    "average"
   ]
  },
  {
   "cell_type": "markdown",
   "metadata": {},
   "source": [
    "A technique called *bootstrap resampling* uses the variability of the sample as a proxy for the variability of the population. Instead of drawing many samples from the population, we will draw many samples from the sample. Since the original sample and the re-sampled sample have the same size, we must draw with replacement in order to see any variability at all."
   ]
  },
  {
   "cell_type": "code",
   "execution_count": 19,
   "metadata": {
    "collapsed": false
   },
   "outputs": [
    {
     "data": {
      "text/html": [
       "<table border=\"1\" class=\"dataframe\">\n",
       "    <thead>\n",
       "        <tr>\n",
       "            <th>Resample #</th> <th>Duration</th>\n",
       "        </tr>\n",
       "    </thead>\n",
       "    <tbody>\n",
       "        <tr>\n",
       "            <td>0         </td> <td>329     </td>\n",
       "        </tr>\n",
       "    </tbody>\n",
       "        <tr>\n",
       "            <td>0         </td> <td>252     </td>\n",
       "        </tr>\n",
       "    </tbody>\n",
       "        <tr>\n",
       "            <td>0         </td> <td>252     </td>\n",
       "        </tr>\n",
       "    </tbody>\n",
       "        <tr>\n",
       "            <td>0         </td> <td>685     </td>\n",
       "        </tr>\n",
       "    </tbody>\n",
       "        <tr>\n",
       "            <td>0         </td> <td>434     </td>\n",
       "        </tr>\n",
       "    </tbody>\n",
       "        <tr>\n",
       "            <td>0         </td> <td>396     </td>\n",
       "        </tr>\n",
       "    </tbody>\n",
       "        <tr>\n",
       "            <td>0         </td> <td>434     </td>\n",
       "        </tr>\n",
       "    </tbody>\n",
       "        <tr>\n",
       "            <td>0         </td> <td>585     </td>\n",
       "        </tr>\n",
       "    </tbody>\n",
       "        <tr>\n",
       "            <td>0         </td> <td>394     </td>\n",
       "        </tr>\n",
       "    </tbody>\n",
       "        <tr>\n",
       "            <td>0         </td> <td>202     </td>\n",
       "        </tr>\n",
       "    </tbody>\n",
       "</table>\n",
       "<p>... (3990 rows omitted)</p"
      ],
      "text/plain": [
       "Resample # | Duration\n",
       "0          | 329\n",
       "0          | 252\n",
       "0          | 252\n",
       "0          | 685\n",
       "0          | 434\n",
       "0          | 396\n",
       "0          | 434\n",
       "0          | 585\n",
       "0          | 394\n",
       "0          | 202\n",
       "... (3990 rows omitted)"
      ]
     },
     "execution_count": 19,
     "metadata": {},
     "output_type": "execute_result"
    }
   ],
   "source": [
    "resamples = Table(['Resample #', 'Duration'])\n",
    "for i in np.arange(40):\n",
    "    resample = sample.sample(n, with_replacement=True)\n",
    "    for trip in resample.rows:\n",
    "        resamples.append([i, trip.item('Duration')])\n",
    "resamples"
   ]
  },
  {
   "cell_type": "markdown",
   "metadata": {},
   "source": [
    "Using the `resamples`, we can investigate the variability of the corresponding sample averages."
   ]
  },
  {
   "cell_type": "code",
   "execution_count": 20,
   "metadata": {
    "collapsed": false
   },
   "outputs": [
    {
     "data": {
      "image/png": "[encoded data removed]",
      "text/plain": [
       "<matplotlib.figure.Figure at 0x108664080>"
      ]
     },
     "metadata": {},
     "output_type": "display_data"
    }
   ],
   "source": [
    "resamples.group(0, np.average).scatter(0, 1, s=50)"
   ]
  },
  {
   "cell_type": "markdown",
   "metadata": {},
   "source": [
    "These sample averages are not necessarily clustered around the true average 550. Instead, they will be clustered around the average of the sample from which they were re-sampled."
   ]
  },
  {
   "cell_type": "code",
   "execution_count": 21,
   "metadata": {
    "collapsed": false
   },
   "outputs": [
    {
     "data": {
      "image/png": "[encoded data removed]",
      "text/plain": [
       "<matplotlib.figure.Figure at 0x1090d3080>"
      ]
     },
     "metadata": {},
     "output_type": "display_data"
    }
   ],
   "source": [
    "resamples.group(0, np.average).hist(1, bins=np.arange(480, 641, 10))"
   ]
  },
  {
   "cell_type": "markdown",
   "metadata": {},
   "source": [
    "Although the center of this distribution is not the same as the true population average, its variability is similar. "
   ]
  },
  {
   "cell_type": "markdown",
   "metadata": {},
   "source": [
    "### Bootstrap Confidence Interval\n",
    "\n",
    "A technique called *bootstrap resampling* estimates a confidence interval using resampling. To find a confidence interval, we must estimate how much the sample statistic deviates from the population parameter. The boostrap assumes that a resampled statistic will deviate from the sample statistic in approximately the same way that the sample statistic deviates from the parameter. \n",
    "\n",
    "To carry out the technique, we first compute the deviations from the sample statistic (in this case, the sample average) for many resampled samples. The number is arbitrary, and it doesn't require any collecting of new data; 1000 or more is typical."
   ]
  },
  {
   "cell_type": "code",
   "execution_count": 22,
   "metadata": {
    "collapsed": false
   },
   "outputs": [
    {
     "data": {
      "text/html": [
       "<table border=\"1\" class=\"dataframe\">\n",
       "    <thead>\n",
       "        <tr>\n",
       "            <th>Resample #</th> <th>Deviation</th>\n",
       "        </tr>\n",
       "    </thead>\n",
       "    <tbody>\n",
       "        <tr>\n",
       "            <td>0         </td> <td>30.95    </td>\n",
       "        </tr>\n",
       "    </tbody>\n",
       "        <tr>\n",
       "            <td>1         </td> <td>41.16    </td>\n",
       "        </tr>\n",
       "    </tbody>\n",
       "        <tr>\n",
       "            <td>2         </td> <td>3.37     </td>\n",
       "        </tr>\n",
       "    </tbody>\n",
       "        <tr>\n",
       "            <td>3         </td> <td>2.54     </td>\n",
       "        </tr>\n",
       "    </tbody>\n",
       "        <tr>\n",
       "            <td>4         </td> <td>-22.87   </td>\n",
       "        </tr>\n",
       "    </tbody>\n",
       "        <tr>\n",
       "            <td>5         </td> <td>27.63    </td>\n",
       "        </tr>\n",
       "    </tbody>\n",
       "        <tr>\n",
       "            <td>6         </td> <td>49.93    </td>\n",
       "        </tr>\n",
       "    </tbody>\n",
       "        <tr>\n",
       "            <td>7         </td> <td>11.91    </td>\n",
       "        </tr>\n",
       "    </tbody>\n",
       "        <tr>\n",
       "            <td>8         </td> <td>26.32    </td>\n",
       "        </tr>\n",
       "    </tbody>\n",
       "        <tr>\n",
       "            <td>9         </td> <td>-5.97    </td>\n",
       "        </tr>\n",
       "    </tbody>\n",
       "</table>\n",
       "<p>... (990 rows omitted)</p"
      ],
      "text/plain": [
       "Resample # | Deviation\n",
       "0          | 30.95\n",
       "1          | 41.16\n",
       "2          | 3.37\n",
       "3          | 2.54\n",
       "4          | -22.87\n",
       "5          | 27.63\n",
       "6          | 49.93\n",
       "7          | 11.91\n",
       "8          | 26.32\n",
       "9          | -5.97\n",
       "... (990 rows omitted)"
      ]
     },
     "execution_count": 22,
     "metadata": {},
     "output_type": "execute_result"
    }
   ],
   "source": [
    "deviations = Table(['Resample #', 'Deviation'])\n",
    "for i in np.arange(1000):\n",
    "    resample = sample.sample(n, with_replacement=True)\n",
    "    dev = average - np.average(resample.column(2))\n",
    "    deviations.append([i, dev])\n",
    "deviations"
   ]
  },
  {
   "cell_type": "markdown",
   "metadata": {},
   "source": [
    "A deviation of zero indicates that the resampled statistic is the same as the sampled statistic. That's evidence that the sample statistic is perhaps the same as the population parameter. A positive deviation is evidence that the sample statistic may be greater than the parameter. As we can see, for averages, the distribution of deviations is roughly symmetric."
   ]
  },
  {
   "cell_type": "code",
   "execution_count": 23,
   "metadata": {
    "collapsed": false
   },
   "outputs": [
    {
     "data": {
      "image/png": "[encoded data removed]",
      "text/plain": [
       "<matplotlib.figure.Figure at 0x109302a20>"
      ]
     },
     "metadata": {},
     "output_type": "display_data"
    }
   ],
   "source": [
    "deviations.hist(1, bins=np.arange(-100, 101, 10))"
   ]
  },
  {
   "cell_type": "markdown",
   "metadata": {},
   "source": [
    "A 95% confidence interval is computed based on the middle 95% of this distribution of deviations. The max and min devations are computed by the 97.5th percentile and 2.5th percentile respectively, because the span between these contains 95% of the distribution. "
   ]
  },
  {
   "cell_type": "code",
   "execution_count": 24,
   "metadata": {
    "collapsed": false
   },
   "outputs": [
    {
     "data": {
      "text/plain": [
       "461.93000000000001"
      ]
     },
     "execution_count": 24,
     "metadata": {},
     "output_type": "execute_result"
    }
   ],
   "source": [
    "lower = average - percentile(97.5, deviations.column(1))\n",
    "lower"
   ]
  },
  {
   "cell_type": "code",
   "execution_count": 25,
   "metadata": {
    "collapsed": false
   },
   "outputs": [
    {
     "data": {
      "text/plain": [
       "576.29999999999995"
      ]
     },
     "execution_count": 25,
     "metadata": {},
     "output_type": "execute_result"
    }
   ],
   "source": [
    "upper = average - percentile(2.5, deviations.column(1))\n",
    "upper"
   ]
  },
  {
   "cell_type": "markdown",
   "metadata": {},
   "source": [
    "Now, we have not only an estimate, but an interval around it that expresses our uncertainty about the value of the parameter."
   ]
  },
  {
   "cell_type": "code",
   "execution_count": 26,
   "metadata": {
    "collapsed": false
   },
   "outputs": [
    {
     "name": "stdout",
     "output_type": "stream",
     "text": [
      "A 95% confidence interval around 518.56 is 461.93 to 576.3\n"
     ]
    }
   ],
   "source": [
    "print('A 95% confidence interval around', average, 'is', lower, 'to', upper)"
   ]
  },
  {
   "cell_type": "markdown",
   "metadata": {},
   "source": [
    "And behold, the interval happens to contain the true parameter 550. Normally, after generating a confidence interval, there is no way to check that it is correct, because to do so requires access to the entire population. In this case, we started with the whole population in a single table, and so we are able to check.\n",
    "\n",
    "The following function encapsulates the entire process of producing a confidence interval for the population average using a single sample.  Each time it is run, even for the same sample, the interval will be slightly different because of the random variation of resampling. However, the upper and lower bounds generated by 2000 samples for this problem are typically quite similar for multiple calls."
   ]
  },
  {
   "cell_type": "code",
   "execution_count": 27,
   "metadata": {
    "collapsed": false
   },
   "outputs": [
    {
     "data": {
      "text/plain": [
       "(457.43999999999994, 572.63999999999987)"
      ]
     },
     "execution_count": 27,
     "metadata": {},
     "output_type": "execute_result"
    }
   ],
   "source": [
    "def average_ci(sample, label):\n",
    "    deviations = Table(['Resample #', 'Deviation'])\n",
    "    n = sample.num_rows\n",
    "    average = np.average(sample.column(label))\n",
    "    for i in np.arange(1000):\n",
    "        resample = sample.sample(n, with_replacement=True)\n",
    "        dev = np.average(resample.column(label)) - average\n",
    "        deviations.append([i, dev])\n",
    "    return (average - percentile(97.5, deviations.column(1)),\n",
    "            average - percentile(2.5, deviations.column(1)))\n",
    "\n",
    "average_ci(sample, 'Duration')"
   ]
  },
  {
   "cell_type": "code",
   "execution_count": 28,
   "metadata": {
    "collapsed": false
   },
   "outputs": [
    {
     "data": {
      "text/plain": [
       "(458.7399999999999, 575.50999999999988)"
      ]
     },
     "execution_count": 28,
     "metadata": {},
     "output_type": "execute_result"
    }
   ],
   "source": [
    "average_ci(sample, 'Duration')"
   ]
  },
  {
   "cell_type": "markdown",
   "metadata": {},
   "source": [
    "However, if we draw an entirely new sample, then the confidence interval will change."
   ]
  },
  {
   "cell_type": "code",
   "execution_count": 29,
   "metadata": {
    "collapsed": false
   },
   "outputs": [
    {
     "data": {
      "text/plain": [
       "(530.18000000000006, 661.21000000000004)"
      ]
     },
     "execution_count": 29,
     "metadata": {},
     "output_type": "execute_result"
    }
   ],
   "source": [
    "average_ci(free_trips.sample(n), 'Duration')"
   ]
  },
  {
   "cell_type": "markdown",
   "metadata": {},
   "source": [
    "The interval is about the same width, and that's typical of multiple samples of the same size drawn from the same population. However, if a much larger sample is drawn, then the confidence interval that results is typically going to be much smaller. We're not losing confidence in this case; we're just using more evidence to perform inference, and so we have less uncertainty about the full population."
   ]
  },
  {
   "cell_type": "code",
   "execution_count": 30,
   "metadata": {
    "collapsed": false
   },
   "outputs": [
    {
     "data": {
      "text/plain": [
       "(527.18937499999993, 555.11437499999988)"
      ]
     },
     "execution_count": 30,
     "metadata": {},
     "output_type": "execute_result"
    }
   ],
   "source": [
    "average_ci(free_trips.sample(16 * n), 'Duration')"
   ]
  },
  {
   "cell_type": "markdown",
   "metadata": {},
   "source": [
    "### Evaluating Confidence Intervals\n",
    "\n",
    "When given only a sample, it is not possible to check whether the parameter was estimated correctly. However, in the case of the Bay Area Bike Share, we have not only the sample, but many samples and the whole population. Therefore, we can check how often the confidence intervals we compute in this way do in fact contain the true parameter.\n",
    "\n",
    "Before measuring the accuracy of our technique, we can visualize the result of resampling each sample. The following scatter diagram has 6 vertical lines for 6 samples, and each line consists of 100 points that represent the statistics from resamples for that sample."
   ]
  },
  {
   "cell_type": "code",
   "execution_count": 31,
   "metadata": {
    "collapsed": false
   },
   "outputs": [
    {
     "data": {
      "image/png": "[encoded data removed]",
      "text/plain": [
       "<matplotlib.figure.Figure at 0x10932dc18>"
      ]
     },
     "metadata": {},
     "output_type": "display_data"
    }
   ],
   "source": [
    "samples = Table(['Sample #', 'Resample average', 'Sample Average'])\n",
    "for i in np.arange(6):\n",
    "    sample = free_trips.sample(n)\n",
    "    average = np.average(sample.column('Duration'))\n",
    "    for j in np.arange(100):\n",
    "        resample = sample.sample(n, with_replacement=True)\n",
    "        resample_average = np.average(resample.column('Duration'))\n",
    "        samples.append([i, resample_average, average])\n",
    "samples.scatter(0, s=80)"
   ]
  },
  {
   "cell_type": "markdown",
   "metadata": {},
   "source": [
    "We can see from the plot above that for almost every sample, there are some resampled averages above 550 and some below. When we use these resampled averages to compute confidence intervals, many of those intervals contain 550 as a result. \n",
    "\n",
    "Below, we draw 100 more samples and show the upper and lower bounds of the confidence intervals computed from each one."
   ]
  },
  {
   "cell_type": "code",
   "execution_count": 32,
   "metadata": {
    "collapsed": false
   },
   "outputs": [],
   "source": [
    "intervals = Table(['Sample #', 'Lower', 'Estimate', 'Upper'])\n",
    "for i in np.arange(100):\n",
    "    sample = free_trips.sample(n)\n",
    "    average = np.average(sample.column('Duration'))\n",
    "    lower, upper = average_ci(sample, 'Duration')\n",
    "    intervals.append([i, lower, average, upper])"
   ]
  },
  {
   "cell_type": "markdown",
   "metadata": {},
   "source": [
    "We can compute precisely which intervals contain the truth, and we should find that about 95 of them do. "
   ]
  },
  {
   "cell_type": "code",
   "execution_count": 43,
   "metadata": {
    "collapsed": false
   },
   "outputs": [
    {
     "data": {
      "text/plain": [
       "97"
      ]
     },
     "execution_count": 43,
     "metadata": {},
     "output_type": "execute_result"
    }
   ],
   "source": [
    "correct = np.logical_and(intervals.column('Lower') <= 550, intervals.column('Upper') >= 550)\n",
    "np.count_nonzero(correct)"
   ]
  },
  {
   "cell_type": "markdown",
   "metadata": {},
   "source": [
    "Each confidence interval is generated from only a single sample of 100 trips. As a result, the width of the interval varies quite a bit as well. Compared to the interval width we computed originally (which required multiple samples), we see that some of these intervals are much more narrow and some are much wider. "
   ]
  },
  {
   "cell_type": "code",
   "execution_count": 44,
   "metadata": {
    "collapsed": false
   },
   "outputs": [
    {
     "data": {
      "image/png": "[encoded data removed]",
      "text/plain": [
       "<matplotlib.figure.Figure at 0x1099b6550>"
      ]
     },
     "metadata": {},
     "output_type": "display_data"
    }
   ],
   "source": [
    "Table().with_column('Width', intervals.column('Upper')-intervals.column('Lower')).hist(0)"
   ]
  },
  {
   "cell_type": "markdown",
   "metadata": {},
   "source": [
    "Given a single sample, it is impossible to know whether you have correctly estimated the parameter or not. However, you can infer a precise notion of confidence by following a process based on random sampling."
   ]
  }
 ],
 "metadata": {
  "anaconda-cloud": {},
  "kernelspec": {
   "display_name": "Python [Root]",
   "language": "python",
   "name": "Python [Root]"
  },
  "language_info": {
   "codemirror_mode": {
    "name": "ipython",
    "version": 3
   },
   "file_extension": ".py",
   "mimetype": "text/x-python",
   "name": "python",
   "nbconvert_exporter": "python",
   "pygments_lexer": "ipython3",
   "version": "3.5.2"
  }
 },
 "nbformat": 4,
 "nbformat_minor": 0
}
