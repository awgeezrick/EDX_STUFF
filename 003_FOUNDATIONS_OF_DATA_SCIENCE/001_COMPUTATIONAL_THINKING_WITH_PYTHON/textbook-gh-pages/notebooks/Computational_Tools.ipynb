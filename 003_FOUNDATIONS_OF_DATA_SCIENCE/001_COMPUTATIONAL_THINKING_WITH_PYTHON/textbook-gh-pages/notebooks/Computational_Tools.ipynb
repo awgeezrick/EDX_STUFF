{
 "cells": [
  {
   "cell_type": "code",
   "execution_count": 1,
   "metadata": {
    "collapsed": true
   },
   "outputs": [],
   "source": [
    "# HIDDEN\n",
    "from datascience import *\n",
    "from datascience.predicates import are\n",
    "import numpy as np\n",
    "import matplotlib\n",
    "matplotlib.use('Agg', warn=False)\n",
    "%matplotlib inline\n",
    "import matplotlib.pyplot as plots\n",
    "plots.style.use('fivethirtyeight')\n",
    "import warnings\n",
    "warnings.simplefilter(action=\"ignore\", category=FutureWarning)"
   ]
  },
  {
   "cell_type": "markdown",
   "metadata": {
    "collapsed": true
   },
   "source": [
    "Computational Tools\n",
    "-------------------\n",
    "\n",
    "This text uses the Python 3 programming language, along with a standard set of\n",
    "numerical and data visualization tools that are used widely in commercial\n",
    "applications, scientific experiments, and open-source projects.\n",
    "Python has recruited enthusiasts from many professions that use data to draw\n",
    "conclusions. By learning the Python language, you will join a\n",
    "million-person-strong community of software developers and data scientists.\n",
    "\n",
    "**Getting Started.** The easiest and recommended way to start writing programs\n",
    "in Python is to log into the companion site for this text,\n",
    "[data8.berkeley.edu](https://data8.berkeley.edu). If you are enrolled in a\n",
    "course offering that uses this text, you should have full access to the\n",
    "programming environment hosted on that site. The first time you log in, you will\n",
    "find a brief tutorial describing how to proceed.\n",
    "\n",
    "You are not at all restricted to using this web-based programming environment.\n",
    "A Python program can be executed by any computer, regardless of its\n",
    "manufacturer or operating system, provided that support for the language is\n",
    "installed. If you wish to install the version of Python and its accompanying\n",
    "libraries that will match this text, we recommend the [Anaconda][download]\n",
    "distribution that packages together the Python 3 language interpreter, IPython\n",
    "libraries, and the Jupyter notebook environment.\n",
    "\n",
    "   [download]: http://continuum.io/downloads#py34\n",
    "\n",
    "This text includes a complete introduction to all of these computational tools.\n",
    "You will learn to write programs, generate images from data, and work with\n",
    "real-world data sets that are published online.\n",
    "\n"
   ]
  },
  {
   "cell_type": "code",
   "execution_count": null,
   "metadata": {
    "collapsed": true
   },
   "outputs": [],
   "source": []
  }
 ],
 "metadata": {
  "kernelspec": {
   "display_name": "Python 3",
   "language": "python",
   "name": "python3"
  },
  "language_info": {
   "codemirror_mode": {
    "name": "ipython",
    "version": 3
   },
   "file_extension": ".py",
   "mimetype": "text/x-python",
   "name": "python",
   "nbconvert_exporter": "python",
   "pygments_lexer": "ipython3",
   "version": "3.4.4"
  }
 },
 "nbformat": 4,
 "nbformat_minor": 0
}
