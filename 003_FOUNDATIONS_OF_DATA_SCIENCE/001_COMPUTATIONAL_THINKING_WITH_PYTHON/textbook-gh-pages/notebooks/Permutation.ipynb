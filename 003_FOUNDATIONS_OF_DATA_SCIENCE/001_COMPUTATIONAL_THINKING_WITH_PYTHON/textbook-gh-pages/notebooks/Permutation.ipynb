{
 "cells": [
  {
   "cell_type": "code",
   "execution_count": 2,
   "metadata": {
    "collapsed": false
   },
   "outputs": [],
   "source": [
    "# HIDDEN \n",
    "\n",
    "from datascience import *\n",
    "import numpy as np\n",
    "\n",
    "import matplotlib\n",
    "matplotlib.use('Agg', warn=False)\n",
    "%matplotlib inline\n",
    "import matplotlib.pyplot as plt\n",
    "plt.style.use('fivethirtyeight')\n",
    "import warnings\n",
    "warnings.simplefilter(action=\"ignore\", category=FutureWarning)"
   ]
  },
  {
   "cell_type": "markdown",
   "metadata": {},
   "source": [
    "## Comparing Two Groups\n",
    "\n",
    "In the examples above, we investigated whether a sample appears to be chosen randomly from an underlying population. We did this by comparing the distribution of the sample with the distribution of the population. A similar line of reasoning can be used to compare the distributions of two samples. In particular, we can investigate whether or not two samples appear to be drawn from the same underlying distribution."
   ]
  },
  {
   "cell_type": "markdown",
   "metadata": {},
   "source": [
    "### Example: Married Couples and Unmarried Partners\n",
    "\n",
    "Our next example is based on a study conducted in 2010 under the auspices of the National Center for Family and Marriage Research. \n",
    "\n",
    "In the United States, the proportion of couples who live together but are not married has been rising in recent decades. The study involved a national random sample of over 1,000 heterosexual couples who were either married or \"cohabiting partners\" – living together but unmarried. One of the goals of the study was to compare the attitudes and experiences of the married and unmarried couples. \n",
    "\n",
    "The table below shows a subset of the data collected in the study. Each row corresponds to one person. The variables that we will examine in this section are:\n",
    "\n",
    "- Marital Status: married or unmarried\n",
    "- Employment Status: one of several categories described below\n",
    "- Gender\n",
    "- Age: Age in years\n"
   ]
  },
  {
   "cell_type": "code",
   "execution_count": 3,
   "metadata": {
    "collapsed": false
   },
   "outputs": [
    {
     "data": {
      "text/html": [
       "<table border=\"1\" class=\"dataframe\">\n",
       "    <thead>\n",
       "        <tr>\n",
       "            <th>Marital Status</th> <th>Employment Status</th> <th>Gender</th> <th>Age</th>\n",
       "        </tr>\n",
       "    </thead>\n",
       "    <tbody>\n",
       "        <tr>\n",
       "            <td>married       </td> <td>working as paid employee</td> <td>male  </td> <td>51  </td>\n",
       "        </tr>\n",
       "    </tbody>\n",
       "        <tr>\n",
       "            <td>married       </td> <td>working as paid employee</td> <td>female</td> <td>53  </td>\n",
       "        </tr>\n",
       "    </tbody>\n",
       "        <tr>\n",
       "            <td>married       </td> <td>working as paid employee</td> <td>male  </td> <td>57  </td>\n",
       "        </tr>\n",
       "    </tbody>\n",
       "        <tr>\n",
       "            <td>married       </td> <td>working as paid employee</td> <td>female</td> <td>57  </td>\n",
       "        </tr>\n",
       "    </tbody>\n",
       "        <tr>\n",
       "            <td>married       </td> <td>working as paid employee</td> <td>male  </td> <td>60  </td>\n",
       "        </tr>\n",
       "    </tbody>\n",
       "        <tr>\n",
       "            <td>married       </td> <td>working as paid employee</td> <td>female</td> <td>57  </td>\n",
       "        </tr>\n",
       "    </tbody>\n",
       "        <tr>\n",
       "            <td>married       </td> <td>working, self-employed  </td> <td>male  </td> <td>62  </td>\n",
       "        </tr>\n",
       "    </tbody>\n",
       "        <tr>\n",
       "            <td>married       </td> <td>working as paid employee</td> <td>female</td> <td>59  </td>\n",
       "        </tr>\n",
       "    </tbody>\n",
       "        <tr>\n",
       "            <td>married       </td> <td>not working - other     </td> <td>male  </td> <td>53  </td>\n",
       "        </tr>\n",
       "    </tbody>\n",
       "        <tr>\n",
       "            <td>married       </td> <td>not working - retired   </td> <td>female</td> <td>61  </td>\n",
       "        </tr>\n",
       "    </tbody>\n",
       "</table>\n",
       "<p>... (2056 rows omitted)</p"
      ],
      "text/plain": [
       "Marital Status | Employment Status        | Gender | Age\n",
       "married        | working as paid employee | male   | 51\n",
       "married        | working as paid employee | female | 53\n",
       "married        | working as paid employee | male   | 57\n",
       "married        | working as paid employee | female | 57\n",
       "married        | working as paid employee | male   | 60\n",
       "married        | working as paid employee | female | 57\n",
       "married        | working, self-employed   | male   | 62\n",
       "married        | working as paid employee | female | 59\n",
       "married        | not working - other      | male   | 53\n",
       "married        | not working - retired    | female | 61\n",
       "... (2056 rows omitted)"
      ]
     },
     "execution_count": 3,
     "metadata": {},
     "output_type": "execute_result"
    }
   ],
   "source": [
    "columns = ['Marital Status', 'Employment Status', 'Gender', 'Age', ]\n",
    "couples = Table.read_table('couples.csv').select(columns)\n",
    "couples"
   ]
  },
  {
   "cell_type": "markdown",
   "metadata": {},
   "source": [
    "Let us consider just the males first. There are 742 married couples and 292 unmarried couples, and all couples in this study had one male and one female, making 1,034 males in all. "
   ]
  },
  {
   "cell_type": "code",
   "execution_count": 4,
   "metadata": {
    "collapsed": false
   },
   "outputs": [
    {
     "data": {
      "image/png": "[encoded data removed]",
      "text/plain": [
       "<matplotlib.figure.Figure at 0x1099e2b38>"
      ]
     },
     "metadata": {},
     "output_type": "display_data"
    }
   ],
   "source": [
    "# Separate tables for married and cohabiting unmarried couples:\n",
    "\n",
    "married_men = couples.where('Gender', 'male').where('Marital Status', 'married')\n",
    "partnered_men = couples.where('Gender', 'male').where('Marital Status', 'partner')\n",
    "\n",
    "# Let's see how many married and unmarried people there are:\n",
    "couples.where('Gender', 'male').group('Marital Status').barh(\"Marital Status\")"
   ]
  },
  {
   "cell_type": "markdown",
   "metadata": {},
   "source": [
    "Societal norms have changed over the decades, and there has been a gradual acceptance of couples living together without being married. Thus it is natural to expect that unmarried couples will in general consist of younger people than married couples. \n",
    "\n",
    "The histograms of the ages of the married and unmarried men show that this is indeed the case. We will draw these histograms and compare them. In order to compare two histograms, both should be drawn to the same scale. Let us write a function that does this for us."
   ]
  },
  {
   "cell_type": "code",
   "execution_count": 63,
   "metadata": {
    "collapsed": true
   },
   "outputs": [],
   "source": [
    "def plot_age(table, subject):\n",
    "    \"\"\"\n",
    "    Draws a histogram of the Age column in the given table.\n",
    "    \n",
    "    table should be a Table with a column of people's ages called Age.\n",
    "    \n",
    "    subject should be a string -- the name of the group we're displaying,\n",
    "    like \"married men\".\n",
    "    \"\"\"\n",
    "    # Draw a histogram of ages running from 15 years to 70 years\n",
    "    table.hist('Age', bins=np.arange(15, 71, 5), unit='year')\n",
    "    # Set the lower and upper bounds of the vertical axis so that\n",
    "    # the plots we make are all comparable.\n",
    "    plt.ylim(0, 0.045)\n",
    "    plt.title(\"Ages of \" + subject)"
   ]
  },
  {
   "cell_type": "code",
   "execution_count": 65,
   "metadata": {
    "collapsed": false,
    "scrolled": false
   },
   "outputs": [
    {
     "data": {
      "image/png": "[encoded data removed]",
      "text/plain": [
       "<matplotlib.figure.Figure at 0x10d055ef0>"
      ]
     },
     "metadata": {},
     "output_type": "display_data"
    },
    {
     "data": {
      "image/png": "[encoded data removed]",
      "text/plain": [
       "<matplotlib.figure.Figure at 0x10d00e8d0>"
      ]
     },
     "metadata": {},
     "output_type": "display_data"
    }
   ],
   "source": [
    "# Ages of men:\n",
    "plot_age(married_men, \"married men\")\n",
    "plot_age(partnered_men, \"cohabiting unmarried men\")"
   ]
  },
  {
   "cell_type": "markdown",
   "metadata": {},
   "source": [
    "The difference is even more marked when we compare the married and unmarried women."
   ]
  },
  {
   "cell_type": "code",
   "execution_count": 67,
   "metadata": {
    "collapsed": false
   },
   "outputs": [
    {
     "data": {
      "image/png": "[encoded data removed]",
      "text/plain": [
       "<matplotlib.figure.Figure at 0x10aa3a470>"
      ]
     },
     "metadata": {},
     "output_type": "display_data"
    },
    {
     "data": {
      "image/png": "[encoded data removed]",
      "text/plain": [
       "<matplotlib.figure.Figure at 0x10beb06a0>"
      ]
     },
     "metadata": {},
     "output_type": "display_data"
    }
   ],
   "source": [
    "married_women = couples.where('Gender', 'female').where('Marital Status', 'married')\n",
    "partnered_women = couples.where('Gender', 'female').where('Marital Status', 'partner')\n",
    "\n",
    "# Ages of women:\n",
    "plot_age(married_women, \"married women\")\n",
    "plot_age(partnered_women, \"cohabiting unmarried women\")"
   ]
  },
  {
   "cell_type": "markdown",
   "metadata": {},
   "source": [
    "The histograms show that the married men in the sample are in general older than unmarried cohabiting men. Married women are in general older than unmarried women. These observations are consistent with what we had predicted based on changing social norms. \n",
    "\n",
    "If married couples are in general older, they might differ from unmarried couples in other ways as well. Let us compare the employment status of the married and unmarried men in the sample.\n",
    "\n",
    "The table below shows the marital status and employment status of each man in the sample."
   ]
  },
  {
   "cell_type": "code",
   "execution_count": 8,
   "metadata": {
    "collapsed": false
   },
   "outputs": [
    {
     "data": {
      "text/html": [
       "<table border=\"1\" class=\"dataframe\">\n",
       "    <thead>\n",
       "        <tr>\n",
       "            <th>Marital Status</th> <th>Employment Status</th>\n",
       "        </tr>\n",
       "    </thead>\n",
       "    <tbody>\n",
       "        <tr>\n",
       "            <td>married       </td> <td>working as paid employee</td>\n",
       "        </tr>\n",
       "    </tbody>\n",
       "        <tr>\n",
       "            <td>married       </td> <td>working as paid employee</td>\n",
       "        </tr>\n",
       "    </tbody>\n",
       "        <tr>\n",
       "            <td>married       </td> <td>working as paid employee</td>\n",
       "        </tr>\n",
       "    </tbody>\n",
       "        <tr>\n",
       "            <td>married       </td> <td>working, self-employed  </td>\n",
       "        </tr>\n",
       "    </tbody>\n",
       "        <tr>\n",
       "            <td>married       </td> <td>not working - other     </td>\n",
       "        </tr>\n",
       "    </tbody>\n",
       "</table>\n",
       "<p>... (1028 rows omitted)</p"
      ],
      "text/plain": [
       "<IPython.core.display.HTML object>"
      ]
     },
     "metadata": {},
     "output_type": "display_data"
    }
   ],
   "source": [
    "males = couples.where('Gender', 'male').select(['Marital Status', 'Employment Status'])\n",
    "males.show(5)"
   ]
  },
  {
   "cell_type": "markdown",
   "metadata": {},
   "source": [
    "### Contingency Tables"
   ]
  },
  {
   "cell_type": "markdown",
   "metadata": {},
   "source": [
    "To investigate the association between employment and marriage, we would like to be able to ask questions like, \"How many married men are retired?\"\n",
    "\n",
    "Recall that the method `pivot` lets us do exactly that. It *cross-classifies* each man according to the two variables – marital status and employment status. Its output is a *contingency table* that contains the counts in each pair of categories. "
   ]
  },
  {
   "cell_type": "code",
   "execution_count": 18,
   "metadata": {
    "collapsed": false
   },
   "outputs": [
    {
     "data": {
      "text/html": [
       "<table border=\"1\" class=\"dataframe\">\n",
       "    <thead>\n",
       "        <tr>\n",
       "            <th>Employment Status</th> <th>married</th> <th>partner</th>\n",
       "        </tr>\n",
       "    </thead>\n",
       "    <tbody>\n",
       "        <tr>\n",
       "            <td>not working - disabled                        </td> <td>44     </td> <td>20     </td>\n",
       "        </tr>\n",
       "    </tbody>\n",
       "        <tr>\n",
       "            <td>not working - looking for work                </td> <td>28     </td> <td>33     </td>\n",
       "        </tr>\n",
       "    </tbody>\n",
       "        <tr>\n",
       "            <td>not working - on a temporary layoff from a job</td> <td>15     </td> <td>8      </td>\n",
       "        </tr>\n",
       "    </tbody>\n",
       "        <tr>\n",
       "            <td>not working - other                           </td> <td>16     </td> <td>9      </td>\n",
       "        </tr>\n",
       "    </tbody>\n",
       "        <tr>\n",
       "            <td>not working - retired                         </td> <td>44     </td> <td>4      </td>\n",
       "        </tr>\n",
       "    </tbody>\n",
       "        <tr>\n",
       "            <td>working as paid employee                      </td> <td>513    </td> <td>170    </td>\n",
       "        </tr>\n",
       "    </tbody>\n",
       "        <tr>\n",
       "            <td>working, self-employed                        </td> <td>82     </td> <td>47     </td>\n",
       "        </tr>\n",
       "    </tbody>\n",
       "</table>"
      ],
      "text/plain": [
       "Employment Status                              | married | partner\n",
       "not working - disabled                         | 44      | 20\n",
       "not working - looking for work                 | 28      | 33\n",
       "not working - on a temporary layoff from a job | 15      | 8\n",
       "not working - other                            | 16      | 9\n",
       "not working - retired                          | 44      | 4\n",
       "working as paid employee                       | 513     | 170\n",
       "working, self-employed                         | 82      | 47"
      ]
     },
     "execution_count": 18,
     "metadata": {},
     "output_type": "execute_result"
    }
   ],
   "source": [
    "employment = males.pivot('Marital Status', 'Employment Status')\n",
    "employment"
   ]
  },
  {
   "cell_type": "markdown",
   "metadata": {},
   "source": [
    "The arguments of `pivot` are the labels of the two columns corresponding to the variables we are studying. Categories of the first argument appear as columns; categories of the second argument are the rows.  Each cell of the table contains the number of men in a pair of categories – a particular employment status and a particular marital status."
   ]
  },
  {
   "cell_type": "markdown",
   "metadata": {},
   "source": [
    "The table shows that regardless of marital status, the men in the sample are most likely to be working as paid employees. But it is quite hard to compare the entire distributions based on this table, because the numbers of married and unmarried men in the sample are not the same. There are 742 married men but only 291 unmarried ones."
   ]
  },
  {
   "cell_type": "code",
   "execution_count": 19,
   "metadata": {
    "collapsed": false
   },
   "outputs": [
    {
     "data": {
      "text/html": [
       "<table border=\"1\" class=\"dataframe\">\n",
       "    <thead>\n",
       "        <tr>\n",
       "            <th>married</th> <th>partner</th>\n",
       "        </tr>\n",
       "    </thead>\n",
       "    <tbody>\n",
       "        <tr>\n",
       "            <td>742    </td> <td>291    </td>\n",
       "        </tr>\n",
       "    </tbody>\n",
       "</table>"
      ],
      "text/plain": [
       "married | partner\n",
       "742     | 291"
      ]
     },
     "execution_count": 19,
     "metadata": {},
     "output_type": "execute_result"
    }
   ],
   "source": [
    "employment.drop(0).sum()"
   ]
  },
  {
   "cell_type": "markdown",
   "metadata": {},
   "source": [
    "To adjust for this difference in total numbers, we will convert the counts into proportions, by dividing all the ``married`` counts by 742 and all the ``partner`` counts by 291."
   ]
  },
  {
   "cell_type": "code",
   "execution_count": 20,
   "metadata": {
    "collapsed": false
   },
   "outputs": [
    {
     "data": {
      "text/html": [
       "<table border=\"1\" class=\"dataframe\">\n",
       "    <thead>\n",
       "        <tr>\n",
       "            <th>Employment Status</th> <th>married</th> <th>partner</th>\n",
       "        </tr>\n",
       "    </thead>\n",
       "    <tbody>\n",
       "        <tr>\n",
       "            <td>not working - disabled                        </td> <td>0.0592992</td> <td>0.0687285</td>\n",
       "        </tr>\n",
       "    </tbody>\n",
       "        <tr>\n",
       "            <td>not working - looking for work                </td> <td>0.0377358</td> <td>0.113402 </td>\n",
       "        </tr>\n",
       "    </tbody>\n",
       "        <tr>\n",
       "            <td>not working - on a temporary layoff from a job</td> <td>0.0202156</td> <td>0.0274914</td>\n",
       "        </tr>\n",
       "    </tbody>\n",
       "        <tr>\n",
       "            <td>not working - other                           </td> <td>0.0215633</td> <td>0.0309278</td>\n",
       "        </tr>\n",
       "    </tbody>\n",
       "        <tr>\n",
       "            <td>not working - retired                         </td> <td>0.0592992</td> <td>0.0137457</td>\n",
       "        </tr>\n",
       "    </tbody>\n",
       "        <tr>\n",
       "            <td>working as paid employee                      </td> <td>0.691375 </td> <td>0.584192 </td>\n",
       "        </tr>\n",
       "    </tbody>\n",
       "        <tr>\n",
       "            <td>working, self-employed                        </td> <td>0.110512 </td> <td>0.161512 </td>\n",
       "        </tr>\n",
       "    </tbody>\n",
       "</table>"
      ],
      "text/plain": [
       "<IPython.core.display.HTML object>"
      ]
     },
     "metadata": {},
     "output_type": "display_data"
    }
   ],
   "source": [
    "proportions = Table().with_columns([\n",
    "        \"Employment Status\", cc.column(\"Employment Status\"),\n",
    "        \"married\", employment.column('married')/sum(employment.column('married')),\n",
    "        \"partner\", employment.column('partner')/sum(employment.column('partner'))\n",
    "    ])\n",
    "proportions.show()"
   ]
  },
  {
   "cell_type": "markdown",
   "metadata": {},
   "source": [
    "The ``married`` column of this table shows the distribution of employment status of the married men in the sample. For example, among married men, the proportion who are retired is about 0.059. The ``partner`` column shows the distribution of the employment status of the unmarried men in the sample. Among unmarried men, the proportion who are retired is about 0.014.\n",
    "\n",
    "The two distributions look different from each other in other ways too, as can be seen more clearly in the bar graphs below. It appears that a larger proportion of the married men in the sample work as paid employees, whereas a larger proportion of the unmarried men are not working but are looking for work."
   ]
  },
  {
   "cell_type": "code",
   "execution_count": 14,
   "metadata": {
    "collapsed": false,
    "scrolled": true
   },
   "outputs": [
    {
     "data": {
      "image/png": "[encoded data removed]",
      "text/plain": [
       "<matplotlib.figure.Figure at 0x10a3b0d68>"
      ]
     },
     "metadata": {},
     "output_type": "display_data"
    }
   ],
   "source": [
    "proportions.barh('Employment Status')"
   ]
  },
  {
   "cell_type": "markdown",
   "metadata": {},
   "source": [
    "The distributions of employment status of the men in the two groups – married and unmarried – is clearly different in the sample."
   ]
  },
  {
   "cell_type": "markdown",
   "metadata": {},
   "source": [
    "### Are the two distributions different in the population?\n",
    "\n",
    "This raises the question of whether the difference is due to randomness in the sampling, or whether the distributions of employment status are indeed different for married and umarried cohabiting men in the U.S. Remember that the data that we have are from a sample of just 1,033 couples; we do not know the distribution of employment status of married or unmarried cohabiting men in the entire country."
   ]
  },
  {
   "cell_type": "markdown",
   "metadata": {},
   "source": [
    "We can answer the question by performing a statistical test of hypotheses. Let us use the terminology that we developed for this in the previous section."
   ]
  },
  {
   "cell_type": "markdown",
   "metadata": {},
   "source": [
    "**Null hypothesis.** In the United States, the distribution of employment status among married men is the same as among unmarried men who live with their partners. \n",
    "\n",
    "Another way of saying this is that employment status and marital status are *independent* or *not associated*.\n",
    "\n",
    "If the null hypothesis were true, then the difference that we have observed in the sample would be just due to chance.\n",
    "\n",
    "**Alternative hypothesis.** In the United States, the distributions of the employment status of the two groups of men are different. In other words, employment status and marital status are associated in some way."
   ]
  },
  {
   "cell_type": "markdown",
   "metadata": {},
   "source": [
    "As our **test statistic**, we will use the total variation distance between two distributions. \n",
    "\n",
    "The observed value of the test statistic is about 0.15:"
   ]
  },
  {
   "cell_type": "code",
   "execution_count": 25,
   "metadata": {
    "collapsed": false
   },
   "outputs": [
    {
     "data": {
      "text/plain": [
       "0.15273571011754242"
      ]
     },
     "execution_count": 25,
     "metadata": {},
     "output_type": "execute_result"
    }
   ],
   "source": [
    "# TVD between the two distributions in the sample\n",
    "married = proportions.column('married')\n",
    "partner = proportions.column('partner')\n",
    "observed_tvd = 0.5*sum(abs(married - partner))\n",
    "observed_tvd"
   ]
  },
  {
   "cell_type": "markdown",
   "metadata": {},
   "source": [
    "### Random Permutations\n",
    "\n",
    "In order to compare this observed value of the total variation distance with what is predicted by the null hypothesis, we need to know how the total variation distance would vary across all possible random samples if employment status and marital status were not related.\n",
    "\n",
    "This is quite daunting to derive by mathematics, but let us see if we can get a good approximation by simulation.  \n",
    "\n",
    "With just one sample at hand, and no further knowledge of the distribution of employment status among men in the United States, how can we go about replicating the sampling procedure? The key is to note that *if* marital status and employment status were not connected in any way, then we could replicate the sampling process by replacing each man's employment status by a randomly picked employment status from among all the men, married and unmarried. \n",
    "\n",
    "Doing this for all the men is equivalent to randomly rearranging the entire column containing employment status, while leaving the marital status column unchanged. Such a rearrangement is called a *random permutation*."
   ]
  },
  {
   "cell_type": "markdown",
   "metadata": {},
   "source": [
    "Thus, under the null hypothesis, we can replicate the sampling process by assigning to each man an employment status chosen at random without replacement from the entries in the column `Employment Status`. We can do the replication by simply permuting the entire `Employment Status` column and leaving everything else unchanged."
   ]
  },
  {
   "cell_type": "markdown",
   "metadata": {},
   "source": [
    "Let's implement this plan. First, we will shuffle the column `empl_status` using the `sample` method, which just shuffles all the rows when provided with no arguments."
   ]
  },
  {
   "cell_type": "code",
   "execution_count": 21,
   "metadata": {
    "collapsed": false
   },
   "outputs": [
    {
     "data": {
      "text/html": [
       "<table border=\"1\" class=\"dataframe\">\n",
       "    <thead>\n",
       "        <tr>\n",
       "            <th>Employment Status</th>\n",
       "        </tr>\n",
       "    </thead>\n",
       "    <tbody>\n",
       "        <tr>\n",
       "            <td>working, self-employed  </td>\n",
       "        </tr>\n",
       "    </tbody>\n",
       "        <tr>\n",
       "            <td>working, self-employed  </td>\n",
       "        </tr>\n",
       "    </tbody>\n",
       "        <tr>\n",
       "            <td>working as paid employee</td>\n",
       "        </tr>\n",
       "    </tbody>\n",
       "        <tr>\n",
       "            <td>working as paid employee</td>\n",
       "        </tr>\n",
       "    </tbody>\n",
       "        <tr>\n",
       "            <td>working, self-employed  </td>\n",
       "        </tr>\n",
       "    </tbody>\n",
       "        <tr>\n",
       "            <td>working as paid employee</td>\n",
       "        </tr>\n",
       "    </tbody>\n",
       "        <tr>\n",
       "            <td>not working - disabled  </td>\n",
       "        </tr>\n",
       "    </tbody>\n",
       "        <tr>\n",
       "            <td>working as paid employee</td>\n",
       "        </tr>\n",
       "    </tbody>\n",
       "        <tr>\n",
       "            <td>working as paid employee</td>\n",
       "        </tr>\n",
       "    </tbody>\n",
       "        <tr>\n",
       "            <td>working as paid employee</td>\n",
       "        </tr>\n",
       "    </tbody>\n",
       "</table>\n",
       "<p>... (1023 rows omitted)</p"
      ],
      "text/plain": [
       "Employment Status\n",
       "working, self-employed\n",
       "working, self-employed\n",
       "working as paid employee\n",
       "working as paid employee\n",
       "working, self-employed\n",
       "working as paid employee\n",
       "not working - disabled\n",
       "working as paid employee\n",
       "working as paid employee\n",
       "working as paid employee\n",
       "... (1023 rows omitted)"
      ]
     },
     "execution_count": 21,
     "metadata": {},
     "output_type": "execute_result"
    }
   ],
   "source": [
    "# Randomly permute the employment status of all men\n",
    "\n",
    "shuffled = males.select('Employment Status').sample()\n",
    "shuffled"
   ]
  },
  {
   "cell_type": "markdown",
   "metadata": {},
   "source": [
    "The first two columns of the table below are taken from the original sample. The third has been created by randomly permuting the original `Employment Status` column. "
   ]
  },
  {
   "cell_type": "code",
   "execution_count": 23,
   "metadata": {
    "collapsed": false
   },
   "outputs": [
    {
     "data": {
      "text/html": [
       "<table border=\"1\" class=\"dataframe\">\n",
       "    <thead>\n",
       "        <tr>\n",
       "            <th>Marital Status</th> <th>Employment Status</th> <th>Employment Status (shuffled)</th>\n",
       "        </tr>\n",
       "    </thead>\n",
       "    <tbody>\n",
       "        <tr>\n",
       "            <td>married       </td> <td>working as paid employee                      </td> <td>working, self-employed      </td>\n",
       "        </tr>\n",
       "    </tbody>\n",
       "        <tr>\n",
       "            <td>married       </td> <td>working as paid employee                      </td> <td>working, self-employed      </td>\n",
       "        </tr>\n",
       "    </tbody>\n",
       "        <tr>\n",
       "            <td>married       </td> <td>working as paid employee                      </td> <td>working as paid employee    </td>\n",
       "        </tr>\n",
       "    </tbody>\n",
       "        <tr>\n",
       "            <td>married       </td> <td>working, self-employed                        </td> <td>working as paid employee    </td>\n",
       "        </tr>\n",
       "    </tbody>\n",
       "        <tr>\n",
       "            <td>married       </td> <td>not working - other                           </td> <td>working, self-employed      </td>\n",
       "        </tr>\n",
       "    </tbody>\n",
       "        <tr>\n",
       "            <td>married       </td> <td>not working - on a temporary layoff from a job</td> <td>working as paid employee    </td>\n",
       "        </tr>\n",
       "    </tbody>\n",
       "        <tr>\n",
       "            <td>married       </td> <td>not working - disabled                        </td> <td>not working - disabled      </td>\n",
       "        </tr>\n",
       "    </tbody>\n",
       "        <tr>\n",
       "            <td>married       </td> <td>working as paid employee                      </td> <td>working as paid employee    </td>\n",
       "        </tr>\n",
       "    </tbody>\n",
       "        <tr>\n",
       "            <td>married       </td> <td>working as paid employee                      </td> <td>working as paid employee    </td>\n",
       "        </tr>\n",
       "    </tbody>\n",
       "        <tr>\n",
       "            <td>married       </td> <td>not working - retired                         </td> <td>working as paid employee    </td>\n",
       "        </tr>\n",
       "    </tbody>\n",
       "</table>\n",
       "<p>... (1023 rows omitted)</p"
      ],
      "text/plain": [
       "Marital Status | Employment Status                              | Employment Status (shuffled)\n",
       "married        | working as paid employee                       | working, self-employed\n",
       "married        | working as paid employee                       | working, self-employed\n",
       "married        | working as paid employee                       | working as paid employee\n",
       "married        | working, self-employed                         | working as paid employee\n",
       "married        | not working - other                            | working, self-employed\n",
       "married        | not working - on a temporary layoff from a job | working as paid employee\n",
       "married        | not working - disabled                         | not working - disabled\n",
       "married        | working as paid employee                       | working as paid employee\n",
       "married        | working as paid employee                       | working as paid employee\n",
       "married        | not working - retired                          | working as paid employee\n",
       "... (1023 rows omitted)"
      ]
     },
     "execution_count": 23,
     "metadata": {},
     "output_type": "execute_result"
    }
   ],
   "source": [
    "# Construct a table in which employment status has been shuffled\n",
    "\n",
    "males_with_shuffled_empl = Table().with_columns([\n",
    "        \"Marital Status\", males.column('Marital Status'),\n",
    "        \"Employment Status\", males.column('Employment Status'),\n",
    "        \"Employment Status (shuffled)\", shuffled.column('Employment Status')\n",
    "    ])\n",
    "males_with_shuffled_empl"
   ]
  },
  {
   "cell_type": "markdown",
   "metadata": {},
   "source": [
    "Once again, the ``pivot`` method computes the contingency table, which allows us to calculate the total variation distance between the distributions of the two groups of men after their employment status has been shuffled."
   ]
  },
  {
   "cell_type": "code",
   "execution_count": 28,
   "metadata": {
    "collapsed": false
   },
   "outputs": [
    {
     "data": {
      "text/html": [
       "<table border=\"1\" class=\"dataframe\">\n",
       "    <thead>\n",
       "        <tr>\n",
       "            <th>Employment Status (shuffled)</th> <th>married</th> <th>partner</th>\n",
       "        </tr>\n",
       "    </thead>\n",
       "    <tbody>\n",
       "        <tr>\n",
       "            <td>not working - disabled                        </td> <td>48     </td> <td>16     </td>\n",
       "        </tr>\n",
       "    </tbody>\n",
       "        <tr>\n",
       "            <td>not working - looking for work                </td> <td>44     </td> <td>17     </td>\n",
       "        </tr>\n",
       "    </tbody>\n",
       "        <tr>\n",
       "            <td>not working - on a temporary layoff from a job</td> <td>16     </td> <td>7      </td>\n",
       "        </tr>\n",
       "    </tbody>\n",
       "        <tr>\n",
       "            <td>not working - other                           </td> <td>18     </td> <td>7      </td>\n",
       "        </tr>\n",
       "    </tbody>\n",
       "        <tr>\n",
       "            <td>not working - retired                         </td> <td>39     </td> <td>9      </td>\n",
       "        </tr>\n",
       "    </tbody>\n",
       "        <tr>\n",
       "            <td>working as paid employee                      </td> <td>489    </td> <td>194    </td>\n",
       "        </tr>\n",
       "    </tbody>\n",
       "        <tr>\n",
       "            <td>working, self-employed                        </td> <td>88     </td> <td>41     </td>\n",
       "        </tr>\n",
       "    </tbody>\n",
       "</table>"
      ],
      "text/plain": [
       "Employment Status (shuffled)                   | married | partner\n",
       "not working - disabled                         | 48      | 16\n",
       "not working - looking for work                 | 44      | 17\n",
       "not working - on a temporary layoff from a job | 16      | 7\n",
       "not working - other                            | 18      | 7\n",
       "not working - retired                          | 39      | 9\n",
       "working as paid employee                       | 489     | 194\n",
       "working, self-employed                         | 88      | 41"
      ]
     },
     "execution_count": 28,
     "metadata": {},
     "output_type": "execute_result"
    }
   ],
   "source": [
    "employment_shuffled = males_with_shuffled_empl.pivot('Marital Status', 'Employment Status (shuffled)')\n",
    "employment_shuffled"
   ]
  },
  {
   "cell_type": "code",
   "execution_count": 32,
   "metadata": {
    "collapsed": false
   },
   "outputs": [
    {
     "data": {
      "text/plain": [
       "0.032423745611841297"
      ]
     },
     "execution_count": 32,
     "metadata": {},
     "output_type": "execute_result"
    }
   ],
   "source": [
    "# TVD between the two distributions in the contingency table above\n",
    "e_s = employment_shuffled\n",
    "married = e_s.column('married')/sum(e_s.column('married'))\n",
    "partner = e_s.column('partner')/sum(e_s.column('partner'))\n",
    "0.5*sum(abs(married - partner))"
   ]
  },
  {
   "cell_type": "markdown",
   "metadata": {},
   "source": [
    "This total variation distance was computed based on the null hypothesis that the distributions of employment status for the two groups of men are the same. You can see that it is noticeably smaller than the observed value of the total variation distance (0.15) between the two groups in our original sample. "
   ]
  },
  {
   "cell_type": "markdown",
   "metadata": {},
   "source": [
    "### A Permutation Test\n",
    "\n",
    "Could this just be due to chance variation? We will only know if we run many more replications, by randomly permuting the ``Employment Status`` column repeatedly. This method of testing is known as a **permutation test**."
   ]
  },
  {
   "cell_type": "code",
   "execution_count": 51,
   "metadata": {
    "collapsed": false
   },
   "outputs": [
    {
     "data": {
      "image/png": "[encoded data removed]",
      "text/plain": [
       "<matplotlib.figure.Figure at 0x10e2f4ef0>"
      ]
     },
     "metadata": {},
     "output_type": "display_data"
    }
   ],
   "source": [
    "# Put it all together in a for loop to perform a permutation test\n",
    "\n",
    "repetitions = 500\n",
    "\n",
    "tvds = Table().with_column(\"TVD between married and partnered men\", [])\n",
    "\n",
    "for i in np.arange(repetitions):\n",
    "    # Construct a permuted table\n",
    "    shuffled = males.select('Employment Status').sample()\n",
    "    combined = Table().with_columns([\n",
    "            \"Marital Status\", males.column('Marital Status'),\n",
    "            \"Employment Status\", shuffled.column('Employment Status')\n",
    "        ])\n",
    "    employment_shuffled = combined.pivot('Marital Status', 'Employment Status')\n",
    "    \n",
    "    # Compute TVD\n",
    "    e_s = employment_shuffled\n",
    "    married = e_s.column('married')/sum(e_s.column('married'))\n",
    "    partner = e_s.column('partner')/sum(e_s.column('partner'))\n",
    "    permutation_tvd = 0.5*sum(abs(married - partner))\n",
    "    tvds.append([permutation_tvd])\n",
    "\n",
    "tvds.hist(bins=np.arange(0, 0.2, 0.01))"
   ]
  },
  {
   "cell_type": "markdown",
   "metadata": {},
   "source": [
    "The figure above is the **empirical distribution of the total variation distance** between the distributions of the employment status of married and unmarried men, under the null hypothesis. \n",
    "\n",
    "**The observed test statistic of 0.15 is quite far in the tail, and so the chance of observing such an extreme value under the null hypothesis is close to 0**. \n",
    "\n",
    "As before, this chance is called an empirical P-value. The P-value is the chance that our test statistic (TVD) would come out at least as extreme as the observed value (in this case 0.15 or greater) under the null hypothesis.  "
   ]
  },
  {
   "cell_type": "markdown",
   "metadata": {},
   "source": [
    "### Conclusion of the test\n",
    "\n",
    "Our empirical estimate based on repeated sampling gives us all the information we need for drawing conclusions from the data: the observed statistic is very unlikely under the null hypothesis. \n",
    "\n",
    "The low P-value constitutes **evidence in favor of the alternative hypothesis**. The data support the hypothesis that in the United States, the distribution of the employment status of married men is not the same as that of unmarried men who live with their partners.\n",
    "\n",
    "We have just completed our first *permutation test*. Permutation tests are quite common in practice because they make very few assumptions about the underlying population and are straightforward to perform and interpret."
   ]
  },
  {
   "cell_type": "markdown",
   "metadata": {},
   "source": [
    "**Note about the approximate P-value**\n",
    "\n",
    "Our simulation gives us an approximate empirical P-value, because it is based on just 500 random permutations instead of all the possible random permutations. We can compute this empirical P-value directly, without drawing the histogram:"
   ]
  },
  {
   "cell_type": "code",
   "execution_count": 42,
   "metadata": {
    "collapsed": false
   },
   "outputs": [
    {
     "data": {
      "text/plain": [
       "0.0"
      ]
     },
     "execution_count": 42,
     "metadata": {},
     "output_type": "execute_result"
    }
   ],
   "source": [
    "empirical_p_value = np.count_nonzero(tvds.column(0) >= observed_tvd) / tvds.num_rows\n",
    "empirical_p_value"
   ]
  },
  {
   "cell_type": "markdown",
   "metadata": {},
   "source": [
    "Computing the exact P-value would require us to consider all possible outcomes of shuffling (which is very large) instead of 500 random shuffles. If we had performed all the random shuffles, there would have been a few with more extreme TVDs. The true P-value is greater than zero, but not by much."
   ]
  },
  {
   "cell_type": "markdown",
   "metadata": {},
   "source": [
    "### Generalizing Our Hypothesis Test\n",
    "\n",
    "The example above includes a substantial amount of code in order to investigate the relationship between two characteristics (marital status and employment status) for a particular subset of the surveyed population (males). Suppose we would like to investigate different characteristics or a different population. How can we reuse the code we have written so far in order to explore more relationships?\n",
    "\n",
    "When you are about to copy your code, you should think, \"Maybe I should write some functions.\""
   ]
  },
  {
   "cell_type": "markdown",
   "metadata": {},
   "source": [
    "What functions to write? A good way to make this decision is to think about what you have to compute repeatedly. \n",
    "\n",
    "In our example, the total variation distance is computed over and over again. So we will begin with a generalized computation of total variation distance between the distribution of any column of values (such as employment status) when separated into any two conditions (such as marital status) for a collection of data described by any table. Our implementation includes the same statements as we used above, but uses generic names that are specified by the final function call."
   ]
  },
  {
   "cell_type": "code",
   "execution_count": 36,
   "metadata": {
    "collapsed": false
   },
   "outputs": [
    {
     "data": {
      "text/plain": [
       "0.15273571011754242"
      ]
     },
     "execution_count": 36,
     "metadata": {},
     "output_type": "execute_result"
    }
   ],
   "source": [
    "# TVD between the distributions of values under any two conditions\n",
    "\n",
    "def tvd(t, conditions, values):\n",
    "    \"\"\"Compute the total variation distance \n",
    "    between proportions of values under two conditions.\n",
    "    \n",
    "    t          (Table) -- a table\n",
    "    conditions (str)   -- a column label in t; should have only two categories\n",
    "    values     (str)   -- a column label in t\n",
    "    \"\"\"\n",
    "    e = t.pivot(conditions, values)\n",
    "    a = e.column(1)\n",
    "    b = e.column(2)\n",
    "    return 0.5*sum(abs(a/sum(a) - b/sum(b)))\n",
    "\n",
    "tvd(males, 'Marital Status', 'Employment Status')"
   ]
  },
  {
   "cell_type": "markdown",
   "metadata": {},
   "source": [
    "Next, we can write a function that performs a permutation test using this `tvd` function to compute the same statistic on shuffled variants of any table. It's worth reading through this implementation to understand its details. "
   ]
  },
  {
   "cell_type": "code",
   "execution_count": 55,
   "metadata": {
    "collapsed": false
   },
   "outputs": [],
   "source": [
    "def permutation_tvd(original, conditions, values):\n",
    "    \"\"\"\n",
    "    Perform a permutation test of whether \n",
    "    the distribution of values for two conditions \n",
    "    is the same in the population,\n",
    "    using the total variation distance between two distributions\n",
    "    as the test statistic.\n",
    "    \n",
    "    original is a Table with two columns.  The value of the argument\n",
    "    conditions is the name of one column, and the value of the argument\n",
    "    values is the name of the other column.  The conditions table should\n",
    "    have only 2 possible values corresponding to 2 categories in the\n",
    "    data.\n",
    "    \n",
    "    The values column is shuffled many times, and the data are grouped\n",
    "    according to the conditions column.  The total variation distance\n",
    "    between the proportions values in the 2 categories is computed.  \n",
    "    \n",
    "    Then we draw a histogram of all those TV distances.  This shows us \n",
    "    what the TVD between the values of the two distributions would typically\n",
    "    look like if the values were independent of the conditions.\n",
    "    \"\"\"\n",
    "    repetitions = 500\n",
    "    stats = []\n",
    "\n",
    "    for i in np.arange(repetitions):\n",
    "        shuffled = original.sample()\n",
    "        combined = Table().with_columns([\n",
    "                conditions, original.column(conditions),\n",
    "                values, shuffled.column(values)\n",
    "            ])\n",
    "        stats.append(tvd(combined, conditions, values))\n",
    "\n",
    "    observation = tvd(original, conditions, values)\n",
    "    p_value = np.count_nonzero(stats >= observation) / repetitions\n",
    "    \n",
    "    print(\"Observation:\", observation)\n",
    "    print(\"Empirical P-value:\", p_value)\n",
    "    Table([stats], ['Empirical distribution']).hist()"
   ]
  },
  {
   "cell_type": "code",
   "execution_count": 56,
   "metadata": {
    "collapsed": false
   },
   "outputs": [
    {
     "name": "stdout",
     "output_type": "stream",
     "text": [
      "Observation: 0.152735710118\n",
      "Empirical P-value: 0.0\n"
     ]
    },
    {
     "data": {
      "image/png": "[encoded data removed]",
      "text/plain": [
       "<matplotlib.figure.Figure at 0x110214470>"
      ]
     },
     "metadata": {},
     "output_type": "display_data"
    }
   ],
   "source": [
    "permutation_tvd(males, 'Marital Status', 'Employment Status')"
   ]
  },
  {
   "cell_type": "markdown",
   "metadata": {},
   "source": [
    "Now that we have generalized our permutation test, we can apply it to other hypotheses. For example, we can compare the distribution over the employment status of women, grouping them by their marital status. In the case of men we found a difference, but what about with women? First, we can visualize the two distributions. "
   ]
  },
  {
   "cell_type": "code",
   "execution_count": 40,
   "metadata": {
    "collapsed": false
   },
   "outputs": [
    {
     "data": {
      "image/png": "[encoded data removed]",
      "text/plain": [
       "<matplotlib.figure.Figure at 0x109a466d8>"
      ]
     },
     "metadata": {},
     "output_type": "display_data"
    }
   ],
   "source": [
    "def compare_bar(t, conditions, values):\n",
    "    \"\"\"Bargraphs of distributions of values for each of two conditions.\"\"\"\n",
    "    e = t.pivot(conditions, values)\n",
    "    for label in e.drop(0).labels:\n",
    "        # Convert each column of counts into proportions\n",
    "        e.append_column(label, e.column(label)/sum(e.column(label))) \n",
    "    e.barh(values)\n",
    "\n",
    "compare_bar(couples.where('Gender', 'female'), 'Marital Status', 'Employment Status')"
   ]
  },
  {
   "cell_type": "markdown",
   "metadata": {},
   "source": [
    "A glance at the figure shows that the two distributions are different in the sample. The difference in the category \"Not working – other\" is particularly striking: about 22% of the married women are in this category, compared to only about 8% of the unmarried women. There are several reasons for this difference. For example, the percent of homemakers is greater among married women than among unmarried women, possibly because married women are more likely to be \"stay-at-home\" mothers of young children. The difference could also be generational: as we saw earlier, the married couples are older than the unmarried partners, and older women are less likely to be in the workforce than younger women."
   ]
  },
  {
   "cell_type": "markdown",
   "metadata": {},
   "source": [
    "While we can see that the distributions are different in the sample, we are not really interested in the sample for its own sake. We are examining the sample because it is likely to reflect the population. So, as before, we will use the sample to try to answer a question about something unknown: the distributions of employment status of married and unmarried cohabiting women *in the United States*. That is the population from which the sample was drawn.\n",
    "\n",
    "We have to consider the possibility that the observed difference in the sample could simply be the result of chance variation. Remember that our data are only from a random sample of couples. We do not have data for all the couples in the United States. "
   ]
  },
  {
   "cell_type": "markdown",
   "metadata": {},
   "source": [
    "**Null hypothesis**: In the U.S., the distribution of employment status is the same for married women as for unmarried women living with their partners. The difference in the sample is due to chance.\n",
    "\n",
    "**Alternative hypothesis**: In the U.S., the distributions of employment status among married and unmarried cohabiting women are different."
   ]
  },
  {
   "cell_type": "markdown",
   "metadata": {},
   "source": [
    "### Another permutation test to compare distributions\n",
    "\n",
    "We can test these hypotheses just as we did for men, by using the function ``permuation_tvd`` that we defined for this purpose."
   ]
  },
  {
   "cell_type": "code",
   "execution_count": 57,
   "metadata": {
    "collapsed": false
   },
   "outputs": [
    {
     "name": "stdout",
     "output_type": "stream",
     "text": [
      "Observation: 0.194755513565\n",
      "Empirical P-value: 0.0\n"
     ]
    },
    {
     "data": {
      "image/png": "[encoded data removed]",
      "text/plain": [
       "<matplotlib.figure.Figure at 0x10e2ae4a8>"
      ]
     },
     "metadata": {},
     "output_type": "display_data"
    }
   ],
   "source": [
    "permutation_tvd(couples.where('Gender', 'female'), 'Marital Status', 'Employment Status')"
   ]
  },
  {
   "cell_type": "markdown",
   "metadata": {},
   "source": [
    "As for the males, the empirical P-value is 0 based on a lare number of repetitions. So the exact P-value is close to 0, which is evidence in favor of the alternative hypothesis. The data support the hypothesis that for women in the United States, employment status is associated with whether they are married or unmarried and living with their partners."
   ]
  },
  {
   "cell_type": "markdown",
   "metadata": {},
   "source": [
    "### Another example\n",
    "\n",
    "Are gender and employment status independent in the population? We are now in a position to test this quite swiftly:\n",
    "\n",
    "**Null hypothesis.** Among married and unmarried cohabiting individuals in the United States, gender is independent of employment status.\n",
    "\n",
    "**Alternative hypothesis.** Among married and unmarried cohabiting people in the United States, gender and employment status are related."
   ]
  },
  {
   "cell_type": "code",
   "execution_count": 69,
   "metadata": {
    "collapsed": false
   },
   "outputs": [
    {
     "name": "stdout",
     "output_type": "stream",
     "text": [
      "Observation: 0.185866408519\n",
      "Empirical P-value: 0.0\n"
     ]
    },
    {
     "data": {
      "image/png": "[encoded data removed]",
      "text/plain": [
       "<matplotlib.figure.Figure at 0x10e0bba20>"
      ]
     },
     "metadata": {},
     "output_type": "display_data"
    }
   ],
   "source": [
    "permutation_tvd(couples, 'Gender', 'Employment Status')"
   ]
  },
  {
   "cell_type": "markdown",
   "metadata": {},
   "source": [
    "The conclusion of the test is that gender and employment status are not independent in the population. This is no surprise; for example, because of societal norms, older women were less likely to have gone into the workforce than men."
   ]
  },
  {
   "cell_type": "markdown",
   "metadata": {},
   "source": [
    "### Deflategate: Permutation Tests and Quantitative Variables\n",
    "\n",
    "On January 18, 2015, the Indianapolis Colts and the New England Patriots played the American Football Conference (AFC) championship game to determine which of those teams would play in the Super Bowl. After the game, there were allegations that the Patriots' footballs had not been inflated as much as the regulations required; they were softer. This could be an advantage, as softer balls might be easier to catch.\n",
    "\n",
    "For several weeks, the world of American football was consumed by accusations, denials, theories, and suspicions: the press labeled the topic Deflategate, after the Watergate political scandal of the 1970's. The National Football League (NFL) commissioned an independent analysis. In this example, we will perform our own analysis of the data.\n",
    "\n",
    "Pressure is often measured in pounds per square inch (psi). NFL rules stipulate that game balls must be inflated to have pressures in the range 12.5 psi and 13.5 psi. Each team plays with 12 balls. Teams have the responsibility of maintaining the pressure in their own footballs, but game officials inspect the balls. Before the start of the AFC game, all the Patriots' balls were at about 12.5 psi. Most of the Colts' balls were at about 13.0 psi. However, these pre-game data were not recorded.\n",
    "\n",
    "During the second quarter, the Colts intercepted a Patriots ball. On the sidelines, they measured the pressure of the ball and determined that it was below the 12.5 psi threshold. Promptly, they informed officials. \n",
    "\n",
    "At half-time, all the game balls were collected for inspection. Two officials, Clete Blakeman and Dyrol Prioleau, measured the pressure in each of the balls. Here are the data; pressure is measured in psi. The Patriots ball that had been intercepted by the Colts was not inspected at half-time. Nor were most of the Colts' balls – the officials simply ran out of time and had to relinquish the balls for the start of second half play."
   ]
  },
  {
   "cell_type": "code",
   "execution_count": 70,
   "metadata": {
    "collapsed": false
   },
   "outputs": [
    {
     "data": {
      "text/html": [
       "<table border=\"1\" class=\"dataframe\">\n",
       "    <thead>\n",
       "        <tr>\n",
       "            <th>Team</th> <th>Ball</th> <th>Blakeman</th> <th>Prioleau</th>\n",
       "        </tr>\n",
       "    </thead>\n",
       "    <tbody>\n",
       "        <tr>\n",
       "            <td>0   </td> <td>Patriots 1 </td> <td>11.5    </td> <td>11.8    </td>\n",
       "        </tr>\n",
       "    </tbody>\n",
       "        <tr>\n",
       "            <td>0   </td> <td>Patriots 2 </td> <td>10.85   </td> <td>11.2    </td>\n",
       "        </tr>\n",
       "    </tbody>\n",
       "        <tr>\n",
       "            <td>0   </td> <td>Patriots 3 </td> <td>11.15   </td> <td>11.5    </td>\n",
       "        </tr>\n",
       "    </tbody>\n",
       "        <tr>\n",
       "            <td>0   </td> <td>Patriots 4 </td> <td>10.7    </td> <td>11      </td>\n",
       "        </tr>\n",
       "    </tbody>\n",
       "        <tr>\n",
       "            <td>0   </td> <td>Patriots 5 </td> <td>11.1    </td> <td>11.45   </td>\n",
       "        </tr>\n",
       "    </tbody>\n",
       "        <tr>\n",
       "            <td>0   </td> <td>Patriots 6 </td> <td>11.6    </td> <td>11.95   </td>\n",
       "        </tr>\n",
       "    </tbody>\n",
       "        <tr>\n",
       "            <td>0   </td> <td>Patriots 7 </td> <td>11.85   </td> <td>12.3    </td>\n",
       "        </tr>\n",
       "    </tbody>\n",
       "        <tr>\n",
       "            <td>0   </td> <td>Patriots 8 </td> <td>11.1    </td> <td>11.55   </td>\n",
       "        </tr>\n",
       "    </tbody>\n",
       "        <tr>\n",
       "            <td>0   </td> <td>Patriots 9 </td> <td>10.95   </td> <td>11.35   </td>\n",
       "        </tr>\n",
       "    </tbody>\n",
       "        <tr>\n",
       "            <td>0   </td> <td>Patriots 10</td> <td>10.5    </td> <td>10.9    </td>\n",
       "        </tr>\n",
       "    </tbody>\n",
       "        <tr>\n",
       "            <td>0   </td> <td>Patriots 11</td> <td>10.9    </td> <td>11.35   </td>\n",
       "        </tr>\n",
       "    </tbody>\n",
       "        <tr>\n",
       "            <td>1   </td> <td>Colts 1    </td> <td>12.7    </td> <td>12.35   </td>\n",
       "        </tr>\n",
       "    </tbody>\n",
       "        <tr>\n",
       "            <td>1   </td> <td>Colts 2    </td> <td>12.75   </td> <td>12.3    </td>\n",
       "        </tr>\n",
       "    </tbody>\n",
       "        <tr>\n",
       "            <td>1   </td> <td>Colts 3    </td> <td>12.5    </td> <td>12.95   </td>\n",
       "        </tr>\n",
       "    </tbody>\n",
       "        <tr>\n",
       "            <td>1   </td> <td>Colts 4    </td> <td>12.55   </td> <td>12.15   </td>\n",
       "        </tr>\n",
       "    </tbody>\n",
       "</table>"
      ],
      "text/plain": [
       "<IPython.core.display.HTML object>"
      ]
     },
     "metadata": {},
     "output_type": "display_data"
    }
   ],
   "source": [
    "football = Table.read_table('football.csv')\n",
    "football.show()"
   ]
  },
  {
   "cell_type": "markdown",
   "metadata": {},
   "source": [
    "For each of the 15 balls that were inspected, the two officials got different results. It is not uncommon that repeated measurements on the same object yield different results, especially when the measurements are performed by different people. So we will assign to each the ball the average of the two measurements made on that ball."
   ]
  },
  {
   "cell_type": "code",
   "execution_count": 72,
   "metadata": {
    "collapsed": false
   },
   "outputs": [
    {
     "data": {
      "text/html": [
       "<table border=\"1\" class=\"dataframe\">\n",
       "    <thead>\n",
       "        <tr>\n",
       "            <th>Team</th> <th>Ball</th> <th>Blakeman</th> <th>Prioleau</th> <th>Combined</th>\n",
       "        </tr>\n",
       "    </thead>\n",
       "    <tbody>\n",
       "        <tr>\n",
       "            <td>0   </td> <td>Patriots 1 </td> <td>11.5    </td> <td>11.8    </td> <td>11.65   </td>\n",
       "        </tr>\n",
       "    </tbody>\n",
       "        <tr>\n",
       "            <td>0   </td> <td>Patriots 2 </td> <td>10.85   </td> <td>11.2    </td> <td>11.025  </td>\n",
       "        </tr>\n",
       "    </tbody>\n",
       "        <tr>\n",
       "            <td>0   </td> <td>Patriots 3 </td> <td>11.15   </td> <td>11.5    </td> <td>11.325  </td>\n",
       "        </tr>\n",
       "    </tbody>\n",
       "        <tr>\n",
       "            <td>0   </td> <td>Patriots 4 </td> <td>10.7    </td> <td>11      </td> <td>10.85   </td>\n",
       "        </tr>\n",
       "    </tbody>\n",
       "        <tr>\n",
       "            <td>0   </td> <td>Patriots 5 </td> <td>11.1    </td> <td>11.45   </td> <td>11.275  </td>\n",
       "        </tr>\n",
       "    </tbody>\n",
       "        <tr>\n",
       "            <td>0   </td> <td>Patriots 6 </td> <td>11.6    </td> <td>11.95   </td> <td>11.775  </td>\n",
       "        </tr>\n",
       "    </tbody>\n",
       "        <tr>\n",
       "            <td>0   </td> <td>Patriots 7 </td> <td>11.85   </td> <td>12.3    </td> <td>12.075  </td>\n",
       "        </tr>\n",
       "    </tbody>\n",
       "        <tr>\n",
       "            <td>0   </td> <td>Patriots 8 </td> <td>11.1    </td> <td>11.55   </td> <td>11.325  </td>\n",
       "        </tr>\n",
       "    </tbody>\n",
       "        <tr>\n",
       "            <td>0   </td> <td>Patriots 9 </td> <td>10.95   </td> <td>11.35   </td> <td>11.15   </td>\n",
       "        </tr>\n",
       "    </tbody>\n",
       "        <tr>\n",
       "            <td>0   </td> <td>Patriots 10</td> <td>10.5    </td> <td>10.9    </td> <td>10.7    </td>\n",
       "        </tr>\n",
       "    </tbody>\n",
       "        <tr>\n",
       "            <td>0   </td> <td>Patriots 11</td> <td>10.9    </td> <td>11.35   </td> <td>11.125  </td>\n",
       "        </tr>\n",
       "    </tbody>\n",
       "        <tr>\n",
       "            <td>1   </td> <td>Colts 1    </td> <td>12.7    </td> <td>12.35   </td> <td>12.525  </td>\n",
       "        </tr>\n",
       "    </tbody>\n",
       "        <tr>\n",
       "            <td>1   </td> <td>Colts 2    </td> <td>12.75   </td> <td>12.3    </td> <td>12.525  </td>\n",
       "        </tr>\n",
       "    </tbody>\n",
       "        <tr>\n",
       "            <td>1   </td> <td>Colts 3    </td> <td>12.5    </td> <td>12.95   </td> <td>12.725  </td>\n",
       "        </tr>\n",
       "    </tbody>\n",
       "        <tr>\n",
       "            <td>1   </td> <td>Colts 4    </td> <td>12.55   </td> <td>12.15   </td> <td>12.35   </td>\n",
       "        </tr>\n",
       "    </tbody>\n",
       "</table>"
      ],
      "text/plain": [
       "<IPython.core.display.HTML object>"
      ]
     },
     "metadata": {},
     "output_type": "display_data"
    }
   ],
   "source": [
    "football = football.with_column(\n",
    "    'Combined', (football.column('Blakeman')+football.column('Prioleau'))/2\n",
    "    )\n",
    "football.show()"
   ]
  },
  {
   "cell_type": "markdown",
   "metadata": {},
   "source": [
    "At a glance, it seems apparent that the Patriots' footballs were at a lower pressure than the Colts' balls. Because some deflation is normal during the course of a game, the independent analysts decided to calculate the drop in pressure from the start of the game. Recall that the Patriots' balls had all started out at about 12.5 psi, and the Colts' balls at about 13.0 psi. Therefore the drop in pressure for the Patriots' balls was computed as 12.5 minus the pressure at half-time, and the drop in pressure for the Colts' balls was 13.0 minus the pressure at half-time."
   ]
  },
  {
   "cell_type": "code",
   "execution_count": 73,
   "metadata": {
    "collapsed": false
   },
   "outputs": [
    {
     "data": {
      "text/html": [
       "<table border=\"1\" class=\"dataframe\">\n",
       "    <thead>\n",
       "        <tr>\n",
       "            <th>Team</th> <th>Ball</th> <th>Blakeman</th> <th>Prioleau</th> <th>Combined</th> <th>Drop</th>\n",
       "        </tr>\n",
       "    </thead>\n",
       "    <tbody>\n",
       "        <tr>\n",
       "            <td>0   </td> <td>Patriots 1 </td> <td>11.5    </td> <td>11.8    </td> <td>11.65   </td> <td>0.85 </td>\n",
       "        </tr>\n",
       "    </tbody>\n",
       "        <tr>\n",
       "            <td>0   </td> <td>Patriots 2 </td> <td>10.85   </td> <td>11.2    </td> <td>11.025  </td> <td>1.475</td>\n",
       "        </tr>\n",
       "    </tbody>\n",
       "        <tr>\n",
       "            <td>0   </td> <td>Patriots 3 </td> <td>11.15   </td> <td>11.5    </td> <td>11.325  </td> <td>1.175</td>\n",
       "        </tr>\n",
       "    </tbody>\n",
       "        <tr>\n",
       "            <td>0   </td> <td>Patriots 4 </td> <td>10.7    </td> <td>11      </td> <td>10.85   </td> <td>1.65 </td>\n",
       "        </tr>\n",
       "    </tbody>\n",
       "        <tr>\n",
       "            <td>0   </td> <td>Patriots 5 </td> <td>11.1    </td> <td>11.45   </td> <td>11.275  </td> <td>1.225</td>\n",
       "        </tr>\n",
       "    </tbody>\n",
       "        <tr>\n",
       "            <td>0   </td> <td>Patriots 6 </td> <td>11.6    </td> <td>11.95   </td> <td>11.775  </td> <td>0.725</td>\n",
       "        </tr>\n",
       "    </tbody>\n",
       "        <tr>\n",
       "            <td>0   </td> <td>Patriots 7 </td> <td>11.85   </td> <td>12.3    </td> <td>12.075  </td> <td>0.425</td>\n",
       "        </tr>\n",
       "    </tbody>\n",
       "        <tr>\n",
       "            <td>0   </td> <td>Patriots 8 </td> <td>11.1    </td> <td>11.55   </td> <td>11.325  </td> <td>1.175</td>\n",
       "        </tr>\n",
       "    </tbody>\n",
       "        <tr>\n",
       "            <td>0   </td> <td>Patriots 9 </td> <td>10.95   </td> <td>11.35   </td> <td>11.15   </td> <td>1.35 </td>\n",
       "        </tr>\n",
       "    </tbody>\n",
       "        <tr>\n",
       "            <td>0   </td> <td>Patriots 10</td> <td>10.5    </td> <td>10.9    </td> <td>10.7    </td> <td>1.8  </td>\n",
       "        </tr>\n",
       "    </tbody>\n",
       "        <tr>\n",
       "            <td>0   </td> <td>Patriots 11</td> <td>10.9    </td> <td>11.35   </td> <td>11.125  </td> <td>1.375</td>\n",
       "        </tr>\n",
       "    </tbody>\n",
       "        <tr>\n",
       "            <td>1   </td> <td>Colts 1    </td> <td>12.7    </td> <td>12.35   </td> <td>12.525  </td> <td>0.475</td>\n",
       "        </tr>\n",
       "    </tbody>\n",
       "        <tr>\n",
       "            <td>1   </td> <td>Colts 2    </td> <td>12.75   </td> <td>12.3    </td> <td>12.525  </td> <td>0.475</td>\n",
       "        </tr>\n",
       "    </tbody>\n",
       "        <tr>\n",
       "            <td>1   </td> <td>Colts 3    </td> <td>12.5    </td> <td>12.95   </td> <td>12.725  </td> <td>0.275</td>\n",
       "        </tr>\n",
       "    </tbody>\n",
       "        <tr>\n",
       "            <td>1   </td> <td>Colts 4    </td> <td>12.55   </td> <td>12.15   </td> <td>12.35   </td> <td>0.65 </td>\n",
       "        </tr>\n",
       "    </tbody>\n",
       "</table>"
      ],
      "text/plain": [
       "<IPython.core.display.HTML object>"
      ]
     },
     "metadata": {},
     "output_type": "display_data"
    }
   ],
   "source": [
    "football = football.with_column(\n",
    "    'Drop', np.array([12.5]*11 + [13.0]*4) - football.column('Combined')\n",
    "    )\n",
    "football.show()"
   ]
  },
  {
   "cell_type": "markdown",
   "metadata": {},
   "source": [
    "It is apparent that the drop was larger, on average, for the Patriots' footballs. But could the difference be just due to chance? \n",
    "\n",
    "To answer this, we must first examine how chance might enter the analysis. This is not a situation in which there is a random sample of data from a large population. It is also not clear how to create a justifiable abstract chance model, as the balls were all different, inflated by different people, and maintained under different conditions. \n",
    "\n",
    "One way to introduce chances is to ask whether the drops in pressures of the 11 Patriots balls and the 4 Colts balls resemble a random permutation of the 15 drops. Then the 4 Colts drops would be a simple random sample of all 15 drops. This gives us a null hypothesis that we can test using random permutations.\n",
    "\n",
    "**Null hypothesis.** The drops in the pressures of the 4 Colts balls are like a random sample (without replacement) from all 15 drops."
   ]
  },
  {
   "cell_type": "markdown",
   "metadata": {},
   "source": [
    "#### A new test statistic\n",
    "\n",
    "The data are quantitative, so we cannot compare the two distributions category by category using the total variation distance. If we try to bin the data in order to use the TVD, the choice of bins can a noticeable effect on the statistic. So instead, we will work with a simple statistic based on means. We will just compare the average drops in the two groups.\n",
    "\n",
    "The observed difference between the average drops in the two groups was about 0.7335 psi."
   ]
  },
  {
   "cell_type": "code",
   "execution_count": 75,
   "metadata": {
    "collapsed": false
   },
   "outputs": [
    {
     "data": {
      "text/plain": [
       "0.73352272727272805"
      ]
     },
     "execution_count": 75,
     "metadata": {},
     "output_type": "execute_result"
    }
   ],
   "source": [
    "patriots = football.where('Team', 0).column('Drop')\n",
    "colts = football.where('Team', 1).column('Drop')\n",
    "observed_difference = np.mean(patriots) - np.mean(colts)\n",
    "observed_difference"
   ]
  },
  {
   "cell_type": "markdown",
   "metadata": {},
   "source": [
    "Now the question becomes: If we took a random permutation of the 15 drops, how likely is it that the difference in the means of the first 11 and the last 4 would be at least as large as the difference observed by the officials?"
   ]
  },
  {
   "cell_type": "markdown",
   "metadata": {},
   "source": [
    "To answer this, we will randomly permute the 15 drops, assign the first 11 permuted values to the Patriots and the last 4 to the Colts. Then we will find the difference in the means of the two permuted groups."
   ]
  },
  {
   "cell_type": "code",
   "execution_count": 97,
   "metadata": {
    "collapsed": false
   },
   "outputs": [
    {
     "data": {
      "text/plain": [
       "0.010000000000000675"
      ]
     },
     "execution_count": 97,
     "metadata": {},
     "output_type": "execute_result"
    }
   ],
   "source": [
    "drops_shuffled = football.sample().column('Drop')\n",
    "patriots_shuffled = drops_shuffled[:10]\n",
    "colts_shuffled = drops_shuffled[11:]\n",
    "shuffled_difference = np.mean(patriots_shuffled) - np.mean(colts_shuffled)\n",
    "shuffled_difference"
   ]
  },
  {
   "cell_type": "markdown",
   "metadata": {},
   "source": [
    "This is different from the observed value we calculated earlier. But to get a better sense of the variability under random sampling we must repeat the process many times. Let us try making 5000 repetitions and drawing a histogram of the 5000 differences between means."
   ]
  },
  {
   "cell_type": "code",
   "execution_count": 100,
   "metadata": {
    "collapsed": false
   },
   "outputs": [
    {
     "name": "stdout",
     "output_type": "stream",
     "text": [
      "Observation: 0.733522727273\n",
      "Empirical P-value: 0.0028\n"
     ]
    },
    {
     "data": {
      "image/png": "[encoded data removed]",
      "text/plain": [
       "<matplotlib.figure.Figure at 0x117d22c18>"
      ]
     },
     "metadata": {},
     "output_type": "display_data"
    }
   ],
   "source": [
    "repetitions = 5000\n",
    "\n",
    "test_stats = []\n",
    "for i in range(repetitions):\n",
    "    drops_shuffled = football.sample().column('Drop')\n",
    "    patriots_shuffled = drops_shuffled[:10]\n",
    "    colts_shuffled = drops_shuffled[11:]\n",
    "    shuffled_difference = np.mean(patriots_shuffled) - np.mean(colts_shuffled)\n",
    "    test_stats.append(shuffled_difference)\n",
    "    \n",
    "observation = np.mean(patriots) - np.mean(colts)\n",
    "emp_p_value = np.count_nonzero(test_stats >= observation) / repetitions\n",
    "\n",
    "differences = Table().with_column('Difference in Means', test_stats)\n",
    "differences.hist(bins=20)\n",
    "print(\"Observation:\", observation)\n",
    "print(\"Empirical P-value:\", emp_p_value)"
   ]
  },
  {
   "cell_type": "markdown",
   "metadata": {},
   "source": [
    "The observed difference was roughly 0.7335 psi. According to the empirical distribution above, there is a very small chance that a random permutation would yield a difference that large. So the data support the conclusion that the two groups of pressures were not like a random permutation of all 15 pressures."
   ]
  },
  {
   "cell_type": "markdown",
   "metadata": {},
   "source": [
    "The independent investiagtive team analyzed the data in several different ways, taking into account the laws of physics. The final report said, \n",
    "\n",
    "\"[T]he average pressure drop of the Patriots game balls exceeded the average pressure drop of the Colts balls by 0.45 to 1.02 psi, depending on various possible assumptions regarding the gauges used, and assuming an initial pressure of 12.5 psi for the Patriots balls and 13.0 for the Colts balls.\"\n",
    "\n",
    "-- *Investigative report commissioned by the NFL regarding the AFC Championship game on January 18, 2015*\n",
    "\n",
    "Our analysis shows an average pressure drop of about 0.73 psi, which is consistent with the official analysis.\n",
    "\n",
    "The all-important question in the football world was whether the excess drop of pressure in the Patriots' footballs was deliberate. To that question, the data have no answer. If you are curious about the answer given by the investigators, here is the [full report](https://nfllabor.files.wordpress.com/2015/05/investigative-and-expert-reports-re-footballs-used-during-afc-championsh.pdf)."
   ]
  },
  {
   "cell_type": "code",
   "execution_count": null,
   "metadata": {
    "collapsed": true
   },
   "outputs": [],
   "source": []
  }
 ],
 "metadata": {
  "anaconda-cloud": {},
  "kernelspec": {
   "display_name": "Python [Root]",
   "language": "python",
   "name": "Python [Root]"
  },
  "language_info": {
   "codemirror_mode": {
    "name": "ipython",
    "version": 3
   },
   "file_extension": ".py",
   "mimetype": "text/x-python",
   "name": "python",
   "nbconvert_exporter": "python",
   "pygments_lexer": "ipython3",
   "version": "3.5.2"
  }
 },
 "nbformat": 4,
 "nbformat_minor": 0
}
