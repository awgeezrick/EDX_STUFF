{
 "cells": [
  {
   "cell_type": "code",
   "execution_count": 1,
   "metadata": {
    "collapsed": true
   },
   "outputs": [],
   "source": [
    "# HIDDEN\n",
    "from datascience import *\n",
    "from datascience.predicates import are\n",
    "import numpy as np\n",
    "import matplotlib\n",
    "matplotlib.use('Agg', warn=False)\n",
    "%matplotlib inline\n",
    "import matplotlib.pyplot as plots\n",
    "plots.style.use('fivethirtyeight')\n",
    "import warnings\n",
    "warnings.simplefilter(action=\"ignore\", category=FutureWarning)"
   ]
  },
  {
   "cell_type": "markdown",
   "metadata": {
    "collapsed": true
   },
   "source": [
    "### Snow’s “Grand Experiment” ###\n",
    "\n",
    "Encouraged by what he had learned in Soho, Snow completed a more thorough\n",
    "analysis of cholera deaths. For some time, he had been gathering data on cholera\n",
    "deaths in an area of London that was served by two water companies. The Lambeth\n",
    "water company drew its water upriver from where sewage was discharged into the\n",
    "River Thames. Its water was relatively clean. But the Southwark and Vauxhall\n",
    "(S&V) company drew its water below the sewage discharge, and thus its supply was\n",
    "contaminated.\n",
    "\n",
    "### Snow's Other Map ###\n",
    "\n",
    "The map below shows the areas served by the two companies. Snow honed in on the region where the two service areas overlap.\n",
    "\n",
    "![Snow’s Water District Map](/images/snow_map2.jpg)\n",
    "\n",
    "In the region served by both companies, Snow noticed that there was no systematic difference between the people who were\n",
    "supplied by S&V and those supplied by Lambeth. “Each company supplies both rich\n",
    "and poor, both large houses and small; there is no difference either in the\n",
    "condition or occupation of the persons receiving the water of the different\n",
    "Companies … there is no difference whatever in the houses or the people\n",
    "receiving the supply of the two Water Companies, or in any of the physical\n",
    "conditions with which they are surrounded …”\n",
    "\n",
    "The only difference was in the water supply, “one group being supplied with\n",
    "water containing the sewage of London, and amongst it, whatever might have come\n",
    "from the cholera patients, the other group having water quite free from\n",
    "impurity.”\n",
    "\n",
    "Confident that he would be able to arrive at a clear conclusion, Snow summarized\n",
    "his data in the table below.\n",
    "\n",
    "| Supply Area    | Number of houses | cholera deaths | deaths per 10,000 houses |\n",
    "|----------------|------------------|----------------|--------------------------|\n",
    "| S&V            | 40,046           | 1,263          | 315                      |\n",
    "| Lambeth        | 26,107           | 98             | 37                       |\n",
    "| Rest of London | 256,423          | 1,422          | 59                       |\n",
    "\n",
    "\n",
    "The numbers pointed accusingly at S&V. The death rate from cholera in the S&V\n",
    "houses was almost ten times the rate in the houses supplied by Lambeth.\n",
    "\n"
   ]
  },
  {
   "cell_type": "code",
   "execution_count": null,
   "metadata": {
    "collapsed": true
   },
   "outputs": [],
   "source": []
  }
 ],
 "metadata": {
  "anaconda-cloud": {},
  "kernelspec": {
   "display_name": "Python [Root]",
   "language": "python",
   "name": "Python [Root]"
  },
  "language_info": {
   "codemirror_mode": {
    "name": "ipython",
    "version": 3
   },
   "file_extension": ".py",
   "mimetype": "text/x-python",
   "name": "python",
   "nbconvert_exporter": "python",
   "pygments_lexer": "ipython3",
   "version": "3.5.2"
  }
 },
 "nbformat": 4,
 "nbformat_minor": 0
}
