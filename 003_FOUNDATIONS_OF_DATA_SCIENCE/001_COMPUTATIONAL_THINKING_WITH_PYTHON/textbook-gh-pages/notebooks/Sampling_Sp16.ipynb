{
 "cells": [
  {
   "cell_type": "code",
   "execution_count": 2,
   "metadata": {
    "collapsed": true
   },
   "outputs": [],
   "source": [
    "# HIDDEN\n",
    "\n",
    "from datascience import *\n",
    "import numpy as np\n",
    "import matplotlib.pyplot as plots\n",
    "plots.style.use('fivethirtyeight')\n",
    "%matplotlib inline"
   ]
  },
  {
   "cell_type": "markdown",
   "metadata": {},
   "source": [
    "In this section, we will continue to use the <code><a href=\"imdb.csv\">top_movies.csv</a></code> data set."
   ]
  },
  {
   "cell_type": "code",
   "execution_count": 3,
   "metadata": {
    "collapsed": false
   },
   "outputs": [
    {
     "data": {
      "text/html": [
       "<table border=\"1\" class=\"dataframe\">\n",
       "    <thead>\n",
       "        <tr>\n",
       "            <th>Title</th> <th>Studio</th> <th>Gross</th> <th>Gross (Adjusted)</th> <th>Year</th>\n",
       "        </tr>\n",
       "    </thead>\n",
       "    <tbody>\n",
       "        <tr>\n",
       "            <td>Star Wars: The Force Awakens             </td> <td>Buena Vista (Disney)</td> <td>906,723,418</td> <td>906,723,400     </td> <td>2015</td>\n",
       "        </tr>\n",
       "    </tbody>\n",
       "        <tr>\n",
       "            <td>Avatar                                   </td> <td>Fox                 </td> <td>760,507,625</td> <td>846,120,800     </td> <td>2009</td>\n",
       "        </tr>\n",
       "    </tbody>\n",
       "        <tr>\n",
       "            <td>Titanic                                  </td> <td>Paramount           </td> <td>658,672,302</td> <td>1,178,627,900   </td> <td>1997</td>\n",
       "        </tr>\n",
       "    </tbody>\n",
       "        <tr>\n",
       "            <td>Jurassic World                           </td> <td>Universal           </td> <td>652,270,625</td> <td>687,728,000     </td> <td>2015</td>\n",
       "        </tr>\n",
       "    </tbody>\n",
       "        <tr>\n",
       "            <td>Marvel's The Avengers                    </td> <td>Buena Vista (Disney)</td> <td>623,357,910</td> <td>668,866,600     </td> <td>2012</td>\n",
       "        </tr>\n",
       "    </tbody>\n",
       "        <tr>\n",
       "            <td>The Dark Knight                          </td> <td>Warner Bros.        </td> <td>534,858,444</td> <td>647,761,600     </td> <td>2008</td>\n",
       "        </tr>\n",
       "    </tbody>\n",
       "        <tr>\n",
       "            <td>Star Wars: Episode I - The Phantom Menace</td> <td>Fox                 </td> <td>474,544,677</td> <td>785,715,000     </td> <td>1999</td>\n",
       "        </tr>\n",
       "    </tbody>\n",
       "        <tr>\n",
       "            <td>Star Wars                                </td> <td>Fox                 </td> <td>460,998,007</td> <td>1,549,640,500   </td> <td>1977</td>\n",
       "        </tr>\n",
       "    </tbody>\n",
       "        <tr>\n",
       "            <td>Avengers: Age of Ultron                  </td> <td>Buena Vista (Disney)</td> <td>459,005,868</td> <td>465,684,200     </td> <td>2015</td>\n",
       "        </tr>\n",
       "    </tbody>\n",
       "        <tr>\n",
       "            <td>The Dark Knight Rises                    </td> <td>Warner Bros.        </td> <td>448,139,099</td> <td>500,961,700     </td> <td>2012</td>\n",
       "        </tr>\n",
       "    </tbody>\n",
       "</table>\n",
       "<p>... (190 rows omitted)</p"
      ],
      "text/plain": [
       "Title                                     | Studio               | Gross       | Gross (Adjusted) | Year\n",
       "Star Wars: The Force Awakens              | Buena Vista (Disney) | 906,723,418 | 906,723,400      | 2015\n",
       "Avatar                                    | Fox                  | 760,507,625 | 846,120,800      | 2009\n",
       "Titanic                                   | Paramount            | 658,672,302 | 1,178,627,900    | 1997\n",
       "Jurassic World                            | Universal            | 652,270,625 | 687,728,000      | 2015\n",
       "Marvel's The Avengers                     | Buena Vista (Disney) | 623,357,910 | 668,866,600      | 2012\n",
       "The Dark Knight                           | Warner Bros.         | 534,858,444 | 647,761,600      | 2008\n",
       "Star Wars: Episode I - The Phantom Menace | Fox                  | 474,544,677 | 785,715,000      | 1999\n",
       "Star Wars                                 | Fox                  | 460,998,007 | 1,549,640,500    | 1977\n",
       "Avengers: Age of Ultron                   | Buena Vista (Disney) | 459,005,868 | 465,684,200      | 2015\n",
       "The Dark Knight Rises                     | Warner Bros.         | 448,139,099 | 500,961,700      | 2012\n",
       "... (190 rows omitted)"
      ]
     },
     "execution_count": 3,
     "metadata": {},
     "output_type": "execute_result"
    }
   ],
   "source": [
    "top = Table.read_table('top_movies.csv')\n",
    "top.set_format([2, 3], NumberFormatter)"
   ]
  },
  {
   "cell_type": "markdown",
   "metadata": {},
   "source": [
    "Sampling rows of a table\n",
    "-------------------------"
   ]
  },
  {
   "cell_type": "markdown",
   "metadata": {},
   "source": [
    "**Deterministic Samples**\n",
    "\n",
    "When you simply specify which elements of a set you want to choose, without any chances involved, you create a *deterministic sample*.\n",
    "\n",
    "A determinsitic sample from the rows of a table can be constructed using the `take` method. Its argument is a sequence of integers, and it returns a table containing the corresponding rows of the original table.\n",
    "\n",
    "The code below returns a table consisting of the rows indexed 3, 18, and 100 in the table `top`. Since the original table is sorted by `rank`, which begins at 1, the zero-indexed rows always have a rank that is one greater than the index. However, the `take` method does not inspect the information in the rows to construct its sample."
   ]
  },
  {
   "cell_type": "code",
   "execution_count": 4,
   "metadata": {
    "collapsed": false
   },
   "outputs": [
    {
     "data": {
      "text/html": [
       "<table border=\"1\" class=\"dataframe\">\n",
       "    <thead>\n",
       "        <tr>\n",
       "            <th>Title</th> <th>Studio</th> <th>Gross</th> <th>Gross (Adjusted)</th> <th>Year</th>\n",
       "        </tr>\n",
       "    </thead>\n",
       "    <tbody>\n",
       "        <tr>\n",
       "            <td>Jurassic World    </td> <td>Universal</td> <td>652,270,625</td> <td>687,728,000     </td> <td>2015</td>\n",
       "        </tr>\n",
       "    </tbody>\n",
       "        <tr>\n",
       "            <td>Spider-Man        </td> <td>Sony     </td> <td>403,706,375</td> <td>604,517,300     </td> <td>2002</td>\n",
       "        </tr>\n",
       "    </tbody>\n",
       "        <tr>\n",
       "            <td>Gone with the Wind</td> <td>MGM      </td> <td>198,676,459</td> <td>1,757,788,200   </td> <td>1939</td>\n",
       "        </tr>\n",
       "    </tbody>\n",
       "</table>"
      ],
      "text/plain": [
       "Title              | Studio    | Gross       | Gross (Adjusted) | Year\n",
       "Jurassic World     | Universal | 652,270,625 | 687,728,000      | 2015\n",
       "Spider-Man         | Sony      | 403,706,375 | 604,517,300      | 2002\n",
       "Gone with the Wind | MGM       | 198,676,459 | 1,757,788,200    | 1939"
      ]
     },
     "execution_count": 4,
     "metadata": {},
     "output_type": "execute_result"
    }
   ],
   "source": [
    "top.take([3, 18, 100]) "
   ]
  },
  {
   "cell_type": "markdown",
   "metadata": {},
   "source": [
    "We can select evenly spaced rows by calling `np.arange` and passing the result to `take`. In the example below, we start with the first row (index 0) of `top`, and choose every 40th row after that until we reach the end of the table. "
   ]
  },
  {
   "cell_type": "code",
   "execution_count": 5,
   "metadata": {
    "collapsed": false
   },
   "outputs": [
    {
     "data": {
      "text/html": [
       "<table border=\"1\" class=\"dataframe\">\n",
       "    <thead>\n",
       "        <tr>\n",
       "            <th>Title</th> <th>Studio</th> <th>Gross</th> <th>Gross (Adjusted)</th> <th>Year</th>\n",
       "        </tr>\n",
       "    </thead>\n",
       "    <tbody>\n",
       "        <tr>\n",
       "            <td>Star Wars: The Force Awakens</td> <td>Buena Vista (Disney)</td> <td>906,723,418</td> <td>906,723,400     </td> <td>2015</td>\n",
       "        </tr>\n",
       "    </tbody>\n",
       "        <tr>\n",
       "            <td>Shrek the Third             </td> <td>Paramount/Dreamworks</td> <td>322,719,944</td> <td>408,090,600     </td> <td>2007</td>\n",
       "        </tr>\n",
       "    </tbody>\n",
       "        <tr>\n",
       "            <td>Bruce Almighty              </td> <td>Universal           </td> <td>242,829,261</td> <td>350,350,700     </td> <td>2003</td>\n",
       "        </tr>\n",
       "    </tbody>\n",
       "        <tr>\n",
       "            <td>Three Men and a Baby        </td> <td>Buena Vista (Disney)</td> <td>167,780,960</td> <td>362,822,900     </td> <td>1987</td>\n",
       "        </tr>\n",
       "    </tbody>\n",
       "        <tr>\n",
       "            <td>Saturday Night Fever        </td> <td>Paramount           </td> <td>94,213,184 </td> <td>353,261,200     </td> <td>1977</td>\n",
       "        </tr>\n",
       "    </tbody>\n",
       "</table>"
      ],
      "text/plain": [
       "Title                        | Studio               | Gross       | Gross (Adjusted) | Year\n",
       "Star Wars: The Force Awakens | Buena Vista (Disney) | 906,723,418 | 906,723,400      | 2015\n",
       "Shrek the Third              | Paramount/Dreamworks | 322,719,944 | 408,090,600      | 2007\n",
       "Bruce Almighty               | Universal            | 242,829,261 | 350,350,700      | 2003\n",
       "Three Men and a Baby         | Buena Vista (Disney) | 167,780,960 | 362,822,900      | 1987\n",
       "Saturday Night Fever         | Paramount            | 94,213,184  | 353,261,200      | 1977"
      ]
     },
     "execution_count": 5,
     "metadata": {},
     "output_type": "execute_result"
    }
   ],
   "source": [
    "top.take(np.arange(0, top.num_rows, 40))"
   ]
  },
  {
   "cell_type": "markdown",
   "metadata": {},
   "source": [
    "Probability Samples\n",
    "------------------"
   ]
  },
  {
   "cell_type": "markdown",
   "metadata": {},
   "source": [
    "Much of data science consists of making conclusions based on the data in random samples. Correctly interpreting analyses based on random samples requires data scientists to examine exactly what random samples are.\n",
    "\n",
    "A *population* is the set of all elements from whom a sample will be drawn.\n",
    "\n",
    "A *probability sample* is one for which it is possible to calculate, before the sample is drawn, the chance with which any subset of elements will enter the sample.\n",
    "\n",
    "In a probability sample, all elements need not have the same chance of being chosen. For example, suppose you choose two people from a population that consists of three people A, B, and C, according to the following scheme:\n",
    "\n",
    "- Person A is chosen with probability 1.\n",
    "- One of Persons B or C is chosen according to the toss of a coin: if the coin lands heads, you choose B, and if it lands tails you choose C.\n",
    "\n",
    "This is a probability sample of size 2. Here are the chances of entry for all non-empty subsets:\n",
    "\n",
    "    A: 1 \n",
    "    B: 1/2\n",
    "    C: 1/2\n",
    "    AB: 1/2\n",
    "    AC: 1/2\n",
    "    BC: 0\n",
    "    ABC: 0\n",
    "\n",
    "Person A has a higher chance of being selected than Persons B or C; indeed, Person A is certain to be selected. Since these differences are known and quantified, they can be taken into account when working with the sample. "
   ]
  },
  {
   "cell_type": "markdown",
   "metadata": {},
   "source": [
    "To draw a probability sample, we need to be able to choose elements according to a process that involves chance. A basic tool for this purpose is a *random number generator*. There are several in Python. Here we will use one that is part of the module `random`, which in turn is part of the module `numpy`. "
   ]
  },
  {
   "cell_type": "markdown",
   "metadata": {},
   "source": [
    "The method `randint`, when given two arguments `low` and `high`, returns an integer picked uniformly at random between `low` and `high`, including `low` but excluding `high`. Run the code below several times to see the variability in the integers that are returned."
   ]
  },
  {
   "cell_type": "code",
   "execution_count": 6,
   "metadata": {
    "collapsed": false
   },
   "outputs": [
    {
     "data": {
      "text/plain": [
       "7"
      ]
     },
     "execution_count": 6,
     "metadata": {},
     "output_type": "execute_result"
    }
   ],
   "source": [
    "np.random.randint(3, 8)  # select once at random from 3, 4, 5, 6, 7"
   ]
  },
  {
   "cell_type": "markdown",
   "metadata": {},
   "source": [
    "**A Systematic Sample**\n",
    "\n",
    "Imagine all the elements of the population listed in a sequence. One method of sampling starts by choosing a random position early in the list, and then evenly spaced positions after that. The sample consists of the elements in those positions. Such a sample is called a *systematic sample*. \n",
    "\n",
    "Here we will choose a systematic sample of the rows of `top`. We will start by picking one of the first 10 rows at random, and then we will pick every 10th row after that."
   ]
  },
  {
   "cell_type": "code",
   "execution_count": 7,
   "metadata": {
    "collapsed": false
   },
   "outputs": [
    {
     "data": {
      "text/html": [
       "<table border=\"1\" class=\"dataframe\">\n",
       "    <thead>\n",
       "        <tr>\n",
       "            <th>Title</th> <th>Studio</th> <th>Gross</th> <th>Gross (Adjusted)</th> <th>Year</th>\n",
       "        </tr>\n",
       "    </thead>\n",
       "    <tbody>\n",
       "        <tr>\n",
       "            <td>Star Wars                                   </td> <td>Fox                 </td> <td>460,998,007</td> <td>1,549,640,500   </td> <td>1977</td>\n",
       "        </tr>\n",
       "    </tbody>\n",
       "        <tr>\n",
       "            <td>The Hunger Games                            </td> <td>Lionsgate           </td> <td>408,010,692</td> <td>442,510,400     </td> <td>2012</td>\n",
       "        </tr>\n",
       "    </tbody>\n",
       "        <tr>\n",
       "            <td>The Passion of the Christ                   </td> <td>NM                  </td> <td>370,782,930</td> <td>519,432,100     </td> <td>2004</td>\n",
       "        </tr>\n",
       "    </tbody>\n",
       "        <tr>\n",
       "            <td>Alice in Wonderland (2010)                  </td> <td>Buena Vista (Disney)</td> <td>334,191,110</td> <td>365,718,600     </td> <td>2010</td>\n",
       "        </tr>\n",
       "    </tbody>\n",
       "        <tr>\n",
       "            <td>Star Wars: Episode II - Attack of the Clones</td> <td>Fox                 </td> <td>310,676,740</td> <td>465,175,700     </td> <td>2002</td>\n",
       "        </tr>\n",
       "    </tbody>\n",
       "        <tr>\n",
       "            <td>The Sixth Sense                             </td> <td>Buena Vista (Disney)</td> <td>293,506,292</td> <td>500,938,400     </td> <td>1999</td>\n",
       "        </tr>\n",
       "    </tbody>\n",
       "        <tr>\n",
       "            <td>The Hangover                                </td> <td>Warner Bros.        </td> <td>277,322,503</td> <td>323,343,300     </td> <td>2009</td>\n",
       "        </tr>\n",
       "    </tbody>\n",
       "        <tr>\n",
       "            <td>Raiders of the Lost Ark                     </td> <td>Paramount           </td> <td>248,159,971</td> <td>770,183,000     </td> <td>1981</td>\n",
       "        </tr>\n",
       "    </tbody>\n",
       "        <tr>\n",
       "            <td>The Lost World: Jurassic Park               </td> <td>Universal           </td> <td>229,086,679</td> <td>434,216,600     </td> <td>1997</td>\n",
       "        </tr>\n",
       "    </tbody>\n",
       "        <tr>\n",
       "            <td>Austin Powers: The Spy Who Shagged Me       </td> <td>New Line            </td> <td>206,040,086</td> <td>352,863,900     </td> <td>1999</td>\n",
       "        </tr>\n",
       "    </tbody>\n",
       "</table>\n",
       "<p>... (10 rows omitted)</p"
      ],
      "text/plain": [
       "Title                                        | Studio               | Gross       | Gross (Adjusted) | Year\n",
       "Star Wars                                    | Fox                  | 460,998,007 | 1,549,640,500    | 1977\n",
       "The Hunger Games                             | Lionsgate            | 408,010,692 | 442,510,400      | 2012\n",
       "The Passion of the Christ                    | NM                   | 370,782,930 | 519,432,100      | 2004\n",
       "Alice in Wonderland (2010)                   | Buena Vista (Disney) | 334,191,110 | 365,718,600      | 2010\n",
       "Star Wars: Episode II - Attack of the Clones | Fox                  | 310,676,740 | 465,175,700      | 2002\n",
       "The Sixth Sense                              | Buena Vista (Disney) | 293,506,292 | 500,938,400      | 1999\n",
       "The Hangover                                 | Warner Bros.         | 277,322,503 | 323,343,300      | 2009\n",
       "Raiders of the Lost Ark                      | Paramount            | 248,159,971 | 770,183,000      | 1981\n",
       "The Lost World: Jurassic Park                | Universal            | 229,086,679 | 434,216,600      | 1997\n",
       "Austin Powers: The Spy Who Shagged Me        | New Line             | 206,040,086 | 352,863,900      | 1999\n",
       "... (10 rows omitted)"
      ]
     },
     "execution_count": 7,
     "metadata": {},
     "output_type": "execute_result"
    }
   ],
   "source": [
    "\"\"\"Choose a random start among rows 0 through 9;\n",
    "then take every 10th row.\"\"\"\n",
    "\n",
    "start = np.random.randint(0, 10)\n",
    "top.take(np.arange(start, top.num_rows, 10))"
   ]
  },
  {
   "cell_type": "markdown",
   "metadata": {},
   "source": [
    "Run the code a few times to see how the output varies. \n",
    "\n",
    "This systematic sample is a probability sample. In this scheme, all rows do have the same chance of being chosen. But that is not true of other subsets of the rows. Because the selected rows are evenly spaced, most subsets of rows have no chance of being chosen. The only subsets that are possible are those that consist of rows all separated by multiples of 10. Any of those subsets is selected with chance 1/10."
   ]
  },
  {
   "cell_type": "markdown",
   "metadata": {},
   "source": [
    "**Random sample with replacement**\n",
    "\n",
    "Some of the simplest probability samples are formed by drawing repeatedly, uniformly at random, from the list of elements of the population. If the draws are made without changing the list between draws, the sample is called a *random sample with replacement*. You can imagine making the first draw at random, replacing the element drawn, and then drawing again.\n",
    "\n",
    "In a random sample with replacement, each element in the population has the same chance of being drawn, and each can be drawn more than once in the sample.\n",
    "\n",
    "If you want to draw a sample of people at random to get some information about a population, you might not want to sample with replacement – drawing the same person more than once can lead to a loss of information. But in data science, random samples with replacement arise in two major areas:\n",
    "\n",
    "* studying probabilities by simulating tosses of a coin, rolls of a die, or gambling games\n",
    "\n",
    "* creating new samples from a sample at hand\n",
    "\n",
    "The second of these areas will be covered later in the course. For now, let us study some long-run properties of probabilities.\n",
    "\n",
    "We will start with the table `die` which contains the numbers of spots on the faces of a die. All the numbers appear exactly once, as we are assuming that the die is fair."
   ]
  },
  {
   "cell_type": "code",
   "execution_count": 8,
   "metadata": {
    "collapsed": false
   },
   "outputs": [
    {
     "data": {
      "text/html": [
       "<table border=\"1\" class=\"dataframe\">\n",
       "    <thead>\n",
       "        <tr>\n",
       "            <th>Face</th>\n",
       "        </tr>\n",
       "    </thead>\n",
       "    <tbody>\n",
       "        <tr>\n",
       "            <td>1   </td>\n",
       "        </tr>\n",
       "    </tbody>\n",
       "        <tr>\n",
       "            <td>2   </td>\n",
       "        </tr>\n",
       "    </tbody>\n",
       "        <tr>\n",
       "            <td>3   </td>\n",
       "        </tr>\n",
       "    </tbody>\n",
       "        <tr>\n",
       "            <td>4   </td>\n",
       "        </tr>\n",
       "    </tbody>\n",
       "        <tr>\n",
       "            <td>5   </td>\n",
       "        </tr>\n",
       "    </tbody>\n",
       "        <tr>\n",
       "            <td>6   </td>\n",
       "        </tr>\n",
       "    </tbody>\n",
       "</table>"
      ],
      "text/plain": [
       "Face\n",
       "1\n",
       "2\n",
       "3\n",
       "4\n",
       "5\n",
       "6"
      ]
     },
     "execution_count": 8,
     "metadata": {},
     "output_type": "execute_result"
    }
   ],
   "source": [
    "die = Table().with_column('Face', [1, 2, 3, 4, 5, 6])\n",
    "die"
   ]
  },
  {
   "cell_type": "markdown",
   "metadata": {},
   "source": [
    "Drawing the histogram of this simple set of numbers yields an unsettling figure as `hist` makes a default choice of bins:"
   ]
  },
  {
   "cell_type": "code",
   "execution_count": 9,
   "metadata": {
    "collapsed": false
   },
   "outputs": [
    {
     "data": {
      "image/png": "[encoded data removed]",
      "text/plain": [
       "<matplotlib.figure.Figure at 0x1085d0710>"
      ]
     },
     "metadata": {},
     "output_type": "display_data"
    }
   ],
   "source": [
    "die.hist()"
   ]
  },
  {
   "cell_type": "markdown",
   "metadata": {},
   "source": [
    "The numbers 1, 2, 3, 4, 5, 6 are integers, so the bins chosen by `hist` only have entries at the edges. In such a situation, it is a better idea to select bins so that they are centered on the integers. This is often true of histograms of data that are *discrete*, that is, variables whose successive values are separated by the same fixed amount. The real advantage of this method of bin selection will become more clear when we start imagining smooth curves drawn over histograms."
   ]
  },
  {
   "cell_type": "code",
   "execution_count": 10,
   "metadata": {
    "collapsed": false
   },
   "outputs": [
    {
     "data": {
      "image/png": "[encoded data removed]",
      "text/plain": [
       "<matplotlib.figure.Figure at 0x10866bdd8>"
      ]
     },
     "metadata": {},
     "output_type": "display_data"
    }
   ],
   "source": [
    "dice_bins = np.arange(0.5, 7, 1)\n",
    "die.hist(bins=dice_bins)"
   ]
  },
  {
   "cell_type": "markdown",
   "metadata": {},
   "source": [
    "Notice how each bin has width 1 and is centered on an integer. Notice also that because the width of each bin is 1, the height of each bar is $\\frac{1}{6}$, the chance that the corresponding face appears.\n",
    "\n",
    "The histogram shows the probability with which each face appears. It is called a *probability histogram* of the result of one roll of a die."
   ]
  },
  {
   "cell_type": "markdown",
   "metadata": {},
   "source": [
    "The histogram was drawn without rolling any dice or generating any random numbers. We will now use the computer to mimic actually rolling a die. The process of using a computer program to produce the results of a chance experiment is called *simulation*.\n",
    "\n",
    "To roll the die, we will use a method called `sample`. This method returns a new table consisting of rows selected uniformly at random from a table. Its first argument is the number of rows to be returned. Its second argument is whether or not the sampling should be done with replacement.\n",
    "\n",
    "The code below simulates 10 rolls of the die. As with all simulations of chance experiments, you should run the code several times and notice the variability in what is returned."
   ]
  },
  {
   "cell_type": "code",
   "execution_count": 10,
   "metadata": {
    "collapsed": false
   },
   "outputs": [
    {
     "data": {
      "text/html": [
       "<table border=\"1\" class=\"dataframe\">\n",
       "    <thead>\n",
       "        <tr>\n",
       "            <th>Face</th>\n",
       "        </tr>\n",
       "    </thead>\n",
       "    <tbody>\n",
       "        <tr>\n",
       "            <td>5   </td>\n",
       "        </tr>\n",
       "    </tbody>\n",
       "        <tr>\n",
       "            <td>4   </td>\n",
       "        </tr>\n",
       "    </tbody>\n",
       "        <tr>\n",
       "            <td>2   </td>\n",
       "        </tr>\n",
       "    </tbody>\n",
       "        <tr>\n",
       "            <td>3   </td>\n",
       "        </tr>\n",
       "    </tbody>\n",
       "        <tr>\n",
       "            <td>6   </td>\n",
       "        </tr>\n",
       "    </tbody>\n",
       "        <tr>\n",
       "            <td>5   </td>\n",
       "        </tr>\n",
       "    </tbody>\n",
       "        <tr>\n",
       "            <td>1   </td>\n",
       "        </tr>\n",
       "    </tbody>\n",
       "        <tr>\n",
       "            <td>1   </td>\n",
       "        </tr>\n",
       "    </tbody>\n",
       "        <tr>\n",
       "            <td>6   </td>\n",
       "        </tr>\n",
       "    </tbody>\n",
       "        <tr>\n",
       "            <td>2   </td>\n",
       "        </tr>\n",
       "    </tbody>\n",
       "</table>"
      ],
      "text/plain": [
       "Face\n",
       "5\n",
       "4\n",
       "2\n",
       "3\n",
       "6\n",
       "5\n",
       "1\n",
       "1\n",
       "6\n",
       "2"
      ]
     },
     "execution_count": 10,
     "metadata": {},
     "output_type": "execute_result"
    }
   ],
   "source": [
    "die.sample(10, with_replacement=True)"
   ]
  },
  {
   "cell_type": "markdown",
   "metadata": {},
   "source": [
    "We will now roll the die several times and draw the histogram of the observed results. The histogram of observed results is called an *empirical histogram*.\n",
    "\n",
    "The results of rolling the die will all be integers in the range 1 through 6, so we will want to use the same bins as we used for the probability histogram. To avoid writing out the same bin argument every time we draw a histogram, let us define a function called `dice_hist` that will perform the task for us. The function will take one argument: the number `n` of dice to roll."
   ]
  },
  {
   "cell_type": "code",
   "execution_count": 11,
   "metadata": {
    "collapsed": false
   },
   "outputs": [
    {
     "data": {
      "image/png": "[encoded data removed]",
      "text/plain": [
       "<matplotlib.figure.Figure at 0x1088ae550>"
      ]
     },
     "metadata": {},
     "output_type": "display_data"
    }
   ],
   "source": [
    "def dice_hist(n):\n",
    "    rolls = die.sample(n, with_replacement=True)\n",
    "    rolls.hist(bins=dice_bins)\n",
    "    \n",
    "dice_hist(20)"
   ]
  },
  {
   "cell_type": "markdown",
   "metadata": {},
   "source": [
    "As we increase the number of rolls in the simulation, the proportions get closer to $1/6$."
   ]
  },
  {
   "cell_type": "code",
   "execution_count": 12,
   "metadata": {
    "collapsed": false
   },
   "outputs": [
    {
     "data": {
      "image/png": "[encoded data removed]",
      "text/plain": [
       "<matplotlib.figure.Figure at 0x1088b01d0>"
      ]
     },
     "metadata": {},
     "output_type": "display_data"
    }
   ],
   "source": [
    "dice_hist(10000)"
   ]
  },
  {
   "cell_type": "markdown",
   "metadata": {},
   "source": [
    "The behavior we have observed is an instance of a general rule.\n",
    "\n",
    "The Law of Averages\n",
    "------------------\n",
    "\n",
    "If a chance experiment is repeated independently and under identical conditions, then, in the long run, the proportion of times that an event occurs gets closer and closer to the theoretical probability of the event.\n",
    "\n",
    "For example, in the long run, the proportion of times the face with four spots appears gets closer and closer to 1/6.\n",
    "\n",
    "Here \"independently and under identical conditions\" means that every repetition is performed in the same way regardless of the results of all the other repetitions."
   ]
  },
  {
   "cell_type": "markdown",
   "metadata": {},
   "source": [
    "Convergence of empirical histograms\n",
    "---------------------------------\n",
    "\n",
    "We have also observed that a random quantity (such as the number of spots on one roll of a die) is associated with two histograms:\n",
    "\n",
    "* a probability histogram, that shows all the possible values of the quantity and all their chances\n",
    "\n",
    "* an empirial histogram, created by simulating the random quantity repeatedly and drawing a histogram of the observed results\n",
    "\n",
    "We have seen an example of the long-run behavior of empirical histograms:\n",
    "\n",
    "As the number of repetitions increases, the empirical histogram of a random quantity looks more and more like the probability histogram."
   ]
  },
  {
   "cell_type": "markdown",
   "metadata": {},
   "source": [
    "At the Roulette Table\n",
    "--------------------\n",
    "\n",
    "Equipped with our new knowledge about the long-run behavior of chances, let us explore a gambling game. Betting on roulette is popular in gambling centers such as Las Vegas and Monte Carlo, and we will simulate one of the bets here.\n",
    "\n",
    "The main randomizer in roulette in Nevada is a wheel that has 38 pockets on its rim. Two of the pockets are green, eighteen black, and eighteen red. The wheel is on a spindle, and there is a small ball on it. When the wheel is spun, the ball ricochets around and finally comes to rest in one of the pockets. That is declared to be the winning pocket."
   ]
  },
  {
   "cell_type": "markdown",
   "metadata": {},
   "source": [
    "You are allowed to bet on several pre-specified collections of pockets. If you bet on \"red,\" you win if the ball comes to rest in one of the red pockets. \n",
    "\n",
    "The bet even money. That is, it pays 1 to 1. To understand what that means, assume you are going to bet \\$1 on \"red.\" The first thing that happens, even before the wheel is spun, is that you have to hand over your \\$1. If the ball lands in a green or black pocket, you never see that dollar again. If the ball lands in a red pocket, you get your dollar back (to bring you back to even), plus another \\$1 in winnings.\n",
    "\n",
    "The table `wheel` represents the pockets of a Nevada roulette wheel. It has 38 rows labeled 1 through 38, one row per pocket. "
   ]
  },
  {
   "cell_type": "code",
   "execution_count": 13,
   "metadata": {
    "collapsed": false
   },
   "outputs": [
    {
     "data": {
      "text/html": [
       "<table border=\"1\" class=\"dataframe\">\n",
       "    <thead>\n",
       "        <tr>\n",
       "            <th>pocket</th> <th>color</th>\n",
       "        </tr>\n",
       "    </thead>\n",
       "    <tbody>\n",
       "        <tr>\n",
       "            <td>1     </td> <td>red  </td>\n",
       "        </tr>\n",
       "    </tbody>\n",
       "        <tr>\n",
       "            <td>2     </td> <td>black</td>\n",
       "        </tr>\n",
       "    </tbody>\n",
       "        <tr>\n",
       "            <td>3     </td> <td>red  </td>\n",
       "        </tr>\n",
       "    </tbody>\n",
       "        <tr>\n",
       "            <td>4     </td> <td>black</td>\n",
       "        </tr>\n",
       "    </tbody>\n",
       "        <tr>\n",
       "            <td>5     </td> <td>red  </td>\n",
       "        </tr>\n",
       "    </tbody>\n",
       "        <tr>\n",
       "            <td>6     </td> <td>black</td>\n",
       "        </tr>\n",
       "    </tbody>\n",
       "        <tr>\n",
       "            <td>7     </td> <td>red  </td>\n",
       "        </tr>\n",
       "    </tbody>\n",
       "        <tr>\n",
       "            <td>8     </td> <td>black</td>\n",
       "        </tr>\n",
       "    </tbody>\n",
       "        <tr>\n",
       "            <td>9     </td> <td>red  </td>\n",
       "        </tr>\n",
       "    </tbody>\n",
       "        <tr>\n",
       "            <td>10    </td> <td>black</td>\n",
       "        </tr>\n",
       "    </tbody>\n",
       "</table>\n",
       "<p>... (28 rows omitted)</p"
      ],
      "text/plain": [
       "pocket | color\n",
       "1      | red\n",
       "2      | black\n",
       "3      | red\n",
       "4      | black\n",
       "5      | red\n",
       "6      | black\n",
       "7      | red\n",
       "8      | black\n",
       "9      | red\n",
       "10     | black\n",
       "... (28 rows omitted)"
      ]
     },
     "execution_count": 13,
     "metadata": {},
     "output_type": "execute_result"
    }
   ],
   "source": [
    "pockets = np.arange(1, 39)\n",
    "colors = (['red', 'black'] * 5 + ['black', 'red'] * 4) * 2 + ['green', 'green']\n",
    "wheel = Table().with_columns([\n",
    "        'pocket', pockets,\n",
    "        'color',  colors])\n",
    "wheel"
   ]
  },
  {
   "cell_type": "markdown",
   "metadata": {},
   "source": [
    "The function `bet_on_red` takes a numerical argument `x` and returns the net winnings on a \\$1 bet on \"red,\" provided `x` is the number of a pocket."
   ]
  },
  {
   "cell_type": "code",
   "execution_count": 14,
   "metadata": {
    "collapsed": true
   },
   "outputs": [],
   "source": [
    "def bet_on_red(x):\n",
    "    \"\"\"The net winnings of betting on red for outcome x.\"\"\"\n",
    "    pockets = wheel.where('pocket', x)\n",
    "    if pockets.column('color').item(0) == 'red':\n",
    "        return 1\n",
    "    else:\n",
    "        return -1"
   ]
  },
  {
   "cell_type": "code",
   "execution_count": 15,
   "metadata": {
    "collapsed": false
   },
   "outputs": [
    {
     "data": {
      "text/plain": [
       "-1"
      ]
     },
     "execution_count": 15,
     "metadata": {},
     "output_type": "execute_result"
    }
   ],
   "source": [
    "bet_on_red(17)"
   ]
  },
  {
   "cell_type": "markdown",
   "metadata": {},
   "source": [
    "The function `spins` takes a numerical argument `n` and returns a new table consisting of `n` rows of `wheel` sampled at random with replacement. In other words, it simulates the results of `n` spins of the roulette wheel."
   ]
  },
  {
   "cell_type": "code",
   "execution_count": 16,
   "metadata": {
    "collapsed": true
   },
   "outputs": [],
   "source": [
    "def spins(n):\n",
    "    return wheel.sample(n, with_replacement=True)"
   ]
  },
  {
   "cell_type": "markdown",
   "metadata": {
    "collapsed": true
   },
   "source": [
    "We will create a table called `play` consisting of the results of 10 spins, and add a column that shows the net winnings on \\$1 placed on \"red.\" Recall that the `apply` method applies a function to each element in a column of a table."
   ]
  },
  {
   "cell_type": "code",
   "execution_count": 17,
   "metadata": {
    "collapsed": false
   },
   "outputs": [
    {
     "data": {
      "text/html": [
       "<table border=\"1\" class=\"dataframe\">\n",
       "    <thead>\n",
       "        <tr>\n",
       "            <th>pocket</th> <th>color</th> <th>winnings</th>\n",
       "        </tr>\n",
       "    </thead>\n",
       "    <tbody>\n",
       "        <tr>\n",
       "            <td>13    </td> <td>black</td> <td>-1      </td>\n",
       "        </tr>\n",
       "    </tbody>\n",
       "        <tr>\n",
       "            <td>22    </td> <td>black</td> <td>-1      </td>\n",
       "        </tr>\n",
       "    </tbody>\n",
       "        <tr>\n",
       "            <td>38    </td> <td>green</td> <td>-1      </td>\n",
       "        </tr>\n",
       "    </tbody>\n",
       "        <tr>\n",
       "            <td>11    </td> <td>black</td> <td>-1      </td>\n",
       "        </tr>\n",
       "    </tbody>\n",
       "        <tr>\n",
       "            <td>29    </td> <td>black</td> <td>-1      </td>\n",
       "        </tr>\n",
       "    </tbody>\n",
       "        <tr>\n",
       "            <td>19    </td> <td>red  </td> <td>1       </td>\n",
       "        </tr>\n",
       "    </tbody>\n",
       "        <tr>\n",
       "            <td>38    </td> <td>green</td> <td>-1      </td>\n",
       "        </tr>\n",
       "    </tbody>\n",
       "        <tr>\n",
       "            <td>37    </td> <td>green</td> <td>-1      </td>\n",
       "        </tr>\n",
       "    </tbody>\n",
       "        <tr>\n",
       "            <td>19    </td> <td>red  </td> <td>1       </td>\n",
       "        </tr>\n",
       "    </tbody>\n",
       "        <tr>\n",
       "            <td>31    </td> <td>black</td> <td>-1      </td>\n",
       "        </tr>\n",
       "    </tbody>\n",
       "</table>\n",
       "<p>... (490 rows omitted)</p"
      ],
      "text/plain": [
       "pocket | color | winnings\n",
       "13     | black | -1\n",
       "22     | black | -1\n",
       "38     | green | -1\n",
       "11     | black | -1\n",
       "29     | black | -1\n",
       "19     | red   | 1\n",
       "38     | green | -1\n",
       "37     | green | -1\n",
       "19     | red   | 1\n",
       "31     | black | -1\n",
       "... (490 rows omitted)"
      ]
     },
     "execution_count": 17,
     "metadata": {},
     "output_type": "execute_result"
    }
   ],
   "source": [
    "outcomes = spins(500)\n",
    "results = outcomes.with_column(\n",
    "    'winnings', outcomes.apply(bet_on_red, 'pocket'))\n",
    "results"
   ]
  },
  {
   "cell_type": "markdown",
   "metadata": {},
   "source": [
    "And here is the net gain on all 500 bets:"
   ]
  },
  {
   "cell_type": "code",
   "execution_count": 18,
   "metadata": {
    "collapsed": false
   },
   "outputs": [
    {
     "data": {
      "text/plain": [
       "-32"
      ]
     },
     "execution_count": 18,
     "metadata": {},
     "output_type": "execute_result"
    }
   ],
   "source": [
    "sum(results.column('winnings'))"
   ]
  },
  {
   "cell_type": "markdown",
   "metadata": {},
   "source": [
    "Betting \\$1 on red hundreds of times seems like a bad idea from a gambler's perspective. But from the casinos' perspective it is excellent. Casinos rely on large numbers of bets being placed. The payoff odds are set so that the more bets that are placed, the more money the casinos are likely to make, even though a few people are likely to go home with winnings."
   ]
  },
  {
   "cell_type": "markdown",
   "metadata": {},
   "source": [
    "**Simple Random Sample – a Random Sample without Replacement**\n",
    "\n",
    "A random sample without replacement is one in which elements are drawn from a list repeatedly, uniformly at random, at each stage deleting from the list the element that was drawn.\n",
    "\n",
    "A random sample without replacement is also called a *simple random sample*. All elements of the population have the same chance of entering a simple random sample. All pairs have the same chance as each other, as do all triples, and so on.\n",
    "\n",
    "The default action of `sample` is to draw without replacement. In card games, cards are almost always dealt without replacement. Let us use `sample` to deal cards from a deck. \n",
    "\n",
    "A *standard deck* deck consists of 13 ranks of cards in each of four suits. The suits are called spades, clubs, diamonds, and hearts. The ranks are Ace, 2, 3, 4, 5, 6, 7, 8, 9, 10, Jack, Queen, and King. Spades and clubs are black; diamonds and hearts are red. The Jacks, Queens, and Kings are called 'face cards.'\n",
    "\n",
    "The table `deck` contains all 52 cards in a column labeled `cards`. The abbreviations are:\n",
    "\n",
    "    Ace: A    Jack: J    Queen: Q    King: K\n",
    "    \n",
    "Below, we use the `product` function to produce all possible pairs of a suit and a rank. The suits are represented by special characters used to print bridge and poker articles in newspapers."
   ]
  },
  {
   "cell_type": "code",
   "execution_count": 19,
   "metadata": {
    "collapsed": false
   },
   "outputs": [
    {
     "data": {
      "text/html": [
       "<table border=\"1\" class=\"dataframe\">\n",
       "    <thead>\n",
       "        <tr>\n",
       "            <th>rank</th> <th>suit</th>\n",
       "        </tr>\n",
       "    </thead>\n",
       "    <tbody>\n",
       "        <tr>\n",
       "            <td>A   </td> <td>♠︎  </td>\n",
       "        </tr>\n",
       "    </tbody>\n",
       "        <tr>\n",
       "            <td>A   </td> <td>♥︎  </td>\n",
       "        </tr>\n",
       "    </tbody>\n",
       "        <tr>\n",
       "            <td>A   </td> <td>♦︎  </td>\n",
       "        </tr>\n",
       "    </tbody>\n",
       "        <tr>\n",
       "            <td>A   </td> <td>♣︎  </td>\n",
       "        </tr>\n",
       "    </tbody>\n",
       "        <tr>\n",
       "            <td>2   </td> <td>♠︎  </td>\n",
       "        </tr>\n",
       "    </tbody>\n",
       "        <tr>\n",
       "            <td>2   </td> <td>♥︎  </td>\n",
       "        </tr>\n",
       "    </tbody>\n",
       "        <tr>\n",
       "            <td>2   </td> <td>♦︎  </td>\n",
       "        </tr>\n",
       "    </tbody>\n",
       "        <tr>\n",
       "            <td>2   </td> <td>♣︎  </td>\n",
       "        </tr>\n",
       "    </tbody>\n",
       "        <tr>\n",
       "            <td>3   </td> <td>♠︎  </td>\n",
       "        </tr>\n",
       "    </tbody>\n",
       "        <tr>\n",
       "            <td>3   </td> <td>♥︎  </td>\n",
       "        </tr>\n",
       "    </tbody>\n",
       "</table>\n",
       "<p>... (42 rows omitted)</p"
      ],
      "text/plain": [
       "rank | suit\n",
       "A    | ♠︎\n",
       "A    | ♥︎\n",
       "A    | ♦︎\n",
       "A    | ♣︎\n",
       "2    | ♠︎\n",
       "2    | ♥︎\n",
       "2    | ♦︎\n",
       "2    | ♣︎\n",
       "3    | ♠︎\n",
       "3    | ♥︎\n",
       "... (42 rows omitted)"
      ]
     },
     "execution_count": 19,
     "metadata": {},
     "output_type": "execute_result"
    }
   ],
   "source": [
    "from itertools import product\n",
    "\n",
    "ranks = ['A', '2', '3', '4', '5', '6', '7', '8', '9', '10', 'J', 'Q', 'K']\n",
    "suits = ['♠︎', '♥︎', '♦︎', '♣︎']\n",
    "cards = product(ranks, suits)\n",
    "\n",
    "deck = Table(['rank', 'suit']).with_rows(cards)\n",
    "deck"
   ]
  },
  {
   "cell_type": "markdown",
   "metadata": {},
   "source": [
    "A *poker hand* is 5 cards dealt at random from the deck. The expression below deals a hand. Execute the cell a few times; how often are you dealt a pair?"
   ]
  },
  {
   "cell_type": "code",
   "execution_count": 20,
   "metadata": {
    "collapsed": false
   },
   "outputs": [
    {
     "data": {
      "text/html": [
       "<table border=\"1\" class=\"dataframe\">\n",
       "    <thead>\n",
       "        <tr>\n",
       "            <th>rank</th> <th>suit</th>\n",
       "        </tr>\n",
       "    </thead>\n",
       "    <tbody>\n",
       "        <tr>\n",
       "            <td>5   </td> <td>♥︎  </td>\n",
       "        </tr>\n",
       "    </tbody>\n",
       "        <tr>\n",
       "            <td>4   </td> <td>♣︎  </td>\n",
       "        </tr>\n",
       "    </tbody>\n",
       "        <tr>\n",
       "            <td>9   </td> <td>♥︎  </td>\n",
       "        </tr>\n",
       "    </tbody>\n",
       "        <tr>\n",
       "            <td>3   </td> <td>♣︎  </td>\n",
       "        </tr>\n",
       "    </tbody>\n",
       "        <tr>\n",
       "            <td>10  </td> <td>♣︎  </td>\n",
       "        </tr>\n",
       "    </tbody>\n",
       "</table>"
      ],
      "text/plain": [
       "rank | suit\n",
       "5    | ♥︎\n",
       "4    | ♣︎\n",
       "9    | ♥︎\n",
       "3    | ♣︎\n",
       "10   | ♣︎"
      ]
     },
     "execution_count": 20,
     "metadata": {},
     "output_type": "execute_result"
    }
   ],
   "source": [
    "deck.sample(5)"
   ]
  },
  {
   "cell_type": "markdown",
   "metadata": {},
   "source": [
    "A hand is a set of five cards, regardless of the order in which they appeared. For example, the hand `9♣︎ 9♥︎ Q♣︎ 7♣︎ 8♥︎` is the same as the hand `7♣︎ 9♣︎ 8♥︎ 9♥︎ Q♣︎`.\n",
    "\n",
    "This fact can be used to show that simple random sampling can be thought of in two equivalent ways:\n",
    "\n",
    "* drawing elements one by one at random without replacement\n",
    "\n",
    "* randomly permuting (that is, shuffling) the whole list, and then pulling out a set of elements at the same time"
   ]
  }
 ],
 "metadata": {
  "anaconda-cloud": {},
  "kernelspec": {
   "display_name": "Python [Root]",
   "language": "python",
   "name": "Python [Root]"
  },
  "language_info": {
   "codemirror_mode": {
    "name": "ipython",
    "version": 3
   },
   "file_extension": ".py",
   "mimetype": "text/x-python",
   "name": "python",
   "nbconvert_exporter": "python",
   "pygments_lexer": "ipython3",
   "version": "3.5.2"
  }
 },
 "nbformat": 4,
 "nbformat_minor": 0
}
