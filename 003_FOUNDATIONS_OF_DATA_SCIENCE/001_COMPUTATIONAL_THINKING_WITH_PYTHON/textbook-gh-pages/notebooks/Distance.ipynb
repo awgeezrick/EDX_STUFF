{
 "cells": [
  {
   "cell_type": "code",
   "execution_count": 13,
   "metadata": {
    "collapsed": false
   },
   "outputs": [],
   "source": [
    "# HIDDEN\n",
    "from datascience import *\n",
    "%matplotlib inline\n",
    "import matplotlib.pyplot as plots\n",
    "plots.style.use('fivethirtyeight')\n",
    "import numpy as np"
   ]
  },
  {
   "cell_type": "markdown",
   "metadata": {},
   "source": [
    "By now we have seen many examples of situations in which one distribution appears to be quite close to another, such as a population and its sample. The goal of this section is to quantify the difference between two distributions. This will allow our analyses to be based on more than the assessements that we are able to make by eye.\n",
    "\n",
    "For this, we need a measure of the distance between two distributions. We will develop such a measure in the context of a [study](https://www.aclunc.org/sites/default/files/racial_and_ethnic_disparities_in_alameda_county_jury_pools.pdf \"ACLU_NC report\") conducted in 2010 by the Americal Civil Liberties Union (ACLU) of Northern California. \n",
    "\n",
    "The focus of the study was the racial composition of jury panels in Alameda County. A jury panel is a group of people chosen to be prospective jurors; the final trial jury is selected from among them. Jury panels can consist of a few dozen people or several thousand, depending on the trial. By law, a jury panel is supposed to be representative of the community in which the trial is taking place. Section 197 of California's Code of Civil Procedure says, \"All persons selected for jury service shall be selected at random, from a source or sources inclusive of a representative cross section of the population of the area served by the court.\"\n",
    "\n",
    "The final jury is selected from the panel by deliberate inclusion or exclusion:  the law allows potential jurors to be excused for medical reasons; lawyers on both sides may strike a certain number of potential jurors from the list in what are called \"peremptory challenges\"; the trial judge might make a selection based on questionnaires filled out by the panel; and so on. But the initial panel is supposed to resemble a random sample of the population of eligible jurors.\n",
    "\n",
    "The ACLU of Northern California compiled data on the racial composition of the jury panels in 11 felony trials in Alameda County in the years 2009 and 2010. In those panels, the total number of poeple who reported for jury service was 1453. The ACLU gathered demographic data on all of these prosepctive jurors, and compared those data with the composition of all eligible jurors in the county.\n",
    "\n",
    "The data are tabulated below in a table called ``jury``. For each race, the first value is the percentage of all eligible juror candidates of that race. The second value is the percentage of people of that race among those who appeared for the process of selection into the jury."
   ]
  },
  {
   "cell_type": "code",
   "execution_count": 14,
   "metadata": {
    "collapsed": false
   },
   "outputs": [
    {
     "data": {
      "text/html": [
       "<table border=\"1\" class=\"dataframe\">\n",
       "    <thead>\n",
       "        <tr>\n",
       "            <th>Race</th> <th>Eligible</th> <th>Panel</th>\n",
       "        </tr>\n",
       "    </thead>\n",
       "    <tbody>\n",
       "        <tr>\n",
       "            <td>Asian </td> <td>15%     </td> <td>26%  </td>\n",
       "        </tr>\n",
       "    </tbody>\n",
       "        <tr>\n",
       "            <td>Black </td> <td>18%     </td> <td>8%   </td>\n",
       "        </tr>\n",
       "    </tbody>\n",
       "        <tr>\n",
       "            <td>Latino</td> <td>12%     </td> <td>8%   </td>\n",
       "        </tr>\n",
       "    </tbody>\n",
       "        <tr>\n",
       "            <td>White </td> <td>54%     </td> <td>54%  </td>\n",
       "        </tr>\n",
       "    </tbody>\n",
       "        <tr>\n",
       "            <td>Other </td> <td>1%      </td> <td>4%   </td>\n",
       "        </tr>\n",
       "    </tbody>\n",
       "</table>"
      ],
      "text/plain": [
       "Race   | Eligible | Panel\n",
       "Asian  | 15%      | 26%\n",
       "Black  | 18%      | 8%\n",
       "Latino | 12%      | 8%\n",
       "White  | 54%      | 54%\n",
       "Other  | 1%       | 4%"
      ]
     },
     "execution_count": 14,
     "metadata": {},
     "output_type": "execute_result"
    }
   ],
   "source": [
    "jury = Table([\"Race\", \"Eligible\", \"Panel\"]).with_rows([\n",
    "    [\"Asian\",  0.15, 0.26],\n",
    "    [\"Black\",  0.18, 0.08],\n",
    "    [\"Latino\", 0.12, 0.08],\n",
    "    [\"White\",  0.54, 0.54],\n",
    "    [\"Other\",  0.01, 0.04],\n",
    "    ])\n",
    "jury.set_format([1, 2], PercentFormatter(0))"
   ]
  },
  {
   "cell_type": "markdown",
   "metadata": {},
   "source": [
    "Some races are overrepresented and some are underrepresented on the jury panels in the study. A bar graph is helpful for visualizing the differences."
   ]
  },
  {
   "cell_type": "code",
   "execution_count": 15,
   "metadata": {
    "collapsed": false
   },
   "outputs": [
    {
     "data": {
      "image/png": "[encoded data removed]",
      "text/plain": [
       "<matplotlib.figure.Figure at 0x108b49630>"
      ]
     },
     "metadata": {},
     "output_type": "display_data"
    }
   ],
   "source": [
    "jury.barh('Race')"
   ]
  },
  {
   "cell_type": "markdown",
   "metadata": {},
   "source": [
    "Total Variation Distance\n",
    "-----------------------\n",
    "\n",
    "To measure the difference between the two distributions, we will compute a quantity called the *total variation distance* between them. To compute the total variation distance, take the difference between the two proportions in each category, add up the absolute values of all the differences, and then divide the sum by 2.\n",
    "\n",
    "Here are the differences and the absolute differences:"
   ]
  },
  {
   "cell_type": "code",
   "execution_count": 16,
   "metadata": {
    "collapsed": false
   },
   "outputs": [
    {
     "data": {
      "text/html": [
       "<table border=\"1\" class=\"dataframe\">\n",
       "    <thead>\n",
       "        <tr>\n",
       "            <th>Race</th> <th>Eligible</th> <th>Panel</th> <th>Difference</th> <th>Abs. Difference</th>\n",
       "        </tr>\n",
       "    </thead>\n",
       "    <tbody>\n",
       "        <tr>\n",
       "            <td>Asian </td> <td>15%     </td> <td>26%  </td> <td>11%       </td> <td>11%            </td>\n",
       "        </tr>\n",
       "    </tbody>\n",
       "        <tr>\n",
       "            <td>Black </td> <td>18%     </td> <td>8%   </td> <td>-10%      </td> <td>10%            </td>\n",
       "        </tr>\n",
       "    </tbody>\n",
       "        <tr>\n",
       "            <td>Latino</td> <td>12%     </td> <td>8%   </td> <td>-4%       </td> <td>4%             </td>\n",
       "        </tr>\n",
       "    </tbody>\n",
       "        <tr>\n",
       "            <td>White </td> <td>54%     </td> <td>54%  </td> <td>0%        </td> <td>0%             </td>\n",
       "        </tr>\n",
       "    </tbody>\n",
       "        <tr>\n",
       "            <td>Other </td> <td>1%      </td> <td>4%   </td> <td>3%        </td> <td>3%             </td>\n",
       "        </tr>\n",
       "    </tbody>\n",
       "</table>"
      ],
      "text/plain": [
       "Race   | Eligible | Panel | Difference | Abs. Difference\n",
       "Asian  | 15%      | 26%   | 11%        | 11%\n",
       "Black  | 18%      | 8%    | -10%       | 10%\n",
       "Latino | 12%      | 8%    | -4%        | 4%\n",
       "White  | 54%      | 54%   | 0%         | 0%\n",
       "Other  | 1%       | 4%    | 3%         | 3%"
      ]
     },
     "execution_count": 16,
     "metadata": {},
     "output_type": "execute_result"
    }
   ],
   "source": [
    "jury.append_column(\"Difference\", jury.column(\"Panel\") - jury.column(\"Eligible\"))\n",
    "jury.append_column(\"Abs. Difference\", np.abs(jury.column(\"Difference\")))\n",
    "jury.set_format([3, 4], PercentFormatter(0))"
   ]
  },
  {
   "cell_type": "markdown",
   "metadata": {},
   "source": [
    "And here is the sum of the absolute differences, divided by 2:"
   ]
  },
  {
   "cell_type": "code",
   "execution_count": 17,
   "metadata": {
    "collapsed": false
   },
   "outputs": [
    {
     "data": {
      "text/plain": [
       "1.3877787807814457e-17"
      ]
     },
     "execution_count": 17,
     "metadata": {},
     "output_type": "execute_result"
    }
   ],
   "source": [
    "sum(jury.column(3)) / 2"
   ]
  },
  {
   "cell_type": "markdown",
   "metadata": {},
   "source": [
    "The total variation distance between the distribution of eligible jurors and the distribution of the panels is 0.14. Before we examine the numercial value, let us examine the reasons behind the steps in the calculation.\n",
    "\n",
    "It is quite natural to compute the difference between the proportions in each category. Now take a look at the column ``diff`` and notice that the sum of its entries is 0: the positive entries add up to 0.14, exactly canceling the total of the negative entries which is -0.14. The proportions in each of the two columns ``Panel`` and ``Eligible`` add up to 1, and so the give-and-take between their entries must add up to 0. \n",
    "\n",
    "To avoid the cancellation, we drop the negative signs and then add all the entries. But this gives us two times the total of the positive entries (equivalently, two times the total of the negative entries, with the sign removed). So we divide the sum by 2.\n",
    "\n",
    "We would have obtained the same result by just adding the positive differences. But our method of including all the absolute differences eliminates the need to keep track of which differences are positive and which are not.\n",
    "\n",
    "The following function computes the total variation distance between two columns of a table."
   ]
  },
  {
   "cell_type": "code",
   "execution_count": 18,
   "metadata": {
    "collapsed": false
   },
   "outputs": [
    {
     "data": {
      "text/plain": [
       "0.14000000000000001"
      ]
     },
     "execution_count": 18,
     "metadata": {},
     "output_type": "execute_result"
    }
   ],
   "source": [
    "def total_variation_distance(column, other):\n",
    "    return sum(np.abs(column - other)) / 2\n",
    "\n",
    "def table_tvd(table, label, other):\n",
    "    return total_variation_distance(table.column(label), table.column(other))\n",
    "\n",
    "table_tvd(jury, 'Eligible', 'Panel')"
   ]
  },
  {
   "cell_type": "markdown",
   "metadata": {},
   "source": [
    "Are the panels representative of the population?\n",
    "---------------------------------------------\n",
    "\n",
    "We will now turn to the numerical value of the total variation distance between the eligible jurors and the panel. How can we interpret the distance of 0.14? To answer this, let us recall that the panels are supposed to be selected at random. It will therefore be informative to compare the value of 0.14 with the total variation distance between the eligible jurors and a randomly selected panel."
   ]
  },
  {
   "cell_type": "markdown",
   "metadata": {},
   "source": [
    "To do this, we will employ our skills at simulation. There were 1453 prosepective jurors in the panels in the study. So let us take a random sample of size 1453 from the population of eligible jurors.\n",
    "\n",
    "[**Technical note.** Random samples of prospective jurors would be selected without replacement. However, when the size of a sample is small relative to the size of the population, sampling without replacement resembles sampling with replacement; the proportions in the population don't change much between draws. The population of eligible jurors in Alameda County is over a million, and compared to that, a sample size of about 1500 is quite small. We will therefore sample with replacement.]\n",
    "\n",
    "The `np.random.multinomial` function draws a random sample uniformly with replacement from a population whose distribution is categorical.  Specifically, `np.random.multinomial` takes as its input a sample size and an array consisting of the probabilities of choosing different categories. It returns the count of the number of times each category was chosen."
   ]
  },
  {
   "cell_type": "code",
   "execution_count": 19,
   "metadata": {
    "collapsed": false
   },
   "outputs": [
    {
     "data": {
      "text/plain": [
       "array([208, 265, 166, 805,   9])"
      ]
     },
     "execution_count": 19,
     "metadata": {},
     "output_type": "execute_result"
    }
   ],
   "source": [
    "sample_size = 1453\n",
    "\n",
    "random_panel = np.random.multinomial(sample_size, jury[\"Eligible\"])\n",
    "random_panel"
   ]
  },
  {
   "cell_type": "code",
   "execution_count": 20,
   "metadata": {
    "collapsed": false
   },
   "outputs": [
    {
     "data": {
      "text/plain": [
       "1453"
      ]
     },
     "execution_count": 20,
     "metadata": {},
     "output_type": "execute_result"
    }
   ],
   "source": [
    "sum(random_panel)"
   ]
  },
  {
   "cell_type": "markdown",
   "metadata": {
    "collapsed": false
   },
   "source": [
    "We can compare this distribution with the distribution of eligible jurors, by converting the counts to proportions. To do this, we will divide the counts by the sample size. It is clear from the results that the two distributions are quite similar."
   ]
  },
  {
   "cell_type": "code",
   "execution_count": 21,
   "metadata": {
    "collapsed": false
   },
   "outputs": [
    {
     "data": {
      "text/html": [
       "<table border=\"1\" class=\"dataframe\">\n",
       "    <thead>\n",
       "        <tr>\n",
       "            <th>Race</th> <th>Eligible</th> <th>Panel</th> <th>Random Panel</th>\n",
       "        </tr>\n",
       "    </thead>\n",
       "    <tbody>\n",
       "        <tr>\n",
       "            <td>Asian </td> <td>15%     </td> <td>26%  </td> <td>14%         </td>\n",
       "        </tr>\n",
       "    </tbody>\n",
       "        <tr>\n",
       "            <td>Black </td> <td>18%     </td> <td>8%   </td> <td>18%         </td>\n",
       "        </tr>\n",
       "    </tbody>\n",
       "        <tr>\n",
       "            <td>Latino</td> <td>12%     </td> <td>8%   </td> <td>11%         </td>\n",
       "        </tr>\n",
       "    </tbody>\n",
       "        <tr>\n",
       "            <td>White </td> <td>54%     </td> <td>54%  </td> <td>55%         </td>\n",
       "        </tr>\n",
       "    </tbody>\n",
       "        <tr>\n",
       "            <td>Other </td> <td>1%      </td> <td>4%   </td> <td>1%          </td>\n",
       "        </tr>\n",
       "    </tbody>\n",
       "</table>"
      ],
      "text/plain": [
       "Race   | Eligible | Panel | Random Panel\n",
       "Asian  | 15%      | 26%   | 14%\n",
       "Black  | 18%      | 8%    | 18%\n",
       "Latino | 12%      | 8%    | 11%\n",
       "White  | 54%      | 54%   | 55%\n",
       "Other  | 1%       | 4%    | 1%"
      ]
     },
     "execution_count": 21,
     "metadata": {},
     "output_type": "execute_result"
    }
   ],
   "source": [
    "sampled = jury.select(['Race', 'Eligible', 'Panel']).with_column(\n",
    "    'Random Panel', random_panel / sample_size)\n",
    "sampled.set_format(3, PercentFormatter(0))"
   ]
  },
  {
   "cell_type": "markdown",
   "metadata": {},
   "source": [
    "As always, it helps to visualize. The population and sample are quite similar."
   ]
  },
  {
   "cell_type": "code",
   "execution_count": 22,
   "metadata": {
    "collapsed": false
   },
   "outputs": [
    {
     "data": {
      "image/png": "[encoded data removed]",
      "text/plain": [
       "<matplotlib.figure.Figure at 0x108bb5c88>"
      ]
     },
     "metadata": {},
     "output_type": "display_data"
    }
   ],
   "source": [
    "sampled.barh('Race', [1, 3])"
   ]
  },
  {
   "cell_type": "markdown",
   "metadata": {},
   "source": [
    "When we compare also to the panel, the difference is stark."
   ]
  },
  {
   "cell_type": "code",
   "execution_count": 23,
   "metadata": {
    "collapsed": false
   },
   "outputs": [
    {
     "data": {
      "image/png": "[encoded data removed]",
      "text/plain": [
       "<matplotlib.figure.Figure at 0x108dbc208>"
      ]
     },
     "metadata": {},
     "output_type": "display_data"
    }
   ],
   "source": [
    "sampled.barh('Race', [1, 3, 2])"
   ]
  },
  {
   "cell_type": "markdown",
   "metadata": {},
   "source": [
    "The total variation distance between the population distribution and the sample distribution is quite small."
   ]
  },
  {
   "cell_type": "code",
   "execution_count": 24,
   "metadata": {
    "collapsed": false
   },
   "outputs": [
    {
     "data": {
      "text/plain": [
       "0.016407432897453545"
      ]
     },
     "execution_count": 24,
     "metadata": {},
     "output_type": "execute_result"
    }
   ],
   "source": [
    "table_tvd(sampled, 'Eligible', 'Random Panel')"
   ]
  },
  {
   "cell_type": "markdown",
   "metadata": {},
   "source": [
    "Comparing this to the distance of 0.14 for the panel quantifies our observation that the random sample is close to the distribution of eligible jurors, and the panel is relatively far from the distribution of eligible jurors.\n",
    "\n",
    "However, the distance between the random sample and the eligible jurors depends on the sample; sampling again might give a different result."
   ]
  },
  {
   "cell_type": "markdown",
   "metadata": {},
   "source": [
    "### How do random samples differ from the population?\n",
    "\n",
    "The total variation distance between the distribution of the random sample and the distribution of the eligible jurors is the statistic that we are using to measure the distance between the two distributions. By repeating the process of sampling, we can measure how much the statistic varies across different random samples. The code below computes the empirical distribution of the statistic based on a large number of replications of the sampling process."
   ]
  },
  {
   "cell_type": "code",
   "execution_count": 25,
   "metadata": {
    "collapsed": false
   },
   "outputs": [
    {
     "data": {
      "text/html": [
       "<table border=\"1\" class=\"dataframe\">\n",
       "    <thead>\n",
       "        <tr>\n",
       "            <th>TVD from a random sample</th>\n",
       "        </tr>\n",
       "    </thead>\n",
       "    <tbody>\n",
       "        <tr>\n",
       "            <td>0.0207571               </td>\n",
       "        </tr>\n",
       "    </tbody>\n",
       "        <tr>\n",
       "            <td>0.0286098               </td>\n",
       "        </tr>\n",
       "    </tbody>\n",
       "        <tr>\n",
       "            <td>0.0201721               </td>\n",
       "        </tr>\n",
       "    </tbody>\n",
       "        <tr>\n",
       "            <td>0.0308672               </td>\n",
       "        </tr>\n",
       "    </tbody>\n",
       "        <tr>\n",
       "            <td>0.0185134               </td>\n",
       "        </tr>\n",
       "    </tbody>\n",
       "        <tr>\n",
       "            <td>0.0102546               </td>\n",
       "        </tr>\n",
       "    </tbody>\n",
       "        <tr>\n",
       "            <td>0.0119133               </td>\n",
       "        </tr>\n",
       "    </tbody>\n",
       "        <tr>\n",
       "            <td>0.0346731               </td>\n",
       "        </tr>\n",
       "    </tbody>\n",
       "        <tr>\n",
       "            <td>0.0271576               </td>\n",
       "        </tr>\n",
       "    </tbody>\n",
       "        <tr>\n",
       "            <td>0.0216862               </td>\n",
       "        </tr>\n",
       "    </tbody>\n",
       "</table>\n",
       "<p>... (990 rows omitted)</p"
      ],
      "text/plain": [
       "TVD from a random sample\n",
       "0.0207571\n",
       "0.0286098\n",
       "0.0201721\n",
       "0.0308672\n",
       "0.0185134\n",
       "0.0102546\n",
       "0.0119133\n",
       "0.0346731\n",
       "0.0271576\n",
       "0.0216862\n",
       "... (990 rows omitted)"
      ]
     },
     "execution_count": 25,
     "metadata": {},
     "output_type": "execute_result"
    }
   ],
   "source": [
    "# Compute empirical distribution of TVDs\n",
    "\n",
    "sample_size = 1453\n",
    "repetitions = 1000\n",
    "eligible = jury.column('Eligible')\n",
    "tvds = Table([\"TVD from a random sample\"])\n",
    "\n",
    "for i in np.arange(repetitions):\n",
    "    sample = np.random.multinomial(sample_size, eligible) / sample_size\n",
    "    tvd = sum(abs(sample - eligible)) / 2\n",
    "    tvds.append([tvd])\n",
    "\n",
    "tvds"
   ]
  },
  {
   "cell_type": "markdown",
   "metadata": {},
   "source": [
    "Each row of the column above contains the total variation distance between a random sample and the population of eligible jurors.\n",
    "\n",
    "The histogram of this column shows that drawing 1453 jurors at random from the pool of eligible candidates results in a distribution that rarely deviates from the eligible jurors' race distribution by more than 0.05."
   ]
  },
  {
   "cell_type": "code",
   "execution_count": 26,
   "metadata": {
    "collapsed": false
   },
   "outputs": [
    {
     "data": {
      "image/png": "[encoded data removed]",
      "text/plain": [
       "<matplotlib.figure.Figure at 0x108fe1470>"
      ]
     },
     "metadata": {},
     "output_type": "display_data"
    }
   ],
   "source": [
    "tvds.hist(bins=np.arange(0, 0.2, 0.005))"
   ]
  },
  {
   "cell_type": "markdown",
   "metadata": {},
   "source": [
    "### How do the panels compare to random samples?\n",
    "\n",
    "The panels in the study, however, were not quite so similar to the eligible population. The total variation distance between the panels and the population was 0.14, which is far out in the tail of the histogram above. It does not look like a typical distance between a random sample and the eligible population.\n",
    "\n",
    "Our analysis supports the ACLU's conclusion that the panels were not representative of the population. The ACLU report discusses several reasons for the discrepancies. For example, some minority groups were underrepresented on the records of voter registration and of the Department of Motor Vehicles, the two main sources from which jurors are selected; at the time of the study, the county did not have an effective process for following up on prospective jurors who had been called but had failed to appear; and so on. Whatever the reasons, it seems clear that the composition of the jury panels was different from what we would have expected in a random sample."
   ]
  },
  {
   "cell_type": "markdown",
   "metadata": {},
   "source": [
    "A Classical Interlude: the Chi-Squared Statistic\n",
    "---------------------------------------------\n",
    "\n",
    "\"Do the data look like a random sample?\" is a question that has been asked in many contexts for many years. In classical data analysis, the statistic most commonly used in answering this question is called the $\\chi^2$ (\"chi squared\") statistic, and is calculated as follows:\n",
    "\n",
    "**Step 1.** For each category, define the \"expected count\" as follows:\n",
    "$$\n",
    "\\mbox{expected count} ~=~ \\mbox{sample size} \\times \\mbox{proportion in population}\n",
    "$$\n",
    "This is the count that you would expect in that category, in a randomly chosen sample.\n",
    "\n",
    "**Step 2.** For each category, compute\n",
    "$$\n",
    "\\frac{(\\mbox{observed count - expected count})^2}{\\mbox{expected count}}\n",
    "$$\n",
    "\n",
    "**Step 3.** Add up all the numbers computed in Step 2.\n",
    "\n",
    "A little algebra shows that this is equivalent to:\n",
    "\n",
    "**Alternative Method, Step 1.** For each category, compute\n",
    "$$\n",
    "\\frac{(\\mbox{sample proportion - population proportion})^2}{\\mbox{population proportion}}\n",
    "$$\n",
    "\n",
    "**Alternative Method, Step 2.** Add up all the numbers you computed in the step above, and multiply the sum by the sample size.\n",
    "\n",
    "It makes sense that the statistic should be based on the difference between proportions in each category, just as the total variation distance is. The remaining steps of the method are not very easy to explain without getting deeper into mathematics.\n",
    "\n",
    "The reason for choosing this statistic over any other was that statisticians were able to come up a formula for its approximate probability distribution when the sample size is large. The distribution has an impressive name: it is called the *$\\chi^2$ distribution with degrees of freedom equal to 4* (one fewer than the number of categories). Data analysts would compute the $\\chi^2$ statistic for their sample, and then compare it with tabulated numerical values of the $\\chi^2$ distributions."
   ]
  },
  {
   "cell_type": "markdown",
   "metadata": {},
   "source": [
    "**Simulating the $\\chi^2$ statistic.**\n",
    "\n",
    "The $\\chi^2$ statistic is just a statistic like any other. We can use the computer to simulate its behavior even if we have not studied all the underlying mathematics.\n",
    "\n",
    "For the panels in the ACLU study, the $\\chi^2$ statistic is about 348:"
   ]
  },
  {
   "cell_type": "code",
   "execution_count": 27,
   "metadata": {
    "collapsed": false
   },
   "outputs": [
    {
     "data": {
      "text/plain": [
       "348.07422222222226"
      ]
     },
     "execution_count": 27,
     "metadata": {},
     "output_type": "execute_result"
    }
   ],
   "source": [
    "sum(((jury[\"Panel\"] - jury[\"Eligible\"])**2)/jury[\"Eligible\"])*sample_size"
   ]
  },
  {
   "cell_type": "markdown",
   "metadata": {},
   "source": [
    "To generate the empirical distribution of the statistic, all we need is a small modification of the code we used for simulating total variation distance:"
   ]
  },
  {
   "cell_type": "code",
   "execution_count": 28,
   "metadata": {
    "collapsed": false
   },
   "outputs": [
    {
     "data": {
      "text/html": [
       "<table border=\"1\" class=\"dataframe\">\n",
       "    <thead>\n",
       "        <tr>\n",
       "            <th>'Chi-squared' statistic, from a random sample</th>\n",
       "        </tr>\n",
       "    </thead>\n",
       "    <tbody>\n",
       "        <tr>\n",
       "            <td>5.29816                                      </td>\n",
       "        </tr>\n",
       "    </tbody>\n",
       "        <tr>\n",
       "            <td>1.83597                                      </td>\n",
       "        </tr>\n",
       "    </tbody>\n",
       "        <tr>\n",
       "            <td>5.03969                                      </td>\n",
       "        </tr>\n",
       "    </tbody>\n",
       "        <tr>\n",
       "            <td>4.3795                                       </td>\n",
       "        </tr>\n",
       "    </tbody>\n",
       "        <tr>\n",
       "            <td>10.738                                       </td>\n",
       "        </tr>\n",
       "    </tbody>\n",
       "        <tr>\n",
       "            <td>4.74311                                      </td>\n",
       "        </tr>\n",
       "    </tbody>\n",
       "        <tr>\n",
       "            <td>4.15047                                      </td>\n",
       "        </tr>\n",
       "    </tbody>\n",
       "        <tr>\n",
       "            <td>5.83918                                      </td>\n",
       "        </tr>\n",
       "    </tbody>\n",
       "        <tr>\n",
       "            <td>9.6604                                       </td>\n",
       "        </tr>\n",
       "    </tbody>\n",
       "        <tr>\n",
       "            <td>0.127756                                     </td>\n",
       "        </tr>\n",
       "    </tbody>\n",
       "</table>\n",
       "<p>... (990 rows omitted)</p"
      ],
      "text/plain": [
       "'Chi-squared' statistic, from a random sample\n",
       "5.29816\n",
       "1.83597\n",
       "5.03969\n",
       "4.3795\n",
       "10.738\n",
       "4.74311\n",
       "4.15047\n",
       "5.83918\n",
       "9.6604\n",
       "0.127756\n",
       "... (990 rows omitted)"
      ]
     },
     "execution_count": 28,
     "metadata": {},
     "output_type": "execute_result"
    }
   ],
   "source": [
    "# Compute empirical distribution of chi-squared statistic\n",
    "\n",
    "classical_from_sample = Table([\"'Chi-squared' statistic, from a random sample\"])\n",
    "for i in np.arange(repetitions):\n",
    "    sample = np.random.multinomial(sample_size, eligible)/sample_size\n",
    "    chisq = sum(((sample - eligible)**2)/eligible)*sample_size\n",
    "    classical_from_sample.append([chisq])\n",
    "\n",
    "classical_from_sample"
   ]
  },
  {
   "cell_type": "markdown",
   "metadata": {},
   "source": [
    "Here is a histogram of the empirical distribution of the $\\chi^2$ statistic. The simulated values of $\\chi^2$ based on random samples are considerably smaller than the value of 348 that we got from the jury panels."
   ]
  },
  {
   "cell_type": "code",
   "execution_count": 29,
   "metadata": {
    "collapsed": false
   },
   "outputs": [
    {
     "data": {
      "image/png": "[encoded data removed]",
      "text/plain": [
       "<matplotlib.figure.Figure at 0x1093c3f28>"
      ]
     },
     "metadata": {},
     "output_type": "display_data"
    }
   ],
   "source": [
    "classical_from_sample.hist(bins=np.arange(0, 18, 0.5), normed=True)"
   ]
  },
  {
   "cell_type": "markdown",
   "metadata": {},
   "source": [
    "In fact, the long run average value of $\\chi^2$ statistics is equal to the degrees of freedom. And indeed, the average of the simulated values of $\\chi^2$ is close to 4, the degrees of freedom in this case."
   ]
  },
  {
   "cell_type": "code",
   "execution_count": 30,
   "metadata": {
    "collapsed": false
   },
   "outputs": [
    {
     "data": {
      "text/plain": [
       "3.978631566873136"
      ]
     },
     "execution_count": 30,
     "metadata": {},
     "output_type": "execute_result"
    }
   ],
   "source": [
    "np.mean(classical_from_sample.column(0))"
   ]
  },
  {
   "cell_type": "markdown",
   "metadata": {},
   "source": [
    "In this situation, random samples are expected to produce a $\\chi^2$ statistic of about 4. The panels, on the other hand, produced a $\\chi^2$ statistic of 348. This is yet more confirmation of the conclusion  that the panels do not resemble a random sample from the population of eligible jurors."
   ]
  }
 ],
 "metadata": {
  "anaconda-cloud": {},
  "kernelspec": {
   "display_name": "Python [Root]",
   "language": "python",
   "name": "Python [Root]"
  },
  "language_info": {
   "codemirror_mode": {
    "name": "ipython",
    "version": 3
   },
   "file_extension": ".py",
   "mimetype": "text/x-python",
   "name": "python",
   "nbconvert_exporter": "python",
   "pygments_lexer": "ipython3",
   "version": "3.5.2"
  }
 },
 "nbformat": 4,
 "nbformat_minor": 0
}
