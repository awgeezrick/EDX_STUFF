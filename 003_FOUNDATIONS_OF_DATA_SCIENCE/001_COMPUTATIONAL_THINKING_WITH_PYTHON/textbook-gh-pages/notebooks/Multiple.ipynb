{
 "cells": [
  {
   "cell_type": "code",
   "execution_count": 3,
   "metadata": {
    "collapsed": true,
    "deletable": true,
    "editable": true
   },
   "outputs": [],
   "source": [
    "# HIDDEN\n",
    "\n",
    "from datascience import *\n",
    "%matplotlib inline\n",
    "import matplotlib.pyplot as plt\n",
    "plt.style.use('fivethirtyeight')\n",
    "import math\n",
    "import numpy as np\n",
    "from scipy import stats"
   ]
  },
  {
   "cell_type": "code",
   "execution_count": 33,
   "metadata": {
    "collapsed": true,
    "deletable": true,
    "editable": true
   },
   "outputs": [],
   "source": [
    "# HIDDEN\n",
    "\n",
    "def standard_units(any_numbers):\n",
    "    \"Convert any array of numbers to standard units.\"\n",
    "    return (any_numbers - np.mean(any_numbers))/np.std(any_numbers)  \n",
    "\n",
    "def correlation(t, x, y):\n",
    "    return np.mean(standard_units(t.column(x))*standard_units(t.column(y)))\n",
    "\n",
    "def slope(table, x, y):\n",
    "    r = correlation(table, x, y)\n",
    "    return r * np.std(table.column(y))/np.std(table.column(x))\n",
    "\n",
    "def intercept(table, x, y):\n",
    "    a = slope(table, x, y)\n",
    "    return np.mean(table.column(y)) - a * np.mean(table.column(x))\n",
    "\n",
    "def fit(table, x, y):\n",
    "    \"\"\"Return the height of the regression line at each x value.\"\"\"\n",
    "    a = slope(table, x, y)\n",
    "    b = intercept(table, x, y)\n",
    "    return a * table.column(x) + b\n",
    "\n",
    "def mean_squared_error(table, x, y):\n",
    "    def for_line(slope, intercept):\n",
    "        fitted = (slope * table.column(x) + intercept)\n",
    "        return np.average((table.column(y) - fitted) ** 2)\n",
    "    return for_line\n",
    "\n",
    "def residual_plot(table, x, y):\n",
    "    fitted = fit(table, x, y)\n",
    "    residuals = table.column(y) - fitted\n",
    "    res_table = Table().with_columns([\n",
    "            'fitted', fitted, \n",
    "            'residuals', residuals])\n",
    "    res_table.scatter(0, 1, fit_line=True)"
   ]
  },
  {
   "cell_type": "markdown",
   "metadata": {
    "deletable": true,
    "editable": true
   },
   "source": [
    "Now that we have explored ways to use multiple features to predict a categorical variable, it is natural to study ways of using multiple predictor variables to predict a quantitative variable. A commonly used method to do this is called *multiple regression*.\n",
    "\n",
    "We will start with an example to review some fundamental aspects of *simple* regression, that is, regression based on one predictor variable.\n",
    "\n",
    "### Example: Simple Regression\n",
    "\n",
    "Suppose that our goal is to use regression to estimate the height of a basset hound based on its weight, using a sample that looks consistent with the regression model. Suppose the observed correlation $r$ is 0.5, and that the summary statistics for the two variables are as in the table below: \n",
    "\n",
    "|       |**average**    |**SD**     |   \n",
    "|------:|:-------------:|:---------:|\n",
    "|height |14 inches      |2 inches   |\n",
    "|weight |50 pounds      |5 pounds   |\n",
    "\n",
    "To calculate the equation of the regression line, we need the slope and the intercept.\n",
    "\n",
    "$$\n",
    "\\mbox{slope} ~=~ \\frac{r \\cdot \\mbox{SD of }y}{\\mbox{SD of }x} ~=~\n",
    "\\frac{0.5 \\cdot 2 \\mbox{ inches}}{5 \\mbox{ pounds}} ~=~ 0.2 ~\\mbox{inches per pound}\n",
    "$$\n",
    "\n",
    "\n",
    "$$\n",
    "\\mbox{intercept} ~=~ \\mbox{average of }y - \\mbox{slope}\\cdot \\mbox{average of } x\n",
    "~=~ 14 \\mbox{ inches} ~-~ 0.2 \\mbox{ inches per pound} \\cdot 50 \\mbox{ pounds}\n",
    "~=~ 4 \\mbox{ inches}\n",
    "$$\n",
    "\n",
    "The equation of the regression line allows us to calculate the estimated height, in inches,\n",
    "based on a given weight in pounds:\n",
    "\n",
    "$$\n",
    "\\mbox{estimated height} ~=~ 0.2 \\cdot \\mbox{given weight} ~+~ 4\n",
    "$$\n",
    "\n",
    "The slope of the line is measures the increase in the estimated height per unit increase in weight. The slope is positive, and it is important to note that this does not mean that we think basset hounds get taller if they put on weight. The slope reflects the difference in the average heights of two groups of dogs that are 1 pound apart in weight. Specifically, consider a group of dogs whose weight is $w$ pounds, and the group whose weight is $w+1$ pounds. The second group is estimated to be 0.2 inches taller, on average. This is true for all values of $w$ in the sample.\n",
    "\n",
    "In general, the slope of the regression line can be interpreted as the average increase in $y$ per unit increase in $x$. Note that if the slope is negative, then for every unit increase in $x$, the average of $y$ decreases."
   ]
  },
  {
   "cell_type": "markdown",
   "metadata": {
    "deletable": true,
    "editable": true
   },
   "source": [
    "### Multiple Predictors\n",
    "\n",
    "In multiple regression, more than one predictor variable is used to estimate $y$. For example, a Dartmouth study of undergraduates collected information about their use of an online course forum and their GPA. We might want to predict a student's GPA based on the number of days that they visit the course forum and how many times they answer someone else's question.  Then the multiple regression model would involve two slopes, an intercept, and random errors as before:\n",
    "\n",
    "GPA $~=~ \\mbox{slope}_d * \\mbox{days} ~+~ \\mbox{slope}_a * \\mbox{answers} ~+~ \\mbox{intercept} ~+~ \\mbox{random error}$\n",
    "\n",
    "Our goal would be to find the estimated GPA using the best estimates of the two slopes and the intercept; as before, the \"best\" estimates are those that minimize the mean squared error of estimation."
   ]
  },
  {
   "cell_type": "markdown",
   "metadata": {
    "deletable": true,
    "editable": true
   },
   "source": [
    "To start off, we will investigate the data set, which is [described online](http://studentlife.cs.dartmouth.edu/). Each row represents a student. In addition to the student's GPA, the row tallies \n",
    "\n",
    "* `days online`: The number of days on which the student viewed the online forum\n",
    "* `views`: The number of posts viewed\n",
    "* `contributions`: The number of contributions, including posts and follow-up discussions\n",
    "* `questions`: The number of questions posted\n",
    "* `notes`: The number of notes posted\n",
    "* `answers`: The number of answers posted"
   ]
  },
  {
   "cell_type": "code",
   "execution_count": 26,
   "metadata": {
    "collapsed": false,
    "deletable": true,
    "editable": true
   },
   "outputs": [
    {
     "data": {
      "text/html": [
       "<table border=\"1\" class=\"dataframe\">\n",
       "    <thead>\n",
       "        <tr>\n",
       "            <th>GPA</th> <th>days online</th> <th>views</th> <th>contributions</th> <th>questions</th> <th>notes</th> <th>answers</th>\n",
       "        </tr>\n",
       "    </thead>\n",
       "    <tbody>\n",
       "        <tr>\n",
       "            <td>2.863</td> <td>29         </td> <td>299  </td> <td>5            </td> <td>1        </td> <td>1    </td> <td>0      </td>\n",
       "        </tr>\n",
       "    </tbody>\n",
       "        <tr>\n",
       "            <td>3.505</td> <td>57         </td> <td>299  </td> <td>0            </td> <td>0        </td> <td>0    </td> <td>0      </td>\n",
       "        </tr>\n",
       "    </tbody>\n",
       "        <tr>\n",
       "            <td>3.029</td> <td>27         </td> <td>101  </td> <td>1            </td> <td>1        </td> <td>0    </td> <td>0      </td>\n",
       "        </tr>\n",
       "    </tbody>\n",
       "        <tr>\n",
       "            <td>3.679</td> <td>67         </td> <td>301  </td> <td>1            </td> <td>0        </td> <td>0    </td> <td>0      </td>\n",
       "        </tr>\n",
       "    </tbody>\n",
       "        <tr>\n",
       "            <td>3.474</td> <td>43         </td> <td>201  </td> <td>12           </td> <td>1        </td> <td>0    </td> <td>0      </td>\n",
       "        </tr>\n",
       "    </tbody>\n",
       "        <tr>\n",
       "            <td>3.705</td> <td>67         </td> <td>308  </td> <td>45           </td> <td>22       </td> <td>0    </td> <td>5      </td>\n",
       "        </tr>\n",
       "    </tbody>\n",
       "        <tr>\n",
       "            <td>3.806</td> <td>36         </td> <td>171  </td> <td>20           </td> <td>4        </td> <td>3    </td> <td>4      </td>\n",
       "        </tr>\n",
       "    </tbody>\n",
       "        <tr>\n",
       "            <td>3.667</td> <td>82         </td> <td>300  </td> <td>26           </td> <td>11       </td> <td>0    </td> <td>3      </td>\n",
       "        </tr>\n",
       "    </tbody>\n",
       "        <tr>\n",
       "            <td>3.245</td> <td>44         </td> <td>127  </td> <td>6            </td> <td>1        </td> <td>1    </td> <td>0      </td>\n",
       "        </tr>\n",
       "    </tbody>\n",
       "        <tr>\n",
       "            <td>3.293</td> <td>35         </td> <td>259  </td> <td>16           </td> <td>13       </td> <td>1    </td> <td>0      </td>\n",
       "        </tr>\n",
       "    </tbody>\n",
       "</table>\n",
       "<p>... (20 rows omitted)</p"
      ],
      "text/plain": [
       "GPA   | days online | views | contributions | questions | notes | answers\n",
       "2.863 | 29          | 299   | 5             | 1         | 1     | 0\n",
       "3.505 | 57          | 299   | 0             | 0         | 0     | 0\n",
       "3.029 | 27          | 101   | 1             | 1         | 0     | 0\n",
       "3.679 | 67          | 301   | 1             | 0         | 0     | 0\n",
       "3.474 | 43          | 201   | 12            | 1         | 0     | 0\n",
       "3.705 | 67          | 308   | 45            | 22        | 0     | 5\n",
       "3.806 | 36          | 171   | 20            | 4         | 3     | 4\n",
       "3.667 | 82          | 300   | 26            | 11        | 0     | 3\n",
       "3.245 | 44          | 127   | 6             | 1         | 1     | 0\n",
       "3.293 | 35          | 259   | 16            | 13        | 1     | 0\n",
       "... (20 rows omitted)"
      ]
     },
     "execution_count": 26,
     "metadata": {},
     "output_type": "execute_result"
    }
   ],
   "source": [
    "grades = Table.read_table('grades_and_piazza.csv')\n",
    "grades"
   ]
  },
  {
   "cell_type": "markdown",
   "metadata": {
    "deletable": true,
    "editable": true
   },
   "source": [
    "### Correlation Matrix\n",
    "\n",
    "Perhaps we wish to predict GPA based on forum usage. A natural first step is to see which variables are correlated with the GPA. Here is the correlation matrix. The `to_df` method generates a [Pandas](http://pandas.pydata.org/) dataframe containing the same data as the table, and its `corr` method generates a matrix of correlations for each pair of columns.\n",
    "\n",
    "All forum usage variables are correlated with GPA, but the `notes` correlation has a very small magnitude."
   ]
  },
  {
   "cell_type": "code",
   "execution_count": 27,
   "metadata": {
    "collapsed": false,
    "deletable": true,
    "editable": true
   },
   "outputs": [
    {
     "data": {
      "text/html": [
       "<div>\n",
       "<table border=\"1\" class=\"dataframe\">\n",
       "  <thead>\n",
       "    <tr style=\"text-align: right;\">\n",
       "      <th></th>\n",
       "      <th>GPA</th>\n",
       "      <th>days online</th>\n",
       "      <th>views</th>\n",
       "      <th>contributions</th>\n",
       "      <th>questions</th>\n",
       "      <th>notes</th>\n",
       "      <th>answers</th>\n",
       "    </tr>\n",
       "  </thead>\n",
       "  <tbody>\n",
       "    <tr>\n",
       "      <th>GPA</th>\n",
       "      <td>1.000000</td>\n",
       "      <td>0.684905</td>\n",
       "      <td>0.444175</td>\n",
       "      <td>0.427897</td>\n",
       "      <td>0.409212</td>\n",
       "      <td>-0.160604</td>\n",
       "      <td>0.440382</td>\n",
       "    </tr>\n",
       "    <tr>\n",
       "      <th>days online</th>\n",
       "      <td>0.684905</td>\n",
       "      <td>1.000000</td>\n",
       "      <td>0.654557</td>\n",
       "      <td>0.448319</td>\n",
       "      <td>0.435269</td>\n",
       "      <td>-0.230839</td>\n",
       "      <td>0.502810</td>\n",
       "    </tr>\n",
       "    <tr>\n",
       "      <th>views</th>\n",
       "      <td>0.444175</td>\n",
       "      <td>0.654557</td>\n",
       "      <td>1.000000</td>\n",
       "      <td>0.426406</td>\n",
       "      <td>0.361002</td>\n",
       "      <td>0.065627</td>\n",
       "      <td>0.365010</td>\n",
       "    </tr>\n",
       "    <tr>\n",
       "      <th>contributions</th>\n",
       "      <td>0.427897</td>\n",
       "      <td>0.448319</td>\n",
       "      <td>0.426406</td>\n",
       "      <td>1.000000</td>\n",
       "      <td>0.857981</td>\n",
       "      <td>0.295661</td>\n",
       "      <td>0.702679</td>\n",
       "    </tr>\n",
       "    <tr>\n",
       "      <th>questions</th>\n",
       "      <td>0.409212</td>\n",
       "      <td>0.435269</td>\n",
       "      <td>0.361002</td>\n",
       "      <td>0.857981</td>\n",
       "      <td>1.000000</td>\n",
       "      <td>-0.006365</td>\n",
       "      <td>0.515661</td>\n",
       "    </tr>\n",
       "    <tr>\n",
       "      <th>notes</th>\n",
       "      <td>-0.160604</td>\n",
       "      <td>-0.230839</td>\n",
       "      <td>0.065627</td>\n",
       "      <td>0.295661</td>\n",
       "      <td>-0.006365</td>\n",
       "      <td>1.000000</td>\n",
       "      <td>0.229599</td>\n",
       "    </tr>\n",
       "    <tr>\n",
       "      <th>answers</th>\n",
       "      <td>0.440382</td>\n",
       "      <td>0.502810</td>\n",
       "      <td>0.365010</td>\n",
       "      <td>0.702679</td>\n",
       "      <td>0.515661</td>\n",
       "      <td>0.229599</td>\n",
       "      <td>1.000000</td>\n",
       "    </tr>\n",
       "  </tbody>\n",
       "</table>\n",
       "</div>"
      ],
      "text/plain": [
       "                    GPA  days online     views  contributions  questions  \\\n",
       "GPA            1.000000     0.684905  0.444175       0.427897   0.409212   \n",
       "days online    0.684905     1.000000  0.654557       0.448319   0.435269   \n",
       "views          0.444175     0.654557  1.000000       0.426406   0.361002   \n",
       "contributions  0.427897     0.448319  0.426406       1.000000   0.857981   \n",
       "questions      0.409212     0.435269  0.361002       0.857981   1.000000   \n",
       "notes         -0.160604    -0.230839  0.065627       0.295661  -0.006365   \n",
       "answers        0.440382     0.502810  0.365010       0.702679   0.515661   \n",
       "\n",
       "                  notes   answers  \n",
       "GPA           -0.160604  0.440382  \n",
       "days online   -0.230839  0.502810  \n",
       "views          0.065627  0.365010  \n",
       "contributions  0.295661  0.702679  \n",
       "questions     -0.006365  0.515661  \n",
       "notes          1.000000  0.229599  \n",
       "answers        0.229599  1.000000  "
      ]
     },
     "execution_count": 27,
     "metadata": {},
     "output_type": "execute_result"
    }
   ],
   "source": [
    "grades.to_df().corr()"
   ]
  },
  {
   "cell_type": "markdown",
   "metadata": {
    "deletable": true,
    "editable": true
   },
   "source": [
    "To start off, let us perform the simple regression of `GPA` on just `days online`, the count with the strongest correlation with an `r` of 0.68. Here is the scatter diagram and regression line."
   ]
  },
  {
   "cell_type": "code",
   "execution_count": 28,
   "metadata": {
    "collapsed": false,
    "deletable": true,
    "editable": true
   },
   "outputs": [
    {
     "data": {
      "image/png": "[encoded data removed]",
      "text/plain": [
       "<matplotlib.figure.Figure at 0x108bc6080>"
      ]
     },
     "metadata": {},
     "output_type": "display_data"
    }
   ],
   "source": [
    "grades.scatter('days online', 'GPA', fit_line=True)"
   ]
  },
  {
   "cell_type": "markdown",
   "metadata": {
    "deletable": true,
    "editable": true
   },
   "source": [
    "We can immediately see that the relation is not entirely linear, and a residual plot highlights this fact. One issue is that the GPA is never above 4.0, so the model assumption that `y` values are bell shaped does not hold in this case. "
   ]
  },
  {
   "cell_type": "code",
   "execution_count": 34,
   "metadata": {
    "collapsed": false,
    "deletable": true,
    "editable": true
   },
   "outputs": [
    {
     "data": {
      "image/png": "[encoded data removed]",
      "text/plain": [
       "<matplotlib.figure.Figure at 0x108dbccf8>"
      ]
     },
     "metadata": {},
     "output_type": "display_data"
    }
   ],
   "source": [
    "residual_plot(grades, 'days online', 'GPA')"
   ]
  },
  {
   "cell_type": "markdown",
   "metadata": {
    "deletable": true,
    "editable": true
   },
   "source": [
    "Nonetheless, the regression line does capture some of the patter in the data, and so we will continue to work with it, noting that our predictions may not be entirely justified by the regression model.\n",
    "\n",
    "The root mean squared error is a bit above 1/4 of a GPA point when predicting GPA from only the days online."
   ]
  },
  {
   "cell_type": "code",
   "execution_count": 38,
   "metadata": {
    "collapsed": false,
    "deletable": true,
    "editable": true
   },
   "outputs": [
    {
     "data": {
      "text/plain": [
       "0.28494512878662448"
      ]
     },
     "execution_count": 38,
     "metadata": {},
     "output_type": "execute_result"
    }
   ],
   "source": [
    "grades_days_mse = mean_squared_error(grades, 'days online', 'GPA')\n",
    "a, b = minimize(grades_days_mse)\n",
    "grades_days_mse(a, b) ** 0.5"
   ]
  },
  {
   "cell_type": "markdown",
   "metadata": {
    "deletable": true,
    "editable": true
   },
   "source": [
    "### Two Predictors"
   ]
  },
  {
   "cell_type": "markdown",
   "metadata": {
    "deletable": true,
    "editable": true
   },
   "source": [
    "Perhaps more information can improve our prediction. The number of `answers` is also correlated with GPA. When using it alone as a predictor, the root mean squared error is greater because the correlation has lower magnitude than `days online`."
   ]
  },
  {
   "cell_type": "code",
   "execution_count": 40,
   "metadata": {
    "collapsed": false,
    "deletable": true,
    "editable": true
   },
   "outputs": [
    {
     "data": {
      "text/plain": [
       "0.35110518920562062"
      ]
     },
     "execution_count": 40,
     "metadata": {},
     "output_type": "execute_result"
    }
   ],
   "source": [
    "grades_answers_mse = mean_squared_error(grades, 'answers', 'GPA')\n",
    "a, b = minimize(grades_answers_mse)\n",
    "grades_answers_mse(a, b) ** 0.5"
   ]
  },
  {
   "cell_type": "markdown",
   "metadata": {
    "deletable": true,
    "editable": true
   },
   "source": [
    "However, the two variables can be used together. First, we define the mean squared error in terms of a line that has two slopes, one for each variable, as well as an intercept."
   ]
  },
  {
   "cell_type": "code",
   "execution_count": 52,
   "metadata": {
    "collapsed": false,
    "deletable": true,
    "editable": true
   },
   "outputs": [
    {
     "data": {
      "text/plain": [
       "array([ 0.0157683,  0.0301254,  2.6031789])"
      ]
     },
     "execution_count": 52,
     "metadata": {},
     "output_type": "execute_result"
    }
   ],
   "source": [
    "def grades_days_answers_mse(a_days, a_answers, b):\n",
    "    fitted = a_days * grades.column('days online') + \\\n",
    "             a_answers * grades.column('answers') + \\\n",
    "             b\n",
    "    y = grades.column('GPA')\n",
    "    return np.average((y - fitted) ** 2)\n",
    "\n",
    "minimize(grades_days_answers_mse)"
   ]
  },
  {
   "cell_type": "markdown",
   "metadata": {
    "deletable": true,
    "editable": true
   },
   "source": [
    "The `minimize` function returns three values, the slope for `days online`, the slope for `answers`, and the intercept. Together, these three values describe a linear prediction function. For example, someone who spent 50 days online and answered 5 questions is predicted to have a GPA of about 3.54. "
   ]
  },
  {
   "cell_type": "code",
   "execution_count": 53,
   "metadata": {
    "collapsed": false,
    "deletable": true,
    "editable": true
   },
   "outputs": [
    {
     "data": {
      "text/plain": [
       "3.54"
      ]
     },
     "execution_count": 53,
     "metadata": {},
     "output_type": "execute_result"
    }
   ],
   "source": [
    "np.round(0.0157683 * 50 + 0.0301254 * 5 + 2.6031789, 2)"
   ]
  },
  {
   "cell_type": "markdown",
   "metadata": {
    "deletable": true,
    "editable": true
   },
   "source": [
    "The root mean squared error of this predictor is a bit smaller than that of either single-variable predictor we had before!"
   ]
  },
  {
   "cell_type": "code",
   "execution_count": 54,
   "metadata": {
    "collapsed": false,
    "deletable": true,
    "editable": true
   },
   "outputs": [
    {
     "data": {
      "text/plain": [
       "0.28161529539241298"
      ]
     },
     "execution_count": 54,
     "metadata": {},
     "output_type": "execute_result"
    }
   ],
   "source": [
    "a_days, a_answers, b = minimize(grades_days_answers_mse)\n",
    "grades_days_answers_mse(a_days, a_answers, b) ** 0.5"
   ]
  },
  {
   "cell_type": "markdown",
   "metadata": {
    "deletable": true,
    "editable": true
   },
   "source": [
    "### Combining all variables"
   ]
  },
  {
   "cell_type": "markdown",
   "metadata": {
    "deletable": true,
    "editable": true
   },
   "source": [
    "We can combine all information about the course forum in order to attempt to find an even better predictor."
   ]
  },
  {
   "cell_type": "code",
   "execution_count": 72,
   "metadata": {
    "collapsed": false,
    "deletable": true,
    "editable": true
   },
   "outputs": [
    {
     "data": {
      "text/plain": [
       "array([  1.43703000e-02,  -8.15000000e-05,   6.50720000e-03,\n",
       "        -1.72780000e-03,  -4.04014000e-02,   1.59645000e-02,\n",
       "         2.65375470e+00])"
      ]
     },
     "execution_count": 72,
     "metadata": {},
     "output_type": "execute_result"
    }
   ],
   "source": [
    "def fit_grades(a_days, a_views, a_contributions, a_questions, a_notes, a_answers, b):\n",
    "    return a_days * grades.column('days online') + \\\n",
    "           a_views * grades.column('views') + \\\n",
    "           a_contributions * grades.column('contributions') + \\\n",
    "           a_questions * grades.column('questions') + \\\n",
    "           a_notes * grades.column('notes') + \\\n",
    "           a_answers * grades.column('answers') + \\\n",
    "           b\n",
    "\n",
    "def grades_all_mse(a_days, a_views, a_contributions, a_questions, a_notes, a_answers, b):\n",
    "    fitted = fit_grades(a_days, a_views, a_contributions, a_questions, a_notes, a_answers, b)\n",
    "    y = grades.column('GPA')\n",
    "    return np.average((y - fitted) ** 2)\n",
    "\n",
    "minimize(grades_all_mse)"
   ]
  },
  {
   "cell_type": "markdown",
   "metadata": {
    "deletable": true,
    "editable": true
   },
   "source": [
    "Using all of this information, we have constructed a predictor with an even smaller root mean squared error. The `*` below passes all of the return values of the `minimize` function as arguments to `grades_all_mse`."
   ]
  },
  {
   "cell_type": "code",
   "execution_count": 66,
   "metadata": {
    "collapsed": false,
    "deletable": true,
    "editable": true
   },
   "outputs": [
    {
     "data": {
      "text/plain": [
       "0.27783237243108722"
      ]
     },
     "execution_count": 66,
     "metadata": {},
     "output_type": "execute_result"
    }
   ],
   "source": [
    "grades_all_mse(*minimize(grades_all_mse)) ** 0.5"
   ]
  },
  {
   "cell_type": "markdown",
   "metadata": {
    "deletable": true,
    "editable": true
   },
   "source": [
    "All of this information did not improve our predictor very much. The root mean squared error decreased from 2.82 for the best single-variable predictor to 2.78 when using all of the available information. "
   ]
  },
  {
   "cell_type": "markdown",
   "metadata": {
    "deletable": true,
    "editable": true
   },
   "source": [
    "**Definition of $R^2$, consistent with our old $r^2$**\n",
    "\n",
    "When we studied simple regression, we had noted that \n",
    "\n",
    "$$\n",
    "|r| ~=~ \\frac{\\mbox{SD of fitted values of }y}{\\mbox{SD of observed values of } y}\n",
    "$$\n",
    "\n",
    "Let us use our old functions to compute the fitted values and confirm that this is true for our example:"
   ]
  },
  {
   "cell_type": "code",
   "execution_count": 63,
   "metadata": {
    "collapsed": false,
    "deletable": true,
    "editable": true
   },
   "outputs": [
    {
     "data": {
      "text/plain": [
       "0.68490480299828194"
      ]
     },
     "execution_count": 63,
     "metadata": {},
     "output_type": "execute_result"
    }
   ],
   "source": [
    "fitted = fit(grades, 'days online', 'GPA')\n",
    "np.std(fitted) / np.std(grades.column('GPA'))"
   ]
  },
  {
   "cell_type": "markdown",
   "metadata": {
    "deletable": true,
    "editable": true
   },
   "source": [
    "Because variance is the square of the standard deviation, we can say that\n",
    "\n",
    "$$\n",
    "0.469 ~=~r^2 ~=~ \\frac{\\mbox{variance of fitted values of }y}{\\mbox{variance of observed values of }y}\n",
    "$$"
   ]
  },
  {
   "cell_type": "markdown",
   "metadata": {
    "deletable": true,
    "editable": true
   },
   "source": [
    "Notice that this way of thinking about $r^2$ involves only the estimated values and the observed values, *not the number of predictor variables*. Therefore, it motivates the definition of *multiple $R^2$*:\n",
    "\n",
    "$$\n",
    "R^2 ~=~ \\frac{\\mbox{variance of fitted values of }y}{\\mbox{variance of observed values of }y}\n",
    "$$\n",
    "\n",
    "It is a fact of mathematics that this quantity is always between 0 and 1. With multiple predictor variables, there is no clear interpretation of a sign attached to the square root of $R^2$. Some of the predictors might be positively associated with $y$, others negatively. An overall measure of the fit is provided by $R^2$. "
   ]
  },
  {
   "cell_type": "code",
   "execution_count": 70,
   "metadata": {
    "collapsed": false,
    "deletable": true,
    "editable": true
   },
   "outputs": [
    {
     "data": {
      "text/plain": [
       "0.49525855565521787"
      ]
     },
     "execution_count": 70,
     "metadata": {},
     "output_type": "execute_result"
    }
   ],
   "source": [
    "fitted = fit_grades(*minimize(grades_all_mse))\n",
    "np.var(fitted) / np.var(grades.column('GPA'))"
   ]
  },
  {
   "cell_type": "markdown",
   "metadata": {
    "deletable": true,
    "editable": true
   },
   "source": [
    "It is not always wise to maximize $R^2$ by including many variables, but we will address this concern later in the text.\n",
    "\n",
    "We can also view the residual plot of multiple regression, just as before. The horizontal axis shows fitted values and the vertical axis shows errors. Again, there is some structure to this plot, so perhaps the relation between these variables is not entirely linear. In this case, the structure is minor enough that the regression model is a reasonable choice of predictor."
   ]
  },
  {
   "cell_type": "code",
   "execution_count": 71,
   "metadata": {
    "collapsed": false,
    "deletable": true,
    "editable": true
   },
   "outputs": [
    {
     "data": {
      "image/png": "[encoded data removed]",
      "text/plain": [
       "<matplotlib.figure.Figure at 0x1093295c0>"
      ]
     },
     "metadata": {},
     "output_type": "display_data"
    }
   ],
   "source": [
    "Table().with_columns([\n",
    "        'fitted', fitted,\n",
    "        'errors', grades.column('GPA') - fitted\n",
    "    ]).scatter(0, 1, fit_line=True)"
   ]
  }
 ],
 "metadata": {
  "kernelspec": {
   "display_name": "Python 3",
   "language": "python",
   "name": "python3"
  },
  "language_info": {
   "codemirror_mode": {
    "name": "ipython",
    "version": 3
   },
   "file_extension": ".py",
   "mimetype": "text/x-python",
   "name": "python",
   "nbconvert_exporter": "python",
   "pygments_lexer": "ipython3",
   "version": "3.5.2"
  }
 },
 "nbformat": 4,
 "nbformat_minor": 0
}
