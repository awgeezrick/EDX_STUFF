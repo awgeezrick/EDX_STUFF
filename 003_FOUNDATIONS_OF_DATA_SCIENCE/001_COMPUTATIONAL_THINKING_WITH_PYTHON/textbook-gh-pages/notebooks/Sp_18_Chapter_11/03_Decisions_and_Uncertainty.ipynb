{
 "cells": [
  {
   "cell_type": "code",
   "execution_count": 1,
   "metadata": {
    "collapsed": true
   },
   "outputs": [],
   "source": [
    "# HIDDEN\n",
    "from datascience import *\n",
    "%matplotlib inline\n",
    "import matplotlib.pyplot as plots\n",
    "plots.style.use('fivethirtyeight')\n",
    "import numpy as np"
   ]
  },
  {
   "cell_type": "markdown",
   "metadata": {},
   "source": [
    "### Decisions and Uncertainty ###\n",
    "We have seen several examples of assessing models that involve chance, by comparing observed data to the predictions made by the models. In all of our examples, there has been no doubt about whether the data were consistent with the model's predictions. The data were either very far away from the predictions, or very close to them.\n",
    "\n",
    "But outcomes are not always so clear cut. How far is \"far\"? Exactly what does \"close\" mean? While these questions don't have universal answers, there are guidelines and conventions that you can follow. In this section we will describe some of them.\n",
    "\n",
    "First let us develop a general framework of decision making. All our examples will fit into this framework.\n",
    "\n",
    "What we have developed while assessing models are some of the fundamental concepts of statistical tests of hypotheses. Using statistical tests as a way of making decisions is standard in many fields and has a standard terminology. Here is the sequence of the steps in most statistical tests, along with some terminology and examples. You will see that they are consistent with the sequence of steps we have used for assessing models."
   ]
  },
  {
   "cell_type": "markdown",
   "metadata": {},
   "source": [
    "### Step 1: The Hypotheses ###\n",
    "\n",
    "All statistical tests attempt to choose between two views of the world. Specifically, the choice is between two views about how the data were generated. These two views are called *hypotheses*.\n",
    "\n",
    "**The null hypothesis.** This is a model about chances, also known as a *chance model*. It says that the data were generated at random under assumptions about randomness that are specific enough for us to be able to use them as the basis for simulation. \n",
    "\n",
    "The word \"null\" reinforces the idea that if the observed data look different from what the null hypothesis predicts, the difference is due to *nothing* but chance.\n",
    "\n",
    "From a practical perspective, **the null hypothesis is a chance model under which you can simulate data.**\n",
    "\n",
    "In the example about Mendel's model for the colors of pea plants, the null hypothesis is that the assumptions of his model are good: each plant has a 75% chance of having purple flowers, independent of all other plants. \n",
    "\n",
    "Under this hypothesis, we were able to simulate random samples, by using `sample_proportions(sample_size, [0.75, 0.25])`. \n",
    "\n",
    "**The alternative hypothesis.** This says that some reason other than chance made the data differ from the predictions of the model in the null hypothesis.\n",
    "\n",
    "In the example about Mendel's plants, the alternative hypothesis is simply that his model isn't good."
   ]
  },
  {
   "cell_type": "markdown",
   "metadata": {},
   "source": [
    "### Step 2: The Test Statistic ###\n",
    "\n",
    "In order to decide between the two hypothesis, we must choose a statistic that we can use to make the decision. This is called the **test statistic**.\n",
    "\n",
    "In the example of Mendel's plants, our statistic was the absolute difference between the sample percent and 75% which was predicted by his model.\n",
    "\n",
    "$$\n",
    "\\big{\\vert} \\text{sample percent of purple-flowering plants} - 75 \\big{\\vert}\n",
    "$$\n",
    "\n",
    "To see how to make the choice in general, look at the alternative hypothesis. What values of the statistic will make you think that the alternative hypothesis is a better choice than the null? \n",
    "- If the answer is \"big values,\" you might have a good choice of statistic. \n",
    "- So also if the answer is \"small values.\" \n",
    "- But if the answer is \"both big values and small values,\" we recommend that you look again at your statistic and see if taking an absolute value can change the answer to just \"big values\". That will simplify the comparison between the statistic and the predicitons made by the model.\n",
    "\n",
    "In the case of the pea plants, a sample percent of around 75% will be consistent with the model, but percents much bigger or much less than 75 will make you think that the model isn't good. This indicates that the statistic should be the *distance* between the sample percent and 75, that is, the absolute value of the difference between them. Big values of the distance will make you lean towards the alternative.\n",
    "\n",
    "The **observed value of the test statistic** is the value of the statistic you get from the data in the study, not a simulated value. Among Mendel's 929 plants, 705 had purple flowers. The observed value of the test statistic was therefore"
   ]
  },
  {
   "cell_type": "code",
   "execution_count": 1,
   "metadata": {
    "collapsed": false
   },
   "outputs": [
    {
     "data": {
      "text/plain": [
       "0.8880516684607045"
      ]
     },
     "execution_count": 1,
     "metadata": {},
     "output_type": "execute_result"
    }
   ],
   "source": [
    "abs ( 100 * (705 / 929) - 75)"
   ]
  },
  {
   "cell_type": "markdown",
   "metadata": {},
   "source": [
    "### Step 3: The Distribution of the Test Statistic, Under the Null Hypothesis ###\n",
    "\n",
    "The main computational aspect of a test of hypotheses is figuring out *what the values of the test statistic might be if the null hypothesis were true*. \n",
    "\n",
    "The test statistic is simulated based on the assumptions of the model in the null hypothesis. That model involves chance, so the statistic comes out differently when you simulate it multiple times.\n",
    "\n",
    "By simulating the statistic repeatedly, we get a good sense of its possible values and which ones are more likely than others. In other words, we get a good approximation to the probability distribution of the statistic, as predicted by the model in the null hypothesis.\n",
    "\n",
    "As with all distributions, it is very useful to visualize this distribution by a histogram. We have done so in all our examples."
   ]
  },
  {
   "cell_type": "markdown",
   "metadata": {},
   "source": [
    "### Step 4. The Conclusion of the Test ###\n",
    "\n",
    "The choice between the null and alternative hypotheses depends on the comparison between what you computed in Steps 2 and 3: the observed value of the test statistic and its distribution as predicted by the null hypothesis. \n",
    "\n",
    "If the two are consistent with each other, then the observed test statistic is in line with what the null hypothesis predicts. In other words, the test does not point towards the alternative hypothesis; the null hypothesis is better supported by the data. This was the case with the assessment of Mendel's model.\n",
    "\n",
    "But if the two are not consistent with each other, as is the case in our example about Alameda County jury panels, then the data do not support the null hypothesis. That is why we concluded that the jury panels were not selected at random. Something other than chance affected their composition.\n",
    "\n",
    "If the data do not support the null hypothesis, we say that the test *rejects* the null hypothesis."
   ]
  },
  {
   "cell_type": "markdown",
   "metadata": {},
   "source": [
    "### The Meaning of \"Consistent\" ###\n",
    "\n",
    "In the example about Alameda County juries, it was apparent that our observed test statistic was far from what was predicted by the null hypothesis. In the example about pea flowers, it is just as clear that the observed statistic is consistent with the distribution that the null predicts. So in both of the examples, it is clear which hypothesis to choose.\n",
    "\n",
    "But sometimes the decision is not so clear. Whether the observed test statistic is consistent with its predicted distribution under the null hypothesis is a matter of judgment. We recommend that you provide your judgment along with the value of the test statistic and a graph of its predicted distribution under the null. That will allow your reader to make his or her own judgment about whether the two are consistent.\n",
    "\n",
    "Here is an example where the decision requires judgment."
   ]
  },
  {
   "cell_type": "markdown",
   "metadata": {},
   "source": [
    "### The GSI's Defense ###\n",
    "A Berkeley Statistics class of about 350 students was divided into 12 discussion sections led by Graduate Student Instructors (GSIs). After the midterm, students in Section 3 noticed that their scores were on average lower than the rest of the class. \n",
    "\n",
    "The scores for the class are in the table `scores`. There is one row per student, and the columns are the student's section and midterm score. The midterm scores were in the range 0 to 25."
   ]
  },
  {
   "cell_type": "code",
   "execution_count": 2,
   "metadata": {
    "collapsed": false
   },
   "outputs": [
    {
     "data": {
      "text/html": [
       "<table border=\"1\" class=\"dataframe\">\n",
       "    <thead>\n",
       "        <tr>\n",
       "            <th>Section</th> <th>Midterm</th>\n",
       "        </tr>\n",
       "    </thead>\n",
       "    <tbody>\n",
       "        <tr>\n",
       "            <td>1      </td> <td>22     </td>\n",
       "        </tr>\n",
       "    </tbody>\n",
       "        <tr>\n",
       "            <td>2      </td> <td>12     </td>\n",
       "        </tr>\n",
       "    </tbody>\n",
       "        <tr>\n",
       "            <td>2      </td> <td>23     </td>\n",
       "        </tr>\n",
       "    </tbody>\n",
       "        <tr>\n",
       "            <td>2      </td> <td>14     </td>\n",
       "        </tr>\n",
       "    </tbody>\n",
       "        <tr>\n",
       "            <td>1      </td> <td>20     </td>\n",
       "        </tr>\n",
       "    </tbody>\n",
       "        <tr>\n",
       "            <td>3      </td> <td>25     </td>\n",
       "        </tr>\n",
       "    </tbody>\n",
       "        <tr>\n",
       "            <td>4      </td> <td>19     </td>\n",
       "        </tr>\n",
       "    </tbody>\n",
       "        <tr>\n",
       "            <td>1      </td> <td>24     </td>\n",
       "        </tr>\n",
       "    </tbody>\n",
       "        <tr>\n",
       "            <td>5      </td> <td>8      </td>\n",
       "        </tr>\n",
       "    </tbody>\n",
       "        <tr>\n",
       "            <td>6      </td> <td>14     </td>\n",
       "        </tr>\n",
       "    </tbody>\n",
       "</table>\n",
       "<p>... (349 rows omitted)</p>"
      ],
      "text/plain": [
       "Section | Midterm\n",
       "1       | 22\n",
       "2       | 12\n",
       "2       | 23\n",
       "2       | 14\n",
       "1       | 20\n",
       "3       | 25\n",
       "4       | 19\n",
       "1       | 24\n",
       "5       | 8\n",
       "6       | 14\n",
       "... (349 rows omitted)"
      ]
     },
     "execution_count": 2,
     "metadata": {},
     "output_type": "execute_result"
    }
   ],
   "source": [
    "scores = Table.read_table('scores_by_section.csv')\n",
    "scores"
   ]
  },
  {
   "cell_type": "markdown",
   "metadata": {},
   "source": [
    "We can use group to find the number of students in each section."
   ]
  },
  {
   "cell_type": "code",
   "execution_count": 3,
   "metadata": {
    "collapsed": false
   },
   "outputs": [
    {
     "data": {
      "text/html": [
       "<table border=\"1\" class=\"dataframe\">\n",
       "    <thead>\n",
       "        <tr>\n",
       "            <th>Section</th> <th>count</th>\n",
       "        </tr>\n",
       "    </thead>\n",
       "    <tbody>\n",
       "        <tr>\n",
       "            <td>1      </td> <td>32   </td>\n",
       "        </tr>\n",
       "    </tbody>\n",
       "        <tr>\n",
       "            <td>2      </td> <td>32   </td>\n",
       "        </tr>\n",
       "    </tbody>\n",
       "        <tr>\n",
       "            <td>3      </td> <td>27   </td>\n",
       "        </tr>\n",
       "    </tbody>\n",
       "        <tr>\n",
       "            <td>4      </td> <td>30   </td>\n",
       "        </tr>\n",
       "    </tbody>\n",
       "        <tr>\n",
       "            <td>5      </td> <td>33   </td>\n",
       "        </tr>\n",
       "    </tbody>\n",
       "        <tr>\n",
       "            <td>6      </td> <td>32   </td>\n",
       "        </tr>\n",
       "    </tbody>\n",
       "        <tr>\n",
       "            <td>7      </td> <td>24   </td>\n",
       "        </tr>\n",
       "    </tbody>\n",
       "        <tr>\n",
       "            <td>8      </td> <td>29   </td>\n",
       "        </tr>\n",
       "    </tbody>\n",
       "        <tr>\n",
       "            <td>9      </td> <td>30   </td>\n",
       "        </tr>\n",
       "    </tbody>\n",
       "        <tr>\n",
       "            <td>10     </td> <td>34   </td>\n",
       "        </tr>\n",
       "    </tbody>\n",
       "</table>\n",
       "<p>... (2 rows omitted)</p>"
      ],
      "text/plain": [
       "Section | count\n",
       "1       | 32\n",
       "2       | 32\n",
       "3       | 27\n",
       "4       | 30\n",
       "5       | 33\n",
       "6       | 32\n",
       "7       | 24\n",
       "8       | 29\n",
       "9       | 30\n",
       "10      | 34\n",
       "... (2 rows omitted)"
      ]
     },
     "execution_count": 3,
     "metadata": {},
     "output_type": "execute_result"
    }
   ],
   "source": [
    "# Number of students in each section\n",
    "\n",
    "scores.group('Section')"
   ]
  },
  {
   "cell_type": "markdown",
   "metadata": {},
   "source": [
    "Section 3 had 27 students. Let's use `group` again, this time to get the average score in each section."
   ]
  },
  {
   "cell_type": "code",
   "execution_count": 4,
   "metadata": {
    "collapsed": false
   },
   "outputs": [
    {
     "data": {
      "text/html": [
       "<table border=\"1\" class=\"dataframe\">\n",
       "    <thead>\n",
       "        <tr>\n",
       "            <th>Section</th> <th>Midterm average</th>\n",
       "        </tr>\n",
       "    </thead>\n",
       "    <tbody>\n",
       "        <tr>\n",
       "            <td>1      </td> <td>15.5938        </td>\n",
       "        </tr>\n",
       "    </tbody>\n",
       "        <tr>\n",
       "            <td>2      </td> <td>15.125         </td>\n",
       "        </tr>\n",
       "    </tbody>\n",
       "        <tr>\n",
       "            <td>3      </td> <td>13.6667        </td>\n",
       "        </tr>\n",
       "    </tbody>\n",
       "        <tr>\n",
       "            <td>4      </td> <td>14.7667        </td>\n",
       "        </tr>\n",
       "    </tbody>\n",
       "        <tr>\n",
       "            <td>5      </td> <td>17.4545        </td>\n",
       "        </tr>\n",
       "    </tbody>\n",
       "        <tr>\n",
       "            <td>6      </td> <td>15.0312        </td>\n",
       "        </tr>\n",
       "    </tbody>\n",
       "        <tr>\n",
       "            <td>7      </td> <td>16.625         </td>\n",
       "        </tr>\n",
       "    </tbody>\n",
       "        <tr>\n",
       "            <td>8      </td> <td>16.3103        </td>\n",
       "        </tr>\n",
       "    </tbody>\n",
       "        <tr>\n",
       "            <td>9      </td> <td>14.5667        </td>\n",
       "        </tr>\n",
       "    </tbody>\n",
       "        <tr>\n",
       "            <td>10     </td> <td>15.2353        </td>\n",
       "        </tr>\n",
       "    </tbody>\n",
       "</table>\n",
       "<p>... (2 rows omitted)</p>"
      ],
      "text/plain": [
       "Section | Midterm average\n",
       "1       | 15.5938\n",
       "2       | 15.125\n",
       "3       | 13.6667\n",
       "4       | 14.7667\n",
       "5       | 17.4545\n",
       "6       | 15.0312\n",
       "7       | 16.625\n",
       "8       | 16.3103\n",
       "9       | 14.5667\n",
       "10      | 15.2353\n",
       "... (2 rows omitted)"
      ]
     },
     "execution_count": 4,
     "metadata": {},
     "output_type": "execute_result"
    }
   ],
   "source": [
    "scores.group('Section', np.average)"
   ]
  },
  {
   "cell_type": "markdown",
   "metadata": {},
   "source": [
    "Section 3 does have a lower average than the other sections.\n",
    "\n",
    "In such situations, students tend to grumble about the section's GSI. Surely, they feel, there must have been something wrong with the GSI's teaching. Or else why would their section have done worse than others?\n",
    "\n",
    "The GSI, typically more experienced about statistical variation, often has a different perspective: if you simply draw a section of students at random from the whole class, their average score could resemble the score that the students are unhappy about, just by chance.\n",
    "\n",
    "The GSI's position is a clearly stated chance model. We can simulate data under this model. Let's test it out. \n",
    "\n",
    "**Null Hypothesis.** The average score of the students in Section 3 is like the average score of the same number of students picked at random from the class. \n",
    "\n",
    "**Alternative Hypothesis.** No, it's too low.\n",
    "\n",
    "A natural statistic here is the average of the scores in of the 27 selected students. Low values of the average will make us lean towards the alternative.\n",
    "\n",
    "The observed value of the average is 13.667."
   ]
  },
  {
   "cell_type": "code",
   "execution_count": 10,
   "metadata": {
    "collapsed": true
   },
   "outputs": [],
   "source": [
    "observed_statistic = 13.667"
   ]
  },
  {
   "cell_type": "markdown",
   "metadata": {},
   "source": [
    "We now need to see what the average could be if we generate a simulated \"Section 3\" randomly from the class.\n",
    "\n",
    "Section 3 had 27 students. To simulate one value of the test statistic under the model of random selection, we have to select 27 scores at random from the class and find their average. "
   ]
  },
  {
   "cell_type": "markdown",
   "metadata": {},
   "source": [
    "First we have to select 27 scores at random without replacement. Since the data are already in a table with one row per student, we will use the Table method `sample`.\n",
    "\n",
    "Remember that by default, `sample` draws with replacement. The optional argument `with_replacement = False` produces a random sample drawn without replacement."
   ]
  },
  {
   "cell_type": "code",
   "execution_count": 6,
   "metadata": {
    "collapsed": false
   },
   "outputs": [
    {
     "data": {
      "text/html": [
       "<table border=\"1\" class=\"dataframe\">\n",
       "    <thead>\n",
       "        <tr>\n",
       "            <th>Midterm</th>\n",
       "        </tr>\n",
       "    </thead>\n",
       "    <tbody>\n",
       "        <tr>\n",
       "            <td>14     </td>\n",
       "        </tr>\n",
       "    </tbody>\n",
       "        <tr>\n",
       "            <td>13     </td>\n",
       "        </tr>\n",
       "    </tbody>\n",
       "        <tr>\n",
       "            <td>17     </td>\n",
       "        </tr>\n",
       "    </tbody>\n",
       "        <tr>\n",
       "            <td>16     </td>\n",
       "        </tr>\n",
       "    </tbody>\n",
       "        <tr>\n",
       "            <td>17     </td>\n",
       "        </tr>\n",
       "    </tbody>\n",
       "        <tr>\n",
       "            <td>11     </td>\n",
       "        </tr>\n",
       "    </tbody>\n",
       "        <tr>\n",
       "            <td>17     </td>\n",
       "        </tr>\n",
       "    </tbody>\n",
       "        <tr>\n",
       "            <td>20     </td>\n",
       "        </tr>\n",
       "    </tbody>\n",
       "        <tr>\n",
       "            <td>15     </td>\n",
       "        </tr>\n",
       "    </tbody>\n",
       "        <tr>\n",
       "            <td>16     </td>\n",
       "        </tr>\n",
       "    </tbody>\n",
       "</table>\n",
       "<p>... (17 rows omitted)</p>"
      ],
      "text/plain": [
       "Midterm\n",
       "14\n",
       "13\n",
       "17\n",
       "16\n",
       "17\n",
       "11\n",
       "17\n",
       "20\n",
       "15\n",
       "16\n",
       "... (17 rows omitted)"
      ]
     },
     "execution_count": 6,
     "metadata": {},
     "output_type": "execute_result"
    }
   ],
   "source": [
    "scores_only = scores.drop('Section')\n",
    "sampled_scores = scores_only.sample(27, with_replacement=False)\n",
    "sampled_scores"
   ]
  },
  {
   "cell_type": "markdown",
   "metadata": {},
   "source": [
    "The average of these 27 randomly selected scores is"
   ]
  },
  {
   "cell_type": "code",
   "execution_count": 7,
   "metadata": {
    "collapsed": false
   },
   "outputs": [
    {
     "data": {
      "text/plain": [
       "14.74074074074074"
      ]
     },
     "execution_count": 7,
     "metadata": {},
     "output_type": "execute_result"
    }
   ],
   "source": [
    "np.average(sampled_scores.column('Midterm'))"
   ]
  },
  {
   "cell_type": "markdown",
   "metadata": {},
   "source": [
    "That's the average of one set of 27 randomly selected scores. \n",
    "\n",
    "Now we can simulate the random sample average by repeating this calculation multple times. We will do 50,000 repetitions."
   ]
  },
  {
   "cell_type": "code",
   "execution_count": 24,
   "metadata": {
    "collapsed": true
   },
   "outputs": [],
   "source": [
    "averages = make_array()\n",
    "\n",
    "repetitions = 50000\n",
    "for i in np.arange(repetitions):\n",
    "    sampled_scores = scores_only.sample(27, with_replacement=False)\n",
    "    averages = np.append(averages, np.average(sampled_scores.column('Midterm')))"
   ]
  },
  {
   "cell_type": "markdown",
   "metadata": {},
   "source": [
    "Here is the histogram of the simulated averages. We have used 20 bins of equal size. The histogram shows the distribution of what the Section 3 average might have been, if Section 3 had been selected at random from the class. \n",
    "\n",
    "The observed Section 3 average score of 13.667 is shown as a red dot on the horizontal axis. You can ignore the last two lines of code; they just draw the dot and give the plot an informative title."
   ]
  },
  {
   "cell_type": "code",
   "execution_count": 28,
   "metadata": {
    "collapsed": false
   },
   "outputs": [
    {
     "data": {
      "image/png": "[encoded data removed]",
      "text/plain": [
       "<matplotlib.figure.Figure at 0x116f94dd8>"
      ]
     },
     "metadata": {},
     "output_type": "display_data"
    }
   ],
   "source": [
    "sample_averages = Table().with_column('Sample Average', averages)\n",
    "sample_averages.hist(bins = 20)\n",
    "\n",
    "observed_statistic = 13.667\n",
    "plots.scatter(observed_statistic, 0, color='red', s=30)\n",
    "plots.title('Predicted Sample Average Under the Null Hypothesis');"
   ]
  },
  {
   "cell_type": "markdown",
   "metadata": {},
   "source": [
    "As we noted earlier, small values of the test statistic will make us lean towards the alternative hypothesis, that the average score in the section is too low for it to look like a random sample from the class.\n",
    "\n",
    "Is the observed statistic of 13.667 \"too low\" in relation to this distribution? In other words, is the red dot far enough out into the left hand tail of the histogram for you to think that it is \"too far\"? \n",
    "\n",
    "It's up to you to decide! Use your judgment. Go ahead – it's OK to do so."
   ]
  },
  {
   "cell_type": "markdown",
   "metadata": {},
   "source": [
    "### Conventional Cutoffs and the P-value ###\n",
    "If you don't want to make your own judgment, there are conventions that you can follow. These conventions tell us how far out into the tails is considered \"too far\". \n",
    "\n",
    "The conventions are based on the area in the tail, starting at the observed statistic (the red dot) and looking in the direction that makes us lean toward the alternative (the left side, in this example). If the area of the tail is small, the observed statistic is far away from the values most commonly predicted by the null hypothesis.\n",
    "\n",
    "Remember that in a histogram, area represents percent. To find the area in the tail, we have to find the percent of sample averages that were less than or equal to the average score of Section 3, where the red dot is. The array `averages` contains the simulated averages for all 50,000 repetitions of the random sampling, and `observed_statistic` is 13.667, the average score of Section 3."
   ]
  },
  {
   "cell_type": "code",
   "execution_count": 26,
   "metadata": {
    "collapsed": false
   },
   "outputs": [
    {
     "data": {
      "text/plain": [
       "0.05678"
      ]
     },
     "execution_count": 26,
     "metadata": {},
     "output_type": "execute_result"
    }
   ],
   "source": [
    "np.count_nonzero(averages <= observed_statistic)/repetitions"
   ]
  },
  {
   "cell_type": "markdown",
   "metadata": {},
   "source": [
    "Each time you run the simulation you will get a slightly different result, but it will be around 5.7%. That is, about of the simulated random sample averages will be 13.667 or below. \n",
    "\n",
    "The simulation predicts that if we had drawn the students of Section 3 at random from the whole class, the chance that their average would be 13.667 or lower will be around 5.7%.\n",
    "\n",
    "This is an approximation to the exact chance of getting a random sample average of 13.667 or lower, because we have computed it based on 50,000 samples, not all possible samples. But it's a good approximation because 50,000 is a lot of samples.\n",
    "\n",
    "This chance has an impressive name. It is called the *observed significance level* of the test. That's a mouthful, and so it is commonly called the *P-value* of the test. \n",
    "\n",
    "#### Definition of P-value #### \n",
    "\n",
    "The P-value is the chance, based on the model in the null hypothesis, that the test statistic is equal to the value that was observed in the data or is even further in the direction of the alternative.\n",
    "\n",
    "If a P-value is small, that means the tail beyond the observed statistic is small and so the observed statistic is far away from what the null predicts. This implies that the data support the alternative hypothesis better than they support the null.  \n",
    "\n",
    "How small is \"small\"? According to the conventions:\n",
    "\n",
    "- If the P-value is less than 5%, it is considered small and the result is called \"statistically significant.\"\n",
    "\n",
    "- If the P-value is even smaller – less than 1% – the result is called \"highly statistically significant.\"\n",
    "\n",
    "In both cases, the data favor the alternative over the null. The conventional expression is that the test \"rejects the null hypothesis.\"\n",
    "\n",
    "Our P-value of 5.7% is a bigger than 5% – just slightly, but it's bigger. So, following convention, we would have to conclude that the GSI's defense holds good – the average score of Section 3 is like those generated by random chance. Formally, the result of the test is not statistically significant. We can't reject the null hypothesis of random selection.\n",
    "\n",
    "Whenever you make a conclusion based on a test of hypotheses, we recommend that you don't just say whether or not the result is statistically significant. You may even choose not to use the conventional cutoffs. Along with your conclusion, provide the observed statistic and the P-value as well, so that readers can use their own judgment."
   ]
  },
  {
   "cell_type": "markdown",
   "metadata": {},
   "source": [
    "### An Error Probability ###\n",
    "\n",
    "In our assessment of a chance model, the final step involves a judgment about the consistency of the data and the model. While this step results in a good decision a vast majority of the time, it can sometimes lead us astray. The reason is chance variation. For example, even if the model is good, chance variation might cause the sample to look quite different from what the the model predicts. \n",
    "\n",
    "To see how this could happen, let's return to the example of the GSI's section scores. Suppose we decide to use the conventional 5% cutoff for the P-value. How low would the sample average have to be for us to reject the model of random selection?\n",
    "\n",
    "The cell below shows that just about 5% of the simulated averages were lower than 13.6."
   ]
  },
  {
   "cell_type": "code",
   "execution_count": 51,
   "metadata": {
    "collapsed": false
   },
   "outputs": [
    {
     "data": {
      "text/plain": [
       "0.05016"
      ]
     },
     "execution_count": 51,
     "metadata": {},
     "output_type": "execute_result"
    }
   ],
   "source": [
    "np.count_nonzero(averages < 13.6) / repetitions"
   ]
  },
  {
   "cell_type": "markdown",
   "metadata": {},
   "source": [
    "So, if we follow convention, 13.6 becomes a magic number. It marks a cutoff – **if the section average had been lower than 13.6, we would have rejected the model of random selection.** As we have seen, the section average turned out to be a tiny bit bigger than 13.6. It was 13.667. So we didn't reject the model.\n",
    "\n",
    "Here again is the histogram of random sample averages, as well as the red dot showing the observed average of 13.667. The gold line is at the cutoff 13.6, just a hair's breadth to the left of the red dot."
   ]
  },
  {
   "cell_type": "code",
   "execution_count": 53,
   "metadata": {
    "collapsed": false
   },
   "outputs": [
    {
     "data": {
      "image/png": "[encoded data removed]",
      "text/plain": [
       "<matplotlib.figure.Figure at 0x109525a20>"
      ]
     },
     "metadata": {},
     "output_type": "display_data"
    }
   ],
   "source": [
    "sample_averages.hist(bins = 20)\n",
    "plots.plot([13.6, 13.6], [0, 0.4], color='gold', lw=2)\n",
    "plots.ylim(-0.01, 0.4)\n",
    "plots.scatter(observed_statistic, 0, color='red', s=30);"
   ]
  },
  {
   "cell_type": "markdown",
   "metadata": {},
   "source": [
    "Had the section average been below 13.6, we would have concluded that the data don't look like a random sample drawn from the class.\n",
    "\n",
    "But the histogram shows that it is not impossible for the average score of a randomly selected section to be below 13.6. In fact, just about 5% of the random sample averages *were* lower than 13.6. That's why we drew the gold cutoff line there.\n",
    "\n",
    "This demonstrates that adopting the convention of 5% being small is actually an expression of the amount of risk we are willing to take with our decision. It is saying that we are willing to accept a 5% chance of rejecting the model when the model is true. "
   ]
  },
  {
   "cell_type": "markdown",
   "metadata": {},
   "source": [
    "### Historical Note on the Conventions ###\n",
    "\n",
    "The determination of statistical significance, as defined above, has become standard in statistical analyses in all fields of application. When a convention is so universally followed, it is interesting to examine how it arose. \n",
    "\n",
    "The method of statistical testing – choosing between hypotheses based on data in random samples – was developed by Sir Ronald Fisher in the early 20th century. Sir Ronald might have set the convention for statistical significance somewhat unwittingly, in the following statement in his 1925 book *Statistical Methods for Research Workers*. About the 5% level, he wrote, \"It is convenient to take this point as a limit in judging whether a deviation is to be considered significant or not.\"\n",
    "\n",
    "What was \"convenient\" for Sir Ronald became a cutoff that has acquired the status of a universal constant. No matter that Sir Ronald himself made the point that the value was his personal choice from among many: in an article in 1926, he wrote, \"If one in twenty does not seem high enough odds, we may, if we prefer it draw the line at one in fifty (the 2 percent point), or one in a hundred (the 1 percent point). Personally, the author prefers to set a low standard of significance at the 5 percent point ...\"\n",
    "\n",
    "Fisher knew that \"low\" is a matter of judgment and has no unique definition. We suggest that you follow his excellent example. Provide your data, make your judgment, and explain why you made it."
   ]
  },
  {
   "cell_type": "code",
   "execution_count": null,
   "metadata": {
    "collapsed": true
   },
   "outputs": [],
   "source": []
  }
 ],
 "metadata": {
  "anaconda-cloud": {},
  "kernelspec": {
   "display_name": "Python [Root]",
   "language": "python",
   "name": "Python [Root]"
  },
  "language_info": {
   "codemirror_mode": {
    "name": "ipython",
    "version": 3
   },
   "file_extension": ".py",
   "mimetype": "text/x-python",
   "name": "python",
   "nbconvert_exporter": "python",
   "pygments_lexer": "ipython3",
   "version": "3.5.2"
  }
 },
 "nbformat": 4,
 "nbformat_minor": 1
}
