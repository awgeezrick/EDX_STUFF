{
 "cells": [
  {
   "cell_type": "code",
   "execution_count": 2,
   "metadata": {
    "collapsed": true
   },
   "outputs": [],
   "source": [
    "# HIDDEN\n",
    "\n",
    "from datascience import *\n",
    "import numpy as np\n",
    "from scipy import stats\n",
    "\n",
    "import matplotlib\n",
    "matplotlib.use('Agg', warn=False)\n",
    "%matplotlib inline\n",
    "import matplotlib.pyplot as plots\n",
    "plots.style.use('fivethirtyeight')\n",
    "import warnings\n",
    "warnings.simplefilter(action=\"ignore\", category=FutureWarning)"
   ]
  },
  {
   "cell_type": "markdown",
   "metadata": {},
   "source": [
    "## Analyzing Randomized Controlled Experiments\n",
    "\n",
    "Early in the course we noted that some questions of inference involve an attempt to establish causality: did a treatment *cause* an observed effect? As we saw, this question is harder to answer than if we had just asked whether the treatment is associated with the effect.\n",
    "\n",
    "One setting in which it is possible to establish causality is a randomized controlled experiment, also known as a randomized controlled trial or RCT. Recall that in such an experiment, participants are assigned randomly into treatment and control groups. At the end of the experiment, the results of the two groups are compared. If they are significantly different, the difference can be explained as a result of the treatment. \n",
    "\n",
    "The randomization allows us to make this conclusion about causality. Because of the random assignment, the participants in the two groups are likely to be similar apart from the treatment. So observed differences in the outcome can be ascribed to the treatment.\n",
    "\n",
    "With the methods of inference that we now have at our disposal, we are well equipped to analyze the results of randomized controlled experiments and see whether the treatment had an effect."
   ]
  },
  {
   "cell_type": "markdown",
   "metadata": {},
   "source": [
    "### Assessing a New Medical Procedure\n",
    "\n",
    "One such experiment involved a new method for drawing blood intravenously. The standard IV method involves tying a band around the patient's arm to make it easier to insert a needle into the vein. The new treatment essentially replaced the tied band with something like a rubber band that can be slipped on. \n",
    "\n",
    "Here are the data. There were 505 subjects in the study. Of these, 241 were randomized into the control group and received the standard treatment. The remainder became the treatment group and received the new treatment. The table ``iv`` contains the data. We will ignore the columns of height and weight and just focus on the other two. The ``Group`` column contains the group label: 0 stands for control and 1 for treatment. The ``success`` column contains a 1 if the needle was inserted successfully, and 0 otherwise. There was a clear definition of \"success\" involving the number of attempts at insertion and the time involved."
   ]
  },
  {
   "cell_type": "code",
   "execution_count": 3,
   "metadata": {
    "collapsed": false
   },
   "outputs": [
    {
     "data": {
      "text/html": [
       "<table border=\"1\" class=\"dataframe\">\n",
       "    <thead>\n",
       "        <tr>\n",
       "            <th>Group</th> <th>height</th> <th>weight</th> <th>success</th>\n",
       "        </tr>\n",
       "    </thead>\n",
       "    <tbody>\n",
       "        <tr>\n",
       "            <td>1    </td> <td>74    </td> <td>150   </td> <td>1      </td>\n",
       "        </tr>\n",
       "    </tbody>\n",
       "        <tr>\n",
       "            <td>1    </td> <td>72    </td> <td>142   </td> <td>1      </td>\n",
       "        </tr>\n",
       "    </tbody>\n",
       "        <tr>\n",
       "            <td>1    </td> <td>72    </td> <td>160   </td> <td>1      </td>\n",
       "        </tr>\n",
       "    </tbody>\n",
       "        <tr>\n",
       "            <td>1    </td> <td>72    </td> <td>160   </td> <td>0      </td>\n",
       "        </tr>\n",
       "    </tbody>\n",
       "        <tr>\n",
       "            <td>1    </td> <td>71    </td> <td>100   </td> <td>1      </td>\n",
       "        </tr>\n",
       "    </tbody>\n",
       "        <tr>\n",
       "            <td>1    </td> <td>66    </td> <td>200   </td> <td>0      </td>\n",
       "        </tr>\n",
       "    </tbody>\n",
       "        <tr>\n",
       "            <td>1    </td> <td>66    </td> <td>145   </td> <td>0      </td>\n",
       "        </tr>\n",
       "    </tbody>\n",
       "        <tr>\n",
       "            <td>1    </td> <td>68    </td> <td>120   </td> <td>1      </td>\n",
       "        </tr>\n",
       "    </tbody>\n",
       "        <tr>\n",
       "            <td>1    </td> <td>72    </td> <td>200   </td> <td>1      </td>\n",
       "        </tr>\n",
       "    </tbody>\n",
       "        <tr>\n",
       "            <td>1    </td> <td>62    </td> <td>162   </td> <td>1      </td>\n",
       "        </tr>\n",
       "    </tbody>\n",
       "</table>\n",
       "<p>... (495 rows omitted)</p"
      ],
      "text/plain": [
       "Group | height | weight | success\n",
       "1     | 74     | 150    | 1\n",
       "1     | 72     | 142    | 1\n",
       "1     | 72     | 160    | 1\n",
       "1     | 72     | 160    | 0\n",
       "1     | 71     | 100    | 1\n",
       "1     | 66     | 200    | 0\n",
       "1     | 66     | 145    | 0\n",
       "1     | 68     | 120    | 1\n",
       "1     | 72     | 200    | 1\n",
       "1     | 62     | 162    | 1\n",
       "... (495 rows omitted)"
      ]
     },
     "execution_count": 3,
     "metadata": {},
     "output_type": "execute_result"
    }
   ],
   "source": [
    "iv = Table.read_table('IV.csv').drop('sbp')\n",
    "iv"
   ]
  },
  {
   "cell_type": "markdown",
   "metadata": {},
   "source": [
    "### The Observed Difference\n",
    "\n",
    "It is natural to compare the proportion of successes in the two groups. Somewhat surprisingly, the success rate in the control group is higher: 95% compared to 78% in the treatment group."
   ]
  },
  {
   "cell_type": "code",
   "execution_count": 4,
   "metadata": {
    "collapsed": false
   },
   "outputs": [],
   "source": [
    "control = iv.where(iv['Group'],0)\n",
    "treatment = iv.where(iv['Group'],1)"
   ]
  },
  {
   "cell_type": "code",
   "execution_count": 5,
   "metadata": {
    "collapsed": false
   },
   "outputs": [
    {
     "data": {
      "text/plain": [
       "0.950207468879668"
      ]
     },
     "execution_count": 5,
     "metadata": {},
     "output_type": "execute_result"
    }
   ],
   "source": [
    "control_mean = np.count_nonzero(control['success'])/control.num_rows\n",
    "control_mean"
   ]
  },
  {
   "cell_type": "code",
   "execution_count": 6,
   "metadata": {
    "collapsed": false
   },
   "outputs": [
    {
     "data": {
      "text/plain": [
       "0.7803030303030303"
      ]
     },
     "execution_count": 6,
     "metadata": {},
     "output_type": "execute_result"
    }
   ],
   "source": [
    "treatment_mean = np.count_nonzero(treatment['success'])/treatment.num_rows\n",
    "treatment_mean"
   ]
  },
  {
   "cell_type": "markdown",
   "metadata": {},
   "source": [
    "Notice that in the code we are calling both the proportions \"means\": `control_mean` and `treatment_mean`. That is because a proportion is just a mean of 0's and 1's.\n",
    "\n",
    "The observed difference (computed as \"control - treatment\") is about 0.17."
   ]
  },
  {
   "cell_type": "code",
   "execution_count": 12,
   "metadata": {
    "collapsed": false
   },
   "outputs": [
    {
     "data": {
      "text/plain": [
       "0.16990443857663773"
      ]
     },
     "execution_count": 12,
     "metadata": {},
     "output_type": "execute_result"
    }
   ],
   "source": [
    "control_mean - treatment_mean"
   ]
  },
  {
   "cell_type": "markdown",
   "metadata": {},
   "source": [
    "### An Abstract Model\n",
    "\n",
    "Is the difference due to chance? To answer this question, we must first be clear about exactly what is being tested. Unlike the data we have analyzed in the past, there is no large population from which a sample was drawn at random. Rather, a group of 505 people was split randomly into treatment and control groups. So what exactly is the question about?\n",
    "\n",
    "From a practical perspective, the question is motivated by the possibility that it is just easier to insert IV needles into some patients than others, and that perhaps many of these patients were placed in the control group just by chance. \n",
    "\n",
    "Formally, the question is about an *abtract model*. The model says that before the experiment is conducted, each person has a potential score of 1 or 0 that he/she would get if assigned to the control group, and also a potential score that he/she would get if assigned to the treatment group. For each patient, we only get to see one of these two hypothetical scores. Which one we get to see depends on chance: the chance that determines whether the patient is assigned to the treatment group or to the control group.\n",
    "\n",
    "There are 505 people in the experiment, so there are 505 of these potential control scores and 505 potential treatment scores. We get to see the control scores of 241 randomly picked patients, and the treatment scores of the *remaining* 264 patients. \n",
    "\n",
    "The question, then, is about the difference between the proportion of 1's among all hypothetical control scores and the proportion of 1's among all hypothetical treatment scores."
   ]
  },
  {
   "cell_type": "markdown",
   "metadata": {},
   "source": [
    "### The Null and Alternative Hypotheses\n",
    "\n",
    "**Null Hypothesis:** The proportion of 1's among all 505 potential control scores is the same as the proportion of 1's among all 505 potential treatment scores. The difference in observed scores in the sample is due to chance.\n",
    "\n",
    "**Alternative Hypothesis:** The proportions of 1's in the two groups of 505 potential scores are different.\n",
    "\n",
    "As our test statistic, we will use the difference between the proportions of 1's in the control sample and the treatment sample. As we saw earlier, the observed value of the test statistic is about -0.17."
   ]
  },
  {
   "cell_type": "markdown",
   "metadata": {},
   "source": [
    "### Bootstrap A/B test\n",
    "\n",
    "We can use a bootstrap A/B test to decide between the two hypotheses. This is a test we developed in an earlier section; we will simply apply it here. To review the main method, note that under the null hypothesis the two groups of scores arise from the same underlying population, and so we can bootstrap the combined sample to create new samples of \"treatment\" and \"control\" scores.\n",
    "\n",
    "For ease of reference, here is the code we developed for the function `bootstrap_AB_test`. The code calculates the difference between means as \"mean of the group labeled 0 - mean of the group labeled 1\". That was also how we calculated the observed difference in means. In the table `iv`, the control group is labeled 0 and the treatment group 1. Our calculation was \"control mean - treatment mean = 0.17\"."
   ]
  },
  {
   "cell_type": "code",
   "execution_count": 9,
   "metadata": {
    "collapsed": true
   },
   "outputs": [],
   "source": [
    "\"\"\"Bootstrap A/B test for the difference in the mean response\n",
    "Assumes A=0, B=1\"\"\"\n",
    "\n",
    "def bootstrap_AB_test(table, categories, values, repetitions):\n",
    "    \n",
    "    # Sort the sample table according to the A/B column; \n",
    "    # then select only the column of effects.\n",
    "    response = table.sort(categories).select(values)\n",
    "    \n",
    "    # Find the number of entries in Category A.\n",
    "    n_A = table.where(categories, 0).num_rows\n",
    "      \n",
    "    # Calculate the observed value of the test statistic.\n",
    "    meanA = np.mean(response.column(values)[:n_A])\n",
    "    meanB = np.mean(response.column(values)[n_A:])\n",
    "    observed_difference = meanA - meanB\n",
    "    \n",
    "    # Run the bootstrap procedure and get a list of resampled differences in means\n",
    "    diffs = []\n",
    "    for i in range(repetitions):\n",
    "        resample = response.sample(with_replacement=True)\n",
    "        d = np.mean(resample.column(values)[:n_A]) - np.mean(resample.column(values)[n_A:])\n",
    "        diffs.append([d])\n",
    "    \n",
    "    # Compute the bootstrap empirical P-value\n",
    "    diff_array = np.array(diffs)\n",
    "    empirical_p = np.count_nonzero(abs(diff_array) >= abs(observed_difference))/repetitions\n",
    "    \n",
    "    # Display results\n",
    "    differences = Table().with_column('diff_in_means', diffs)\n",
    "    differences.hist(bins=20,normed=True)\n",
    "    plots.xlabel('Approx null distribution of difference in means')\n",
    "    plots.title('Bootstrap A/B Test')\n",
    "    print(\"Observed difference in means: \", observed_difference)\n",
    "    print(\"Bootstrap empirical P-value: \", empirical_p)"
   ]
  },
  {
   "cell_type": "markdown",
   "metadata": {},
   "source": [
    "Let us perform the test. The arguments of `bootstrap_AB_test` are the name of the table, the column label of the group identifier, the column label of the response (1 or 0 in this example), and the desired number of replications."
   ]
  },
  {
   "cell_type": "code",
   "execution_count": 14,
   "metadata": {
    "collapsed": false
   },
   "outputs": [
    {
     "name": "stdout",
     "output_type": "stream",
     "text": [
      "Observed difference in means:  0.169904438577\n",
      "Bootstrap empirical P-value:  0.0\n"
     ]
    },
    {
     "data": {
      "image/png": "[encoded data removed]",
      "text/plain": [
       "<matplotlib.figure.Figure at 0x10a349eb8>"
      ]
     },
     "metadata": {},
     "output_type": "display_data"
    }
   ],
   "source": [
    "bootstrap_AB_test(iv, 'Group', 'success', 10000)"
   ]
  },
  {
   "cell_type": "markdown",
   "metadata": {},
   "source": [
    "### Conclusion\n",
    "\n",
    "The empirical P-value is 0; none of the bootstrap replications yielded a difference as big as the observed. The data support the alternative hypothesis that the difference is not due to chance. \n",
    "\n",
    "Because the data are from a randomized controlled experiment, the only difference between the two groups being compared is the treatment. Therefore it is reasonable to conclude that the difference is due to the treatment.\n",
    "\n",
    "We therefore conclude that the new treatment did have an effect. It was not a good effect. The test statistic we computed was \"control mean - treatment mean = 0.17\". The positive sign tells us that the control group had a higher success rate. Because the data are from a randomized contolled experiment, we can therefore conclude that the treatment hurt. Based on these data, we hope that medical practitioners continue to use the standard method for drawing blood."
   ]
  },
  {
   "cell_type": "code",
   "execution_count": null,
   "metadata": {
    "collapsed": true
   },
   "outputs": [],
   "source": []
  }
 ],
 "metadata": {
  "kernelspec": {
   "display_name": "Python [Root]",
   "language": "python",
   "name": "Python [Root]"
  },
  "language_info": {
   "codemirror_mode": {
    "name": "ipython",
    "version": 3
   },
   "file_extension": ".py",
   "mimetype": "text/x-python",
   "name": "python",
   "nbconvert_exporter": "python",
   "pygments_lexer": "ipython3",
   "version": "3.5.2"
  }
 },
 "nbformat": 4,
 "nbformat_minor": 0
}
