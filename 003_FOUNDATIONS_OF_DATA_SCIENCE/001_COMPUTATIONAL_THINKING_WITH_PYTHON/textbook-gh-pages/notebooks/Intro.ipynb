{
 "cells": [
  {
   "cell_type": "code",
   "execution_count": 1,
   "metadata": {
    "collapsed": true
   },
   "outputs": [],
   "source": [
    "# HIDDEN\n",
    "from datascience import *\n",
    "from datascience.predicates import are\n",
    "import numpy as np\n",
    "import matplotlib\n",
    "matplotlib.use('Agg', warn=False)\n",
    "%matplotlib inline\n",
    "import matplotlib.pyplot as plots\n",
    "plots.style.use('fivethirtyeight')\n",
    "import warnings\n",
    "warnings.simplefilter(action=\"ignore\", category=FutureWarning)"
   ]
  },
  {
   "cell_type": "markdown",
   "metadata": {},
   "source": [
    "Chapter 1: Introduction\n",
    "=======================\n",
    "\n",
    "Data are descriptions of the world around us, collected through observation and\n",
    "stored on computers. Computers enable us to infer properties of the world from\n",
    "these descriptions. Data science is the discipline of drawing conclusions from\n",
    "data using computation. There are three core aspects of effective data\n",
    "analysis: exploration, prediction, and inference. This text develops a\n",
    "consistent approach to all three, introducing statistical ideas and fundamental\n",
    "ideas in computer science concurrently. We focus on a minimal set of core\n",
    "techniques that they apply to a vast range of real-world\n",
    "applications. A foundation in data science requires not only understanding\n",
    "statistical and computational techniques, but also recognizing how they apply\n",
    "to real scenarios.\n",
    "\n",
    "For whatever aspect of the world we wish to study---whether it's the Earth's\n",
    "weather, the world's markets, political polls, or the human mind---data we\n",
    "collect typically offer an incomplete description of the subject at hand. The\n",
    "central challenge of data science is to make reliable conclusions using this\n",
    "partial information.\n",
    "\n",
    "In this endeavor, we will combine two essential tools: computation and\n",
    "randomization. For example, we may want to understand climate change trends\n",
    "using temperature observations. Computers will allow us to use all available\n",
    "information to draw conclusions. Rather than focusing only on the average\n",
    "temperature of a region, we will consider the whole range of temperatures\n",
    "together to construct a more nuanced analysis. Randomness will allow us to\n",
    "consider the many different ways in which incomplete information might be\n",
    "completed. Rather than assuming that temperatures vary in a particular way, we\n",
    "will learn to use randomness as a way to imagine many possible scenarios that\n",
    "are all consistent with the data we observe.\n",
    "\n",
    "Applying this approach requires learning to program a computer, and so this\n",
    "text interleaves a complete introduction to programming that assumes no prior\n",
    "knowledge. Readers with programming experience will find that we cover several\n",
    "topics in computation that do not appear in a typical introductory computer\n",
    "science curriculum. Data science also requires careful reasoning about\n",
    "quantities, but this text does not assume any background in mathematics or\n",
    "statistics beyond basic algebra. You will find very few equations in this text.\n",
    "Instead, techniques are described to readers in the same language in which they\n",
    "are described to the computers that execute them---a programming language.\n",
    "\n"
   ]
  },
  {
   "cell_type": "code",
   "execution_count": null,
   "metadata": {
    "collapsed": true
   },
   "outputs": [],
   "source": []
  }
 ],
 "metadata": {
  "kernelspec": {
   "display_name": "Python 3",
   "language": "python",
   "name": "python3"
  },
  "language_info": {
   "codemirror_mode": {
    "name": "ipython",
    "version": 3
   },
   "file_extension": ".py",
   "mimetype": "text/x-python",
   "name": "python",
   "nbconvert_exporter": "python",
   "pygments_lexer": "ipython3",
   "version": "3.4.4"
  }
 },
 "nbformat": 4,
 "nbformat_minor": 0
}
